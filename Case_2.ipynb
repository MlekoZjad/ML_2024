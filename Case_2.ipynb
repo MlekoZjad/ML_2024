{
  "cells": [
    {
      "cell_type": "markdown",
      "metadata": {
        "id": "view-in-github",
        "colab_type": "text"
      },
      "source": [
        "<a href=\"https://colab.research.google.com/github/kkarolina71/ML_2024/blob/Case-2/Case_2.ipynb\" target=\"_parent\"><img src=\"https://colab.research.google.com/assets/colab-badge.svg\" alt=\"Open In Colab\"/></a>"
      ]
    },
    {
      "cell_type": "markdown",
      "id": "553520f7",
      "metadata": {
        "id": "553520f7"
      },
      "source": [
        "## Case 2 - movie recommender system"
      ]
    },
    {
      "cell_type": "markdown",
      "id": "5c661c65",
      "metadata": {
        "id": "5c661c65"
      },
      "source": [
        "1. Przegląd danych:\n",
        "\n",
        "   * Podaj liczbę filmów Sci-Fi\n",
        "   * Pokaż rozkład ocen komedii\n",
        "   * Podaj średnią ocen wszystkich filmów akcji oraz 3 filmy najwyżej ocenianych\n",
        "\n",
        "\n",
        "\n",
        "\n",
        "\n",
        "2. System rekomendacyjny\n",
        "\n",
        "   * Zbuduj system na podstawie algorytmu SVD oraz kNNwithMeans\n",
        "   * Czym różni się algorytm kNN with means od standardowego kNN?\n",
        "   * Wykorzystaj metodę hiperparametryzacji GridSearch do wyboru liczby sąsiadów od 2-6\n",
        "   * W ocenie metod wykorzystaj walidację krzyżową\n",
        "\n",
        "3. Podaj rekomendacje po obejrzeniu filmu: Jumanji  oraz Flint"
      ]
    },
    {
      "cell_type": "markdown",
      "id": "e79af605",
      "metadata": {
        "id": "e79af605"
      },
      "source": [
        "\n",
        "**[Ogólny przegląd danych](#Ogólny-przegląd-danych)**\n",
        "<br>\n",
        "  *  [1. Liczba filmów Sci-Fi](#1.-Liczba-filmów-Sci-Fi)\n",
        "<br>\n",
        "  *  [2. Pokaż rozkład ocen komedii](#2.-Pokaż-rozkład-ocen-komedii)\n",
        "<br>\n",
        "  *  [3. Podaj średnią ocen wszystkich filmów akcji oraz 3 filmy najwyżej ocenianych](#3.-Podaj-średnią-ocen-wszystkich-filmów-akcji-oraz-3-filmy-najwyżej-ocenianych)\n",
        "<br>\n",
        "\n",
        "**[System rekomendacyjny](#System-rekomendacyjny)**\n",
        " <br>\n",
        "  * [Znajdź ID filmu po tytule](#Znajdź-ID-filmu-po-tytule)\n",
        " <br>\n",
        "  * [Cross-Validation](#Cross-Validation)\n",
        " <br>\n",
        "  * [Hiperparametryzacja](#Hiperparametryzacja)\n",
        " <br>\n",
        "  * [SVD](#SVD)\n",
        " <br>\n",
        "  * [kNNwithMeans](#kNNwithMeans)\n",
        " <br>\n",
        "  * [Rekomendacje](#Rekomendacje)\n",
        "  <br>\n",
        "  * [Różnica między kNNWithMeans a standardowym kNN](#Różnica-między-kNNWithMeans-a-standardowym-kNN)\n"
      ]
    },
    {
      "cell_type": "markdown",
      "id": "8b4ea7c6",
      "metadata": {
        "id": "8b4ea7c6"
      },
      "source": [
        "## Biblioteki"
      ]
    },
    {
      "cell_type": "code",
      "execution_count": null,
      "id": "f3c32bb5",
      "metadata": {
        "id": "f3c32bb5"
      },
      "outputs": [],
      "source": [
        "import pandas as pd\n",
        "import matplotlib.pyplot as plt\n",
        "import seaborn as sns\n",
        "import numpy as np\n",
        "\n",
        "from surprise.model_selection import cross_validate, GridSearchCV, train_test_split\n",
        "from surprise.prediction_algorithms import SVD, KNNWithMeans\n",
        "from surprise.dataset import DatasetAutoFolds\n",
        "from surprise import (\n",
        "    Dataset,\n",
        "    Reader,\n",
        "    accuracy,\n",
        ")\n",
        "\n",
        "from sklearn.metrics.pairwise import cosine_similarity\n",
        "\n",
        "\n",
        "from scipy.sparse import csr_matrix\n",
        "from sklearn.neighbors import NearestNeighbors\n",
        "\n",
        "pd.set_option('display.max_colwidth', None) #  show full title\n",
        "pd.set_option('display.max_columns', None)  # display any number of columns\n",
        "pd.set_option('display.expand_frame_repr', False)  # prevent line breaking\n",
        "pd.set_option('max_colwidth', 1)  # display full column content"
      ]
    },
    {
      "cell_type": "code",
      "execution_count": null,
      "id": "47ab97d6",
      "metadata": {
        "id": "47ab97d6"
      },
      "outputs": [],
      "source": [
        "ratings = pd.read_csv('https://s3-us-west-2.amazonaws.com/recommender-tutorial/ratings.csv')\n",
        "movies = pd.read_csv('https://s3-us-west-2.amazonaws.com/recommender-tutorial/movies.csv')"
      ]
    },
    {
      "cell_type": "markdown",
      "id": "c1f18723",
      "metadata": {
        "id": "c1f18723"
      },
      "source": [
        "### Ogólny przegląd danych"
      ]
    },
    {
      "cell_type": "code",
      "execution_count": null,
      "id": "a1b180db",
      "metadata": {
        "id": "a1b180db",
        "outputId": "a74241f4-fc66-4d76-9af7-9810c36f1d9a"
      },
      "outputs": [
        {
          "name": "stdout",
          "output_type": "stream",
          "text": [
            "\n",
            "Całkowita liczba ocen : 100836\n",
            "Całkowita liczba użytkowników   : 610\n",
            "Całkowita liczba filmów  : 9742\n"
          ]
        }
      ],
      "source": [
        "print(\"\\nCałkowita liczba ocen :\",ratings.shape[0])\n",
        "print(\"Całkowita liczba użytkowników   :\", len(np.unique(ratings.userId)))\n",
        "print(\"Całkowita liczba filmów  :\", len(np.unique(movies.movieId)))"
      ]
    },
    {
      "cell_type": "code",
      "execution_count": null,
      "id": "bd716cb3",
      "metadata": {
        "id": "bd716cb3",
        "outputId": "3df54185-7aa7-408f-898b-3d5d1f609e56"
      },
      "outputs": [
        {
          "data": {
            "text/html": [
              "<div>\n",
              "<style scoped>\n",
              "    .dataframe tbody tr th:only-of-type {\n",
              "        vertical-align: middle;\n",
              "    }\n",
              "\n",
              "    .dataframe tbody tr th {\n",
              "        vertical-align: top;\n",
              "    }\n",
              "\n",
              "    .dataframe thead th {\n",
              "        text-align: right;\n",
              "    }\n",
              "</style>\n",
              "<table border=\"1\" class=\"dataframe\">\n",
              "  <thead>\n",
              "    <tr style=\"text-align: right;\">\n",
              "      <th></th>\n",
              "      <th>userId</th>\n",
              "      <th>movieId</th>\n",
              "      <th>rating</th>\n",
              "      <th>timestamp</th>\n",
              "    </tr>\n",
              "  </thead>\n",
              "  <tbody>\n",
              "    <tr>\n",
              "      <th>0</th>\n",
              "      <td>1</td>\n",
              "      <td>1</td>\n",
              "      <td>4.0</td>\n",
              "      <td>964982703</td>\n",
              "    </tr>\n",
              "    <tr>\n",
              "      <th>1</th>\n",
              "      <td>1</td>\n",
              "      <td>3</td>\n",
              "      <td>4.0</td>\n",
              "      <td>964981247</td>\n",
              "    </tr>\n",
              "    <tr>\n",
              "      <th>2</th>\n",
              "      <td>1</td>\n",
              "      <td>6</td>\n",
              "      <td>4.0</td>\n",
              "      <td>964982224</td>\n",
              "    </tr>\n",
              "    <tr>\n",
              "      <th>3</th>\n",
              "      <td>1</td>\n",
              "      <td>47</td>\n",
              "      <td>5.0</td>\n",
              "      <td>964983815</td>\n",
              "    </tr>\n",
              "    <tr>\n",
              "      <th>4</th>\n",
              "      <td>1</td>\n",
              "      <td>50</td>\n",
              "      <td>5.0</td>\n",
              "      <td>964982931</td>\n",
              "    </tr>\n",
              "  </tbody>\n",
              "</table>\n",
              "</div>"
            ],
            "text/plain": [
              "   userId  movieId  rating  timestamp\n",
              "0  1       1        4.0     964982703\n",
              "1  1       3        4.0     964981247\n",
              "2  1       6        4.0     964982224\n",
              "3  1       47       5.0     964983815\n",
              "4  1       50       5.0     964982931"
            ]
          },
          "execution_count": 4,
          "metadata": {},
          "output_type": "execute_result"
        }
      ],
      "source": [
        "ratings.head()"
      ]
    },
    {
      "cell_type": "code",
      "execution_count": null,
      "id": "a1887974",
      "metadata": {
        "id": "a1887974",
        "outputId": "34b76220-43cf-4aac-fb34-999f2265e9e0"
      },
      "outputs": [
        {
          "data": {
            "text/html": [
              "<div>\n",
              "<style scoped>\n",
              "    .dataframe tbody tr th:only-of-type {\n",
              "        vertical-align: middle;\n",
              "    }\n",
              "\n",
              "    .dataframe tbody tr th {\n",
              "        vertical-align: top;\n",
              "    }\n",
              "\n",
              "    .dataframe thead th {\n",
              "        text-align: right;\n",
              "    }\n",
              "</style>\n",
              "<table border=\"1\" class=\"dataframe\">\n",
              "  <thead>\n",
              "    <tr style=\"text-align: right;\">\n",
              "      <th></th>\n",
              "      <th>movieId</th>\n",
              "      <th>title</th>\n",
              "      <th>genres</th>\n",
              "    </tr>\n",
              "  </thead>\n",
              "  <tbody>\n",
              "    <tr>\n",
              "      <th>0</th>\n",
              "      <td>1</td>\n",
              "      <td>Toy Story (1995)</td>\n",
              "      <td>Adventure|Animation|Children|Comedy|Fantasy</td>\n",
              "    </tr>\n",
              "    <tr>\n",
              "      <th>1</th>\n",
              "      <td>2</td>\n",
              "      <td>Jumanji (1995)</td>\n",
              "      <td>Adventure|Children|Fantasy</td>\n",
              "    </tr>\n",
              "    <tr>\n",
              "      <th>2</th>\n",
              "      <td>3</td>\n",
              "      <td>Grumpier Old Men (1995)</td>\n",
              "      <td>Comedy|Romance</td>\n",
              "    </tr>\n",
              "    <tr>\n",
              "      <th>3</th>\n",
              "      <td>4</td>\n",
              "      <td>Waiting to Exhale (1995)</td>\n",
              "      <td>Comedy|Drama|Romance</td>\n",
              "    </tr>\n",
              "    <tr>\n",
              "      <th>4</th>\n",
              "      <td>5</td>\n",
              "      <td>Father of the Bride Part II (1995)</td>\n",
              "      <td>Comedy</td>\n",
              "    </tr>\n",
              "  </tbody>\n",
              "</table>\n",
              "</div>"
            ],
            "text/plain": [
              "   movieId                               title                                       genres\n",
              "0  1        Toy Story (1995)                    Adventure|Animation|Children|Comedy|Fantasy\n",
              "1  2        Jumanji (1995)                      Adventure|Children|Fantasy                 \n",
              "2  3        Grumpier Old Men (1995)             Comedy|Romance                             \n",
              "3  4        Waiting to Exhale (1995)            Comedy|Drama|Romance                       \n",
              "4  5        Father of the Bride Part II (1995)  Comedy                                     "
            ]
          },
          "execution_count": 5,
          "metadata": {},
          "output_type": "execute_result"
        }
      ],
      "source": [
        "movies.head()"
      ]
    },
    {
      "cell_type": "code",
      "execution_count": null,
      "id": "8f408e59",
      "metadata": {
        "id": "8f408e59",
        "outputId": "e51d51f1-90c7-4822-e865-be52d4f0f7e5"
      },
      "outputs": [
        {
          "data": {
            "text/html": [
              "<div>\n",
              "<style scoped>\n",
              "    .dataframe tbody tr th:only-of-type {\n",
              "        vertical-align: middle;\n",
              "    }\n",
              "\n",
              "    .dataframe tbody tr th {\n",
              "        vertical-align: top;\n",
              "    }\n",
              "\n",
              "    .dataframe thead th {\n",
              "        text-align: right;\n",
              "    }\n",
              "</style>\n",
              "<table border=\"1\" class=\"dataframe\">\n",
              "  <thead>\n",
              "    <tr style=\"text-align: right;\">\n",
              "      <th></th>\n",
              "      <th>userId</th>\n",
              "      <th>movieId</th>\n",
              "      <th>rating</th>\n",
              "      <th>timestamp</th>\n",
              "    </tr>\n",
              "  </thead>\n",
              "  <tbody>\n",
              "    <tr>\n",
              "      <th>count</th>\n",
              "      <td>100836.00</td>\n",
              "      <td>100836.00</td>\n",
              "      <td>100836.00</td>\n",
              "      <td>1.008360e+05</td>\n",
              "    </tr>\n",
              "    <tr>\n",
              "      <th>mean</th>\n",
              "      <td>326.13</td>\n",
              "      <td>19435.30</td>\n",
              "      <td>3.50</td>\n",
              "      <td>1.205946e+09</td>\n",
              "    </tr>\n",
              "    <tr>\n",
              "      <th>std</th>\n",
              "      <td>182.62</td>\n",
              "      <td>35530.99</td>\n",
              "      <td>1.04</td>\n",
              "      <td>2.162610e+08</td>\n",
              "    </tr>\n",
              "    <tr>\n",
              "      <th>min</th>\n",
              "      <td>1.00</td>\n",
              "      <td>1.00</td>\n",
              "      <td>0.50</td>\n",
              "      <td>8.281246e+08</td>\n",
              "    </tr>\n",
              "    <tr>\n",
              "      <th>25%</th>\n",
              "      <td>177.00</td>\n",
              "      <td>1199.00</td>\n",
              "      <td>3.00</td>\n",
              "      <td>1.019124e+09</td>\n",
              "    </tr>\n",
              "    <tr>\n",
              "      <th>50%</th>\n",
              "      <td>325.00</td>\n",
              "      <td>2991.00</td>\n",
              "      <td>3.50</td>\n",
              "      <td>1.186087e+09</td>\n",
              "    </tr>\n",
              "    <tr>\n",
              "      <th>75%</th>\n",
              "      <td>477.00</td>\n",
              "      <td>8122.00</td>\n",
              "      <td>4.00</td>\n",
              "      <td>1.435994e+09</td>\n",
              "    </tr>\n",
              "    <tr>\n",
              "      <th>max</th>\n",
              "      <td>610.00</td>\n",
              "      <td>193609.00</td>\n",
              "      <td>5.00</td>\n",
              "      <td>1.537799e+09</td>\n",
              "    </tr>\n",
              "  </tbody>\n",
              "</table>\n",
              "</div>"
            ],
            "text/plain": [
              "          userId    movieId     rating     timestamp\n",
              "count  100836.00  100836.00  100836.00  1.008360e+05\n",
              "mean   326.13     19435.30   3.50       1.205946e+09\n",
              "std    182.62     35530.99   1.04       2.162610e+08\n",
              "min    1.00       1.00       0.50       8.281246e+08\n",
              "25%    177.00     1199.00    3.00       1.019124e+09\n",
              "50%    325.00     2991.00    3.50       1.186087e+09\n",
              "75%    477.00     8122.00    4.00       1.435994e+09\n",
              "max    610.00     193609.00  5.00       1.537799e+09"
            ]
          },
          "execution_count": 6,
          "metadata": {},
          "output_type": "execute_result"
        }
      ],
      "source": [
        "ratings.describe().round(2)"
      ]
    },
    {
      "cell_type": "code",
      "execution_count": null,
      "id": "3fb49e83",
      "metadata": {
        "id": "3fb49e83",
        "outputId": "faef3e55-95bb-4850-c98e-ae4faa2b1e4f"
      },
      "outputs": [
        {
          "data": {
            "text/html": [
              "<div>\n",
              "<style scoped>\n",
              "    .dataframe tbody tr th:only-of-type {\n",
              "        vertical-align: middle;\n",
              "    }\n",
              "\n",
              "    .dataframe tbody tr th {\n",
              "        vertical-align: top;\n",
              "    }\n",
              "\n",
              "    .dataframe thead th {\n",
              "        text-align: right;\n",
              "    }\n",
              "</style>\n",
              "<table border=\"1\" class=\"dataframe\">\n",
              "  <thead>\n",
              "    <tr style=\"text-align: right;\">\n",
              "      <th></th>\n",
              "      <th>movieId</th>\n",
              "    </tr>\n",
              "  </thead>\n",
              "  <tbody>\n",
              "    <tr>\n",
              "      <th>count</th>\n",
              "      <td>9742.00</td>\n",
              "    </tr>\n",
              "    <tr>\n",
              "      <th>mean</th>\n",
              "      <td>42200.35</td>\n",
              "    </tr>\n",
              "    <tr>\n",
              "      <th>std</th>\n",
              "      <td>52160.49</td>\n",
              "    </tr>\n",
              "    <tr>\n",
              "      <th>min</th>\n",
              "      <td>1.00</td>\n",
              "    </tr>\n",
              "    <tr>\n",
              "      <th>25%</th>\n",
              "      <td>3248.25</td>\n",
              "    </tr>\n",
              "    <tr>\n",
              "      <th>50%</th>\n",
              "      <td>7300.00</td>\n",
              "    </tr>\n",
              "    <tr>\n",
              "      <th>75%</th>\n",
              "      <td>76232.00</td>\n",
              "    </tr>\n",
              "    <tr>\n",
              "      <th>max</th>\n",
              "      <td>193609.00</td>\n",
              "    </tr>\n",
              "  </tbody>\n",
              "</table>\n",
              "</div>"
            ],
            "text/plain": [
              "         movieId\n",
              "count  9742.00  \n",
              "mean   42200.35 \n",
              "std    52160.49 \n",
              "min    1.00     \n",
              "25%    3248.25  \n",
              "50%    7300.00  \n",
              "75%    76232.00 \n",
              "max    193609.00"
            ]
          },
          "execution_count": 7,
          "metadata": {},
          "output_type": "execute_result"
        }
      ],
      "source": [
        "movies.describe().round(2)"
      ]
    },
    {
      "cell_type": "code",
      "execution_count": null,
      "id": "10949beb",
      "metadata": {
        "id": "10949beb",
        "outputId": "6dd94799-7a2c-4924-a3f9-670192028971"
      },
      "outputs": [
        {
          "data": {
            "text/html": [
              "<div>\n",
              "<style scoped>\n",
              "    .dataframe tbody tr th:only-of-type {\n",
              "        vertical-align: middle;\n",
              "    }\n",
              "\n",
              "    .dataframe tbody tr th {\n",
              "        vertical-align: top;\n",
              "    }\n",
              "\n",
              "    .dataframe thead th {\n",
              "        text-align: right;\n",
              "    }\n",
              "</style>\n",
              "<table border=\"1\" class=\"dataframe\">\n",
              "  <thead>\n",
              "    <tr style=\"text-align: right;\">\n",
              "      <th></th>\n",
              "      <th>movieId</th>\n",
              "      <th>title</th>\n",
              "      <th>genres</th>\n",
              "      <th>(no genres listed)</th>\n",
              "      <th>Action</th>\n",
              "      <th>Adventure</th>\n",
              "      <th>Animation</th>\n",
              "      <th>Children</th>\n",
              "      <th>Comedy</th>\n",
              "      <th>Crime</th>\n",
              "      <th>Documentary</th>\n",
              "      <th>Drama</th>\n",
              "      <th>Fantasy</th>\n",
              "      <th>Film-Noir</th>\n",
              "      <th>Horror</th>\n",
              "      <th>IMAX</th>\n",
              "      <th>Musical</th>\n",
              "      <th>Mystery</th>\n",
              "      <th>Romance</th>\n",
              "      <th>Sci-Fi</th>\n",
              "      <th>Thriller</th>\n",
              "      <th>War</th>\n",
              "      <th>Western</th>\n",
              "    </tr>\n",
              "  </thead>\n",
              "  <tbody>\n",
              "    <tr>\n",
              "      <th>0</th>\n",
              "      <td>1</td>\n",
              "      <td>Toy Story (1995)</td>\n",
              "      <td>Adventure|Animation|Children|Comedy|Fantasy</td>\n",
              "      <td>0</td>\n",
              "      <td>0</td>\n",
              "      <td>1</td>\n",
              "      <td>1</td>\n",
              "      <td>1</td>\n",
              "      <td>1</td>\n",
              "      <td>0</td>\n",
              "      <td>0</td>\n",
              "      <td>0</td>\n",
              "      <td>1</td>\n",
              "      <td>0</td>\n",
              "      <td>0</td>\n",
              "      <td>0</td>\n",
              "      <td>0</td>\n",
              "      <td>0</td>\n",
              "      <td>0</td>\n",
              "      <td>0</td>\n",
              "      <td>0</td>\n",
              "      <td>0</td>\n",
              "      <td>0</td>\n",
              "    </tr>\n",
              "    <tr>\n",
              "      <th>1</th>\n",
              "      <td>2</td>\n",
              "      <td>Jumanji (1995)</td>\n",
              "      <td>Adventure|Children|Fantasy</td>\n",
              "      <td>0</td>\n",
              "      <td>0</td>\n",
              "      <td>1</td>\n",
              "      <td>0</td>\n",
              "      <td>1</td>\n",
              "      <td>0</td>\n",
              "      <td>0</td>\n",
              "      <td>0</td>\n",
              "      <td>0</td>\n",
              "      <td>1</td>\n",
              "      <td>0</td>\n",
              "      <td>0</td>\n",
              "      <td>0</td>\n",
              "      <td>0</td>\n",
              "      <td>0</td>\n",
              "      <td>0</td>\n",
              "      <td>0</td>\n",
              "      <td>0</td>\n",
              "      <td>0</td>\n",
              "      <td>0</td>\n",
              "    </tr>\n",
              "    <tr>\n",
              "      <th>2</th>\n",
              "      <td>3</td>\n",
              "      <td>Grumpier Old Men (1995)</td>\n",
              "      <td>Comedy|Romance</td>\n",
              "      <td>0</td>\n",
              "      <td>0</td>\n",
              "      <td>0</td>\n",
              "      <td>0</td>\n",
              "      <td>0</td>\n",
              "      <td>1</td>\n",
              "      <td>0</td>\n",
              "      <td>0</td>\n",
              "      <td>0</td>\n",
              "      <td>0</td>\n",
              "      <td>0</td>\n",
              "      <td>0</td>\n",
              "      <td>0</td>\n",
              "      <td>0</td>\n",
              "      <td>0</td>\n",
              "      <td>1</td>\n",
              "      <td>0</td>\n",
              "      <td>0</td>\n",
              "      <td>0</td>\n",
              "      <td>0</td>\n",
              "    </tr>\n",
              "    <tr>\n",
              "      <th>3</th>\n",
              "      <td>4</td>\n",
              "      <td>Waiting to Exhale (1995)</td>\n",
              "      <td>Comedy|Drama|Romance</td>\n",
              "      <td>0</td>\n",
              "      <td>0</td>\n",
              "      <td>0</td>\n",
              "      <td>0</td>\n",
              "      <td>0</td>\n",
              "      <td>1</td>\n",
              "      <td>0</td>\n",
              "      <td>0</td>\n",
              "      <td>1</td>\n",
              "      <td>0</td>\n",
              "      <td>0</td>\n",
              "      <td>0</td>\n",
              "      <td>0</td>\n",
              "      <td>0</td>\n",
              "      <td>0</td>\n",
              "      <td>1</td>\n",
              "      <td>0</td>\n",
              "      <td>0</td>\n",
              "      <td>0</td>\n",
              "      <td>0</td>\n",
              "    </tr>\n",
              "    <tr>\n",
              "      <th>4</th>\n",
              "      <td>5</td>\n",
              "      <td>Father of the Bride Part II (1995)</td>\n",
              "      <td>Comedy</td>\n",
              "      <td>0</td>\n",
              "      <td>0</td>\n",
              "      <td>0</td>\n",
              "      <td>0</td>\n",
              "      <td>0</td>\n",
              "      <td>1</td>\n",
              "      <td>0</td>\n",
              "      <td>0</td>\n",
              "      <td>0</td>\n",
              "      <td>0</td>\n",
              "      <td>0</td>\n",
              "      <td>0</td>\n",
              "      <td>0</td>\n",
              "      <td>0</td>\n",
              "      <td>0</td>\n",
              "      <td>0</td>\n",
              "      <td>0</td>\n",
              "      <td>0</td>\n",
              "      <td>0</td>\n",
              "      <td>0</td>\n",
              "    </tr>\n",
              "  </tbody>\n",
              "</table>\n",
              "</div>"
            ],
            "text/plain": [
              "   movieId                               title                                       genres  (no genres listed)  Action  Adventure  Animation  Children  Comedy  Crime  Documentary  Drama  Fantasy  Film-Noir  Horror  IMAX  Musical  Mystery  Romance  Sci-Fi  Thriller  War  Western\n",
              "0  1        Toy Story (1995)                    Adventure|Animation|Children|Comedy|Fantasy  0                   0       1          1          1         1       0      0            0      1        0          0       0     0        0        0        0       0         0    0      \n",
              "1  2        Jumanji (1995)                      Adventure|Children|Fantasy                   0                   0       1          0          1         0       0      0            0      1        0          0       0     0        0        0        0       0         0    0      \n",
              "2  3        Grumpier Old Men (1995)             Comedy|Romance                               0                   0       0          0          0         1       0      0            0      0        0          0       0     0        0        1        0       0         0    0      \n",
              "3  4        Waiting to Exhale (1995)            Comedy|Drama|Romance                         0                   0       0          0          0         1       0      0            1      0        0          0       0     0        0        1        0       0         0    0      \n",
              "4  5        Father of the Bride Part II (1995)  Comedy                                       0                   0       0          0          0         1       0      0            0      0        0          0       0     0        0        0        0       0         0    0      "
            ]
          },
          "execution_count": 8,
          "metadata": {},
          "output_type": "execute_result"
        }
      ],
      "source": [
        "# Oddzielanie gatunków jako nowe kolumny\n",
        "genres = movies['genres'].str.get_dummies(sep='|')\n",
        "\n",
        "movies = pd.concat([movies, genres], axis=1)\n",
        "\n",
        "movies.head()\n"
      ]
    },
    {
      "cell_type": "markdown",
      "id": "28bbcbb9",
      "metadata": {
        "id": "28bbcbb9"
      },
      "source": [
        "#### 1. Liczba filmów Sci-Fi"
      ]
    },
    {
      "cell_type": "markdown",
      "id": "82f59635",
      "metadata": {
        "id": "82f59635"
      },
      "source": [
        " liczba filmów Sci-Fi = `980`"
      ]
    },
    {
      "cell_type": "code",
      "execution_count": null,
      "id": "938d62bf",
      "metadata": {
        "id": "938d62bf",
        "outputId": "2dec8422-ccc8-4e2a-b6cf-9e7f41fe24a5"
      },
      "outputs": [
        {
          "data": {
            "text/plain": [
              "980"
            ]
          },
          "execution_count": 9,
          "metadata": {},
          "output_type": "execute_result"
        }
      ],
      "source": [
        "sci_fi_count = movies['Sci-Fi'].sum()\n",
        "sci_fi_count"
      ]
    },
    {
      "cell_type": "markdown",
      "id": "65769186",
      "metadata": {
        "id": "65769186"
      },
      "source": [
        "#### 2. Pokaż rozkład ocen komedii"
      ]
    },
    {
      "cell_type": "code",
      "execution_count": null,
      "id": "7ab5c78e",
      "metadata": {
        "id": "7ab5c78e"
      },
      "outputs": [],
      "source": [
        "# filtrowanie komedii\n",
        "comedy_movies = movies[movies['Comedy'] == 1]\n",
        "# łączenie z ocenami\n",
        "comedy_ratings = ratings[ratings['movieId'].isin(movies[movies['Comedy'] == 1]['movieId'])]"
      ]
    },
    {
      "cell_type": "code",
      "execution_count": null,
      "id": "5565a78c",
      "metadata": {
        "id": "5565a78c",
        "outputId": "b7310924-a0a3-4dd1-ea48-2df5210135bd"
      },
      "outputs": [
        {
          "data": {
            "text/plain": [
              "Text(0, 0.5, 'Liczba filmów')"
            ]
          },
          "execution_count": 11,
          "metadata": {},
          "output_type": "execute_result"
        },
        {
          "data": {
            "image/png": "[encoded data removed]",
            "text/plain": [
              "<Figure size 640x480 with 1 Axes>"
            ]
          },
          "metadata": {},
          "output_type": "display_data"
        }
      ],
      "source": [
        "sns.countplot(comedy_ratings, x = 'rating', palette='viridis')\n",
        "plt.title('Rozkład ocen z gatunkiem komedii')\n",
        "plt.xlabel('Średnia ocena')\n",
        "plt.ylabel('Liczba filmów')"
      ]
    },
    {
      "cell_type": "markdown",
      "id": "c32d064b",
      "metadata": {
        "id": "c32d064b"
      },
      "source": [
        "#### 3. Podaj średnią ocen wszystkich filmów akcji oraz 3 filmy najwyżej ocenianych"
      ]
    },
    {
      "cell_type": "code",
      "execution_count": null,
      "id": "492138d7",
      "metadata": {
        "id": "492138d7",
        "outputId": "7fce636a-8a53-429e-f11a-513012658172"
      },
      "outputs": [
        {
          "data": {
            "text/html": [
              "<div>\n",
              "<style scoped>\n",
              "    .dataframe tbody tr th:only-of-type {\n",
              "        vertical-align: middle;\n",
              "    }\n",
              "\n",
              "    .dataframe tbody tr th {\n",
              "        vertical-align: top;\n",
              "    }\n",
              "\n",
              "    .dataframe thead th {\n",
              "        text-align: right;\n",
              "    }\n",
              "</style>\n",
              "<table border=\"1\" class=\"dataframe\">\n",
              "  <thead>\n",
              "    <tr style=\"text-align: right;\">\n",
              "      <th></th>\n",
              "      <th>userId</th>\n",
              "      <th>movieId</th>\n",
              "      <th>rating</th>\n",
              "      <th>timestamp</th>\n",
              "    </tr>\n",
              "  </thead>\n",
              "  <tbody>\n",
              "    <tr>\n",
              "      <th>2</th>\n",
              "      <td>1</td>\n",
              "      <td>6</td>\n",
              "      <td>4.0</td>\n",
              "      <td>964982224</td>\n",
              "    </tr>\n",
              "    <tr>\n",
              "      <th>5</th>\n",
              "      <td>1</td>\n",
              "      <td>70</td>\n",
              "      <td>3.0</td>\n",
              "      <td>964982400</td>\n",
              "    </tr>\n",
              "    <tr>\n",
              "      <th>7</th>\n",
              "      <td>1</td>\n",
              "      <td>110</td>\n",
              "      <td>4.0</td>\n",
              "      <td>964982176</td>\n",
              "    </tr>\n",
              "    <tr>\n",
              "      <th>8</th>\n",
              "      <td>1</td>\n",
              "      <td>151</td>\n",
              "      <td>5.0</td>\n",
              "      <td>964984041</td>\n",
              "    </tr>\n",
              "    <tr>\n",
              "      <th>10</th>\n",
              "      <td>1</td>\n",
              "      <td>163</td>\n",
              "      <td>5.0</td>\n",
              "      <td>964983650</td>\n",
              "    </tr>\n",
              "    <tr>\n",
              "      <th>...</th>\n",
              "      <td>...</td>\n",
              "      <td>...</td>\n",
              "      <td>...</td>\n",
              "      <td>...</td>\n",
              "    </tr>\n",
              "    <tr>\n",
              "      <th>100826</th>\n",
              "      <td>610</td>\n",
              "      <td>162350</td>\n",
              "      <td>3.5</td>\n",
              "      <td>1493849971</td>\n",
              "    </tr>\n",
              "    <tr>\n",
              "      <th>100830</th>\n",
              "      <td>610</td>\n",
              "      <td>166528</td>\n",
              "      <td>4.0</td>\n",
              "      <td>1493879365</td>\n",
              "    </tr>\n",
              "    <tr>\n",
              "      <th>100832</th>\n",
              "      <td>610</td>\n",
              "      <td>168248</td>\n",
              "      <td>5.0</td>\n",
              "      <td>1493850091</td>\n",
              "    </tr>\n",
              "    <tr>\n",
              "      <th>100834</th>\n",
              "      <td>610</td>\n",
              "      <td>168252</td>\n",
              "      <td>5.0</td>\n",
              "      <td>1493846352</td>\n",
              "    </tr>\n",
              "    <tr>\n",
              "      <th>100835</th>\n",
              "      <td>610</td>\n",
              "      <td>170875</td>\n",
              "      <td>3.0</td>\n",
              "      <td>1493846415</td>\n",
              "    </tr>\n",
              "  </tbody>\n",
              "</table>\n",
              "<p>30635 rows × 4 columns</p>\n",
              "</div>"
            ],
            "text/plain": [
              "        userId  movieId  rating   timestamp\n",
              "2       1       6        4.0     964982224 \n",
              "5       1       70       3.0     964982400 \n",
              "7       1       110      4.0     964982176 \n",
              "8       1       151      5.0     964984041 \n",
              "10      1       163      5.0     964983650 \n",
              "...    ..       ...      ...           ... \n",
              "100826  610     162350   3.5     1493849971\n",
              "100830  610     166528   4.0     1493879365\n",
              "100832  610     168248   5.0     1493850091\n",
              "100834  610     168252   5.0     1493846352\n",
              "100835  610     170875   3.0     1493846415\n",
              "\n",
              "[30635 rows x 4 columns]"
            ]
          },
          "execution_count": 14,
          "metadata": {},
          "output_type": "execute_result"
        }
      ],
      "source": [
        "# filtrowanie filmów akcji\n",
        "action_movies = movies[movies['Action'] == 1]\n",
        "# łączenie z ocenami\n",
        "action_ratings = ratings[ratings['movieId'].isin(movies[movies['Action'] == 1]['movieId'])]\n",
        "action_ratings"
      ]
    },
    {
      "cell_type": "code",
      "execution_count": null,
      "id": "0f84e512",
      "metadata": {
        "id": "0f84e512",
        "outputId": "15e3ec8a-ff9c-4bcf-8d00-48814022f9e5"
      },
      "outputs": [
        {
          "name": "stdout",
          "output_type": "stream",
          "text": [
            "Średnia ocen wszystkich filmów akcji: 3.45\n"
          ]
        }
      ],
      "source": [
        "print(f\"Średnia ocen wszystkich filmów akcji: {action_ratings.rating.mean().round(2)}\")"
      ]
    },
    {
      "cell_type": "markdown",
      "id": "e8249e17",
      "metadata": {
        "id": "e8249e17"
      },
      "source": [
        "### Bayesian Average"
      ]
    },
    {
      "cell_type": "markdown",
      "id": "3f5dbd9e",
      "metadata": {
        "id": "3f5dbd9e"
      },
      "source": [
        "<!-- ![obraz.png](attachment:obraz.png) -->\n",
        "![bayesianavg.png](data:image/png;base64,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)\n",
        "\n",
        "Zwykła średnia nie będzie miarodajna ze względu na różną liczbę ocen, jakie dany film otrzymał."
      ]
    },
    {
      "cell_type": "markdown",
      "id": "9153bd91",
      "metadata": {
        "id": "9153bd91"
      },
      "source": [
        "#### Filmy najwyżej oceniane"
      ]
    },
    {
      "cell_type": "code",
      "execution_count": null,
      "id": "70bfdffa",
      "metadata": {
        "id": "70bfdffa",
        "outputId": "27cc881a-6aea-4f80-f02f-efce5eb77b83"
      },
      "outputs": [
        {
          "data": {
            "text/html": [
              "<div>\n",
              "<style scoped>\n",
              "    .dataframe tbody tr th:only-of-type {\n",
              "        vertical-align: middle;\n",
              "    }\n",
              "\n",
              "    .dataframe tbody tr th {\n",
              "        vertical-align: top;\n",
              "    }\n",
              "\n",
              "    .dataframe thead th {\n",
              "        text-align: right;\n",
              "    }\n",
              "</style>\n",
              "<table border=\"1\" class=\"dataframe\">\n",
              "  <thead>\n",
              "    <tr style=\"text-align: right;\">\n",
              "      <th></th>\n",
              "      <th>count</th>\n",
              "      <th>mean</th>\n",
              "    </tr>\n",
              "    <tr>\n",
              "      <th>movieId</th>\n",
              "      <th></th>\n",
              "      <th></th>\n",
              "    </tr>\n",
              "  </thead>\n",
              "  <tbody>\n",
              "    <tr>\n",
              "      <th>1</th>\n",
              "      <td>215</td>\n",
              "      <td>3.920930</td>\n",
              "    </tr>\n",
              "    <tr>\n",
              "      <th>2</th>\n",
              "      <td>110</td>\n",
              "      <td>3.431818</td>\n",
              "    </tr>\n",
              "    <tr>\n",
              "      <th>3</th>\n",
              "      <td>52</td>\n",
              "      <td>3.259615</td>\n",
              "    </tr>\n",
              "    <tr>\n",
              "      <th>4</th>\n",
              "      <td>7</td>\n",
              "      <td>2.357143</td>\n",
              "    </tr>\n",
              "    <tr>\n",
              "      <th>5</th>\n",
              "      <td>49</td>\n",
              "      <td>3.071429</td>\n",
              "    </tr>\n",
              "    <tr>\n",
              "      <th>...</th>\n",
              "      <td>...</td>\n",
              "      <td>...</td>\n",
              "    </tr>\n",
              "    <tr>\n",
              "      <th>193581</th>\n",
              "      <td>1</td>\n",
              "      <td>4.000000</td>\n",
              "    </tr>\n",
              "    <tr>\n",
              "      <th>193583</th>\n",
              "      <td>1</td>\n",
              "      <td>3.500000</td>\n",
              "    </tr>\n",
              "    <tr>\n",
              "      <th>193585</th>\n",
              "      <td>1</td>\n",
              "      <td>3.500000</td>\n",
              "    </tr>\n",
              "    <tr>\n",
              "      <th>193587</th>\n",
              "      <td>1</td>\n",
              "      <td>3.500000</td>\n",
              "    </tr>\n",
              "    <tr>\n",
              "      <th>193609</th>\n",
              "      <td>1</td>\n",
              "      <td>4.000000</td>\n",
              "    </tr>\n",
              "  </tbody>\n",
              "</table>\n",
              "<p>9724 rows × 2 columns</p>\n",
              "</div>"
            ],
            "text/plain": [
              "         count      mean\n",
              "movieId                 \n",
              "1        215    3.920930\n",
              "2        110    3.431818\n",
              "3        52     3.259615\n",
              "4        7      2.357143\n",
              "5        49     3.071429\n",
              "...     ..           ...\n",
              "193581   1      4.000000\n",
              "193583   1      3.500000\n",
              "193585   1      3.500000\n",
              "193587   1      3.500000\n",
              "193609   1      4.000000\n",
              "\n",
              "[9724 rows x 2 columns]"
            ]
          },
          "execution_count": 16,
          "metadata": {},
          "output_type": "execute_result"
        }
      ],
      "source": [
        "# filmy najwyzej oceniane\n",
        "movie_stats = ratings.groupby('movieId')['rating'].agg(['count', 'mean'])\n",
        "movie_stats"
      ]
    },
    {
      "cell_type": "code",
      "execution_count": null,
      "id": "376c2f02",
      "metadata": {
        "id": "376c2f02",
        "outputId": "173eb5b1-4db2-47f8-b1da-f52d753298a8"
      },
      "outputs": [
        {
          "name": "stdout",
          "output_type": "stream",
          "text": [
            "Najwyżej oceniane 3 filmy:\n",
            "                              title  bayesian_avg\n",
            "0  Shawshank Redemption, The (1994)  4.39        \n",
            "1  Godfather, The (1972)             4.24        \n",
            "2  Fight Club (1999)                 4.23        \n"
          ]
        }
      ],
      "source": [
        "C = movie_stats['count'].mean()\n",
        "m = movie_stats['mean'].mean()\n",
        "\n",
        "def bayesian_avg(ratings):\n",
        "    \"\"\"\n",
        "    Calculate the Bayesian average of a list of ratings.\n",
        "\n",
        "    Args:\n",
        "    - ratings: List of numerical ratings\n",
        "\n",
        "    Returns:\n",
        "    - Bayesian average of the ratings\n",
        "    \"\"\"\n",
        "\n",
        "    bayesian_avg = (C*m+ratings.sum())/(C+ratings.count())\n",
        "\n",
        "    return bayesian_avg\n",
        "\n",
        "\n",
        "# obliczanie średniej dla wszystkich filmów\n",
        "bayesian_avg_ratings = ratings.groupby('movieId')['rating'].agg(bayesian_avg).reset_index()\n",
        "bayesian_avg_ratings.columns = ['movieId', 'bayesian_avg']\n",
        "movie_stats = movie_stats.merge(bayesian_avg_ratings, on='movieId')\n",
        "\n",
        "top_rated_movies = movie_stats.sort_values(by='bayesian_avg', ascending=False).head(3)\n",
        "top_rated_titles = top_rated_movies.merge(movies[['movieId', 'title']], on='movieId')\n",
        "\n",
        "# wybranie kolumn 'title' i 'bayesian_avg'\n",
        "top_rated_titles = top_rated_titles[['title', 'bayesian_avg']]\n",
        "\n",
        "print(f'Najwyżej oceniane 3 filmy:\\n{top_rated_titles.round(2)}')"
      ]
    },
    {
      "cell_type": "markdown",
      "id": "f224bac4",
      "metadata": {
        "id": "f224bac4"
      },
      "source": [
        "   ***Najwyżej oceniane 3 filmy***\n",
        "   \n",
        "|             Title              | Bayesian Average |\n",
        "|--------------------------------|------------------|\n",
        "| Shawshank Redemption, The (1994) |       4.39       |\n",
        "|       Godfather, The (1972)      |       4.24       |\n",
        "|         Fight Club (1999)        |       4.23       |"
      ]
    },
    {
      "cell_type": "markdown",
      "id": "9d26816a",
      "metadata": {
        "id": "9d26816a"
      },
      "source": [
        "<img src=\"https://media.giphy.com/media/v1.Y2lkPTc5MGI3NjExY3RvOGtma3k0cDcyc3AzcXBpejJ4emFrc254ZWFkMGNxMmk4dGFtYiZlcD12MV9pbnRlcm5hbF9naWZfYnlfaWQmY3Q9Zw/z9EaObbaU7pS4zFl6d/giphy.gif\" width=\"350\" align=\"center\">\n"
      ]
    },
    {
      "cell_type": "code",
      "execution_count": null,
      "id": "72ad4d28",
      "metadata": {
        "id": "72ad4d28",
        "outputId": "7efe94cd-da91-4db6-be1b-1c85d8414bd5"
      },
      "outputs": [
        {
          "name": "stdout",
          "output_type": "stream",
          "text": [
            "Najwyżej oceniane 3 filmy akcji:\n",
            "                                                   title  bayesian_avg\n",
            "0  Fight Club (1999)                                      4.19        \n",
            "1  Star Wars: Episode IV - A New Hope (1977)              4.16        \n",
            "2  Star Wars: Episode V - The Empire Strikes Back (1980)  4.13        \n"
          ]
        }
      ],
      "source": [
        "# srednia dla filmów akcji\n",
        "\n",
        "merged_data = pd.merge(ratings, movies, on='movieId')\n",
        "\n",
        "action_movies_ratings = merged_data[merged_data['Action'] == 1].groupby('movieId')['rating'].agg(['count', 'mean'])\n",
        "\n",
        "C = action_movies_ratings['count'].mean()\n",
        "m = action_movies_ratings['mean'].mean()\n",
        "\n",
        "bayesian_avg_ratings = ratings.groupby('movieId')['rating'].agg(bayesian_avg).reset_index()\n",
        "bayesian_avg_ratings.columns = ['movieId', 'bayesian_avg']\n",
        "movie_stats = action_movies_ratings.merge(bayesian_avg_ratings, on='movieId')\n",
        "movie_stats.describe()\n",
        "\n",
        "top_rated_movies = movie_stats.sort_values(by='bayesian_avg', ascending=False).head(3)\n",
        "top_rated_titles = top_rated_movies.merge(movies[['movieId', 'title']], on='movieId')\n",
        "\n",
        "top_rated_titles = top_rated_titles[['title', 'bayesian_avg']]\n",
        "\n",
        "print(f'Najwyżej oceniane 3 filmy akcji:\\n{top_rated_titles.round(2)}')"
      ]
    },
    {
      "cell_type": "markdown",
      "id": "37336f62",
      "metadata": {
        "id": "37336f62"
      },
      "source": [
        "***Najwyżej oceniane 3 filmy akcji***\n",
        "| Title | Bayesian Average |\n",
        "|-----------------------------|------------------|\n",
        "| Fight Club (1999) | 4.19 |\n",
        "| Star Wars: Episode IV - A New Hope (1977) | 4.16 |\n",
        "| Star Wars: Episode V - The Empire Strikes Back (1980) | 4.13 |"
      ]
    },
    {
      "cell_type": "markdown",
      "id": "7d5c0fb1",
      "metadata": {
        "id": "7d5c0fb1"
      },
      "source": [
        "## System rekomendacyjny\n",
        "\n",
        "[SVD](#SVD)\n",
        "<br>\n",
        "[kNNwithMeans](#kNNwithMeans)"
      ]
    },
    {
      "cell_type": "markdown",
      "id": "0f8e8e64",
      "metadata": {
        "id": "0f8e8e64"
      },
      "source": [
        "#### Zbuduj system na podstawie algorytmu SVD oraz kNNwithMeans"
      ]
    },
    {
      "cell_type": "markdown",
      "id": "82dd4c29",
      "metadata": {
        "id": "82dd4c29"
      },
      "source": [
        "##### Znajdź ID filmu po tytule"
      ]
    },
    {
      "cell_type": "code",
      "execution_count": null,
      "id": "20322dbf",
      "metadata": {
        "id": "20322dbf"
      },
      "outputs": [],
      "source": [
        "def get_movie_ids_by_title(title_partial, movies = movies):\n",
        "    \"\"\"\n",
        "    This function takes a partial movie title and a DataFrame containing movie titles and IDs,\n",
        "    and returns a DataFrame of all movies that contain the partial title in their full title.\n",
        "\n",
        "    Args:\n",
        "        title_partial (str): The partial movie title.\n",
        "        movies_df (DataFrame): A DataFrame containing 'movieId' and 'title' columns.\n",
        "\n",
        "    Returns:\n",
        "        DataFrame: A DataFrame containing the 'movieId' and 'title' of all movies that contain\n",
        "                   the partial title in their full title. If no such movie is found, returns an empty DataFrame.\n",
        "    \"\"\"\n",
        "    # Use the str.contains method to find rows where the title contains the partial title (case insensitive)\n",
        "    matching_movies = movies[movies['title'].str.contains(title_partial, case=False)]\n",
        "\n",
        "    # Return the matching_movies DataFrame\n",
        "    return matching_movies\n"
      ]
    },
    {
      "cell_type": "code",
      "execution_count": null,
      "id": "faaba8f0",
      "metadata": {
        "id": "faaba8f0",
        "outputId": "3c5ce073-5be7-4e4f-e2f8-a02e58ed4776"
      },
      "outputs": [
        {
          "data": {
            "text/html": [
              "<div>\n",
              "<style scoped>\n",
              "    .dataframe tbody tr th:only-of-type {\n",
              "        vertical-align: middle;\n",
              "    }\n",
              "\n",
              "    .dataframe tbody tr th {\n",
              "        vertical-align: top;\n",
              "    }\n",
              "\n",
              "    .dataframe thead th {\n",
              "        text-align: right;\n",
              "    }\n",
              "</style>\n",
              "<table border=\"1\" class=\"dataframe\">\n",
              "  <thead>\n",
              "    <tr style=\"text-align: right;\">\n",
              "      <th></th>\n",
              "      <th>movieId</th>\n",
              "      <th>title</th>\n",
              "      <th>genres</th>\n",
              "      <th>(no genres listed)</th>\n",
              "      <th>Action</th>\n",
              "      <th>Adventure</th>\n",
              "      <th>Animation</th>\n",
              "      <th>Children</th>\n",
              "      <th>Comedy</th>\n",
              "      <th>Crime</th>\n",
              "      <th>Documentary</th>\n",
              "      <th>Drama</th>\n",
              "      <th>Fantasy</th>\n",
              "      <th>Film-Noir</th>\n",
              "      <th>Horror</th>\n",
              "      <th>IMAX</th>\n",
              "      <th>Musical</th>\n",
              "      <th>Mystery</th>\n",
              "      <th>Romance</th>\n",
              "      <th>Sci-Fi</th>\n",
              "      <th>Thriller</th>\n",
              "      <th>War</th>\n",
              "      <th>Western</th>\n",
              "    </tr>\n",
              "  </thead>\n",
              "  <tbody>\n",
              "    <tr>\n",
              "      <th>0</th>\n",
              "      <td>1</td>\n",
              "      <td>Toy Story (1995)</td>\n",
              "      <td>Adventure|Animation|Children|Comedy|Fantasy</td>\n",
              "      <td>0</td>\n",
              "      <td>0</td>\n",
              "      <td>1</td>\n",
              "      <td>1</td>\n",
              "      <td>1</td>\n",
              "      <td>1</td>\n",
              "      <td>0</td>\n",
              "      <td>0</td>\n",
              "      <td>0</td>\n",
              "      <td>1</td>\n",
              "      <td>0</td>\n",
              "      <td>0</td>\n",
              "      <td>0</td>\n",
              "      <td>0</td>\n",
              "      <td>0</td>\n",
              "      <td>0</td>\n",
              "      <td>0</td>\n",
              "      <td>0</td>\n",
              "      <td>0</td>\n",
              "      <td>0</td>\n",
              "    </tr>\n",
              "    <tr>\n",
              "      <th>1492</th>\n",
              "      <td>2017</td>\n",
              "      <td>Babes in Toyland (1961)</td>\n",
              "      <td>Children|Fantasy|Musical</td>\n",
              "      <td>0</td>\n",
              "      <td>0</td>\n",
              "      <td>0</td>\n",
              "      <td>0</td>\n",
              "      <td>1</td>\n",
              "      <td>0</td>\n",
              "      <td>0</td>\n",
              "      <td>0</td>\n",
              "      <td>0</td>\n",
              "      <td>1</td>\n",
              "      <td>0</td>\n",
              "      <td>0</td>\n",
              "      <td>0</td>\n",
              "      <td>1</td>\n",
              "      <td>0</td>\n",
              "      <td>0</td>\n",
              "      <td>0</td>\n",
              "      <td>0</td>\n",
              "      <td>0</td>\n",
              "      <td>0</td>\n",
              "    </tr>\n",
              "    <tr>\n",
              "      <th>1674</th>\n",
              "      <td>2253</td>\n",
              "      <td>Toys (1992)</td>\n",
              "      <td>Comedy|Fantasy</td>\n",
              "      <td>0</td>\n",
              "      <td>0</td>\n",
              "      <td>0</td>\n",
              "      <td>0</td>\n",
              "      <td>0</td>\n",
              "      <td>1</td>\n",
              "      <td>0</td>\n",
              "      <td>0</td>\n",
              "      <td>0</td>\n",
              "      <td>1</td>\n",
              "      <td>0</td>\n",
              "      <td>0</td>\n",
              "      <td>0</td>\n",
              "      <td>0</td>\n",
              "      <td>0</td>\n",
              "      <td>0</td>\n",
              "      <td>0</td>\n",
              "      <td>0</td>\n",
              "      <td>0</td>\n",
              "      <td>0</td>\n",
              "    </tr>\n",
              "    <tr>\n",
              "      <th>2329</th>\n",
              "      <td>3086</td>\n",
              "      <td>Babes in Toyland (1934)</td>\n",
              "      <td>Children|Comedy|Fantasy|Musical</td>\n",
              "      <td>0</td>\n",
              "      <td>0</td>\n",
              "      <td>0</td>\n",
              "      <td>0</td>\n",
              "      <td>1</td>\n",
              "      <td>1</td>\n",
              "      <td>0</td>\n",
              "      <td>0</td>\n",
              "      <td>0</td>\n",
              "      <td>1</td>\n",
              "      <td>0</td>\n",
              "      <td>0</td>\n",
              "      <td>0</td>\n",
              "      <td>1</td>\n",
              "      <td>0</td>\n",
              "      <td>0</td>\n",
              "      <td>0</td>\n",
              "      <td>0</td>\n",
              "      <td>0</td>\n",
              "      <td>0</td>\n",
              "    </tr>\n",
              "    <tr>\n",
              "      <th>2355</th>\n",
              "      <td>3114</td>\n",
              "      <td>Toy Story 2 (1999)</td>\n",
              "      <td>Adventure|Animation|Children|Comedy|Fantasy</td>\n",
              "      <td>0</td>\n",
              "      <td>0</td>\n",
              "      <td>1</td>\n",
              "      <td>1</td>\n",
              "      <td>1</td>\n",
              "      <td>1</td>\n",
              "      <td>0</td>\n",
              "      <td>0</td>\n",
              "      <td>0</td>\n",
              "      <td>1</td>\n",
              "      <td>0</td>\n",
              "      <td>0</td>\n",
              "      <td>0</td>\n",
              "      <td>0</td>\n",
              "      <td>0</td>\n",
              "      <td>0</td>\n",
              "      <td>0</td>\n",
              "      <td>0</td>\n",
              "      <td>0</td>\n",
              "      <td>0</td>\n",
              "    </tr>\n",
              "    <tr>\n",
              "      <th>3595</th>\n",
              "      <td>4929</td>\n",
              "      <td>Toy, The (1982)</td>\n",
              "      <td>Comedy</td>\n",
              "      <td>0</td>\n",
              "      <td>0</td>\n",
              "      <td>0</td>\n",
              "      <td>0</td>\n",
              "      <td>0</td>\n",
              "      <td>1</td>\n",
              "      <td>0</td>\n",
              "      <td>0</td>\n",
              "      <td>0</td>\n",
              "      <td>0</td>\n",
              "      <td>0</td>\n",
              "      <td>0</td>\n",
              "      <td>0</td>\n",
              "      <td>0</td>\n",
              "      <td>0</td>\n",
              "      <td>0</td>\n",
              "      <td>0</td>\n",
              "      <td>0</td>\n",
              "      <td>0</td>\n",
              "      <td>0</td>\n",
              "    </tr>\n",
              "    <tr>\n",
              "      <th>4089</th>\n",
              "      <td>5843</td>\n",
              "      <td>Toy Soldiers (1991)</td>\n",
              "      <td>Action|Drama</td>\n",
              "      <td>0</td>\n",
              "      <td>1</td>\n",
              "      <td>0</td>\n",
              "      <td>0</td>\n",
              "      <td>0</td>\n",
              "      <td>0</td>\n",
              "      <td>0</td>\n",
              "      <td>0</td>\n",
              "      <td>1</td>\n",
              "      <td>0</td>\n",
              "      <td>0</td>\n",
              "      <td>0</td>\n",
              "      <td>0</td>\n",
              "      <td>0</td>\n",
              "      <td>0</td>\n",
              "      <td>0</td>\n",
              "      <td>0</td>\n",
              "      <td>0</td>\n",
              "      <td>0</td>\n",
              "      <td>0</td>\n",
              "    </tr>\n",
              "    <tr>\n",
              "      <th>7355</th>\n",
              "      <td>78499</td>\n",
              "      <td>Toy Story 3 (2010)</td>\n",
              "      <td>Adventure|Animation|Children|Comedy|Fantasy|IMAX</td>\n",
              "      <td>0</td>\n",
              "      <td>0</td>\n",
              "      <td>1</td>\n",
              "      <td>1</td>\n",
              "      <td>1</td>\n",
              "      <td>1</td>\n",
              "      <td>0</td>\n",
              "      <td>0</td>\n",
              "      <td>0</td>\n",
              "      <td>1</td>\n",
              "      <td>0</td>\n",
              "      <td>0</td>\n",
              "      <td>1</td>\n",
              "      <td>0</td>\n",
              "      <td>0</td>\n",
              "      <td>0</td>\n",
              "      <td>0</td>\n",
              "      <td>0</td>\n",
              "      <td>0</td>\n",
              "      <td>0</td>\n",
              "    </tr>\n",
              "  </tbody>\n",
              "</table>\n",
              "</div>"
            ],
            "text/plain": [
              "      movieId                    title                                            genres  (no genres listed)  Action  Adventure  Animation  Children  Comedy  Crime  Documentary  Drama  Fantasy  Film-Noir  Horror  IMAX  Musical  Mystery  Romance  Sci-Fi  Thriller  War  Western\n",
              "0     1        Toy Story (1995)         Adventure|Animation|Children|Comedy|Fantasy       0                   0       1          1          1         1       0      0            0      1        0          0       0     0        0        0        0       0         0    0      \n",
              "1492  2017     Babes in Toyland (1961)  Children|Fantasy|Musical                          0                   0       0          0          1         0       0      0            0      1        0          0       0     1        0        0        0       0         0    0      \n",
              "1674  2253     Toys (1992)              Comedy|Fantasy                                    0                   0       0          0          0         1       0      0            0      1        0          0       0     0        0        0        0       0         0    0      \n",
              "2329  3086     Babes in Toyland (1934)  Children|Comedy|Fantasy|Musical                   0                   0       0          0          1         1       0      0            0      1        0          0       0     1        0        0        0       0         0    0      \n",
              "2355  3114     Toy Story 2 (1999)       Adventure|Animation|Children|Comedy|Fantasy       0                   0       1          1          1         1       0      0            0      1        0          0       0     0        0        0        0       0         0    0      \n",
              "3595  4929     Toy, The (1982)          Comedy                                            0                   0       0          0          0         1       0      0            0      0        0          0       0     0        0        0        0       0         0    0      \n",
              "4089  5843     Toy Soldiers (1991)      Action|Drama                                      0                   1       0          0          0         0       0      0            1      0        0          0       0     0        0        0        0       0         0    0      \n",
              "7355  78499    Toy Story 3 (2010)       Adventure|Animation|Children|Comedy|Fantasy|IMAX  0                   0       1          1          1         1       0      0            0      1        0          0       1     0        0        0        0       0         0    0      "
            ]
          },
          "execution_count": 20,
          "metadata": {},
          "output_type": "execute_result"
        }
      ],
      "source": [
        "get_movie_ids_by_title(\"Toy\", movies)"
      ]
    },
    {
      "cell_type": "code",
      "execution_count": null,
      "id": "55887d19",
      "metadata": {
        "id": "55887d19",
        "outputId": "81afd6c5-70b9-4019-b72d-97628854e6fd"
      },
      "outputs": [
        {
          "data": {
            "text/html": [
              "<div>\n",
              "<style scoped>\n",
              "    .dataframe tbody tr th:only-of-type {\n",
              "        vertical-align: middle;\n",
              "    }\n",
              "\n",
              "    .dataframe tbody tr th {\n",
              "        vertical-align: top;\n",
              "    }\n",
              "\n",
              "    .dataframe thead th {\n",
              "        text-align: right;\n",
              "    }\n",
              "</style>\n",
              "<table border=\"1\" class=\"dataframe\">\n",
              "  <thead>\n",
              "    <tr style=\"text-align: right;\">\n",
              "      <th></th>\n",
              "      <th>movieId</th>\n",
              "      <th>title</th>\n",
              "      <th>genres</th>\n",
              "      <th>(no genres listed)</th>\n",
              "      <th>Action</th>\n",
              "      <th>Adventure</th>\n",
              "      <th>Animation</th>\n",
              "      <th>Children</th>\n",
              "      <th>Comedy</th>\n",
              "      <th>Crime</th>\n",
              "      <th>Documentary</th>\n",
              "      <th>Drama</th>\n",
              "      <th>Fantasy</th>\n",
              "      <th>Film-Noir</th>\n",
              "      <th>Horror</th>\n",
              "      <th>IMAX</th>\n",
              "      <th>Musical</th>\n",
              "      <th>Mystery</th>\n",
              "      <th>Romance</th>\n",
              "      <th>Sci-Fi</th>\n",
              "      <th>Thriller</th>\n",
              "      <th>War</th>\n",
              "      <th>Western</th>\n",
              "    </tr>\n",
              "  </thead>\n",
              "  <tbody>\n",
              "    <tr>\n",
              "      <th>1</th>\n",
              "      <td>2</td>\n",
              "      <td>Jumanji (1995)</td>\n",
              "      <td>Adventure|Children|Fantasy</td>\n",
              "      <td>0</td>\n",
              "      <td>0</td>\n",
              "      <td>1</td>\n",
              "      <td>0</td>\n",
              "      <td>1</td>\n",
              "      <td>0</td>\n",
              "      <td>0</td>\n",
              "      <td>0</td>\n",
              "      <td>0</td>\n",
              "      <td>1</td>\n",
              "      <td>0</td>\n",
              "      <td>0</td>\n",
              "      <td>0</td>\n",
              "      <td>0</td>\n",
              "      <td>0</td>\n",
              "      <td>0</td>\n",
              "      <td>0</td>\n",
              "      <td>0</td>\n",
              "      <td>0</td>\n",
              "      <td>0</td>\n",
              "    </tr>\n",
              "    <tr>\n",
              "      <th>9636</th>\n",
              "      <td>179401</td>\n",
              "      <td>Jumanji: Welcome to the Jungle (2017)</td>\n",
              "      <td>Action|Adventure|Children</td>\n",
              "      <td>0</td>\n",
              "      <td>1</td>\n",
              "      <td>1</td>\n",
              "      <td>0</td>\n",
              "      <td>1</td>\n",
              "      <td>0</td>\n",
              "      <td>0</td>\n",
              "      <td>0</td>\n",
              "      <td>0</td>\n",
              "      <td>0</td>\n",
              "      <td>0</td>\n",
              "      <td>0</td>\n",
              "      <td>0</td>\n",
              "      <td>0</td>\n",
              "      <td>0</td>\n",
              "      <td>0</td>\n",
              "      <td>0</td>\n",
              "      <td>0</td>\n",
              "      <td>0</td>\n",
              "      <td>0</td>\n",
              "    </tr>\n",
              "  </tbody>\n",
              "</table>\n",
              "</div>"
            ],
            "text/plain": [
              "      movieId                                  title                      genres  (no genres listed)  Action  Adventure  Animation  Children  Comedy  Crime  Documentary  Drama  Fantasy  Film-Noir  Horror  IMAX  Musical  Mystery  Romance  Sci-Fi  Thriller  War  Western\n",
              "1     2        Jumanji (1995)                         Adventure|Children|Fantasy  0                   0       1          0          1         0       0      0            0      1        0          0       0     0        0        0        0       0         0    0      \n",
              "9636  179401   Jumanji: Welcome to the Jungle (2017)  Action|Adventure|Children   0                   1       1          0          1         0       0      0            0      0        0          0       0     0        0        0        0       0         0    0      "
            ]
          },
          "execution_count": 21,
          "metadata": {},
          "output_type": "execute_result"
        }
      ],
      "source": [
        "get_movie_ids_by_title(\"Jumanji\", movies)"
      ]
    },
    {
      "cell_type": "code",
      "execution_count": null,
      "id": "7b32e2a6",
      "metadata": {
        "id": "7b32e2a6",
        "outputId": "93f67c69-3058-4da9-82a9-0207199e6955"
      },
      "outputs": [
        {
          "data": {
            "text/html": [
              "<div>\n",
              "<style scoped>\n",
              "    .dataframe tbody tr th:only-of-type {\n",
              "        vertical-align: middle;\n",
              "    }\n",
              "\n",
              "    .dataframe tbody tr th {\n",
              "        vertical-align: top;\n",
              "    }\n",
              "\n",
              "    .dataframe thead th {\n",
              "        text-align: right;\n",
              "    }\n",
              "</style>\n",
              "<table border=\"1\" class=\"dataframe\">\n",
              "  <thead>\n",
              "    <tr style=\"text-align: right;\">\n",
              "      <th></th>\n",
              "      <th>movieId</th>\n",
              "      <th>title</th>\n",
              "      <th>genres</th>\n",
              "      <th>(no genres listed)</th>\n",
              "      <th>Action</th>\n",
              "      <th>Adventure</th>\n",
              "      <th>Animation</th>\n",
              "      <th>Children</th>\n",
              "      <th>Comedy</th>\n",
              "      <th>Crime</th>\n",
              "      <th>Documentary</th>\n",
              "      <th>Drama</th>\n",
              "      <th>Fantasy</th>\n",
              "      <th>Film-Noir</th>\n",
              "      <th>Horror</th>\n",
              "      <th>IMAX</th>\n",
              "      <th>Musical</th>\n",
              "      <th>Mystery</th>\n",
              "      <th>Romance</th>\n",
              "      <th>Sci-Fi</th>\n",
              "      <th>Thriller</th>\n",
              "      <th>War</th>\n",
              "      <th>Western</th>\n",
              "    </tr>\n",
              "  </thead>\n",
              "  <tbody>\n",
              "    <tr>\n",
              "      <th>313</th>\n",
              "      <td>355</td>\n",
              "      <td>Flintstones, The (1994)</td>\n",
              "      <td>Children|Comedy|Fantasy</td>\n",
              "      <td>0</td>\n",
              "      <td>0</td>\n",
              "      <td>0</td>\n",
              "      <td>0</td>\n",
              "      <td>1</td>\n",
              "      <td>1</td>\n",
              "      <td>0</td>\n",
              "      <td>0</td>\n",
              "      <td>0</td>\n",
              "      <td>1</td>\n",
              "      <td>0</td>\n",
              "      <td>0</td>\n",
              "      <td>0</td>\n",
              "      <td>0</td>\n",
              "      <td>0</td>\n",
              "      <td>0</td>\n",
              "      <td>0</td>\n",
              "      <td>0</td>\n",
              "      <td>0</td>\n",
              "      <td>0</td>\n",
              "    </tr>\n",
              "    <tr>\n",
              "      <th>2662</th>\n",
              "      <td>3564</td>\n",
              "      <td>Flintstones in Viva Rock Vegas, The (2000)</td>\n",
              "      <td>Children|Comedy</td>\n",
              "      <td>0</td>\n",
              "      <td>0</td>\n",
              "      <td>0</td>\n",
              "      <td>0</td>\n",
              "      <td>1</td>\n",
              "      <td>1</td>\n",
              "      <td>0</td>\n",
              "      <td>0</td>\n",
              "      <td>0</td>\n",
              "      <td>0</td>\n",
              "      <td>0</td>\n",
              "      <td>0</td>\n",
              "      <td>0</td>\n",
              "      <td>0</td>\n",
              "      <td>0</td>\n",
              "      <td>0</td>\n",
              "      <td>0</td>\n",
              "      <td>0</td>\n",
              "      <td>0</td>\n",
              "      <td>0</td>\n",
              "    </tr>\n",
              "    <tr>\n",
              "      <th>3909</th>\n",
              "      <td>5493</td>\n",
              "      <td>In Like Flint (1967)</td>\n",
              "      <td>Action|Adventure|Comedy</td>\n",
              "      <td>0</td>\n",
              "      <td>1</td>\n",
              "      <td>1</td>\n",
              "      <td>0</td>\n",
              "      <td>0</td>\n",
              "      <td>1</td>\n",
              "      <td>0</td>\n",
              "      <td>0</td>\n",
              "      <td>0</td>\n",
              "      <td>0</td>\n",
              "      <td>0</td>\n",
              "      <td>0</td>\n",
              "      <td>0</td>\n",
              "      <td>0</td>\n",
              "      <td>0</td>\n",
              "      <td>0</td>\n",
              "      <td>0</td>\n",
              "      <td>0</td>\n",
              "      <td>0</td>\n",
              "      <td>0</td>\n",
              "    </tr>\n",
              "    <tr>\n",
              "      <th>3910</th>\n",
              "      <td>5497</td>\n",
              "      <td>Our Man Flint (1965)</td>\n",
              "      <td>Adventure|Comedy|Sci-Fi</td>\n",
              "      <td>0</td>\n",
              "      <td>0</td>\n",
              "      <td>1</td>\n",
              "      <td>0</td>\n",
              "      <td>0</td>\n",
              "      <td>1</td>\n",
              "      <td>0</td>\n",
              "      <td>0</td>\n",
              "      <td>0</td>\n",
              "      <td>0</td>\n",
              "      <td>0</td>\n",
              "      <td>0</td>\n",
              "      <td>0</td>\n",
              "      <td>0</td>\n",
              "      <td>0</td>\n",
              "      <td>0</td>\n",
              "      <td>1</td>\n",
              "      <td>0</td>\n",
              "      <td>0</td>\n",
              "      <td>0</td>\n",
              "    </tr>\n",
              "    <tr>\n",
              "      <th>8717</th>\n",
              "      <td>126088</td>\n",
              "      <td>A Flintstones Christmas Carol (1994)</td>\n",
              "      <td>Animation|Children|Comedy</td>\n",
              "      <td>0</td>\n",
              "      <td>0</td>\n",
              "      <td>0</td>\n",
              "      <td>1</td>\n",
              "      <td>1</td>\n",
              "      <td>1</td>\n",
              "      <td>0</td>\n",
              "      <td>0</td>\n",
              "      <td>0</td>\n",
              "      <td>0</td>\n",
              "      <td>0</td>\n",
              "      <td>0</td>\n",
              "      <td>0</td>\n",
              "      <td>0</td>\n",
              "      <td>0</td>\n",
              "      <td>0</td>\n",
              "      <td>0</td>\n",
              "      <td>0</td>\n",
              "      <td>0</td>\n",
              "      <td>0</td>\n",
              "    </tr>\n",
              "    <tr>\n",
              "      <th>9739</th>\n",
              "      <td>193585</td>\n",
              "      <td>Flint (2017)</td>\n",
              "      <td>Drama</td>\n",
              "      <td>0</td>\n",
              "      <td>0</td>\n",
              "      <td>0</td>\n",
              "      <td>0</td>\n",
              "      <td>0</td>\n",
              "      <td>0</td>\n",
              "      <td>0</td>\n",
              "      <td>0</td>\n",
              "      <td>1</td>\n",
              "      <td>0</td>\n",
              "      <td>0</td>\n",
              "      <td>0</td>\n",
              "      <td>0</td>\n",
              "      <td>0</td>\n",
              "      <td>0</td>\n",
              "      <td>0</td>\n",
              "      <td>0</td>\n",
              "      <td>0</td>\n",
              "      <td>0</td>\n",
              "      <td>0</td>\n",
              "    </tr>\n",
              "  </tbody>\n",
              "</table>\n",
              "</div>"
            ],
            "text/plain": [
              "      movieId                                       title                     genres  (no genres listed)  Action  Adventure  Animation  Children  Comedy  Crime  Documentary  Drama  Fantasy  Film-Noir  Horror  IMAX  Musical  Mystery  Romance  Sci-Fi  Thriller  War  Western\n",
              "313   355      Flintstones, The (1994)                     Children|Comedy|Fantasy    0                   0       0          0          1         1       0      0            0      1        0          0       0     0        0        0        0       0         0    0      \n",
              "2662  3564     Flintstones in Viva Rock Vegas, The (2000)  Children|Comedy            0                   0       0          0          1         1       0      0            0      0        0          0       0     0        0        0        0       0         0    0      \n",
              "3909  5493     In Like Flint (1967)                        Action|Adventure|Comedy    0                   1       1          0          0         1       0      0            0      0        0          0       0     0        0        0        0       0         0    0      \n",
              "3910  5497     Our Man Flint (1965)                        Adventure|Comedy|Sci-Fi    0                   0       1          0          0         1       0      0            0      0        0          0       0     0        0        0        1       0         0    0      \n",
              "8717  126088   A Flintstones Christmas Carol (1994)        Animation|Children|Comedy  0                   0       0          1          1         1       0      0            0      0        0          0       0     0        0        0        0       0         0    0      \n",
              "9739  193585   Flint (2017)                                Drama                      0                   0       0          0          0         0       0      0            1      0        0          0       0     0        0        0        0       0         0    0      "
            ]
          },
          "execution_count": 22,
          "metadata": {},
          "output_type": "execute_result"
        }
      ],
      "source": [
        "get_movie_ids_by_title(\"Flint\", movies)"
      ]
    },
    {
      "cell_type": "markdown",
      "id": "ad16b282",
      "metadata": {
        "id": "ad16b282"
      },
      "source": [
        "##### Przegląd ocen i użytkowników"
      ]
    },
    {
      "cell_type": "code",
      "execution_count": null,
      "id": "9864d474",
      "metadata": {
        "id": "9864d474"
      },
      "outputs": [],
      "source": [
        "# ratings = pd.read_csv('https://s3-us-west-2.amazonaws.com/recommender-tutorial/ratings.csv')\n",
        "# movies = pd.read_csv('https://s3-us-west-2.amazonaws.com/recommender-tutorial/movies.csv')"
      ]
    },
    {
      "cell_type": "code",
      "execution_count": null,
      "id": "bf67cc9f",
      "metadata": {
        "id": "bf67cc9f",
        "outputId": "6f2b5fa0-63f0-4c66-fc16-247ffb7f7dd6"
      },
      "outputs": [
        {
          "data": {
            "text/plain": [
              "userId\n",
              "414    2698\n",
              "599    2478\n",
              "474    2108\n",
              "448    1864\n",
              "274    1346\n",
              "Name: rating, dtype: int64"
            ]
          },
          "execution_count": 23,
          "metadata": {},
          "output_type": "execute_result"
        }
      ],
      "source": [
        "# Liczba ocen wystawionych przez danego użytkownika\n",
        "\n",
        "n_rated_movies_per_user = ratings.groupby(by='userId')['rating'].count().sort_values(ascending=False)\n",
        "\n",
        "n_rated_movies_per_user.head()"
      ]
    },
    {
      "cell_type": "code",
      "execution_count": null,
      "id": "7aeec350",
      "metadata": {
        "id": "7aeec350",
        "outputId": "6c47177f-134d-4603-ea2c-197eab37968d"
      },
      "outputs": [
        {
          "data": {
            "text/html": [
              "<div>\n",
              "<style scoped>\n",
              "    .dataframe tbody tr th:only-of-type {\n",
              "        vertical-align: middle;\n",
              "    }\n",
              "\n",
              "    .dataframe tbody tr th {\n",
              "        vertical-align: top;\n",
              "    }\n",
              "\n",
              "    .dataframe thead th {\n",
              "        text-align: right;\n",
              "    }\n",
              "</style>\n",
              "<table border=\"1\" class=\"dataframe\">\n",
              "  <thead>\n",
              "    <tr style=\"text-align: right;\">\n",
              "      <th></th>\n",
              "      <th>userId</th>\n",
              "      <th>movieId</th>\n",
              "      <th>rating</th>\n",
              "    </tr>\n",
              "  </thead>\n",
              "  <tbody>\n",
              "    <tr>\n",
              "      <th>0</th>\n",
              "      <td>1</td>\n",
              "      <td>1</td>\n",
              "      <td>4.0</td>\n",
              "    </tr>\n",
              "    <tr>\n",
              "      <th>1</th>\n",
              "      <td>1</td>\n",
              "      <td>3</td>\n",
              "      <td>4.0</td>\n",
              "    </tr>\n",
              "    <tr>\n",
              "      <th>2</th>\n",
              "      <td>1</td>\n",
              "      <td>6</td>\n",
              "      <td>4.0</td>\n",
              "    </tr>\n",
              "    <tr>\n",
              "      <th>3</th>\n",
              "      <td>1</td>\n",
              "      <td>47</td>\n",
              "      <td>5.0</td>\n",
              "    </tr>\n",
              "    <tr>\n",
              "      <th>4</th>\n",
              "      <td>1</td>\n",
              "      <td>50</td>\n",
              "      <td>5.0</td>\n",
              "    </tr>\n",
              "  </tbody>\n",
              "</table>\n",
              "</div>"
            ],
            "text/plain": [
              "   userId  movieId  rating\n",
              "0  1       1        4.0   \n",
              "1  1       3        4.0   \n",
              "2  1       6        4.0   \n",
              "3  1       47       5.0   \n",
              "4  1       50       5.0   "
            ]
          },
          "execution_count": 24,
          "metadata": {},
          "output_type": "execute_result"
        }
      ],
      "source": [
        "# Usunięcie zbędnej kolumny\n",
        "ratings.drop(columns=['timestamp'], inplace=True)\n",
        "ratings.head()"
      ]
    },
    {
      "cell_type": "code",
      "execution_count": null,
      "id": "dd298432",
      "metadata": {
        "id": "dd298432",
        "outputId": "64459daa-7e24-44fd-87b1-90865f438db9"
      },
      "outputs": [
        {
          "name": "stdout",
          "output_type": "stream",
          "text": [
            "\n",
            " Liczba ocenionych filmów przekracza 30 na użytkownika : 501\n",
            "\n"
          ]
        }
      ],
      "source": [
        "print('\\n Liczba ocenionych filmów przekracza 30 na użytkownika : {}\\n'.format(sum(n_rated_movies_per_user >= 30)) )\n"
      ]
    },
    {
      "cell_type": "code",
      "execution_count": null,
      "id": "7daac7ed",
      "metadata": {
        "id": "7daac7ed",
        "outputId": "0d25fcd9-d73d-42cd-e0b8-0274f8d52354"
      },
      "outputs": [
        {
          "name": "stdout",
          "output_type": "stream",
          "text": [
            "\n",
            " Liczba ocenionych filmów nie przekracza 20 na użytkownika : 14\n",
            "\n"
          ]
        }
      ],
      "source": [
        "print('\\n Liczba ocenionych filmów nie przekracza 20 na użytkownika : {}\\n'.format(sum(n_rated_movies_per_user <= 20)) )\n"
      ]
    },
    {
      "cell_type": "code",
      "execution_count": null,
      "id": "16a6c800",
      "metadata": {
        "id": "16a6c800",
        "outputId": "934a8711-c90a-4057-d6cb-c2cc909cbc45"
      },
      "outputs": [
        {
          "name": "stdout",
          "output_type": "stream",
          "text": [
            "Film ID: 356, Tytuł: Forrest Gump (1994), Liczba ocen: 329\n",
            "Film ID: 318, Tytuł: Shawshank Redemption, The (1994), Liczba ocen: 317\n",
            "Film ID: 296, Tytuł: Pulp Fiction (1994), Liczba ocen: 307\n",
            "Film ID: 593, Tytuł: Silence of the Lambs, The (1991), Liczba ocen: 279\n",
            "Film ID: 2571, Tytuł: Matrix, The (1999), Liczba ocen: 278\n"
          ]
        }
      ],
      "source": [
        "# sprawdzenie filmów z największą liczbą ocen\n",
        "top_movies = ratings.groupby('movieId')['rating'].count().sort_values(ascending=False).head()\n",
        "\n",
        "for movie_id, rating_count in top_movies.items():\n",
        "    movie_title = movies.loc[movies['movieId'] == movie_id, 'title'].iloc[0]\n",
        "    print(f\"Film ID: {movie_id}, Tytuł: {movie_title}, Liczba ocen: {rating_count}\")"
      ]
    },
    {
      "cell_type": "code",
      "execution_count": null,
      "id": "7ac6b6bb",
      "metadata": {
        "id": "7ac6b6bb",
        "outputId": "4b45fd5e-8a82-4e50-fd88-0ec2b8db5fa8"
      },
      "outputs": [
        {
          "name": "stdout",
          "output_type": "stream",
          "text": [
            "Film ID: 193609, Tytuł: Andrew Dice Clay: Dice Rules (1991), Liczba ocen: 1\n",
            "Film ID: 4032, Tytuł: Everlasting Piece, An (2000), Liczba ocen: 1\n",
            "Film ID: 57526, Tytuł: Untraceable (2008), Liczba ocen: 1\n",
            "Film ID: 57522, Tytuł: First Sunday (2008), Liczba ocen: 1\n",
            "Film ID: 57502, Tytuł: Cat Soup (Nekojiru-so) (2001), Liczba ocen: 1\n"
          ]
        }
      ],
      "source": [
        "# filmy z najniższą liczbą ocen\n",
        "down_movies = ratings.groupby('movieId')['rating'].count().sort_values(ascending=True).head()\n",
        "down_movies\n",
        "for movie_id, rating_count in down_movies.items():\n",
        "    movie_title = movies.loc[movies['movieId'] == movie_id, 'title'].iloc[0]\n",
        "    print(f\"Film ID: {movie_id}, Tytuł: {movie_title}, Liczba ocen: {rating_count}\")\n"
      ]
    },
    {
      "cell_type": "code",
      "execution_count": null,
      "id": "a50322e8",
      "metadata": {
        "id": "a50322e8",
        "outputId": "4e1fc78d-1a76-4b65-e690-af4456dd2cf6"
      },
      "outputs": [
        {
          "name": "stdout",
          "output_type": "stream",
          "text": [
            "Liczba filmów z 1 oceną: 3446\n",
            "Liczba filmów z 2 ocenami: 1298\n",
            "Liczba filmów z 3 ocenami: 800\n"
          ]
        }
      ],
      "source": [
        "# Zliczanie liczby ocen dla każdego filmu\n",
        "movie_ratings_counts = ratings['movieId'].value_counts()\n",
        "\n",
        "# Zliczanie filmów z 1,2 i 3 ocenami\n",
        "movies_with_one_rating = (movie_ratings_counts == 1).sum()\n",
        "movies_with_two_ratings = (movie_ratings_counts == 2).sum()\n",
        "movies_with_three_ratings = (movie_ratings_counts == 3).sum()\n",
        "\n",
        "print(f\"Liczba filmów z 1 oceną: {movies_with_one_rating}\")\n",
        "print(f\"Liczba filmów z 2 ocenami: {movies_with_two_ratings}\")\n",
        "print(f\"Liczba filmów z 3 ocenami: {movies_with_three_ratings}\")\n"
      ]
    },
    {
      "cell_type": "code",
      "execution_count": null,
      "id": "b2d7b6fd",
      "metadata": {
        "id": "b2d7b6fd",
        "outputId": "356971a1-b5e9-42ce-ac08-8270d17b6789"
      },
      "outputs": [
        {
          "name": "stdout",
          "output_type": "stream",
          "text": [
            "1.287\n"
          ]
        }
      ],
      "source": [
        "print(((movies_with_two_ratings/len(merged_data['movieId']))*100).round(3))"
      ]
    },
    {
      "cell_type": "markdown",
      "id": "a8812f82",
      "metadata": {
        "id": "a8812f82"
      },
      "source": [
        "Filmy z jedną oceną stanowią $1.29\\%$ całego zbioru.\n",
        "\n",
        "`SVD` jest w stanie poradzić sobie z tym, jednak mogą one wprowadzać 'szum'."
      ]
    },
    {
      "cell_type": "code",
      "execution_count": null,
      "id": "47b0e087",
      "metadata": {
        "id": "47b0e087",
        "outputId": "fbadf162-bf36-46d0-dd34-dfa8f3516bbd"
      },
      "outputs": [
        {
          "name": "stdout",
          "output_type": "stream",
          "text": [
            "Powtarzające się tytuły filmów:\n",
            "                                       title\n",
            "650   Emma (1996)                           \n",
            "2141  Saturn 3 (1980)                       \n",
            "4169  Confessions of a Dangerous Mind (2002)\n",
            "5601  Emma (1996)                           \n",
            "5854  Eros (2004)                           \n",
            "5931  War of the Worlds (2005)              \n",
            "6932  War of the Worlds (2005)              \n",
            "9106  Confessions of a Dangerous Mind (2002)\n",
            "9135  Eros (2004)                           \n",
            "9468  Saturn 3 (1980)                       \n"
          ]
        }
      ],
      "source": [
        "# Sprawdzenie czy tytuły filmów się powtarzają\n",
        "duplicates = movies[movies.duplicated(subset=['title'], keep=False)]\n",
        "if duplicates.empty:\n",
        "    print(\"Nie ma powtarzających się tytułów filmów.\")\n",
        "else:\n",
        "    print(\"Powtarzające się tytuły filmów:\")\n",
        "    print(duplicates[['title']])\n"
      ]
    },
    {
      "cell_type": "code",
      "execution_count": null,
      "id": "b499069d",
      "metadata": {
        "id": "b499069d",
        "outputId": "6cfa0081-0f1f-44bc-f0cb-c82ad5ae5290"
      },
      "outputs": [
        {
          "name": "stdout",
          "output_type": "stream",
          "text": [
            "Nie ma powtarzających się ID filmów.\n"
          ]
        }
      ],
      "source": [
        "# Sprawdzenie czy ID filmów się powtarzają\n",
        "duplicates_id = movies[movies.duplicated(subset=['movieId'], keep=False)]\n",
        "if duplicates_id.empty:\n",
        "    print(\"Nie ma powtarzających się ID filmów.\")\n",
        "else:\n",
        "    print(\"Powtarzające się ID filmów:\")\n",
        "    print(duplicates_id[['movieId']])\n"
      ]
    },
    {
      "cell_type": "markdown",
      "id": "d8b8058d",
      "metadata": {
        "id": "d8b8058d"
      },
      "source": [
        "Kilka filmów ma ten sam tytuł ale inne ID. Zostawiam powtarzające się tytuły."
      ]
    },
    {
      "cell_type": "markdown",
      "id": "a141c8cf",
      "metadata": {
        "id": "a141c8cf"
      },
      "source": [
        "## Cross-Validation"
      ]
    },
    {
      "cell_type": "markdown",
      "id": "97e04322",
      "metadata": {
        "id": "97e04322"
      },
      "source": [
        "##### Wstępne przygotowanie danych do biblioteki 'Surprise'"
      ]
    },
    {
      "cell_type": "code",
      "execution_count": null,
      "id": "8bc16d52",
      "metadata": {
        "id": "8bc16d52"
      },
      "outputs": [],
      "source": [
        "min_rating = ratings.rating.min()\n",
        "max_rating = ratings.rating.max()\n",
        "\n",
        "reader = Reader(rating_scale=(min_rating, max_rating))\n",
        "\n",
        "data = Dataset.load_from_df(ratings[['userId', 'movieId', 'rating']], reader)\n",
        "\n",
        "trainset = data.build_full_trainset()"
      ]
    },
    {
      "cell_type": "markdown",
      "id": "3af7a98a",
      "metadata": {
        "id": "3af7a98a"
      },
      "source": [
        "Domyślne parametry modeli:\n",
        "\n",
        "    SVD(n_factors=100, n_epochs=20, biased=True, init_mean=0, init_std_dev=0.1, lr_all=0.005, reg_all=0.02, lr_bu=None, lr_bi=None, lr_pu=None, lr_qi=None, reg_bu=None, reg_bi=None, reg_pu=None, reg_qi=None, random_state=None, verbose=False)\n",
        "    \n",
        "    \n",
        "    KNNWithMeans(k=40, min_k=1, sim_options={}, verbose=True, **kwargs)"
      ]
    },
    {
      "cell_type": "code",
      "execution_count": null,
      "id": "df4894d3",
      "metadata": {
        "id": "df4894d3",
        "outputId": "8b1c965c-5f44-40bf-bed9-6a92cf080c98"
      },
      "outputs": [
        {
          "data": {
            "text/plain": [
              "<surprise.prediction_algorithms.matrix_factorization.SVD at 0x2050e96f0a0>"
            ]
          },
          "execution_count": 43,
          "metadata": {},
          "output_type": "execute_result"
        }
      ],
      "source": [
        "# train and fit SVD model\n",
        "svd = SVD()\n",
        "svd.fit(trainset)"
      ]
    },
    {
      "cell_type": "code",
      "execution_count": null,
      "id": "ed8cff04",
      "metadata": {
        "id": "ed8cff04",
        "outputId": "d218c632-262c-4240-b25e-fdc8c7c2e53f"
      },
      "outputs": [
        {
          "name": "stdout",
          "output_type": "stream",
          "text": [
            "Computing the msd similarity matrix...\n",
            "Done computing similarity matrix.\n"
          ]
        },
        {
          "data": {
            "text/plain": [
              "<surprise.prediction_algorithms.knns.KNNWithMeans at 0x20507988ee0>"
            ]
          },
          "execution_count": 37,
          "metadata": {},
          "output_type": "execute_result"
        }
      ],
      "source": [
        "# train and fit KNNWithMeans model\n",
        "kNNmean = KNNWithMeans()\n",
        "kNNmean.fit(trainset)"
      ]
    },
    {
      "cell_type": "code",
      "execution_count": null,
      "id": "85ce7333",
      "metadata": {
        "id": "85ce7333",
        "outputId": "66cae144-da91-4416-8b21-80cbfda4ffb5"
      },
      "outputs": [
        {
          "name": "stdout",
          "output_type": "stream",
          "text": [
            "Computing the msd similarity matrix...\n",
            "Done computing similarity matrix.\n",
            "Computing the msd similarity matrix...\n",
            "Done computing similarity matrix.\n",
            "Computing the msd similarity matrix...\n",
            "Done computing similarity matrix.\n",
            "Computing the msd similarity matrix...\n",
            "Done computing similarity matrix.\n",
            "Computing the msd similarity matrix...\n",
            "Done computing similarity matrix.\n",
            "Computing the msd similarity matrix...\n",
            "Done computing similarity matrix.\n",
            "Computing the msd similarity matrix...\n",
            "Done computing similarity matrix.\n",
            "Computing the msd similarity matrix...\n",
            "Done computing similarity matrix.\n",
            "Computing the msd similarity matrix...\n",
            "Done computing similarity matrix.\n",
            "Computing the msd similarity matrix...\n",
            "Done computing similarity matrix.\n"
          ]
        },
        {
          "data": {
            "text/html": [
              "<div>\n",
              "<style scoped>\n",
              "    .dataframe tbody tr th:only-of-type {\n",
              "        vertical-align: middle;\n",
              "    }\n",
              "\n",
              "    .dataframe tbody tr th {\n",
              "        vertical-align: top;\n",
              "    }\n",
              "\n",
              "    .dataframe thead th {\n",
              "        text-align: right;\n",
              "    }\n",
              "</style>\n",
              "<table border=\"1\" class=\"dataframe\">\n",
              "  <thead>\n",
              "    <tr style=\"text-align: right;\">\n",
              "      <th></th>\n",
              "      <th>test_rmse</th>\n",
              "      <th>test_mae</th>\n",
              "      <th>fit_time</th>\n",
              "      <th>test_time</th>\n",
              "    </tr>\n",
              "    <tr>\n",
              "      <th>Algorithm</th>\n",
              "      <th></th>\n",
              "      <th></th>\n",
              "      <th></th>\n",
              "      <th></th>\n",
              "    </tr>\n",
              "  </thead>\n",
              "  <tbody>\n",
              "    <tr>\n",
              "      <th>SVD</th>\n",
              "      <td>0.868349</td>\n",
              "      <td>0.66638</td>\n",
              "      <td>1.446081</td>\n",
              "      <td>0.115279</td>\n",
              "    </tr>\n",
              "    <tr>\n",
              "      <th>KNNWithMeans</th>\n",
              "      <td>0.892419</td>\n",
              "      <td>0.68162</td>\n",
              "      <td>0.344927</td>\n",
              "      <td>0.961028</td>\n",
              "    </tr>\n",
              "  </tbody>\n",
              "</table>\n",
              "</div>"
            ],
            "text/plain": [
              "              test_rmse  test_mae  fit_time  test_time\n",
              "Algorithm                                             \n",
              "SVD           0.868349   0.66638   1.446081  0.115279 \n",
              "KNNWithMeans  0.892419   0.68162   0.344927  0.961028 "
            ]
          },
          "execution_count": 38,
          "metadata": {},
          "output_type": "execute_result"
        }
      ],
      "source": [
        "# Cross-Validation\n",
        "benchmark = []\n",
        "# iterate over all algorithms\n",
        "for algorithm in [svd, kNNmean]:\n",
        "\n",
        "    results = cross_validate(algorithm, data, measures=['RMSE', 'MAE'], cv=10, verbose=False)\n",
        "\n",
        "    # get results & create a new DF row\n",
        "    algorithm_name = str(algorithm).split(' ')[0].split('.')[-1]\n",
        "    tmp = pd.DataFrame.from_dict(results).mean(axis=0)\n",
        "    tmp['Algorithm'] = algorithm_name\n",
        "    benchmark.append(tmp)\n",
        "\n",
        "# create a DF from the benchmark list\n",
        "benchmark_df = pd.DataFrame(benchmark).set_index('Algorithm').sort_values('test_rmse')\n",
        "benchmark_df\n"
      ]
    },
    {
      "cell_type": "markdown",
      "id": "b18b1523",
      "metadata": {
        "id": "b18b1523"
      },
      "source": [
        "Na domyślnych parametrach lepszym wyborem jest model `SVD`."
      ]
    },
    {
      "cell_type": "markdown",
      "id": "f656495f",
      "metadata": {
        "id": "f656495f"
      },
      "source": [
        "#### Hiperparametryzacja"
      ]
    },
    {
      "cell_type": "code",
      "execution_count": null,
      "id": "f64387db",
      "metadata": {
        "id": "f64387db",
        "outputId": "c8d32b02-1337-411e-ea0d-5800f1370f21"
      },
      "outputs": [
        {
          "name": "stdout",
          "output_type": "stream",
          "text": [
            "MAE Best Score:       0.6813787949606299\n",
            "\n",
            "RMSE Best Score:      0.8985195878216619\n",
            "\n",
            "Best Parameters: {'k': 6, 'sim_options': {'name': 'pearson_baseline', 'user_based': False}}\n"
          ]
        }
      ],
      "source": [
        "# Hyperparameter tuning - KNNWithMeans\n",
        "param_grid = {\n",
        "    'k': [2, 3, 4, 5, 6],\n",
        "    'sim_options': {\n",
        "        'name': ['cosine', 'pearson', 'pearson_baseline'],\n",
        "        'user_based': [True, False],\n",
        "    }\n",
        "}\n",
        "\n",
        "\n",
        "grid_search_KNNWithMeans = GridSearchCV(KNNWithMeans, param_grid, measures=['mae', 'rmse'], \\\n",
        "                                      cv=10, n_jobs=-1)\n",
        "\n",
        "grid_search_KNNWithMeans.fit(data)\n",
        "\n",
        "print(f'MAE Best Score:       {grid_search_KNNWithMeans.best_score[\"mae\"]}\\n')\n",
        "print(f'RMSE Best Score:      {grid_search_KNNWithMeans.best_score[\"rmse\"]}\\n')\n",
        "print(f'Best Parameters: {grid_search_KNNWithMeans.best_params[\"rmse\"]}')\n"
      ]
    },
    {
      "cell_type": "code",
      "execution_count": null,
      "id": "e8da2b98",
      "metadata": {
        "id": "e8da2b98",
        "outputId": "f4638432-dfd7-4e31-a9f0-42aac29b5a69"
      },
      "outputs": [
        {
          "name": "stdout",
          "output_type": "stream",
          "text": [
            "Best RMSE score: 0.848886435886724\n",
            "Best MAE score: 0.6503793898760627\n",
            "Best parameters: {'n_factors': 150, 'n_epochs': 30, 'lr_all': 0.008, 'reg_all': 0.06}\n"
          ]
        }
      ],
      "source": [
        "\n",
        "param_grid = {\n",
        "    'n_factors': [50, 100, 150],\n",
        "    'n_epochs': [10, 20, 30],\n",
        "    'lr_all': [0.002, 0.005, 0.008],\n",
        "    'reg_all': [0.02, 0.04, 0.06]\n",
        "}\n",
        "\n",
        "# Inicjalizacja modelu SVD\n",
        "svd = SVD()\n",
        "\n",
        "# Inicjalizacja grid search\n",
        "grid_search_SVD = GridSearchCV(SVD, param_grid, measures=['rmse', 'mae'], cv=10)\n",
        "\n",
        "# Przeszukiwanie siatki hiperparametrów\n",
        "grid_search_SVD.fit(data)\n",
        "\n",
        "# Wydrukowanie najlepszych wyników\n",
        "print(\"Best RMSE score:\", grid_search_SVD.best_score['rmse'])\n",
        "print(\"Best MAE score:\", grid_search_SVD.best_score['mae'])\n",
        "print(\"Best parameters:\", grid_search_SVD.best_params['rmse'])\n"
      ]
    },
    {
      "cell_type": "code",
      "execution_count": null,
      "id": "7a04a16a",
      "metadata": {
        "id": "7a04a16a"
      },
      "outputs": [],
      "source": [
        "params_knn = grid_search_KNNWithMeans.best_params['rmse']\n",
        "\n",
        "params_svd = grid_search_SVD.best_params['rmse']"
      ]
    },
    {
      "cell_type": "code",
      "execution_count": null,
      "id": "6fc533a9",
      "metadata": {
        "id": "6fc533a9",
        "outputId": "fc9b2fd6-db1a-4a7d-d627-55445ae49521"
      },
      "outputs": [
        {
          "data": {
            "text/plain": [
              "{'k': 6, 'sim_options': {'name': 'pearson_baseline', 'user_based': False}}"
            ]
          },
          "execution_count": 59,
          "metadata": {},
          "output_type": "execute_result"
        }
      ],
      "source": [
        "params_knn"
      ]
    },
    {
      "cell_type": "code",
      "execution_count": null,
      "id": "7ab74e16",
      "metadata": {
        "id": "7ab74e16",
        "outputId": "4a5e5587-81c4-4be8-f8b8-93517b11d885"
      },
      "outputs": [
        {
          "data": {
            "text/plain": [
              "{'n_factors': 150, 'n_epochs': 30, 'lr_all': 0.008, 'reg_all': 0.06}"
            ]
          },
          "execution_count": 48,
          "metadata": {},
          "output_type": "execute_result"
        }
      ],
      "source": [
        "params_svd"
      ]
    },
    {
      "cell_type": "code",
      "execution_count": null,
      "id": "e11eec80",
      "metadata": {
        "id": "e11eec80",
        "outputId": "83edcab3-be86-459e-bef3-11cad39e6ab2"
      },
      "outputs": [
        {
          "name": "stdout",
          "output_type": "stream",
          "text": [
            "Estimating biases using als...\n",
            "Computing the pearson_baseline similarity matrix...\n",
            "Done computing similarity matrix.\n"
          ]
        },
        {
          "data": {
            "text/plain": [
              "<surprise.prediction_algorithms.knns.KNNWithMeans at 0x14723a0b460>"
            ]
          },
          "execution_count": 12,
          "metadata": {},
          "output_type": "execute_result"
        }
      ],
      "source": [
        "# train and fit models with hyperparameters\n",
        "sim_options = {\n",
        "        \"k\": 6,\n",
        "        \"name\": \"pearson_baseline\",\n",
        "        \"user_based\": False,\n",
        "    }\n",
        "\n",
        "kNNmean = KNNWithMeans(sim_options=sim_options)\n",
        "kNNmean.fit(trainset)"
      ]
    },
    {
      "cell_type": "code",
      "execution_count": null,
      "id": "86bb03f5",
      "metadata": {
        "id": "86bb03f5",
        "outputId": "5c787c69-8be5-4019-da6e-aca5bc946038"
      },
      "outputs": [
        {
          "data": {
            "text/plain": [
              "<surprise.prediction_algorithms.matrix_factorization.SVD at 0x14723a758d0>"
            ]
          },
          "execution_count": 14,
          "metadata": {},
          "output_type": "execute_result"
        }
      ],
      "source": [
        "params_svd = {'n_factors': 150, 'n_epochs': 30, 'lr_all': 0.008, 'reg_all': 0.06}\n",
        "\n",
        "svd = SVD(n_factors=params_svd['n_factors'], n_epochs=params_svd['n_epochs'],\n",
        "          lr_all=params_svd['lr_all'], reg_all=params_svd['reg_all'])\n",
        "\n",
        "svd.fit(trainset)"
      ]
    },
    {
      "cell_type": "markdown",
      "id": "41ffc868",
      "metadata": {
        "id": "41ffc868"
      },
      "source": [
        "Po hiperparametryzacji również algorytm `SVD` uzyskał lepsze wyniki."
      ]
    },
    {
      "cell_type": "markdown",
      "id": "7a838ae0",
      "metadata": {
        "id": "7a838ae0"
      },
      "source": [
        "### SVD"
      ]
    },
    {
      "cell_type": "code",
      "execution_count": null,
      "id": "8182a3cf",
      "metadata": {
        "id": "8182a3cf"
      },
      "outputs": [],
      "source": [
        "# #USER-BASED\n",
        "# def get_recommendations_svd(ratings_df, movies_df, n, movie_id):\n",
        "#     \"\"\"\n",
        "#     Generates movie recommendations for users based on their ratings using the SVD algorithm.\n",
        "\n",
        "#     This function is user-focused. It takes a movie ID and recommends other movies that might be liked\n",
        "#     by users who rated the given movie highly.\n",
        "#     It does this by predicting ratings for all users for the given movie, selecting the users who\n",
        "#     have the highest predicted ratings, and then recommending other movies that these users have rated highly.\n",
        "\n",
        "#     Args:\n",
        "#         ratings_df: pandas DataFrame containing user ratings for movies, containing 'userId', 'movieId', 'rating' columns\n",
        "#         movies_df: pandas DataFrame containing information about movies, containing 'movieId', 'title' columns\n",
        "#         n: number of films to be recommended\n",
        "#         movie_id: identifier of the film for which recommendations are generated\n",
        "\n",
        "#     Returns:\n",
        "#         recommended_titles: List of titles of recommended films\n",
        "#     \"\"\"\n",
        "\n",
        "#     # Create a Surprise reader and load data\n",
        "#     reader = Reader(rating_scale=(0.5, 5))\n",
        "#     data = Dataset.load_from_df(ratings_df[['userId', 'movieId', 'rating']], reader)\n",
        "\n",
        "#     # Build the trainset\n",
        "#     trainset = data.build_full_trainset()\n",
        "\n",
        "#     # Initialize the SVD model\n",
        "#     model = SVD(random_state=0)\n",
        "\n",
        "#     # Fit the model to the data\n",
        "#     model.fit(trainset)\n",
        "\n",
        "#     # Get movie title and genres for the selected movie\n",
        "#     movie_info = movies_df[movies_df['movieId'] == movie_id]\n",
        "#     movie_title = movie_info['title'].values[0]\n",
        "#     movie_genres = movie_info['genres'].values[0]\n",
        "\n",
        "#     # Create a DataFrame with all user IDs and the given movie ID\n",
        "#     all_user_ids = ratings_df['userId'].unique()\n",
        "#     users_who_rated_movie = pd.DataFrame({\n",
        "#         'userId': all_user_ids,\n",
        "#         'movieId': [movie_id] * len(all_user_ids),\n",
        "#         'rating': [0] * len(all_user_ids)\n",
        "#     })\n",
        "\n",
        "#     # Predict ratings for users who have rated the given movie\n",
        "#     users_who_rated_movie['predicted_rating'] = users_who_rated_movie['userId'].apply(\n",
        "#         lambda x: model.predict(x, movie_id).est\n",
        "#     )\n",
        "\n",
        "#     # Sort users by predicted ratings\n",
        "#     recommended_users = users_who_rated_movie.sort_values(by='predicted_rating', ascending=False).head(n)\n",
        "\n",
        "#     # Get recommended movie titles (excluding the input movie)\n",
        "#     recommended_titles = ratings_df[\n",
        "#         (ratings_df['userId'].isin(recommended_users['userId'])) & (ratings_df['movieId'] != movie_id)\n",
        "#     ].merge(movies_df, on='movieId')['title'].unique()[:n]\n",
        "\n",
        "#     return recommended_titles\n"
      ]
    },
    {
      "cell_type": "code",
      "execution_count": null,
      "id": "27fdc838",
      "metadata": {
        "id": "27fdc838"
      },
      "outputs": [],
      "source": [
        "def get_similar_movies_svd(movie_id, n):\n",
        "\n",
        "    \"\"\"\n",
        "    Finds other movies that are similar to the given movie based on their latent factors in the SVD model.\n",
        "\n",
        "    This function is item-focused. It takes a movie ID and finds other movies that are similar to the given\n",
        "    movie based on their latent factors in the SVD model.\n",
        "    It computes the cosine similarity between the latent factors of the given movie and all other movies,\n",
        "    and returns the movies with the highest similarity scores.\n",
        "\n",
        "    Args:\n",
        "        movie_id: Identifier of the film for which similar movies are to be found\n",
        "        n: Number of similar films to be found\n",
        "\n",
        "    Returns:\n",
        "        recommended_titles: List of titles of recommended films\n",
        "    \"\"\"\n",
        "\n",
        "    trainset = data.build_full_trainset()\n",
        "\n",
        "    # get latent factors for the specified movie\n",
        "    movie_factors = svd.qi[svd.trainset.to_inner_iid(movie_id)]\n",
        "\n",
        "    # Compute cosine similarity between the specified movie and all other movies\n",
        "    similarities = cosine_similarity([movie_factors], svd.qi)\n",
        "\n",
        "    # Get indices of top similar movies\n",
        "    similar_movie_indices = np.argsort(similarities[0])[-n-1:-1][::-1]\n",
        "\n",
        "    # Construct a list of similar movies\n",
        "    similar_movies = []\n",
        "    for idx in similar_movie_indices:\n",
        "        similar_movie_id = svd.trainset.to_raw_iid(idx)\n",
        "        similar_movie_name = movies[movies['movieId'] == similar_movie_id]['title'].iloc[0]\n",
        "        similar_movies.append(similar_movie_name)\n",
        "\n",
        "    return similar_movies\n"
      ]
    },
    {
      "cell_type": "code",
      "execution_count": null,
      "id": "4946a104",
      "metadata": {
        "id": "4946a104",
        "outputId": "ac08511c-56ad-41d5-e09a-67c4ab0cec50"
      },
      "outputs": [
        {
          "name": "stdout",
          "output_type": "stream",
          "text": [
            "Because you watched Jumanji (1995) (Adventure, Children, Fantasy):\n",
            "\n",
            "* Back to the Future Part III (1990) (Adventure, Comedy, Sci-Fi, Western)\n",
            "* Broken Arrow (1996) (Action, Adventure, Thriller)\n",
            "* Saint Ralph (2004) (Comedy, Drama)\n",
            "* Back to the Future Part II (1989) (Adventure, Comedy, Sci-Fi)\n",
            "* Mrs. Doubtfire (1993) (Comedy, Drama)\n"
          ]
        }
      ],
      "source": [
        "# ITEM BASED\n",
        "# define which movie ID that we want to give recommendation\n",
        "movie_id = 2\n",
        "# how many similar movies return\n",
        "n = 5\n",
        "\n",
        "# get movie title and genres for the selected movie\n",
        "movie_info = movies[movies['movieId'] == movie_id]\n",
        "movie_title = movie_info['title'].values[0]\n",
        "movie_genres = movie_info['genres'].values[0]\n",
        "\n",
        "# get recommended titles\n",
        "recommended_titles = get_similar_movies_svd(movie_id, n)\n",
        "\n",
        "print(f'Because you watched {movie_title} ({\", \".join(movie_genres.split(\"|\"))}):\\n')\n",
        "for title in recommended_titles:\n",
        "    recommended_movie_info = movies[movies['title'] == title]\n",
        "    if not recommended_movie_info.empty:\n",
        "        recommended_genres = recommended_movie_info['genres'].values[0]\n",
        "        print(f'* {title} ({\", \".join(recommended_genres.split(\"|\"))})')\n",
        "    else:\n",
        "        print(f'* {title}')\n"
      ]
    },
    {
      "cell_type": "code",
      "execution_count": null,
      "id": "667cc282",
      "metadata": {
        "id": "667cc282",
        "outputId": "cca6b0f0-1b5c-4e2b-f6db-97b048680b90"
      },
      "outputs": [
        {
          "name": "stdout",
          "output_type": "stream",
          "text": [
            "Because you watched Flint (2017) (Drama):\n",
            "\n",
            "* My Scientology Movie (2016) (Documentary)\n",
            "* Three Burials of Melquiades Estrada, The (2006) (Adventure, Crime, Drama)\n",
            "* Peter Pan (2003) (Action, Adventure, Children, Fantasy)\n",
            "* Bubba Ho-tep (2002) (Comedy, Horror)\n",
            "* Stepfather, The (1987) (Horror, Thriller)\n"
          ]
        }
      ],
      "source": [
        "# ITEM BASED\n",
        "# define which movie ID that we want to give recommendation\n",
        "movie_id = 193585\n",
        "# how many similar movies return\n",
        "n = 5\n",
        "\n",
        "# get movie title and genres for the selected movie\n",
        "movie_info = movies[movies['movieId'] == movie_id]\n",
        "movie_title = movie_info['title'].values[0]\n",
        "movie_genres = movie_info['genres'].values[0]\n",
        "\n",
        "# get recommended titles\n",
        "recommended_titles = get_similar_movies_svd(movie_id, n)\n",
        "\n",
        "print(f'Because you watched {movie_title} ({\", \".join(movie_genres.split(\"|\"))}):\\n')\n",
        "for title in recommended_titles:\n",
        "    recommended_movie_info = movies[movies['title'] == title]\n",
        "    if not recommended_movie_info.empty:\n",
        "        recommended_genres = recommended_movie_info['genres'].values[0]\n",
        "        print(f'* {title} ({\", \".join(recommended_genres.split(\"|\"))})')\n",
        "    else:\n",
        "        print(f'* {title}')\n"
      ]
    },
    {
      "cell_type": "markdown",
      "id": "e37f1c9b",
      "metadata": {
        "id": "e37f1c9b"
      },
      "source": [
        "### kNNwithMeans"
      ]
    },
    {
      "cell_type": "code",
      "execution_count": null,
      "id": "18fd3681",
      "metadata": {
        "id": "18fd3681"
      },
      "outputs": [],
      "source": [
        "# DZIAŁA! SPRAWDZIĆ DLACZEGO!!\n",
        "def recommend_movies_knn(movie_id, n_neighbors):\n",
        "\n",
        "    '''\n",
        "    Function to recommend movies based on kNN algorithm with averages.\n",
        "\n",
        "    Args:\n",
        "        movie_id: ID of the movie for which we want to find similar movies\n",
        "        n_neighbors: The number of movies to recommend\n",
        "\n",
        "    Returns:\n",
        "        Message: List of movie recommendations based on similarity to the reference movie.\n",
        "    '''\n",
        "\n",
        "    # Konwersja raw_id na inner_id\n",
        "    inner_id = kNNmean.trainset.to_inner_iid(movie_id)\n",
        "\n",
        "    # Znalezienie najbliższych sąsiadów filmu\n",
        "    neighbors = kNNmean.get_neighbors(inner_id, k=n_neighbors)\n",
        "\n",
        "    # Wypisanie tytułów n najbliższych sąsiadów\n",
        "    movie_info = movies[movies['movieId'] == movie_id]\n",
        "    movie_title = movie_info['title'].values[0]\n",
        "    movie_genres = movie_info['genres'].values[0]\n",
        "\n",
        "    print(f'Because you watched {movie_title} ({\", \".join(movie_genres.split(\"|\"))}):\\n')\n",
        "    for neighbor in neighbors:\n",
        "        recommended_movie_info = movies[movies['movieId'] == kNNmean.trainset.to_raw_iid(neighbor)]\n",
        "        if not recommended_movie_info.empty:\n",
        "            recommended_title = recommended_movie_info['title'].values[0]\n",
        "            recommended_genres = recommended_movie_info['genres'].values[0]\n",
        "            print(f'* {recommended_title} ({\", \".join(recommended_genres.split(\"|\"))})')\n",
        "        else:\n",
        "            print(f'* {recommended_title}')\n"
      ]
    },
    {
      "cell_type": "code",
      "execution_count": null,
      "id": "7a00ae84",
      "metadata": {
        "id": "7a00ae84",
        "outputId": "fc7472d8-57d4-4356-8571-261fc7bd53d9"
      },
      "outputs": [
        {
          "name": "stdout",
          "output_type": "stream",
          "text": [
            "Because you watched Jumanji (1995) (Adventure, Children, Fantasy):\n",
            "\n",
            "* Mrs. Doubtfire (1993) (Comedy, Drama)\n",
            "* Mask, The (1994) (Action, Comedy, Crime, Fantasy)\n",
            "* Back to the Future (1985) (Adventure, Comedy, Sci-Fi)\n",
            "* Liar Liar (1997) (Comedy)\n",
            "* True Lies (1994) (Action, Adventure, Comedy, Romance, Thriller)\n",
            "* Casper (1995) (Adventure, Children)\n"
          ]
        }
      ],
      "source": [
        "# Jumanji\n",
        "recommend_movies_knn(2, 6)"
      ]
    },
    {
      "cell_type": "code",
      "execution_count": null,
      "id": "928acfe1",
      "metadata": {
        "id": "928acfe1",
        "outputId": "48e01941-aa27-4c38-abf9-4e23af82deb8"
      },
      "outputs": [
        {
          "name": "stdout",
          "output_type": "stream",
          "text": [
            "Because you watched Flint (2017) (Drama):\n",
            "\n",
            "* Toy Story (1995) (Adventure, Animation, Children, Comedy, Fantasy)\n",
            "* Grumpier Old Men (1995) (Comedy, Romance)\n",
            "* Heat (1995) (Action, Crime, Thriller)\n",
            "* Seven (a.k.a. Se7en) (1995) (Mystery, Thriller)\n",
            "* Usual Suspects, The (1995) (Crime, Mystery, Thriller)\n",
            "* From Dusk Till Dawn (1996) (Action, Comedy, Horror, Thriller)\n"
          ]
        }
      ],
      "source": [
        "# Flint\n",
        "recommend_movies_knn(193585, 6)"
      ]
    },
    {
      "cell_type": "markdown",
      "id": "476fb862",
      "metadata": {
        "id": "476fb862"
      },
      "source": [
        "## Rekomendacje"
      ]
    },
    {
      "cell_type": "markdown",
      "id": "210f30a2",
      "metadata": {
        "id": "210f30a2"
      },
      "source": [
        "### SVD\n",
        "\n",
        "| Rekomendacje dla Jumanji (1995) (Adventure, Children, Fantasy): | |\n",
        "|---|---|\n",
        "| Back to the Future Part III (1990) | Adventure, Comedy, Sci-Fi, Western |\n",
        "| Broken Arrow (1996) | Action, Adventure, Thriller |\n",
        "| Saint Ralph (2004) | Comedy, Drama |\n",
        "| Back to the Future Part II (1989) | Adventure, Comedy, Sci-Fi |\n",
        "| Mrs. Doubtfire (1993) | Comedy, Drama |\n",
        "\n",
        "\n",
        "| Rekomendacje dla Flint (2017) (Drama): | |\n",
        "|---|---|\n",
        "| My Scientology Movie (2016) | Documentary |\n",
        "| Three Burials of Melquiades Estrada, The (2006) | Adventure, Crime, Drama |\n",
        "| Peter Pan (2003) | Action, Adventure, Children, Fantasy |\n",
        "| Bubba Ho-tep (2002) | Comedy, Horror |\n",
        "| Stepfather, The (1987) | Horror, Thriller |\n",
        "\n",
        "\n"
      ]
    },
    {
      "cell_type": "markdown",
      "id": "0b0b784e",
      "metadata": {
        "id": "0b0b784e"
      },
      "source": [
        "### kNNWithMeans\n",
        "\n",
        "| Rekomendacje dla Jumanji (1995) (Adventure, Children, Fantasy): \t | |\n",
        "|---|---|\n",
        "| Mrs. Doubtfire (1993) | Comedy, Drama |\n",
        "| Mask, The (1994) | Action, Comedy, Crime, Fantasy |\n",
        "| Back to the Future (1985) | Adventure, Comedy, Sci-Fi |\n",
        "| Liar Liar (1997) | Comedy |\n",
        "| True Lies (1994) | Action, Adventure, Comedy, Romance, Thriller |\n",
        "| Casper (1995) | Adventure, Children |\n",
        "\n",
        "\n",
        "\n",
        "| Rekomendacje dla Flint (2017) (Drama): | |\n",
        "|---|---|\n",
        "| Toy Story (1995) | Adventure, Animation, Children, Comedy, Fantasy |\n",
        "| Grumpier Old Men (1995) | Comedy, Romance |\n",
        "| Heat (1995) | Action, Crime, Thriller |\n",
        "| Seven (a.k.a. Se7en) (1995) | Mystery, Thriller |\n",
        "| Usual Suspects, The (1995) | Crime, Mystery, Thriller |\n",
        "| From Dusk Till Dawn (1996) | Action, Comedy, Horror, Thriller |\n"
      ]
    },
    {
      "cell_type": "markdown",
      "id": "6a2b118d",
      "metadata": {
        "id": "6a2b118d"
      },
      "source": [
        "## Różnica między kNNWithMeans a standardowym kNN"
      ]
    },
    {
      "cell_type": "markdown",
      "id": "3ae241c0",
      "metadata": {
        "id": "3ae241c0"
      },
      "source": [
        "#### Czym różni się algorytm kNN with means od standardowego kNN?"
      ]
    },
    {
      "cell_type": "markdown",
      "id": "5475ec3a",
      "metadata": {
        "id": "5475ec3a"
      },
      "source": [
        "**Standardowy kNN:** Standardowy algorytm kNN klasyfikuje nowy punkt danych na podstawie etykiety klasy większościowej jego k najbliższych sąsiadów w szkoleniowym zbiorze danych. Wykorzystuje metrykę odległości do pomiaru podobieństwa między nowym punktem danych a istniejącymi punktami danych. Wartość k jest hiperparametrem, który możemy wybrać na podstawie charakterystyki danych i danego problemu\n",
        "\n",
        "**kNN ze średnimi:** Jest to odmiana algorytmu kNN często używanego w filtrowaniu kolaboracyjnym w systemach rekomendacji. Kluczową różnicą jest to, że uwzględnia on średnią ocenę każdego użytkownika (lub elementu) podczas dokonywania prognozy. Pomaga to skorygować użytkowników, którzy zawsze wystawiają wysokie lub niskie oceny. Na przykład, jeśli użytkownik ma tendencję do surowego oceniania filmów, 4-gwiazdkowa ocena od niego może być równoważna 5-gwiazdkowej ocenie od bardziej łagodnego użytkownika. Odejmując średnią ocenę użytkownika przed dokonaniem prognozy, a następnie dodając ją z powrotem, algorytm kNN ze średnimi może tworzyć dokładniejsze rekomendacje.\n",
        "\n",
        "**Podsumowując** , podczas gdy oba algorytmy opierają się na koncepcji znajdowania \"sąsiadów\" w danych, standardowy algorytm kNN jest zwykle używany do zadań klasyfikacji lub regresji, podczas gdy kNN ze średnimi jest często używany w systemach rekomendacji w celu uwzględnienia stronniczości użytkownika.\n",
        "\n"
      ]
    }
  ],
  "metadata": {
    "kernelspec": {
      "display_name": "Python 3 (ipykernel)",
      "language": "python",
      "name": "python3"
    },
    "language_info": {
      "codemirror_mode": {
        "name": "ipython",
        "version": 3
      },
      "file_extension": ".py",
      "mimetype": "text/x-python",
      "name": "python",
      "nbconvert_exporter": "python",
      "pygments_lexer": "ipython3",
      "version": "3.10.11"
    },
    "colab": {
      "provenance": [],
      "include_colab_link": true
    }
  },
  "nbformat": 4,
  "nbformat_minor": 5
}