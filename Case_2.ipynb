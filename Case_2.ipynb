{
  "cells": [
    {
      "cell_type": "markdown",
      "metadata": {
        "id": "view-in-github",
        "colab_type": "text"
      },
      "source": [
        "<a href=\"https://colab.research.google.com/github/kkarolina71/ML_2024/blob/Case-2/Case_2.ipynb\" target=\"_parent\"><img src=\"https://colab.research.google.com/assets/colab-badge.svg\" alt=\"Open In Colab\"/></a>"
      ]
    },
    {
      "cell_type": "markdown",
      "id": "553520f7",
      "metadata": {
        "id": "553520f7"
      },
      "source": [
        "## Case 2 - movie recommender system"
      ]
    },
    {
      "cell_type": "markdown",
      "id": "5c661c65",
      "metadata": {
        "id": "5c661c65"
      },
      "source": [
        "1. Przegląd danych:\n",
        "\n",
        "   * Podaj liczbę filmów Sci-Fi\n",
        "   * Pokaż rozkład ocen komedii\n",
        "   * Podaj średnią ocen wszystkich filmów akcji oraz 3 filmy najwyżej ocenianych\n",
        "\n",
        "\n",
        "\n",
        "\n",
        "\n",
        "2. System rekomendacyjny\n",
        "\n",
        "   * Zbuduj system na podstawie algorytmu SVD oraz kNNwithMeans\n",
        "   * Czym różni się algorytm kNN with means od standardowego kNN?\n",
        "   * Wykorzystaj metodę hiperparametryzacji GridSearch do wyboru liczby sąsiadów od 2-6\n",
        "   * W ocenie metod wykorzystaj walidację krzyżową\n",
        "\n",
        "3. Podaj rekomendacje po obejrzeniu filmu: Jumanji  oraz Flint"
      ]
    },
    {
      "cell_type": "markdown",
      "id": "e79af605",
      "metadata": {
        "id": "e79af605"
      },
      "source": [
        "\n",
        "**[Ogólny przegląd danych](#Ogólny-przegląd-danych)**\n",
        "<br>\n",
        "  *  [1. Liczba filmów Sci-Fi](#1.-Liczba-filmów-Sci-Fi)\n",
        "<br>\n",
        "  *  [2. Pokaż rozkład ocen komedii](#2.-Pokaż-rozkład-ocen-komedii)\n",
        "<br>\n",
        "  *  [3. Podaj średnią ocen wszystkich filmów akcji oraz 3 filmy najwyżej ocenianych](#3.-Podaj-średnią-ocen-wszystkich-filmów-akcji-oraz-3-filmy-najwyżej-ocenianych)\n",
        "<br>\n",
        "\n",
        "**[System rekomendacyjny](#System-rekomendacyjny)**\n",
        " <br>\n",
        "  * [Znajdź ID filmu po tytule](#Znajdź-ID-filmu-po-tytule)\n",
        " <br>\n",
        "  * [Cross-Validation](#Cross-Validation)\n",
        " <br>\n",
        "  * [Hiperparametryzacja](#Hiperparametryzacja)\n",
        " <br>\n",
        "  * [SVD](#SVD)\n",
        " <br>\n",
        "  * [kNNwithMeans](#kNNwithMeans)\n",
        " <br>\n",
        "  * [Rekomendacje](#Rekomendacje)\n",
        "  <br>\n",
        "  * [Różnica między kNNWithMeans a standardowym kNN](#Różnica-między-kNNWithMeans-a-standardowym-kNN)\n"
      ]
    },
    {
      "cell_type": "markdown",
      "id": "8b4ea7c6",
      "metadata": {
        "id": "8b4ea7c6"
      },
      "source": [
        "## Biblioteki"
      ]
    },
    {
      "cell_type": "code",
      "execution_count": null,
      "id": "f3c32bb5",
      "metadata": {
        "id": "f3c32bb5"
      },
      "outputs": [],
      "source": [
        "import pandas as pd\n",
        "import matplotlib.pyplot as plt\n",
        "import seaborn as sns\n",
        "import numpy as np\n",
        "\n",
        "from surprise.model_selection import cross_validate, GridSearchCV, train_test_split\n",
        "from surprise.prediction_algorithms import SVD, KNNWithMeans\n",
        "from surprise.dataset import DatasetAutoFolds\n",
        "from surprise import (\n",
        "    Dataset,\n",
        "    Reader,\n",
        "    accuracy,\n",
        ")\n",
        "\n",
        "from sklearn.metrics.pairwise import cosine_similarity\n",
        "\n",
        "\n",
        "from scipy.sparse import csr_matrix\n",
        "from sklearn.neighbors import NearestNeighbors\n",
        "\n",
        "pd.set_option('display.max_colwidth', None) #  show full title\n",
        "pd.set_option('display.max_columns', None)  # display any number of columns\n",
        "pd.set_option('display.expand_frame_repr', False)  # prevent line breaking\n",
        "pd.set_option('max_colwidth', 1)  # display full column content"
      ]
    },
    {
      "cell_type": "code",
      "execution_count": null,
      "id": "47ab97d6",
      "metadata": {
        "id": "47ab97d6"
      },
      "outputs": [],
      "source": [
        "ratings = pd.read_csv('https://s3-us-west-2.amazonaws.com/recommender-tutorial/ratings.csv')\n",
        "movies = pd.read_csv('https://s3-us-west-2.amazonaws.com/recommender-tutorial/movies.csv')"
      ]
    },
    {
      "cell_type": "markdown",
      "id": "c1f18723",
      "metadata": {
        "id": "c1f18723"
      },
      "source": [
        "### Ogólny przegląd danych"
      ]
    },
    {
      "cell_type": "code",
      "execution_count": null,
      "id": "a1b180db",
      "metadata": {
        "id": "a1b180db",
        "outputId": "d2b86c7d-bc21-4004-d1a4-57d463293af7"
      },
      "outputs": [
        {
          "name": "stdout",
          "output_type": "stream",
          "text": [
            "\n",
            "Całkowita liczba ocen : 100836\n",
            "Całkowita liczba użytkowników   : 610\n",
            "Całkowita liczba filmów  : 9742\n"
          ]
        }
      ],
      "source": [
        "print(\"\\nCałkowita liczba ocen :\",ratings.shape[0])\n",
        "print(\"Całkowita liczba użytkowników   :\", len(np.unique(ratings.userId)))\n",
        "print(\"Całkowita liczba filmów  :\", len(np.unique(movies.movieId)))"
      ]
    },
    {
      "cell_type": "code",
      "execution_count": null,
      "id": "bd716cb3",
      "metadata": {
        "id": "bd716cb3",
        "outputId": "dd88ca45-ba6b-4a84-a4f3-4c01afd5a175"
      },
      "outputs": [
        {
          "data": {
            "text/html": [
              "<div>\n",
              "<style scoped>\n",
              "    .dataframe tbody tr th:only-of-type {\n",
              "        vertical-align: middle;\n",
              "    }\n",
              "\n",
              "    .dataframe tbody tr th {\n",
              "        vertical-align: top;\n",
              "    }\n",
              "\n",
              "    .dataframe thead th {\n",
              "        text-align: right;\n",
              "    }\n",
              "</style>\n",
              "<table border=\"1\" class=\"dataframe\">\n",
              "  <thead>\n",
              "    <tr style=\"text-align: right;\">\n",
              "      <th></th>\n",
              "      <th>userId</th>\n",
              "      <th>movieId</th>\n",
              "      <th>rating</th>\n",
              "      <th>timestamp</th>\n",
              "    </tr>\n",
              "  </thead>\n",
              "  <tbody>\n",
              "    <tr>\n",
              "      <th>0</th>\n",
              "      <td>1</td>\n",
              "      <td>1</td>\n",
              "      <td>4.0</td>\n",
              "      <td>964982703</td>\n",
              "    </tr>\n",
              "    <tr>\n",
              "      <th>1</th>\n",
              "      <td>1</td>\n",
              "      <td>3</td>\n",
              "      <td>4.0</td>\n",
              "      <td>964981247</td>\n",
              "    </tr>\n",
              "    <tr>\n",
              "      <th>2</th>\n",
              "      <td>1</td>\n",
              "      <td>6</td>\n",
              "      <td>4.0</td>\n",
              "      <td>964982224</td>\n",
              "    </tr>\n",
              "    <tr>\n",
              "      <th>3</th>\n",
              "      <td>1</td>\n",
              "      <td>47</td>\n",
              "      <td>5.0</td>\n",
              "      <td>964983815</td>\n",
              "    </tr>\n",
              "    <tr>\n",
              "      <th>4</th>\n",
              "      <td>1</td>\n",
              "      <td>50</td>\n",
              "      <td>5.0</td>\n",
              "      <td>964982931</td>\n",
              "    </tr>\n",
              "  </tbody>\n",
              "</table>\n",
              "</div>"
            ],
            "text/plain": [
              "   userId  movieId  rating  timestamp\n",
              "0  1       1        4.0     964982703\n",
              "1  1       3        4.0     964981247\n",
              "2  1       6        4.0     964982224\n",
              "3  1       47       5.0     964983815\n",
              "4  1       50       5.0     964982931"
            ]
          },
          "execution_count": 4,
          "metadata": {},
          "output_type": "execute_result"
        }
      ],
      "source": [
        "ratings.head()"
      ]
    },
    {
      "cell_type": "code",
      "execution_count": null,
      "id": "a1887974",
      "metadata": {
        "id": "a1887974",
        "outputId": "8ffa21ae-63d4-4849-f79a-1970b5d3f660"
      },
      "outputs": [
        {
          "data": {
            "text/html": [
              "<div>\n",
              "<style scoped>\n",
              "    .dataframe tbody tr th:only-of-type {\n",
              "        vertical-align: middle;\n",
              "    }\n",
              "\n",
              "    .dataframe tbody tr th {\n",
              "        vertical-align: top;\n",
              "    }\n",
              "\n",
              "    .dataframe thead th {\n",
              "        text-align: right;\n",
              "    }\n",
              "</style>\n",
              "<table border=\"1\" class=\"dataframe\">\n",
              "  <thead>\n",
              "    <tr style=\"text-align: right;\">\n",
              "      <th></th>\n",
              "      <th>movieId</th>\n",
              "      <th>title</th>\n",
              "      <th>genres</th>\n",
              "    </tr>\n",
              "  </thead>\n",
              "  <tbody>\n",
              "    <tr>\n",
              "      <th>0</th>\n",
              "      <td>1</td>\n",
              "      <td>Toy Story (1995)</td>\n",
              "      <td>Adventure|Animation|Children|Comedy|Fantasy</td>\n",
              "    </tr>\n",
              "    <tr>\n",
              "      <th>1</th>\n",
              "      <td>2</td>\n",
              "      <td>Jumanji (1995)</td>\n",
              "      <td>Adventure|Children|Fantasy</td>\n",
              "    </tr>\n",
              "    <tr>\n",
              "      <th>2</th>\n",
              "      <td>3</td>\n",
              "      <td>Grumpier Old Men (1995)</td>\n",
              "      <td>Comedy|Romance</td>\n",
              "    </tr>\n",
              "    <tr>\n",
              "      <th>3</th>\n",
              "      <td>4</td>\n",
              "      <td>Waiting to Exhale (1995)</td>\n",
              "      <td>Comedy|Drama|Romance</td>\n",
              "    </tr>\n",
              "    <tr>\n",
              "      <th>4</th>\n",
              "      <td>5</td>\n",
              "      <td>Father of the Bride Part II (1995)</td>\n",
              "      <td>Comedy</td>\n",
              "    </tr>\n",
              "  </tbody>\n",
              "</table>\n",
              "</div>"
            ],
            "text/plain": [
              "   movieId                               title                                       genres\n",
              "0  1        Toy Story (1995)                    Adventure|Animation|Children|Comedy|Fantasy\n",
              "1  2        Jumanji (1995)                      Adventure|Children|Fantasy                 \n",
              "2  3        Grumpier Old Men (1995)             Comedy|Romance                             \n",
              "3  4        Waiting to Exhale (1995)            Comedy|Drama|Romance                       \n",
              "4  5        Father of the Bride Part II (1995)  Comedy                                     "
            ]
          },
          "execution_count": 5,
          "metadata": {},
          "output_type": "execute_result"
        }
      ],
      "source": [
        "movies.head()"
      ]
    },
    {
      "cell_type": "code",
      "execution_count": null,
      "id": "8f408e59",
      "metadata": {
        "id": "8f408e59",
        "outputId": "36de3357-ccf6-451a-9e3d-cc2c9e0f2e38"
      },
      "outputs": [
        {
          "data": {
            "text/html": [
              "<div>\n",
              "<style scoped>\n",
              "    .dataframe tbody tr th:only-of-type {\n",
              "        vertical-align: middle;\n",
              "    }\n",
              "\n",
              "    .dataframe tbody tr th {\n",
              "        vertical-align: top;\n",
              "    }\n",
              "\n",
              "    .dataframe thead th {\n",
              "        text-align: right;\n",
              "    }\n",
              "</style>\n",
              "<table border=\"1\" class=\"dataframe\">\n",
              "  <thead>\n",
              "    <tr style=\"text-align: right;\">\n",
              "      <th></th>\n",
              "      <th>userId</th>\n",
              "      <th>movieId</th>\n",
              "      <th>rating</th>\n",
              "      <th>timestamp</th>\n",
              "    </tr>\n",
              "  </thead>\n",
              "  <tbody>\n",
              "    <tr>\n",
              "      <th>count</th>\n",
              "      <td>100836.00</td>\n",
              "      <td>100836.00</td>\n",
              "      <td>100836.00</td>\n",
              "      <td>1.008360e+05</td>\n",
              "    </tr>\n",
              "    <tr>\n",
              "      <th>mean</th>\n",
              "      <td>326.13</td>\n",
              "      <td>19435.30</td>\n",
              "      <td>3.50</td>\n",
              "      <td>1.205946e+09</td>\n",
              "    </tr>\n",
              "    <tr>\n",
              "      <th>std</th>\n",
              "      <td>182.62</td>\n",
              "      <td>35530.99</td>\n",
              "      <td>1.04</td>\n",
              "      <td>2.162610e+08</td>\n",
              "    </tr>\n",
              "    <tr>\n",
              "      <th>min</th>\n",
              "      <td>1.00</td>\n",
              "      <td>1.00</td>\n",
              "      <td>0.50</td>\n",
              "      <td>8.281246e+08</td>\n",
              "    </tr>\n",
              "    <tr>\n",
              "      <th>25%</th>\n",
              "      <td>177.00</td>\n",
              "      <td>1199.00</td>\n",
              "      <td>3.00</td>\n",
              "      <td>1.019124e+09</td>\n",
              "    </tr>\n",
              "    <tr>\n",
              "      <th>50%</th>\n",
              "      <td>325.00</td>\n",
              "      <td>2991.00</td>\n",
              "      <td>3.50</td>\n",
              "      <td>1.186087e+09</td>\n",
              "    </tr>\n",
              "    <tr>\n",
              "      <th>75%</th>\n",
              "      <td>477.00</td>\n",
              "      <td>8122.00</td>\n",
              "      <td>4.00</td>\n",
              "      <td>1.435994e+09</td>\n",
              "    </tr>\n",
              "    <tr>\n",
              "      <th>max</th>\n",
              "      <td>610.00</td>\n",
              "      <td>193609.00</td>\n",
              "      <td>5.00</td>\n",
              "      <td>1.537799e+09</td>\n",
              "    </tr>\n",
              "  </tbody>\n",
              "</table>\n",
              "</div>"
            ],
            "text/plain": [
              "          userId    movieId     rating     timestamp\n",
              "count  100836.00  100836.00  100836.00  1.008360e+05\n",
              "mean   326.13     19435.30   3.50       1.205946e+09\n",
              "std    182.62     35530.99   1.04       2.162610e+08\n",
              "min    1.00       1.00       0.50       8.281246e+08\n",
              "25%    177.00     1199.00    3.00       1.019124e+09\n",
              "50%    325.00     2991.00    3.50       1.186087e+09\n",
              "75%    477.00     8122.00    4.00       1.435994e+09\n",
              "max    610.00     193609.00  5.00       1.537799e+09"
            ]
          },
          "execution_count": 6,
          "metadata": {},
          "output_type": "execute_result"
        }
      ],
      "source": [
        "ratings.describe().round(2)"
      ]
    },
    {
      "cell_type": "code",
      "execution_count": null,
      "id": "3fb49e83",
      "metadata": {
        "id": "3fb49e83",
        "outputId": "42b19c45-6778-47ec-90e3-0f641ffc14b8"
      },
      "outputs": [
        {
          "data": {
            "text/html": [
              "<div>\n",
              "<style scoped>\n",
              "    .dataframe tbody tr th:only-of-type {\n",
              "        vertical-align: middle;\n",
              "    }\n",
              "\n",
              "    .dataframe tbody tr th {\n",
              "        vertical-align: top;\n",
              "    }\n",
              "\n",
              "    .dataframe thead th {\n",
              "        text-align: right;\n",
              "    }\n",
              "</style>\n",
              "<table border=\"1\" class=\"dataframe\">\n",
              "  <thead>\n",
              "    <tr style=\"text-align: right;\">\n",
              "      <th></th>\n",
              "      <th>movieId</th>\n",
              "    </tr>\n",
              "  </thead>\n",
              "  <tbody>\n",
              "    <tr>\n",
              "      <th>count</th>\n",
              "      <td>9742.00</td>\n",
              "    </tr>\n",
              "    <tr>\n",
              "      <th>mean</th>\n",
              "      <td>42200.35</td>\n",
              "    </tr>\n",
              "    <tr>\n",
              "      <th>std</th>\n",
              "      <td>52160.49</td>\n",
              "    </tr>\n",
              "    <tr>\n",
              "      <th>min</th>\n",
              "      <td>1.00</td>\n",
              "    </tr>\n",
              "    <tr>\n",
              "      <th>25%</th>\n",
              "      <td>3248.25</td>\n",
              "    </tr>\n",
              "    <tr>\n",
              "      <th>50%</th>\n",
              "      <td>7300.00</td>\n",
              "    </tr>\n",
              "    <tr>\n",
              "      <th>75%</th>\n",
              "      <td>76232.00</td>\n",
              "    </tr>\n",
              "    <tr>\n",
              "      <th>max</th>\n",
              "      <td>193609.00</td>\n",
              "    </tr>\n",
              "  </tbody>\n",
              "</table>\n",
              "</div>"
            ],
            "text/plain": [
              "         movieId\n",
              "count  9742.00  \n",
              "mean   42200.35 \n",
              "std    52160.49 \n",
              "min    1.00     \n",
              "25%    3248.25  \n",
              "50%    7300.00  \n",
              "75%    76232.00 \n",
              "max    193609.00"
            ]
          },
          "execution_count": 7,
          "metadata": {},
          "output_type": "execute_result"
        }
      ],
      "source": [
        "movies.describe().round(2)"
      ]
    },
    {
      "cell_type": "code",
      "execution_count": null,
      "id": "10949beb",
      "metadata": {
        "id": "10949beb",
        "outputId": "5d3b58a4-daf3-4e32-d921-7cf081b5bbb6"
      },
      "outputs": [
        {
          "data": {
            "text/html": [
              "<div>\n",
              "<style scoped>\n",
              "    .dataframe tbody tr th:only-of-type {\n",
              "        vertical-align: middle;\n",
              "    }\n",
              "\n",
              "    .dataframe tbody tr th {\n",
              "        vertical-align: top;\n",
              "    }\n",
              "\n",
              "    .dataframe thead th {\n",
              "        text-align: right;\n",
              "    }\n",
              "</style>\n",
              "<table border=\"1\" class=\"dataframe\">\n",
              "  <thead>\n",
              "    <tr style=\"text-align: right;\">\n",
              "      <th></th>\n",
              "      <th>movieId</th>\n",
              "      <th>title</th>\n",
              "      <th>genres</th>\n",
              "      <th>(no genres listed)</th>\n",
              "      <th>Action</th>\n",
              "      <th>Adventure</th>\n",
              "      <th>Animation</th>\n",
              "      <th>Children</th>\n",
              "      <th>Comedy</th>\n",
              "      <th>Crime</th>\n",
              "      <th>Documentary</th>\n",
              "      <th>Drama</th>\n",
              "      <th>Fantasy</th>\n",
              "      <th>Film-Noir</th>\n",
              "      <th>Horror</th>\n",
              "      <th>IMAX</th>\n",
              "      <th>Musical</th>\n",
              "      <th>Mystery</th>\n",
              "      <th>Romance</th>\n",
              "      <th>Sci-Fi</th>\n",
              "      <th>Thriller</th>\n",
              "      <th>War</th>\n",
              "      <th>Western</th>\n",
              "    </tr>\n",
              "  </thead>\n",
              "  <tbody>\n",
              "    <tr>\n",
              "      <th>0</th>\n",
              "      <td>1</td>\n",
              "      <td>Toy Story (1995)</td>\n",
              "      <td>Adventure|Animation|Children|Comedy|Fantasy</td>\n",
              "      <td>0</td>\n",
              "      <td>0</td>\n",
              "      <td>1</td>\n",
              "      <td>1</td>\n",
              "      <td>1</td>\n",
              "      <td>1</td>\n",
              "      <td>0</td>\n",
              "      <td>0</td>\n",
              "      <td>0</td>\n",
              "      <td>1</td>\n",
              "      <td>0</td>\n",
              "      <td>0</td>\n",
              "      <td>0</td>\n",
              "      <td>0</td>\n",
              "      <td>0</td>\n",
              "      <td>0</td>\n",
              "      <td>0</td>\n",
              "      <td>0</td>\n",
              "      <td>0</td>\n",
              "      <td>0</td>\n",
              "    </tr>\n",
              "    <tr>\n",
              "      <th>1</th>\n",
              "      <td>2</td>\n",
              "      <td>Jumanji (1995)</td>\n",
              "      <td>Adventure|Children|Fantasy</td>\n",
              "      <td>0</td>\n",
              "      <td>0</td>\n",
              "      <td>1</td>\n",
              "      <td>0</td>\n",
              "      <td>1</td>\n",
              "      <td>0</td>\n",
              "      <td>0</td>\n",
              "      <td>0</td>\n",
              "      <td>0</td>\n",
              "      <td>1</td>\n",
              "      <td>0</td>\n",
              "      <td>0</td>\n",
              "      <td>0</td>\n",
              "      <td>0</td>\n",
              "      <td>0</td>\n",
              "      <td>0</td>\n",
              "      <td>0</td>\n",
              "      <td>0</td>\n",
              "      <td>0</td>\n",
              "      <td>0</td>\n",
              "    </tr>\n",
              "    <tr>\n",
              "      <th>2</th>\n",
              "      <td>3</td>\n",
              "      <td>Grumpier Old Men (1995)</td>\n",
              "      <td>Comedy|Romance</td>\n",
              "      <td>0</td>\n",
              "      <td>0</td>\n",
              "      <td>0</td>\n",
              "      <td>0</td>\n",
              "      <td>0</td>\n",
              "      <td>1</td>\n",
              "      <td>0</td>\n",
              "      <td>0</td>\n",
              "      <td>0</td>\n",
              "      <td>0</td>\n",
              "      <td>0</td>\n",
              "      <td>0</td>\n",
              "      <td>0</td>\n",
              "      <td>0</td>\n",
              "      <td>0</td>\n",
              "      <td>1</td>\n",
              "      <td>0</td>\n",
              "      <td>0</td>\n",
              "      <td>0</td>\n",
              "      <td>0</td>\n",
              "    </tr>\n",
              "    <tr>\n",
              "      <th>3</th>\n",
              "      <td>4</td>\n",
              "      <td>Waiting to Exhale (1995)</td>\n",
              "      <td>Comedy|Drama|Romance</td>\n",
              "      <td>0</td>\n",
              "      <td>0</td>\n",
              "      <td>0</td>\n",
              "      <td>0</td>\n",
              "      <td>0</td>\n",
              "      <td>1</td>\n",
              "      <td>0</td>\n",
              "      <td>0</td>\n",
              "      <td>1</td>\n",
              "      <td>0</td>\n",
              "      <td>0</td>\n",
              "      <td>0</td>\n",
              "      <td>0</td>\n",
              "      <td>0</td>\n",
              "      <td>0</td>\n",
              "      <td>1</td>\n",
              "      <td>0</td>\n",
              "      <td>0</td>\n",
              "      <td>0</td>\n",
              "      <td>0</td>\n",
              "    </tr>\n",
              "    <tr>\n",
              "      <th>4</th>\n",
              "      <td>5</td>\n",
              "      <td>Father of the Bride Part II (1995)</td>\n",
              "      <td>Comedy</td>\n",
              "      <td>0</td>\n",
              "      <td>0</td>\n",
              "      <td>0</td>\n",
              "      <td>0</td>\n",
              "      <td>0</td>\n",
              "      <td>1</td>\n",
              "      <td>0</td>\n",
              "      <td>0</td>\n",
              "      <td>0</td>\n",
              "      <td>0</td>\n",
              "      <td>0</td>\n",
              "      <td>0</td>\n",
              "      <td>0</td>\n",
              "      <td>0</td>\n",
              "      <td>0</td>\n",
              "      <td>0</td>\n",
              "      <td>0</td>\n",
              "      <td>0</td>\n",
              "      <td>0</td>\n",
              "      <td>0</td>\n",
              "    </tr>\n",
              "  </tbody>\n",
              "</table>\n",
              "</div>"
            ],
            "text/plain": [
              "   movieId                               title                                       genres  (no genres listed)  Action  Adventure  Animation  Children  Comedy  Crime  Documentary  Drama  Fantasy  Film-Noir  Horror  IMAX  Musical  Mystery  Romance  Sci-Fi  Thriller  War  Western\n",
              "0  1        Toy Story (1995)                    Adventure|Animation|Children|Comedy|Fantasy  0                   0       1          1          1         1       0      0            0      1        0          0       0     0        0        0        0       0         0    0      \n",
              "1  2        Jumanji (1995)                      Adventure|Children|Fantasy                   0                   0       1          0          1         0       0      0            0      1        0          0       0     0        0        0        0       0         0    0      \n",
              "2  3        Grumpier Old Men (1995)             Comedy|Romance                               0                   0       0          0          0         1       0      0            0      0        0          0       0     0        0        1        0       0         0    0      \n",
              "3  4        Waiting to Exhale (1995)            Comedy|Drama|Romance                         0                   0       0          0          0         1       0      0            1      0        0          0       0     0        0        1        0       0         0    0      \n",
              "4  5        Father of the Bride Part II (1995)  Comedy                                       0                   0       0          0          0         1       0      0            0      0        0          0       0     0        0        0        0       0         0    0      "
            ]
          },
          "execution_count": 8,
          "metadata": {},
          "output_type": "execute_result"
        }
      ],
      "source": [
        "# Oddzielanie gatunków jako nowe kolumny\n",
        "genres = movies['genres'].str.get_dummies(sep='|')\n",
        "\n",
        "movies = pd.concat([movies, genres], axis=1)\n",
        "\n",
        "movies.head()\n"
      ]
    },
    {
      "cell_type": "markdown",
      "id": "28bbcbb9",
      "metadata": {
        "id": "28bbcbb9"
      },
      "source": [
        "#### 1. Liczba filmów Sci-Fi"
      ]
    },
    {
      "cell_type": "markdown",
      "id": "82f59635",
      "metadata": {
        "id": "82f59635"
      },
      "source": [
        " liczba filmów Sci-Fi = `980`"
      ]
    },
    {
      "cell_type": "code",
      "execution_count": null,
      "id": "938d62bf",
      "metadata": {
        "id": "938d62bf",
        "outputId": "5a92614e-5e4f-4e33-999e-a94a2de15eca"
      },
      "outputs": [
        {
          "data": {
            "text/plain": [
              "980"
            ]
          },
          "execution_count": 9,
          "metadata": {},
          "output_type": "execute_result"
        }
      ],
      "source": [
        "sci_fi_count = movies['Sci-Fi'].sum()\n",
        "sci_fi_count"
      ]
    },
    {
      "cell_type": "markdown",
      "id": "65769186",
      "metadata": {
        "id": "65769186"
      },
      "source": [
        "#### 2. Pokaż rozkład ocen komedii"
      ]
    },
    {
      "cell_type": "code",
      "execution_count": null,
      "id": "7ab5c78e",
      "metadata": {
        "id": "7ab5c78e"
      },
      "outputs": [],
      "source": [
        "# filtrowanie komedii\n",
        "comedy_movies = movies[movies['Comedy'] == 1]\n",
        "# łączenie z ocenami\n",
        "comedy_ratings = ratings[ratings['movieId'].isin(movies[movies['Comedy'] == 1]['movieId'])]"
      ]
    },
    {
      "cell_type": "code",
      "execution_count": null,
      "id": "5565a78c",
      "metadata": {
        "id": "5565a78c",
        "outputId": "2accf096-bba0-4eae-c467-f41d1c88f722"
      },
      "outputs": [
        {
          "data": {
            "text/plain": [
              "Text(0, 0.5, 'Liczba filmów')"
            ]
          },
          "execution_count": 11,
          "metadata": {},
          "output_type": "execute_result"
        },
        {
          "data": {
            "image/png": "[encoded data removed]",
            "text/plain": [
              "<Figure size 640x480 with 1 Axes>"
            ]
          },
          "metadata": {},
          "output_type": "display_data"
        }
      ],
      "source": [
        "sns.countplot(comedy_ratings, x = 'rating', palette='viridis')\n",
        "plt.title('Rozkład ocen z gatunkiem komedii')\n",
        "plt.xlabel('Średnia ocena')\n",
        "plt.ylabel('Liczba filmów')"
      ]
    },
    {
      "cell_type": "markdown",
      "id": "c32d064b",
      "metadata": {
        "id": "c32d064b"
      },
      "source": [
        "#### 3. Podaj średnią ocen wszystkich filmów akcji oraz 3 filmy najwyżej ocenianych"
      ]
    },
    {
      "cell_type": "code",
      "execution_count": null,
      "id": "492138d7",
      "metadata": {
        "id": "492138d7",
        "outputId": "5dbf6096-da6f-488c-a14d-1b4ba8d22692"
      },
      "outputs": [
        {
          "data": {
            "text/html": [
              "<div>\n",
              "<style scoped>\n",
              "    .dataframe tbody tr th:only-of-type {\n",
              "        vertical-align: middle;\n",
              "    }\n",
              "\n",
              "    .dataframe tbody tr th {\n",
              "        vertical-align: top;\n",
              "    }\n",
              "\n",
              "    .dataframe thead th {\n",
              "        text-align: right;\n",
              "    }\n",
              "</style>\n",
              "<table border=\"1\" class=\"dataframe\">\n",
              "  <thead>\n",
              "    <tr style=\"text-align: right;\">\n",
              "      <th></th>\n",
              "      <th>userId</th>\n",
              "      <th>movieId</th>\n",
              "      <th>rating</th>\n",
              "      <th>timestamp</th>\n",
              "    </tr>\n",
              "  </thead>\n",
              "  <tbody>\n",
              "    <tr>\n",
              "      <th>2</th>\n",
              "      <td>1</td>\n",
              "      <td>6</td>\n",
              "      <td>4.0</td>\n",
              "      <td>964982224</td>\n",
              "    </tr>\n",
              "    <tr>\n",
              "      <th>5</th>\n",
              "      <td>1</td>\n",
              "      <td>70</td>\n",
              "      <td>3.0</td>\n",
              "      <td>964982400</td>\n",
              "    </tr>\n",
              "    <tr>\n",
              "      <th>7</th>\n",
              "      <td>1</td>\n",
              "      <td>110</td>\n",
              "      <td>4.0</td>\n",
              "      <td>964982176</td>\n",
              "    </tr>\n",
              "    <tr>\n",
              "      <th>8</th>\n",
              "      <td>1</td>\n",
              "      <td>151</td>\n",
              "      <td>5.0</td>\n",
              "      <td>964984041</td>\n",
              "    </tr>\n",
              "    <tr>\n",
              "      <th>10</th>\n",
              "      <td>1</td>\n",
              "      <td>163</td>\n",
              "      <td>5.0</td>\n",
              "      <td>964983650</td>\n",
              "    </tr>\n",
              "    <tr>\n",
              "      <th>...</th>\n",
              "      <td>...</td>\n",
              "      <td>...</td>\n",
              "      <td>...</td>\n",
              "      <td>...</td>\n",
              "    </tr>\n",
              "    <tr>\n",
              "      <th>100826</th>\n",
              "      <td>610</td>\n",
              "      <td>162350</td>\n",
              "      <td>3.5</td>\n",
              "      <td>1493849971</td>\n",
              "    </tr>\n",
              "    <tr>\n",
              "      <th>100830</th>\n",
              "      <td>610</td>\n",
              "      <td>166528</td>\n",
              "      <td>4.0</td>\n",
              "      <td>1493879365</td>\n",
              "    </tr>\n",
              "    <tr>\n",
              "      <th>100832</th>\n",
              "      <td>610</td>\n",
              "      <td>168248</td>\n",
              "      <td>5.0</td>\n",
              "      <td>1493850091</td>\n",
              "    </tr>\n",
              "    <tr>\n",
              "      <th>100834</th>\n",
              "      <td>610</td>\n",
              "      <td>168252</td>\n",
              "      <td>5.0</td>\n",
              "      <td>1493846352</td>\n",
              "    </tr>\n",
              "    <tr>\n",
              "      <th>100835</th>\n",
              "      <td>610</td>\n",
              "      <td>170875</td>\n",
              "      <td>3.0</td>\n",
              "      <td>1493846415</td>\n",
              "    </tr>\n",
              "  </tbody>\n",
              "</table>\n",
              "<p>30635 rows × 4 columns</p>\n",
              "</div>"
            ],
            "text/plain": [
              "        userId  movieId  rating   timestamp\n",
              "2       1       6        4.0     964982224 \n",
              "5       1       70       3.0     964982400 \n",
              "7       1       110      4.0     964982176 \n",
              "8       1       151      5.0     964984041 \n",
              "10      1       163      5.0     964983650 \n",
              "...    ..       ...      ...           ... \n",
              "100826  610     162350   3.5     1493849971\n",
              "100830  610     166528   4.0     1493879365\n",
              "100832  610     168248   5.0     1493850091\n",
              "100834  610     168252   5.0     1493846352\n",
              "100835  610     170875   3.0     1493846415\n",
              "\n",
              "[30635 rows x 4 columns]"
            ]
          },
          "execution_count": 14,
          "metadata": {},
          "output_type": "execute_result"
        }
      ],
      "source": [
        "# filtrowanie filmów akcji\n",
        "action_movies = movies[movies['Action'] == 1]\n",
        "# łączenie z ocenami\n",
        "action_ratings = ratings[ratings['movieId'].isin(movies[movies['Action'] == 1]['movieId'])]\n",
        "action_ratings"
      ]
    },
    {
      "cell_type": "code",
      "execution_count": null,
      "id": "0f84e512",
      "metadata": {
        "id": "0f84e512",
        "outputId": "3e66d0d8-0fac-4630-e909-3fe84de134f4"
      },
      "outputs": [
        {
          "name": "stdout",
          "output_type": "stream",
          "text": [
            "Średnia ocen wszystkich filmów akcji: 3.45\n"
          ]
        }
      ],
      "source": [
        "print(f\"Średnia ocen wszystkich filmów akcji: {action_ratings.rating.mean().round(2)}\")"
      ]
    },
    {
      "cell_type": "markdown",
      "id": "e8249e17",
      "metadata": {
        "id": "e8249e17"
      },
      "source": [
        "### Bayesian Average"
      ]
    },
    {
      "cell_type": "markdown",
      "id": "3f5dbd9e",
      "metadata": {
        "id": "3f5dbd9e"
      },
      "source": [
        "<!-- ![obraz.png](attachment:obraz.png) -->\n",
        "<div>\n",
        "<img src=\"attachment:obraz.png\" width=\"550\"/>\n",
        "</div>\n",
        "\n",
        "Zwykła średnia nie będzie miarodajna ze względu na różną liczbę ocen, jakie dany film otrzymał."
      ]
    },
    {
      "cell_type": "markdown",
      "id": "9153bd91",
      "metadata": {
        "id": "9153bd91"
      },
      "source": [
        "#### Filmy najwyżej oceniane"
      ]
    },
    {
      "cell_type": "code",
      "execution_count": null,
      "id": "70bfdffa",
      "metadata": {
        "id": "70bfdffa",
        "outputId": "699a2d40-1526-4a79-f60f-6958dd2f60c4"
      },
      "outputs": [
        {
          "data": {
            "text/html": [
              "<div>\n",
              "<style scoped>\n",
              "    .dataframe tbody tr th:only-of-type {\n",
              "        vertical-align: middle;\n",
              "    }\n",
              "\n",
              "    .dataframe tbody tr th {\n",
              "        vertical-align: top;\n",
              "    }\n",
              "\n",
              "    .dataframe thead th {\n",
              "        text-align: right;\n",
              "    }\n",
              "</style>\n",
              "<table border=\"1\" class=\"dataframe\">\n",
              "  <thead>\n",
              "    <tr style=\"text-align: right;\">\n",
              "      <th></th>\n",
              "      <th>count</th>\n",
              "      <th>mean</th>\n",
              "    </tr>\n",
              "    <tr>\n",
              "      <th>movieId</th>\n",
              "      <th></th>\n",
              "      <th></th>\n",
              "    </tr>\n",
              "  </thead>\n",
              "  <tbody>\n",
              "    <tr>\n",
              "      <th>1</th>\n",
              "      <td>215</td>\n",
              "      <td>3.920930</td>\n",
              "    </tr>\n",
              "    <tr>\n",
              "      <th>2</th>\n",
              "      <td>110</td>\n",
              "      <td>3.431818</td>\n",
              "    </tr>\n",
              "    <tr>\n",
              "      <th>3</th>\n",
              "      <td>52</td>\n",
              "      <td>3.259615</td>\n",
              "    </tr>\n",
              "    <tr>\n",
              "      <th>4</th>\n",
              "      <td>7</td>\n",
              "      <td>2.357143</td>\n",
              "    </tr>\n",
              "    <tr>\n",
              "      <th>5</th>\n",
              "      <td>49</td>\n",
              "      <td>3.071429</td>\n",
              "    </tr>\n",
              "    <tr>\n",
              "      <th>...</th>\n",
              "      <td>...</td>\n",
              "      <td>...</td>\n",
              "    </tr>\n",
              "    <tr>\n",
              "      <th>193581</th>\n",
              "      <td>1</td>\n",
              "      <td>4.000000</td>\n",
              "    </tr>\n",
              "    <tr>\n",
              "      <th>193583</th>\n",
              "      <td>1</td>\n",
              "      <td>3.500000</td>\n",
              "    </tr>\n",
              "    <tr>\n",
              "      <th>193585</th>\n",
              "      <td>1</td>\n",
              "      <td>3.500000</td>\n",
              "    </tr>\n",
              "    <tr>\n",
              "      <th>193587</th>\n",
              "      <td>1</td>\n",
              "      <td>3.500000</td>\n",
              "    </tr>\n",
              "    <tr>\n",
              "      <th>193609</th>\n",
              "      <td>1</td>\n",
              "      <td>4.000000</td>\n",
              "    </tr>\n",
              "  </tbody>\n",
              "</table>\n",
              "<p>9724 rows × 2 columns</p>\n",
              "</div>"
            ],
            "text/plain": [
              "         count      mean\n",
              "movieId                 \n",
              "1        215    3.920930\n",
              "2        110    3.431818\n",
              "3        52     3.259615\n",
              "4        7      2.357143\n",
              "5        49     3.071429\n",
              "...     ..           ...\n",
              "193581   1      4.000000\n",
              "193583   1      3.500000\n",
              "193585   1      3.500000\n",
              "193587   1      3.500000\n",
              "193609   1      4.000000\n",
              "\n",
              "[9724 rows x 2 columns]"
            ]
          },
          "execution_count": 16,
          "metadata": {},
          "output_type": "execute_result"
        }
      ],
      "source": [
        "# filmy najwyzej oceniane\n",
        "movie_stats = ratings.groupby('movieId')['rating'].agg(['count', 'mean'])\n",
        "movie_stats"
      ]
    },
    {
      "cell_type": "code",
      "execution_count": null,
      "id": "376c2f02",
      "metadata": {
        "id": "376c2f02",
        "outputId": "630695ef-4413-4667-efb2-e3ae9c13d546"
      },
      "outputs": [
        {
          "name": "stdout",
          "output_type": "stream",
          "text": [
            "Najwyżej oceniane 3 filmy:\n",
            "                              title  bayesian_avg\n",
            "0  Shawshank Redemption, The (1994)  4.39        \n",
            "1  Godfather, The (1972)             4.24        \n",
            "2  Fight Club (1999)                 4.23        \n"
          ]
        }
      ],
      "source": [
        "C = movie_stats['count'].mean()\n",
        "m = movie_stats['mean'].mean()\n",
        "\n",
        "def bayesian_avg(ratings):\n",
        "    \"\"\"\n",
        "    Calculate the Bayesian average of a list of ratings.\n",
        "\n",
        "    Args:\n",
        "    - ratings: List of numerical ratings\n",
        "\n",
        "    Returns:\n",
        "    - Bayesian average of the ratings\n",
        "    \"\"\"\n",
        "\n",
        "    bayesian_avg = (C*m+ratings.sum())/(C+ratings.count())\n",
        "\n",
        "    return bayesian_avg\n",
        "\n",
        "\n",
        "# obliczanie średniej dla wszystkich filmów\n",
        "bayesian_avg_ratings = ratings.groupby('movieId')['rating'].agg(bayesian_avg).reset_index()\n",
        "bayesian_avg_ratings.columns = ['movieId', 'bayesian_avg']\n",
        "movie_stats = movie_stats.merge(bayesian_avg_ratings, on='movieId')\n",
        "\n",
        "top_rated_movies = movie_stats.sort_values(by='bayesian_avg', ascending=False).head(3)\n",
        "top_rated_titles = top_rated_movies.merge(movies[['movieId', 'title']], on='movieId')\n",
        "\n",
        "# wybranie kolumn 'title' i 'bayesian_avg'\n",
        "top_rated_titles = top_rated_titles[['title', 'bayesian_avg']]\n",
        "\n",
        "print(f'Najwyżej oceniane 3 filmy:\\n{top_rated_titles.round(2)}')"
      ]
    },
    {
      "cell_type": "markdown",
      "id": "f224bac4",
      "metadata": {
        "id": "f224bac4"
      },
      "source": [
        "   ***Najwyżej oceniane 3 filmy***\n",
        "   \n",
        "|             Title              | Bayesian Average |\n",
        "|--------------------------------|------------------|\n",
        "| Shawshank Redemption, The (1994) |       4.39       |\n",
        "|       Godfather, The (1972)      |       4.24       |\n",
        "|         Fight Club (1999)        |       4.23       |"
      ]
    },
    {
      "cell_type": "markdown",
      "id": "9d26816a",
      "metadata": {
        "id": "9d26816a"
      },
      "source": [
        "<img src=\"https://media.giphy.com/media/v1.Y2lkPTc5MGI3NjExY3RvOGtma3k0cDcyc3AzcXBpejJ4emFrc254ZWFkMGNxMmk4dGFtYiZlcD12MV9pbnRlcm5hbF9naWZfYnlfaWQmY3Q9Zw/z9EaObbaU7pS4zFl6d/giphy.gif\" width=\"350\" align=\"center\">\n"
      ]
    },
    {
      "cell_type": "code",
      "execution_count": null,
      "id": "72ad4d28",
      "metadata": {
        "id": "72ad4d28",
        "outputId": "963570e5-1ca5-479c-d12f-11b2d571597b"
      },
      "outputs": [
        {
          "name": "stdout",
          "output_type": "stream",
          "text": [
            "Najwyżej oceniane 3 filmy akcji:\n",
            "                                                   title  bayesian_avg\n",
            "0  Fight Club (1999)                                      4.19        \n",
            "1  Star Wars: Episode IV - A New Hope (1977)              4.16        \n",
            "2  Star Wars: Episode V - The Empire Strikes Back (1980)  4.13        \n"
          ]
        }
      ],
      "source": [
        "# srednia dla filmów akcji\n",
        "\n",
        "merged_data = pd.merge(ratings, movies, on='movieId')\n",
        "\n",
        "action_movies_ratings = merged_data[merged_data['Action'] == 1].groupby('movieId')['rating'].agg(['count', 'mean'])\n",
        "\n",
        "C = action_movies_ratings['count'].mean()\n",
        "m = action_movies_ratings['mean'].mean()\n",
        "\n",
        "bayesian_avg_ratings = ratings.groupby('movieId')['rating'].agg(bayesian_avg).reset_index()\n",
        "bayesian_avg_ratings.columns = ['movieId', 'bayesian_avg']\n",
        "movie_stats = action_movies_ratings.merge(bayesian_avg_ratings, on='movieId')\n",
        "movie_stats.describe()\n",
        "\n",
        "top_rated_movies = movie_stats.sort_values(by='bayesian_avg', ascending=False).head(3)\n",
        "top_rated_titles = top_rated_movies.merge(movies[['movieId', 'title']], on='movieId')\n",
        "\n",
        "top_rated_titles = top_rated_titles[['title', 'bayesian_avg']]\n",
        "\n",
        "print(f'Najwyżej oceniane 3 filmy akcji:\\n{top_rated_titles.round(2)}')"
      ]
    },
    {
      "cell_type": "markdown",
      "id": "37336f62",
      "metadata": {
        "id": "37336f62"
      },
      "source": [
        "***Najwyżej oceniane 3 filmy akcji***\n",
        "| Title | Bayesian Average |\n",
        "|-----------------------------|------------------|\n",
        "| Fight Club (1999) | 4.19 |\n",
        "| Star Wars: Episode IV - A New Hope (1977) | 4.16 |\n",
        "| Star Wars: Episode V - The Empire Strikes Back (1980) | 4.13 |"
      ]
    },
    {
      "cell_type": "markdown",
      "id": "7d5c0fb1",
      "metadata": {
        "id": "7d5c0fb1"
      },
      "source": [
        "## System rekomendacyjny\n",
        "\n",
        "[SVD](#SVD)\n",
        "<br>\n",
        "[kNNwithMeans](#kNNwithMeans)"
      ]
    },
    {
      "cell_type": "markdown",
      "id": "0f8e8e64",
      "metadata": {
        "id": "0f8e8e64"
      },
      "source": [
        "#### Zbuduj system na podstawie algorytmu SVD oraz kNNwithMeans"
      ]
    },
    {
      "cell_type": "markdown",
      "id": "82dd4c29",
      "metadata": {
        "id": "82dd4c29"
      },
      "source": [
        "##### Znajdź ID filmu po tytule"
      ]
    },
    {
      "cell_type": "code",
      "execution_count": null,
      "id": "20322dbf",
      "metadata": {
        "id": "20322dbf"
      },
      "outputs": [],
      "source": [
        "def get_movie_ids_by_title(title_partial, movies = movies):\n",
        "    \"\"\"\n",
        "    This function takes a partial movie title and a DataFrame containing movie titles and IDs,\n",
        "    and returns a DataFrame of all movies that contain the partial title in their full title.\n",
        "\n",
        "    Args:\n",
        "        title_partial (str): The partial movie title.\n",
        "        movies_df (DataFrame): A DataFrame containing 'movieId' and 'title' columns.\n",
        "\n",
        "    Returns:\n",
        "        DataFrame: A DataFrame containing the 'movieId' and 'title' of all movies that contain\n",
        "                   the partial title in their full title. If no such movie is found, returns an empty DataFrame.\n",
        "    \"\"\"\n",
        "    # Use the str.contains method to find rows where the title contains the partial title (case insensitive)\n",
        "    matching_movies = movies[movies['title'].str.contains(title_partial, case=False)]\n",
        "\n",
        "    # Return the matching_movies DataFrame\n",
        "    return matching_movies\n"
      ]
    },
    {
      "cell_type": "code",
      "execution_count": null,
      "id": "faaba8f0",
      "metadata": {
        "id": "faaba8f0",
        "outputId": "199bc204-bcee-4828-a615-5f1100b6692f"
      },
      "outputs": [
        {
          "data": {
            "text/html": [
              "<div>\n",
              "<style scoped>\n",
              "    .dataframe tbody tr th:only-of-type {\n",
              "        vertical-align: middle;\n",
              "    }\n",
              "\n",
              "    .dataframe tbody tr th {\n",
              "        vertical-align: top;\n",
              "    }\n",
              "\n",
              "    .dataframe thead th {\n",
              "        text-align: right;\n",
              "    }\n",
              "</style>\n",
              "<table border=\"1\" class=\"dataframe\">\n",
              "  <thead>\n",
              "    <tr style=\"text-align: right;\">\n",
              "      <th></th>\n",
              "      <th>movieId</th>\n",
              "      <th>title</th>\n",
              "      <th>genres</th>\n",
              "      <th>(no genres listed)</th>\n",
              "      <th>Action</th>\n",
              "      <th>Adventure</th>\n",
              "      <th>Animation</th>\n",
              "      <th>Children</th>\n",
              "      <th>Comedy</th>\n",
              "      <th>Crime</th>\n",
              "      <th>Documentary</th>\n",
              "      <th>Drama</th>\n",
              "      <th>Fantasy</th>\n",
              "      <th>Film-Noir</th>\n",
              "      <th>Horror</th>\n",
              "      <th>IMAX</th>\n",
              "      <th>Musical</th>\n",
              "      <th>Mystery</th>\n",
              "      <th>Romance</th>\n",
              "      <th>Sci-Fi</th>\n",
              "      <th>Thriller</th>\n",
              "      <th>War</th>\n",
              "      <th>Western</th>\n",
              "    </tr>\n",
              "  </thead>\n",
              "  <tbody>\n",
              "    <tr>\n",
              "      <th>0</th>\n",
              "      <td>1</td>\n",
              "      <td>Toy Story (1995)</td>\n",
              "      <td>Adventure|Animation|Children|Comedy|Fantasy</td>\n",
              "      <td>0</td>\n",
              "      <td>0</td>\n",
              "      <td>1</td>\n",
              "      <td>1</td>\n",
              "      <td>1</td>\n",
              "      <td>1</td>\n",
              "      <td>0</td>\n",
              "      <td>0</td>\n",
              "      <td>0</td>\n",
              "      <td>1</td>\n",
              "      <td>0</td>\n",
              "      <td>0</td>\n",
              "      <td>0</td>\n",
              "      <td>0</td>\n",
              "      <td>0</td>\n",
              "      <td>0</td>\n",
              "      <td>0</td>\n",
              "      <td>0</td>\n",
              "      <td>0</td>\n",
              "      <td>0</td>\n",
              "    </tr>\n",
              "    <tr>\n",
              "      <th>1492</th>\n",
              "      <td>2017</td>\n",
              "      <td>Babes in Toyland (1961)</td>\n",
              "      <td>Children|Fantasy|Musical</td>\n",
              "      <td>0</td>\n",
              "      <td>0</td>\n",
              "      <td>0</td>\n",
              "      <td>0</td>\n",
              "      <td>1</td>\n",
              "      <td>0</td>\n",
              "      <td>0</td>\n",
              "      <td>0</td>\n",
              "      <td>0</td>\n",
              "      <td>1</td>\n",
              "      <td>0</td>\n",
              "      <td>0</td>\n",
              "      <td>0</td>\n",
              "      <td>1</td>\n",
              "      <td>0</td>\n",
              "      <td>0</td>\n",
              "      <td>0</td>\n",
              "      <td>0</td>\n",
              "      <td>0</td>\n",
              "      <td>0</td>\n",
              "    </tr>\n",
              "    <tr>\n",
              "      <th>1674</th>\n",
              "      <td>2253</td>\n",
              "      <td>Toys (1992)</td>\n",
              "      <td>Comedy|Fantasy</td>\n",
              "      <td>0</td>\n",
              "      <td>0</td>\n",
              "      <td>0</td>\n",
              "      <td>0</td>\n",
              "      <td>0</td>\n",
              "      <td>1</td>\n",
              "      <td>0</td>\n",
              "      <td>0</td>\n",
              "      <td>0</td>\n",
              "      <td>1</td>\n",
              "      <td>0</td>\n",
              "      <td>0</td>\n",
              "      <td>0</td>\n",
              "      <td>0</td>\n",
              "      <td>0</td>\n",
              "      <td>0</td>\n",
              "      <td>0</td>\n",
              "      <td>0</td>\n",
              "      <td>0</td>\n",
              "      <td>0</td>\n",
              "    </tr>\n",
              "    <tr>\n",
              "      <th>2329</th>\n",
              "      <td>3086</td>\n",
              "      <td>Babes in Toyland (1934)</td>\n",
              "      <td>Children|Comedy|Fantasy|Musical</td>\n",
              "      <td>0</td>\n",
              "      <td>0</td>\n",
              "      <td>0</td>\n",
              "      <td>0</td>\n",
              "      <td>1</td>\n",
              "      <td>1</td>\n",
              "      <td>0</td>\n",
              "      <td>0</td>\n",
              "      <td>0</td>\n",
              "      <td>1</td>\n",
              "      <td>0</td>\n",
              "      <td>0</td>\n",
              "      <td>0</td>\n",
              "      <td>1</td>\n",
              "      <td>0</td>\n",
              "      <td>0</td>\n",
              "      <td>0</td>\n",
              "      <td>0</td>\n",
              "      <td>0</td>\n",
              "      <td>0</td>\n",
              "    </tr>\n",
              "    <tr>\n",
              "      <th>2355</th>\n",
              "      <td>3114</td>\n",
              "      <td>Toy Story 2 (1999)</td>\n",
              "      <td>Adventure|Animation|Children|Comedy|Fantasy</td>\n",
              "      <td>0</td>\n",
              "      <td>0</td>\n",
              "      <td>1</td>\n",
              "      <td>1</td>\n",
              "      <td>1</td>\n",
              "      <td>1</td>\n",
              "      <td>0</td>\n",
              "      <td>0</td>\n",
              "      <td>0</td>\n",
              "      <td>1</td>\n",
              "      <td>0</td>\n",
              "      <td>0</td>\n",
              "      <td>0</td>\n",
              "      <td>0</td>\n",
              "      <td>0</td>\n",
              "      <td>0</td>\n",
              "      <td>0</td>\n",
              "      <td>0</td>\n",
              "      <td>0</td>\n",
              "      <td>0</td>\n",
              "    </tr>\n",
              "    <tr>\n",
              "      <th>3595</th>\n",
              "      <td>4929</td>\n",
              "      <td>Toy, The (1982)</td>\n",
              "      <td>Comedy</td>\n",
              "      <td>0</td>\n",
              "      <td>0</td>\n",
              "      <td>0</td>\n",
              "      <td>0</td>\n",
              "      <td>0</td>\n",
              "      <td>1</td>\n",
              "      <td>0</td>\n",
              "      <td>0</td>\n",
              "      <td>0</td>\n",
              "      <td>0</td>\n",
              "      <td>0</td>\n",
              "      <td>0</td>\n",
              "      <td>0</td>\n",
              "      <td>0</td>\n",
              "      <td>0</td>\n",
              "      <td>0</td>\n",
              "      <td>0</td>\n",
              "      <td>0</td>\n",
              "      <td>0</td>\n",
              "      <td>0</td>\n",
              "    </tr>\n",
              "    <tr>\n",
              "      <th>4089</th>\n",
              "      <td>5843</td>\n",
              "      <td>Toy Soldiers (1991)</td>\n",
              "      <td>Action|Drama</td>\n",
              "      <td>0</td>\n",
              "      <td>1</td>\n",
              "      <td>0</td>\n",
              "      <td>0</td>\n",
              "      <td>0</td>\n",
              "      <td>0</td>\n",
              "      <td>0</td>\n",
              "      <td>0</td>\n",
              "      <td>1</td>\n",
              "      <td>0</td>\n",
              "      <td>0</td>\n",
              "      <td>0</td>\n",
              "      <td>0</td>\n",
              "      <td>0</td>\n",
              "      <td>0</td>\n",
              "      <td>0</td>\n",
              "      <td>0</td>\n",
              "      <td>0</td>\n",
              "      <td>0</td>\n",
              "      <td>0</td>\n",
              "    </tr>\n",
              "    <tr>\n",
              "      <th>7355</th>\n",
              "      <td>78499</td>\n",
              "      <td>Toy Story 3 (2010)</td>\n",
              "      <td>Adventure|Animation|Children|Comedy|Fantasy|IMAX</td>\n",
              "      <td>0</td>\n",
              "      <td>0</td>\n",
              "      <td>1</td>\n",
              "      <td>1</td>\n",
              "      <td>1</td>\n",
              "      <td>1</td>\n",
              "      <td>0</td>\n",
              "      <td>0</td>\n",
              "      <td>0</td>\n",
              "      <td>1</td>\n",
              "      <td>0</td>\n",
              "      <td>0</td>\n",
              "      <td>1</td>\n",
              "      <td>0</td>\n",
              "      <td>0</td>\n",
              "      <td>0</td>\n",
              "      <td>0</td>\n",
              "      <td>0</td>\n",
              "      <td>0</td>\n",
              "      <td>0</td>\n",
              "    </tr>\n",
              "  </tbody>\n",
              "</table>\n",
              "</div>"
            ],
            "text/plain": [
              "      movieId                    title                                            genres  (no genres listed)  Action  Adventure  Animation  Children  Comedy  Crime  Documentary  Drama  Fantasy  Film-Noir  Horror  IMAX  Musical  Mystery  Romance  Sci-Fi  Thriller  War  Western\n",
              "0     1        Toy Story (1995)         Adventure|Animation|Children|Comedy|Fantasy       0                   0       1          1          1         1       0      0            0      1        0          0       0     0        0        0        0       0         0    0      \n",
              "1492  2017     Babes in Toyland (1961)  Children|Fantasy|Musical                          0                   0       0          0          1         0       0      0            0      1        0          0       0     1        0        0        0       0         0    0      \n",
              "1674  2253     Toys (1992)              Comedy|Fantasy                                    0                   0       0          0          0         1       0      0            0      1        0          0       0     0        0        0        0       0         0    0      \n",
              "2329  3086     Babes in Toyland (1934)  Children|Comedy|Fantasy|Musical                   0                   0       0          0          1         1       0      0            0      1        0          0       0     1        0        0        0       0         0    0      \n",
              "2355  3114     Toy Story 2 (1999)       Adventure|Animation|Children|Comedy|Fantasy       0                   0       1          1          1         1       0      0            0      1        0          0       0     0        0        0        0       0         0    0      \n",
              "3595  4929     Toy, The (1982)          Comedy                                            0                   0       0          0          0         1       0      0            0      0        0          0       0     0        0        0        0       0         0    0      \n",
              "4089  5843     Toy Soldiers (1991)      Action|Drama                                      0                   1       0          0          0         0       0      0            1      0        0          0       0     0        0        0        0       0         0    0      \n",
              "7355  78499    Toy Story 3 (2010)       Adventure|Animation|Children|Comedy|Fantasy|IMAX  0                   0       1          1          1         1       0      0            0      1        0          0       1     0        0        0        0       0         0    0      "
            ]
          },
          "execution_count": 20,
          "metadata": {},
          "output_type": "execute_result"
        }
      ],
      "source": [
        "get_movie_ids_by_title(\"Toy\", movies)"
      ]
    },
    {
      "cell_type": "code",
      "execution_count": null,
      "id": "55887d19",
      "metadata": {
        "id": "55887d19",
        "outputId": "0e5117d8-f6ff-4aec-c00b-17f3cf387593"
      },
      "outputs": [
        {
          "data": {
            "text/html": [
              "<div>\n",
              "<style scoped>\n",
              "    .dataframe tbody tr th:only-of-type {\n",
              "        vertical-align: middle;\n",
              "    }\n",
              "\n",
              "    .dataframe tbody tr th {\n",
              "        vertical-align: top;\n",
              "    }\n",
              "\n",
              "    .dataframe thead th {\n",
              "        text-align: right;\n",
              "    }\n",
              "</style>\n",
              "<table border=\"1\" class=\"dataframe\">\n",
              "  <thead>\n",
              "    <tr style=\"text-align: right;\">\n",
              "      <th></th>\n",
              "      <th>movieId</th>\n",
              "      <th>title</th>\n",
              "      <th>genres</th>\n",
              "      <th>(no genres listed)</th>\n",
              "      <th>Action</th>\n",
              "      <th>Adventure</th>\n",
              "      <th>Animation</th>\n",
              "      <th>Children</th>\n",
              "      <th>Comedy</th>\n",
              "      <th>Crime</th>\n",
              "      <th>Documentary</th>\n",
              "      <th>Drama</th>\n",
              "      <th>Fantasy</th>\n",
              "      <th>Film-Noir</th>\n",
              "      <th>Horror</th>\n",
              "      <th>IMAX</th>\n",
              "      <th>Musical</th>\n",
              "      <th>Mystery</th>\n",
              "      <th>Romance</th>\n",
              "      <th>Sci-Fi</th>\n",
              "      <th>Thriller</th>\n",
              "      <th>War</th>\n",
              "      <th>Western</th>\n",
              "    </tr>\n",
              "  </thead>\n",
              "  <tbody>\n",
              "    <tr>\n",
              "      <th>1</th>\n",
              "      <td>2</td>\n",
              "      <td>Jumanji (1995)</td>\n",
              "      <td>Adventure|Children|Fantasy</td>\n",
              "      <td>0</td>\n",
              "      <td>0</td>\n",
              "      <td>1</td>\n",
              "      <td>0</td>\n",
              "      <td>1</td>\n",
              "      <td>0</td>\n",
              "      <td>0</td>\n",
              "      <td>0</td>\n",
              "      <td>0</td>\n",
              "      <td>1</td>\n",
              "      <td>0</td>\n",
              "      <td>0</td>\n",
              "      <td>0</td>\n",
              "      <td>0</td>\n",
              "      <td>0</td>\n",
              "      <td>0</td>\n",
              "      <td>0</td>\n",
              "      <td>0</td>\n",
              "      <td>0</td>\n",
              "      <td>0</td>\n",
              "    </tr>\n",
              "    <tr>\n",
              "      <th>9636</th>\n",
              "      <td>179401</td>\n",
              "      <td>Jumanji: Welcome to the Jungle (2017)</td>\n",
              "      <td>Action|Adventure|Children</td>\n",
              "      <td>0</td>\n",
              "      <td>1</td>\n",
              "      <td>1</td>\n",
              "      <td>0</td>\n",
              "      <td>1</td>\n",
              "      <td>0</td>\n",
              "      <td>0</td>\n",
              "      <td>0</td>\n",
              "      <td>0</td>\n",
              "      <td>0</td>\n",
              "      <td>0</td>\n",
              "      <td>0</td>\n",
              "      <td>0</td>\n",
              "      <td>0</td>\n",
              "      <td>0</td>\n",
              "      <td>0</td>\n",
              "      <td>0</td>\n",
              "      <td>0</td>\n",
              "      <td>0</td>\n",
              "      <td>0</td>\n",
              "    </tr>\n",
              "  </tbody>\n",
              "</table>\n",
              "</div>"
            ],
            "text/plain": [
              "      movieId                                  title                      genres  (no genres listed)  Action  Adventure  Animation  Children  Comedy  Crime  Documentary  Drama  Fantasy  Film-Noir  Horror  IMAX  Musical  Mystery  Romance  Sci-Fi  Thriller  War  Western\n",
              "1     2        Jumanji (1995)                         Adventure|Children|Fantasy  0                   0       1          0          1         0       0      0            0      1        0          0       0     0        0        0        0       0         0    0      \n",
              "9636  179401   Jumanji: Welcome to the Jungle (2017)  Action|Adventure|Children   0                   1       1          0          1         0       0      0            0      0        0          0       0     0        0        0        0       0         0    0      "
            ]
          },
          "execution_count": 21,
          "metadata": {},
          "output_type": "execute_result"
        }
      ],
      "source": [
        "get_movie_ids_by_title(\"Jumanji\", movies)"
      ]
    },
    {
      "cell_type": "code",
      "execution_count": null,
      "id": "7b32e2a6",
      "metadata": {
        "id": "7b32e2a6",
        "outputId": "124252be-93c2-4cd4-bdf6-456329d52279"
      },
      "outputs": [
        {
          "data": {
            "text/html": [
              "<div>\n",
              "<style scoped>\n",
              "    .dataframe tbody tr th:only-of-type {\n",
              "        vertical-align: middle;\n",
              "    }\n",
              "\n",
              "    .dataframe tbody tr th {\n",
              "        vertical-align: top;\n",
              "    }\n",
              "\n",
              "    .dataframe thead th {\n",
              "        text-align: right;\n",
              "    }\n",
              "</style>\n",
              "<table border=\"1\" class=\"dataframe\">\n",
              "  <thead>\n",
              "    <tr style=\"text-align: right;\">\n",
              "      <th></th>\n",
              "      <th>movieId</th>\n",
              "      <th>title</th>\n",
              "      <th>genres</th>\n",
              "      <th>(no genres listed)</th>\n",
              "      <th>Action</th>\n",
              "      <th>Adventure</th>\n",
              "      <th>Animation</th>\n",
              "      <th>Children</th>\n",
              "      <th>Comedy</th>\n",
              "      <th>Crime</th>\n",
              "      <th>Documentary</th>\n",
              "      <th>Drama</th>\n",
              "      <th>Fantasy</th>\n",
              "      <th>Film-Noir</th>\n",
              "      <th>Horror</th>\n",
              "      <th>IMAX</th>\n",
              "      <th>Musical</th>\n",
              "      <th>Mystery</th>\n",
              "      <th>Romance</th>\n",
              "      <th>Sci-Fi</th>\n",
              "      <th>Thriller</th>\n",
              "      <th>War</th>\n",
              "      <th>Western</th>\n",
              "    </tr>\n",
              "  </thead>\n",
              "  <tbody>\n",
              "    <tr>\n",
              "      <th>313</th>\n",
              "      <td>355</td>\n",
              "      <td>Flintstones, The (1994)</td>\n",
              "      <td>Children|Comedy|Fantasy</td>\n",
              "      <td>0</td>\n",
              "      <td>0</td>\n",
              "      <td>0</td>\n",
              "      <td>0</td>\n",
              "      <td>1</td>\n",
              "      <td>1</td>\n",
              "      <td>0</td>\n",
              "      <td>0</td>\n",
              "      <td>0</td>\n",
              "      <td>1</td>\n",
              "      <td>0</td>\n",
              "      <td>0</td>\n",
              "      <td>0</td>\n",
              "      <td>0</td>\n",
              "      <td>0</td>\n",
              "      <td>0</td>\n",
              "      <td>0</td>\n",
              "      <td>0</td>\n",
              "      <td>0</td>\n",
              "      <td>0</td>\n",
              "    </tr>\n",
              "    <tr>\n",
              "      <th>2662</th>\n",
              "      <td>3564</td>\n",
              "      <td>Flintstones in Viva Rock Vegas, The (2000)</td>\n",
              "      <td>Children|Comedy</td>\n",
              "      <td>0</td>\n",
              "      <td>0</td>\n",
              "      <td>0</td>\n",
              "      <td>0</td>\n",
              "      <td>1</td>\n",
              "      <td>1</td>\n",
              "      <td>0</td>\n",
              "      <td>0</td>\n",
              "      <td>0</td>\n",
              "      <td>0</td>\n",
              "      <td>0</td>\n",
              "      <td>0</td>\n",
              "      <td>0</td>\n",
              "      <td>0</td>\n",
              "      <td>0</td>\n",
              "      <td>0</td>\n",
              "      <td>0</td>\n",
              "      <td>0</td>\n",
              "      <td>0</td>\n",
              "      <td>0</td>\n",
              "    </tr>\n",
              "    <tr>\n",
              "      <th>3909</th>\n",
              "      <td>5493</td>\n",
              "      <td>In Like Flint (1967)</td>\n",
              "      <td>Action|Adventure|Comedy</td>\n",
              "      <td>0</td>\n",
              "      <td>1</td>\n",
              "      <td>1</td>\n",
              "      <td>0</td>\n",
              "      <td>0</td>\n",
              "      <td>1</td>\n",
              "      <td>0</td>\n",
              "      <td>0</td>\n",
              "      <td>0</td>\n",
              "      <td>0</td>\n",
              "      <td>0</td>\n",
              "      <td>0</td>\n",
              "      <td>0</td>\n",
              "      <td>0</td>\n",
              "      <td>0</td>\n",
              "      <td>0</td>\n",
              "      <td>0</td>\n",
              "      <td>0</td>\n",
              "      <td>0</td>\n",
              "      <td>0</td>\n",
              "    </tr>\n",
              "    <tr>\n",
              "      <th>3910</th>\n",
              "      <td>5497</td>\n",
              "      <td>Our Man Flint (1965)</td>\n",
              "      <td>Adventure|Comedy|Sci-Fi</td>\n",
              "      <td>0</td>\n",
              "      <td>0</td>\n",
              "      <td>1</td>\n",
              "      <td>0</td>\n",
              "      <td>0</td>\n",
              "      <td>1</td>\n",
              "      <td>0</td>\n",
              "      <td>0</td>\n",
              "      <td>0</td>\n",
              "      <td>0</td>\n",
              "      <td>0</td>\n",
              "      <td>0</td>\n",
              "      <td>0</td>\n",
              "      <td>0</td>\n",
              "      <td>0</td>\n",
              "      <td>0</td>\n",
              "      <td>1</td>\n",
              "      <td>0</td>\n",
              "      <td>0</td>\n",
              "      <td>0</td>\n",
              "    </tr>\n",
              "    <tr>\n",
              "      <th>8717</th>\n",
              "      <td>126088</td>\n",
              "      <td>A Flintstones Christmas Carol (1994)</td>\n",
              "      <td>Animation|Children|Comedy</td>\n",
              "      <td>0</td>\n",
              "      <td>0</td>\n",
              "      <td>0</td>\n",
              "      <td>1</td>\n",
              "      <td>1</td>\n",
              "      <td>1</td>\n",
              "      <td>0</td>\n",
              "      <td>0</td>\n",
              "      <td>0</td>\n",
              "      <td>0</td>\n",
              "      <td>0</td>\n",
              "      <td>0</td>\n",
              "      <td>0</td>\n",
              "      <td>0</td>\n",
              "      <td>0</td>\n",
              "      <td>0</td>\n",
              "      <td>0</td>\n",
              "      <td>0</td>\n",
              "      <td>0</td>\n",
              "      <td>0</td>\n",
              "    </tr>\n",
              "    <tr>\n",
              "      <th>9739</th>\n",
              "      <td>193585</td>\n",
              "      <td>Flint (2017)</td>\n",
              "      <td>Drama</td>\n",
              "      <td>0</td>\n",
              "      <td>0</td>\n",
              "      <td>0</td>\n",
              "      <td>0</td>\n",
              "      <td>0</td>\n",
              "      <td>0</td>\n",
              "      <td>0</td>\n",
              "      <td>0</td>\n",
              "      <td>1</td>\n",
              "      <td>0</td>\n",
              "      <td>0</td>\n",
              "      <td>0</td>\n",
              "      <td>0</td>\n",
              "      <td>0</td>\n",
              "      <td>0</td>\n",
              "      <td>0</td>\n",
              "      <td>0</td>\n",
              "      <td>0</td>\n",
              "      <td>0</td>\n",
              "      <td>0</td>\n",
              "    </tr>\n",
              "  </tbody>\n",
              "</table>\n",
              "</div>"
            ],
            "text/plain": [
              "      movieId                                       title                     genres  (no genres listed)  Action  Adventure  Animation  Children  Comedy  Crime  Documentary  Drama  Fantasy  Film-Noir  Horror  IMAX  Musical  Mystery  Romance  Sci-Fi  Thriller  War  Western\n",
              "313   355      Flintstones, The (1994)                     Children|Comedy|Fantasy    0                   0       0          0          1         1       0      0            0      1        0          0       0     0        0        0        0       0         0    0      \n",
              "2662  3564     Flintstones in Viva Rock Vegas, The (2000)  Children|Comedy            0                   0       0          0          1         1       0      0            0      0        0          0       0     0        0        0        0       0         0    0      \n",
              "3909  5493     In Like Flint (1967)                        Action|Adventure|Comedy    0                   1       1          0          0         1       0      0            0      0        0          0       0     0        0        0        0       0         0    0      \n",
              "3910  5497     Our Man Flint (1965)                        Adventure|Comedy|Sci-Fi    0                   0       1          0          0         1       0      0            0      0        0          0       0     0        0        0        1       0         0    0      \n",
              "8717  126088   A Flintstones Christmas Carol (1994)        Animation|Children|Comedy  0                   0       0          1          1         1       0      0            0      0        0          0       0     0        0        0        0       0         0    0      \n",
              "9739  193585   Flint (2017)                                Drama                      0                   0       0          0          0         0       0      0            1      0        0          0       0     0        0        0        0       0         0    0      "
            ]
          },
          "execution_count": 22,
          "metadata": {},
          "output_type": "execute_result"
        }
      ],
      "source": [
        "get_movie_ids_by_title(\"Flint\", movies)"
      ]
    },
    {
      "cell_type": "markdown",
      "id": "ad16b282",
      "metadata": {
        "id": "ad16b282"
      },
      "source": [
        "##### Przegląd ocen i użytkowników"
      ]
    },
    {
      "cell_type": "code",
      "execution_count": null,
      "id": "9864d474",
      "metadata": {
        "id": "9864d474"
      },
      "outputs": [],
      "source": [
        "# ratings = pd.read_csv('https://s3-us-west-2.amazonaws.com/recommender-tutorial/ratings.csv')\n",
        "# movies = pd.read_csv('https://s3-us-west-2.amazonaws.com/recommender-tutorial/movies.csv')"
      ]
    },
    {
      "cell_type": "code",
      "execution_count": null,
      "id": "bf67cc9f",
      "metadata": {
        "id": "bf67cc9f",
        "outputId": "5c1cdba4-c590-4f61-82d0-7347e8ad4185"
      },
      "outputs": [
        {
          "data": {
            "text/plain": [
              "userId\n",
              "414    2698\n",
              "599    2478\n",
              "474    2108\n",
              "448    1864\n",
              "274    1346\n",
              "Name: rating, dtype: int64"
            ]
          },
          "execution_count": 23,
          "metadata": {},
          "output_type": "execute_result"
        }
      ],
      "source": [
        "# Liczba ocen wystawionych przez danego użytkownika\n",
        "\n",
        "n_rated_movies_per_user = ratings.groupby(by='userId')['rating'].count().sort_values(ascending=False)\n",
        "\n",
        "n_rated_movies_per_user.head()"
      ]
    },
    {
      "cell_type": "code",
      "execution_count": null,
      "id": "7aeec350",
      "metadata": {
        "id": "7aeec350",
        "outputId": "ab9a72a2-4a6a-48c3-82c2-54ee855f53ff"
      },
      "outputs": [
        {
          "data": {
            "text/html": [
              "<div>\n",
              "<style scoped>\n",
              "    .dataframe tbody tr th:only-of-type {\n",
              "        vertical-align: middle;\n",
              "    }\n",
              "\n",
              "    .dataframe tbody tr th {\n",
              "        vertical-align: top;\n",
              "    }\n",
              "\n",
              "    .dataframe thead th {\n",
              "        text-align: right;\n",
              "    }\n",
              "</style>\n",
              "<table border=\"1\" class=\"dataframe\">\n",
              "  <thead>\n",
              "    <tr style=\"text-align: right;\">\n",
              "      <th></th>\n",
              "      <th>userId</th>\n",
              "      <th>movieId</th>\n",
              "      <th>rating</th>\n",
              "    </tr>\n",
              "  </thead>\n",
              "  <tbody>\n",
              "    <tr>\n",
              "      <th>0</th>\n",
              "      <td>1</td>\n",
              "      <td>1</td>\n",
              "      <td>4.0</td>\n",
              "    </tr>\n",
              "    <tr>\n",
              "      <th>1</th>\n",
              "      <td>1</td>\n",
              "      <td>3</td>\n",
              "      <td>4.0</td>\n",
              "    </tr>\n",
              "    <tr>\n",
              "      <th>2</th>\n",
              "      <td>1</td>\n",
              "      <td>6</td>\n",
              "      <td>4.0</td>\n",
              "    </tr>\n",
              "    <tr>\n",
              "      <th>3</th>\n",
              "      <td>1</td>\n",
              "      <td>47</td>\n",
              "      <td>5.0</td>\n",
              "    </tr>\n",
              "    <tr>\n",
              "      <th>4</th>\n",
              "      <td>1</td>\n",
              "      <td>50</td>\n",
              "      <td>5.0</td>\n",
              "    </tr>\n",
              "  </tbody>\n",
              "</table>\n",
              "</div>"
            ],
            "text/plain": [
              "   userId  movieId  rating\n",
              "0  1       1        4.0   \n",
              "1  1       3        4.0   \n",
              "2  1       6        4.0   \n",
              "3  1       47       5.0   \n",
              "4  1       50       5.0   "
            ]
          },
          "execution_count": 24,
          "metadata": {},
          "output_type": "execute_result"
        }
      ],
      "source": [
        "# Usunięcie zbędnej kolumny\n",
        "ratings.drop(columns=['timestamp'], inplace=True)\n",
        "ratings.head()"
      ]
    },
    {
      "cell_type": "code",
      "execution_count": null,
      "id": "dd298432",
      "metadata": {
        "id": "dd298432",
        "outputId": "e82b61c4-e20d-4208-f798-3890c9da56c0"
      },
      "outputs": [
        {
          "name": "stdout",
          "output_type": "stream",
          "text": [
            "\n",
            " Liczba ocenionych filmów przekracza 30 na użytkownika : 501\n",
            "\n"
          ]
        }
      ],
      "source": [
        "print('\\n Liczba ocenionych filmów przekracza 30 na użytkownika : {}\\n'.format(sum(n_rated_movies_per_user >= 30)) )\n"
      ]
    },
    {
      "cell_type": "code",
      "execution_count": null,
      "id": "7daac7ed",
      "metadata": {
        "id": "7daac7ed",
        "outputId": "a190d422-3f11-4901-f606-f7ca396c55ee"
      },
      "outputs": [
        {
          "name": "stdout",
          "output_type": "stream",
          "text": [
            "\n",
            " Liczba ocenionych filmów nie przekracza 20 na użytkownika : 14\n",
            "\n"
          ]
        }
      ],
      "source": [
        "print('\\n Liczba ocenionych filmów nie przekracza 20 na użytkownika : {}\\n'.format(sum(n_rated_movies_per_user <= 20)) )\n"
      ]
    },
    {
      "cell_type": "code",
      "execution_count": null,
      "id": "16a6c800",
      "metadata": {
        "id": "16a6c800",
        "outputId": "d846a04b-4123-45de-fe75-51d657c67e01"
      },
      "outputs": [
        {
          "name": "stdout",
          "output_type": "stream",
          "text": [
            "Film ID: 356, Tytuł: Forrest Gump (1994), Liczba ocen: 329\n",
            "Film ID: 318, Tytuł: Shawshank Redemption, The (1994), Liczba ocen: 317\n",
            "Film ID: 296, Tytuł: Pulp Fiction (1994), Liczba ocen: 307\n",
            "Film ID: 593, Tytuł: Silence of the Lambs, The (1991), Liczba ocen: 279\n",
            "Film ID: 2571, Tytuł: Matrix, The (1999), Liczba ocen: 278\n"
          ]
        }
      ],
      "source": [
        "# sprawdzenie filmów z największą liczbą ocen\n",
        "top_movies = ratings.groupby('movieId')['rating'].count().sort_values(ascending=False).head()\n",
        "\n",
        "for movie_id, rating_count in top_movies.items():\n",
        "    movie_title = movies.loc[movies['movieId'] == movie_id, 'title'].iloc[0]\n",
        "    print(f\"Film ID: {movie_id}, Tytuł: {movie_title}, Liczba ocen: {rating_count}\")"
      ]
    },
    {
      "cell_type": "code",
      "execution_count": null,
      "id": "7ac6b6bb",
      "metadata": {
        "id": "7ac6b6bb",
        "outputId": "32155854-76c8-44eb-e5f6-073f9f3ef24e"
      },
      "outputs": [
        {
          "name": "stdout",
          "output_type": "stream",
          "text": [
            "Film ID: 193609, Tytuł: Andrew Dice Clay: Dice Rules (1991), Liczba ocen: 1\n",
            "Film ID: 4032, Tytuł: Everlasting Piece, An (2000), Liczba ocen: 1\n",
            "Film ID: 57526, Tytuł: Untraceable (2008), Liczba ocen: 1\n",
            "Film ID: 57522, Tytuł: First Sunday (2008), Liczba ocen: 1\n",
            "Film ID: 57502, Tytuł: Cat Soup (Nekojiru-so) (2001), Liczba ocen: 1\n"
          ]
        }
      ],
      "source": [
        "# filmy z najniższą liczbą ocen\n",
        "down_movies = ratings.groupby('movieId')['rating'].count().sort_values(ascending=True).head()\n",
        "down_movies\n",
        "for movie_id, rating_count in down_movies.items():\n",
        "    movie_title = movies.loc[movies['movieId'] == movie_id, 'title'].iloc[0]\n",
        "    print(f\"Film ID: {movie_id}, Tytuł: {movie_title}, Liczba ocen: {rating_count}\")\n"
      ]
    },
    {
      "cell_type": "code",
      "execution_count": null,
      "id": "a50322e8",
      "metadata": {
        "id": "a50322e8",
        "outputId": "b6a91174-2873-4859-f688-135dbf45956a"
      },
      "outputs": [
        {
          "name": "stdout",
          "output_type": "stream",
          "text": [
            "Liczba filmów z 1 oceną: 3446\n",
            "Liczba filmów z 2 ocenami: 1298\n",
            "Liczba filmów z 3 ocenami: 800\n"
          ]
        }
      ],
      "source": [
        "# Zliczanie liczby ocen dla każdego filmu\n",
        "movie_ratings_counts = ratings['movieId'].value_counts()\n",
        "\n",
        "# Zliczanie filmów z 1,2 i 3 ocenami\n",
        "movies_with_one_rating = (movie_ratings_counts == 1).sum()\n",
        "movies_with_two_ratings = (movie_ratings_counts == 2).sum()\n",
        "movies_with_three_ratings = (movie_ratings_counts == 3).sum()\n",
        "\n",
        "print(f\"Liczba filmów z 1 oceną: {movies_with_one_rating}\")\n",
        "print(f\"Liczba filmów z 2 ocenami: {movies_with_two_ratings}\")\n",
        "print(f\"Liczba filmów z 3 ocenami: {movies_with_three_ratings}\")\n"
      ]
    },
    {
      "cell_type": "code",
      "execution_count": null,
      "id": "b2d7b6fd",
      "metadata": {
        "id": "b2d7b6fd",
        "outputId": "e13353c3-a23d-46c7-9f72-d456595624ac"
      },
      "outputs": [
        {
          "name": "stdout",
          "output_type": "stream",
          "text": [
            "1.287\n"
          ]
        }
      ],
      "source": [
        "print(((movies_with_two_ratings/len(merged_data['movieId']))*100).round(3))"
      ]
    },
    {
      "cell_type": "markdown",
      "id": "a8812f82",
      "metadata": {
        "id": "a8812f82"
      },
      "source": [
        "Filmy z jedną oceną stanowią $1.29\\%$ całego zbioru.\n",
        "\n",
        "`SVD` jest w stanie poradzić sobie z tym, jednak mogą one wprowadzać 'szum'."
      ]
    },
    {
      "cell_type": "code",
      "execution_count": null,
      "id": "47b0e087",
      "metadata": {
        "id": "47b0e087",
        "outputId": "259e25da-2436-4e30-ae8a-4bec73d21d15"
      },
      "outputs": [
        {
          "name": "stdout",
          "output_type": "stream",
          "text": [
            "Powtarzające się tytuły filmów:\n",
            "                                       title\n",
            "650   Emma (1996)                           \n",
            "2141  Saturn 3 (1980)                       \n",
            "4169  Confessions of a Dangerous Mind (2002)\n",
            "5601  Emma (1996)                           \n",
            "5854  Eros (2004)                           \n",
            "5931  War of the Worlds (2005)              \n",
            "6932  War of the Worlds (2005)              \n",
            "9106  Confessions of a Dangerous Mind (2002)\n",
            "9135  Eros (2004)                           \n",
            "9468  Saturn 3 (1980)                       \n"
          ]
        }
      ],
      "source": [
        "# Sprawdzenie czy tytuły filmów się powtarzają\n",
        "duplicates = movies[movies.duplicated(subset=['title'], keep=False)]\n",
        "if duplicates.empty:\n",
        "    print(\"Nie ma powtarzających się tytułów filmów.\")\n",
        "else:\n",
        "    print(\"Powtarzające się tytuły filmów:\")\n",
        "    print(duplicates[['title']])\n"
      ]
    },
    {
      "cell_type": "code",
      "execution_count": null,
      "id": "b499069d",
      "metadata": {
        "id": "b499069d",
        "outputId": "7045be7e-de67-432d-bfe1-36b1aac94e8c"
      },
      "outputs": [
        {
          "name": "stdout",
          "output_type": "stream",
          "text": [
            "Nie ma powtarzających się ID filmów.\n"
          ]
        }
      ],
      "source": [
        "# Sprawdzenie czy ID filmów się powtarzają\n",
        "duplicates_id = movies[movies.duplicated(subset=['movieId'], keep=False)]\n",
        "if duplicates_id.empty:\n",
        "    print(\"Nie ma powtarzających się ID filmów.\")\n",
        "else:\n",
        "    print(\"Powtarzające się ID filmów:\")\n",
        "    print(duplicates_id[['movieId']])\n"
      ]
    },
    {
      "cell_type": "markdown",
      "id": "d8b8058d",
      "metadata": {
        "id": "d8b8058d"
      },
      "source": [
        "Kilka filmów ma ten sam tytuł ale inne ID. Zostawiam powtarzające się tytuły."
      ]
    },
    {
      "cell_type": "markdown",
      "id": "a141c8cf",
      "metadata": {
        "id": "a141c8cf"
      },
      "source": [
        "## Cross-Validation"
      ]
    },
    {
      "cell_type": "markdown",
      "id": "97e04322",
      "metadata": {
        "id": "97e04322"
      },
      "source": [
        "##### Wstępne przygotowanie danych do biblioteki 'Surprise'"
      ]
    },
    {
      "cell_type": "code",
      "execution_count": null,
      "id": "8bc16d52",
      "metadata": {
        "id": "8bc16d52"
      },
      "outputs": [],
      "source": [
        "min_rating = ratings.rating.min()\n",
        "max_rating = ratings.rating.max()\n",
        "\n",
        "reader = Reader(rating_scale=(min_rating, max_rating))\n",
        "\n",
        "data = Dataset.load_from_df(ratings[['userId', 'movieId', 'rating']], reader)\n",
        "\n",
        "trainset = data.build_full_trainset()"
      ]
    },
    {
      "cell_type": "markdown",
      "id": "3af7a98a",
      "metadata": {
        "id": "3af7a98a"
      },
      "source": [
        "Domyślne parametry modeli:\n",
        "\n",
        "    SVD(n_factors=100, n_epochs=20, biased=True, init_mean=0, init_std_dev=0.1, lr_all=0.005, reg_all=0.02, lr_bu=None, lr_bi=None, lr_pu=None, lr_qi=None, reg_bu=None, reg_bi=None, reg_pu=None, reg_qi=None, random_state=None, verbose=False)\n",
        "    \n",
        "    \n",
        "    KNNWithMeans(k=40, min_k=1, sim_options={}, verbose=True, **kwargs)"
      ]
    },
    {
      "cell_type": "code",
      "execution_count": null,
      "id": "df4894d3",
      "metadata": {
        "id": "df4894d3",
        "outputId": "fec8b7ec-99e0-4e3a-c369-e72303f12b26"
      },
      "outputs": [
        {
          "data": {
            "text/plain": [
              "<surprise.prediction_algorithms.matrix_factorization.SVD at 0x2050e96f0a0>"
            ]
          },
          "execution_count": 43,
          "metadata": {},
          "output_type": "execute_result"
        }
      ],
      "source": [
        "# train and fit SVD model\n",
        "svd = SVD()\n",
        "svd.fit(trainset)"
      ]
    },
    {
      "cell_type": "code",
      "execution_count": null,
      "id": "ed8cff04",
      "metadata": {
        "id": "ed8cff04",
        "outputId": "e3a39e41-2f9d-479a-c4a1-95a06b885890"
      },
      "outputs": [
        {
          "name": "stdout",
          "output_type": "stream",
          "text": [
            "Computing the msd similarity matrix...\n",
            "Done computing similarity matrix.\n"
          ]
        },
        {
          "data": {
            "text/plain": [
              "<surprise.prediction_algorithms.knns.KNNWithMeans at 0x20507988ee0>"
            ]
          },
          "execution_count": 37,
          "metadata": {},
          "output_type": "execute_result"
        }
      ],
      "source": [
        "# train and fit KNNWithMeans model\n",
        "kNNmean = KNNWithMeans()\n",
        "kNNmean.fit(trainset)"
      ]
    },
    {
      "cell_type": "code",
      "execution_count": null,
      "id": "85ce7333",
      "metadata": {
        "id": "85ce7333",
        "outputId": "a1ea8f01-fc7f-4ebd-ece6-e231eec6ee12"
      },
      "outputs": [
        {
          "name": "stdout",
          "output_type": "stream",
          "text": [
            "Computing the msd similarity matrix...\n",
            "Done computing similarity matrix.\n",
            "Computing the msd similarity matrix...\n",
            "Done computing similarity matrix.\n",
            "Computing the msd similarity matrix...\n",
            "Done computing similarity matrix.\n",
            "Computing the msd similarity matrix...\n",
            "Done computing similarity matrix.\n",
            "Computing the msd similarity matrix...\n",
            "Done computing similarity matrix.\n",
            "Computing the msd similarity matrix...\n",
            "Done computing similarity matrix.\n",
            "Computing the msd similarity matrix...\n",
            "Done computing similarity matrix.\n",
            "Computing the msd similarity matrix...\n",
            "Done computing similarity matrix.\n",
            "Computing the msd similarity matrix...\n",
            "Done computing similarity matrix.\n",
            "Computing the msd similarity matrix...\n",
            "Done computing similarity matrix.\n"
          ]
        },
        {
          "data": {
            "text/html": [
              "<div>\n",
              "<style scoped>\n",
              "    .dataframe tbody tr th:only-of-type {\n",
              "        vertical-align: middle;\n",
              "    }\n",
              "\n",
              "    .dataframe tbody tr th {\n",
              "        vertical-align: top;\n",
              "    }\n",
              "\n",
              "    .dataframe thead th {\n",
              "        text-align: right;\n",
              "    }\n",
              "</style>\n",
              "<table border=\"1\" class=\"dataframe\">\n",
              "  <thead>\n",
              "    <tr style=\"text-align: right;\">\n",
              "      <th></th>\n",
              "      <th>test_rmse</th>\n",
              "      <th>test_mae</th>\n",
              "      <th>fit_time</th>\n",
              "      <th>test_time</th>\n",
              "    </tr>\n",
              "    <tr>\n",
              "      <th>Algorithm</th>\n",
              "      <th></th>\n",
              "      <th></th>\n",
              "      <th></th>\n",
              "      <th></th>\n",
              "    </tr>\n",
              "  </thead>\n",
              "  <tbody>\n",
              "    <tr>\n",
              "      <th>SVD</th>\n",
              "      <td>0.868349</td>\n",
              "      <td>0.66638</td>\n",
              "      <td>1.446081</td>\n",
              "      <td>0.115279</td>\n",
              "    </tr>\n",
              "    <tr>\n",
              "      <th>KNNWithMeans</th>\n",
              "      <td>0.892419</td>\n",
              "      <td>0.68162</td>\n",
              "      <td>0.344927</td>\n",
              "      <td>0.961028</td>\n",
              "    </tr>\n",
              "  </tbody>\n",
              "</table>\n",
              "</div>"
            ],
            "text/plain": [
              "              test_rmse  test_mae  fit_time  test_time\n",
              "Algorithm                                             \n",
              "SVD           0.868349   0.66638   1.446081  0.115279 \n",
              "KNNWithMeans  0.892419   0.68162   0.344927  0.961028 "
            ]
          },
          "execution_count": 38,
          "metadata": {},
          "output_type": "execute_result"
        }
      ],
      "source": [
        "# Cross-Validation\n",
        "benchmark = []\n",
        "# iterate over all algorithms\n",
        "for algorithm in [svd, kNNmean]:\n",
        "\n",
        "    results = cross_validate(algorithm, data, measures=['RMSE', 'MAE'], cv=10, verbose=False)\n",
        "\n",
        "    # get results & create a new DF row\n",
        "    algorithm_name = str(algorithm).split(' ')[0].split('.')[-1]\n",
        "    tmp = pd.DataFrame.from_dict(results).mean(axis=0)\n",
        "    tmp['Algorithm'] = algorithm_name\n",
        "    benchmark.append(tmp)\n",
        "\n",
        "# create a DF from the benchmark list\n",
        "benchmark_df = pd.DataFrame(benchmark).set_index('Algorithm').sort_values('test_rmse')\n",
        "benchmark_df\n"
      ]
    },
    {
      "cell_type": "markdown",
      "id": "b18b1523",
      "metadata": {
        "id": "b18b1523"
      },
      "source": [
        "Na domyślnych parametrach lepszym wyborem jest model `SVD`."
      ]
    },
    {
      "cell_type": "markdown",
      "id": "f656495f",
      "metadata": {
        "id": "f656495f"
      },
      "source": [
        "#### Hiperparametryzacja"
      ]
    },
    {
      "cell_type": "code",
      "execution_count": null,
      "id": "f64387db",
      "metadata": {
        "id": "f64387db",
        "outputId": "36069c56-1b9a-44e8-eccc-91d594a0de8a"
      },
      "outputs": [
        {
          "name": "stdout",
          "output_type": "stream",
          "text": [
            "MAE Best Score:       0.6813787949606299\n",
            "\n",
            "RMSE Best Score:      0.8985195878216619\n",
            "\n",
            "Best Parameters: {'k': 6, 'sim_options': {'name': 'pearson_baseline', 'user_based': False}}\n"
          ]
        }
      ],
      "source": [
        "# Hyperparameter tuning - KNNWithMeans\n",
        "param_grid = {\n",
        "    'k': [2, 3, 4, 5, 6],\n",
        "    'sim_options': {\n",
        "        'name': ['cosine', 'pearson', 'pearson_baseline'],\n",
        "        'user_based': [True, False],\n",
        "    }\n",
        "}\n",
        "\n",
        "\n",
        "grid_search_KNNWithMeans = GridSearchCV(KNNWithMeans, param_grid, measures=['mae', 'rmse'], \\\n",
        "                                      cv=10, n_jobs=-1)\n",
        "\n",
        "grid_search_KNNWithMeans.fit(data)\n",
        "\n",
        "print(f'MAE Best Score:       {grid_search_KNNWithMeans.best_score[\"mae\"]}\\n')\n",
        "print(f'RMSE Best Score:      {grid_search_KNNWithMeans.best_score[\"rmse\"]}\\n')\n",
        "print(f'Best Parameters: {grid_search_KNNWithMeans.best_params[\"rmse\"]}')\n"
      ]
    },
    {
      "cell_type": "code",
      "execution_count": null,
      "id": "e8da2b98",
      "metadata": {
        "id": "e8da2b98",
        "outputId": "49d5d677-4206-4edd-85da-827c199738ff"
      },
      "outputs": [
        {
          "name": "stdout",
          "output_type": "stream",
          "text": [
            "Best RMSE score: 0.848886435886724\n",
            "Best MAE score: 0.6503793898760627\n",
            "Best parameters: {'n_factors': 150, 'n_epochs': 30, 'lr_all': 0.008, 'reg_all': 0.06}\n"
          ]
        }
      ],
      "source": [
        "\n",
        "param_grid = {\n",
        "    'n_factors': [50, 100, 150],\n",
        "    'n_epochs': [10, 20, 30],\n",
        "    'lr_all': [0.002, 0.005, 0.008],\n",
        "    'reg_all': [0.02, 0.04, 0.06]\n",
        "}\n",
        "\n",
        "# Inicjalizacja modelu SVD\n",
        "svd = SVD()\n",
        "\n",
        "# Inicjalizacja grid search\n",
        "grid_search_SVD = GridSearchCV(SVD, param_grid, measures=['rmse', 'mae'], cv=10)\n",
        "\n",
        "# Przeszukiwanie siatki hiperparametrów\n",
        "grid_search_SVD.fit(data)\n",
        "\n",
        "# Wydrukowanie najlepszych wyników\n",
        "print(\"Best RMSE score:\", grid_search_SVD.best_score['rmse'])\n",
        "print(\"Best MAE score:\", grid_search_SVD.best_score['mae'])\n",
        "print(\"Best parameters:\", grid_search_SVD.best_params['rmse'])\n"
      ]
    },
    {
      "cell_type": "code",
      "execution_count": null,
      "id": "7a04a16a",
      "metadata": {
        "id": "7a04a16a"
      },
      "outputs": [],
      "source": [
        "params_knn = grid_search_KNNWithMeans.best_params['rmse']\n",
        "\n",
        "params_svd = grid_search_SVD.best_params['rmse']"
      ]
    },
    {
      "cell_type": "code",
      "execution_count": null,
      "id": "6fc533a9",
      "metadata": {
        "id": "6fc533a9",
        "outputId": "63d84e50-8358-4331-b538-ca6337bab566"
      },
      "outputs": [
        {
          "data": {
            "text/plain": [
              "{'k': 6, 'sim_options': {'name': 'pearson_baseline', 'user_based': False}}"
            ]
          },
          "execution_count": 59,
          "metadata": {},
          "output_type": "execute_result"
        }
      ],
      "source": [
        "params_knn"
      ]
    },
    {
      "cell_type": "code",
      "execution_count": null,
      "id": "7ab74e16",
      "metadata": {
        "id": "7ab74e16",
        "outputId": "09a476e9-cdcc-4e04-b5d5-83d969e76514"
      },
      "outputs": [
        {
          "data": {
            "text/plain": [
              "{'n_factors': 150, 'n_epochs': 30, 'lr_all': 0.008, 'reg_all': 0.06}"
            ]
          },
          "execution_count": 48,
          "metadata": {},
          "output_type": "execute_result"
        }
      ],
      "source": [
        "params_svd"
      ]
    },
    {
      "cell_type": "code",
      "execution_count": null,
      "id": "e11eec80",
      "metadata": {
        "id": "e11eec80",
        "outputId": "c0b23491-876e-41a8-e976-f28775e0d27d"
      },
      "outputs": [
        {
          "name": "stdout",
          "output_type": "stream",
          "text": [
            "Estimating biases using als...\n",
            "Computing the pearson_baseline similarity matrix...\n",
            "Done computing similarity matrix.\n"
          ]
        },
        {
          "data": {
            "text/plain": [
              "<surprise.prediction_algorithms.knns.KNNWithMeans at 0x14723a0b460>"
            ]
          },
          "execution_count": 12,
          "metadata": {},
          "output_type": "execute_result"
        }
      ],
      "source": [
        "# train and fit models with hyperparameters\n",
        "sim_options = {\n",
        "        \"k\": 6,\n",
        "        \"name\": \"pearson_baseline\",\n",
        "        \"user_based\": False,\n",
        "    }\n",
        "\n",
        "kNNmean = KNNWithMeans(sim_options=sim_options)\n",
        "kNNmean.fit(trainset)"
      ]
    },
    {
      "cell_type": "code",
      "execution_count": null,
      "id": "86bb03f5",
      "metadata": {
        "id": "86bb03f5",
        "outputId": "ba6bc068-3d9a-4126-a35b-ce6c29667ae7"
      },
      "outputs": [
        {
          "data": {
            "text/plain": [
              "<surprise.prediction_algorithms.matrix_factorization.SVD at 0x14723a758d0>"
            ]
          },
          "execution_count": 14,
          "metadata": {},
          "output_type": "execute_result"
        }
      ],
      "source": [
        "params_svd = {'n_factors': 150, 'n_epochs': 30, 'lr_all': 0.008, 'reg_all': 0.06}\n",
        "\n",
        "svd = SVD(n_factors=params_svd['n_factors'], n_epochs=params_svd['n_epochs'],\n",
        "          lr_all=params_svd['lr_all'], reg_all=params_svd['reg_all'])\n",
        "\n",
        "svd.fit(trainset)"
      ]
    },
    {
      "cell_type": "markdown",
      "id": "41ffc868",
      "metadata": {
        "id": "41ffc868"
      },
      "source": [
        "Po hiperparametryzacji również algorytm `SVD` uzyskał lepsze wyniki."
      ]
    },
    {
      "cell_type": "markdown",
      "id": "7a838ae0",
      "metadata": {
        "id": "7a838ae0"
      },
      "source": [
        "### SVD"
      ]
    },
    {
      "cell_type": "code",
      "execution_count": null,
      "id": "8182a3cf",
      "metadata": {
        "id": "8182a3cf"
      },
      "outputs": [],
      "source": [
        "# #USER-BASED\n",
        "# def get_recommendations_svd(ratings_df, movies_df, n, movie_id):\n",
        "#     \"\"\"\n",
        "#     Generates movie recommendations for users based on their ratings using the SVD algorithm.\n",
        "\n",
        "#     This function is user-focused. It takes a movie ID and recommends other movies that might be liked\n",
        "#     by users who rated the given movie highly.\n",
        "#     It does this by predicting ratings for all users for the given movie, selecting the users who\n",
        "#     have the highest predicted ratings, and then recommending other movies that these users have rated highly.\n",
        "\n",
        "#     Args:\n",
        "#         ratings_df: pandas DataFrame containing user ratings for movies, containing 'userId', 'movieId', 'rating' columns\n",
        "#         movies_df: pandas DataFrame containing information about movies, containing 'movieId', 'title' columns\n",
        "#         n: number of films to be recommended\n",
        "#         movie_id: identifier of the film for which recommendations are generated\n",
        "\n",
        "#     Returns:\n",
        "#         recommended_titles: List of titles of recommended films\n",
        "#     \"\"\"\n",
        "\n",
        "#     # Create a Surprise reader and load data\n",
        "#     reader = Reader(rating_scale=(0.5, 5))\n",
        "#     data = Dataset.load_from_df(ratings_df[['userId', 'movieId', 'rating']], reader)\n",
        "\n",
        "#     # Build the trainset\n",
        "#     trainset = data.build_full_trainset()\n",
        "\n",
        "#     # Initialize the SVD model\n",
        "#     model = SVD(random_state=0)\n",
        "\n",
        "#     # Fit the model to the data\n",
        "#     model.fit(trainset)\n",
        "\n",
        "#     # Get movie title and genres for the selected movie\n",
        "#     movie_info = movies_df[movies_df['movieId'] == movie_id]\n",
        "#     movie_title = movie_info['title'].values[0]\n",
        "#     movie_genres = movie_info['genres'].values[0]\n",
        "\n",
        "#     # Create a DataFrame with all user IDs and the given movie ID\n",
        "#     all_user_ids = ratings_df['userId'].unique()\n",
        "#     users_who_rated_movie = pd.DataFrame({\n",
        "#         'userId': all_user_ids,\n",
        "#         'movieId': [movie_id] * len(all_user_ids),\n",
        "#         'rating': [0] * len(all_user_ids)\n",
        "#     })\n",
        "\n",
        "#     # Predict ratings for users who have rated the given movie\n",
        "#     users_who_rated_movie['predicted_rating'] = users_who_rated_movie['userId'].apply(\n",
        "#         lambda x: model.predict(x, movie_id).est\n",
        "#     )\n",
        "\n",
        "#     # Sort users by predicted ratings\n",
        "#     recommended_users = users_who_rated_movie.sort_values(by='predicted_rating', ascending=False).head(n)\n",
        "\n",
        "#     # Get recommended movie titles (excluding the input movie)\n",
        "#     recommended_titles = ratings_df[\n",
        "#         (ratings_df['userId'].isin(recommended_users['userId'])) & (ratings_df['movieId'] != movie_id)\n",
        "#     ].merge(movies_df, on='movieId')['title'].unique()[:n]\n",
        "\n",
        "#     return recommended_titles\n"
      ]
    },
    {
      "cell_type": "code",
      "execution_count": null,
      "id": "27fdc838",
      "metadata": {
        "id": "27fdc838"
      },
      "outputs": [],
      "source": [
        "def get_similar_movies_svd(movie_id, n):\n",
        "\n",
        "    \"\"\"\n",
        "    Finds other movies that are similar to the given movie based on their latent factors in the SVD model.\n",
        "\n",
        "    This function is item-focused. It takes a movie ID and finds other movies that are similar to the given\n",
        "    movie based on their latent factors in the SVD model.\n",
        "    It computes the cosine similarity between the latent factors of the given movie and all other movies,\n",
        "    and returns the movies with the highest similarity scores.\n",
        "\n",
        "    Args:\n",
        "        movie_id: Identifier of the film for which similar movies are to be found\n",
        "        n: Number of similar films to be found\n",
        "\n",
        "    Returns:\n",
        "        recommended_titles: List of titles of recommended films\n",
        "    \"\"\"\n",
        "\n",
        "    trainset = data.build_full_trainset()\n",
        "\n",
        "    # get latent factors for the specified movie\n",
        "    movie_factors = svd.qi[svd.trainset.to_inner_iid(movie_id)]\n",
        "\n",
        "    # Compute cosine similarity between the specified movie and all other movies\n",
        "    similarities = cosine_similarity([movie_factors], svd.qi)\n",
        "\n",
        "    # Get indices of top similar movies\n",
        "    similar_movie_indices = np.argsort(similarities[0])[-n-1:-1][::-1]\n",
        "\n",
        "    # Construct a list of similar movies\n",
        "    similar_movies = []\n",
        "    for idx in similar_movie_indices:\n",
        "        similar_movie_id = svd.trainset.to_raw_iid(idx)\n",
        "        similar_movie_name = movies[movies['movieId'] == similar_movie_id]['title'].iloc[0]\n",
        "        similar_movies.append(similar_movie_name)\n",
        "\n",
        "    return similar_movies\n"
      ]
    },
    {
      "cell_type": "code",
      "execution_count": null,
      "id": "4946a104",
      "metadata": {
        "id": "4946a104",
        "outputId": "f146f31d-0a67-492d-9e29-8755de111e30"
      },
      "outputs": [
        {
          "name": "stdout",
          "output_type": "stream",
          "text": [
            "Because you watched Jumanji (1995) (Adventure, Children, Fantasy):\n",
            "\n",
            "* Back to the Future Part III (1990) (Adventure, Comedy, Sci-Fi, Western)\n",
            "* Broken Arrow (1996) (Action, Adventure, Thriller)\n",
            "* Saint Ralph (2004) (Comedy, Drama)\n",
            "* Back to the Future Part II (1989) (Adventure, Comedy, Sci-Fi)\n",
            "* Mrs. Doubtfire (1993) (Comedy, Drama)\n"
          ]
        }
      ],
      "source": [
        "# ITEM BASED\n",
        "# define which movie ID that we want to give recommendation\n",
        "movie_id = 2\n",
        "# how many similar movies return\n",
        "n = 5\n",
        "\n",
        "# get movie title and genres for the selected movie\n",
        "movie_info = movies[movies['movieId'] == movie_id]\n",
        "movie_title = movie_info['title'].values[0]\n",
        "movie_genres = movie_info['genres'].values[0]\n",
        "\n",
        "# get recommended titles\n",
        "recommended_titles = get_similar_movies_svd(movie_id, n)\n",
        "\n",
        "print(f'Because you watched {movie_title} ({\", \".join(movie_genres.split(\"|\"))}):\\n')\n",
        "for title in recommended_titles:\n",
        "    recommended_movie_info = movies[movies['title'] == title]\n",
        "    if not recommended_movie_info.empty:\n",
        "        recommended_genres = recommended_movie_info['genres'].values[0]\n",
        "        print(f'* {title} ({\", \".join(recommended_genres.split(\"|\"))})')\n",
        "    else:\n",
        "        print(f'* {title}')\n"
      ]
    },
    {
      "cell_type": "code",
      "execution_count": null,
      "id": "667cc282",
      "metadata": {
        "id": "667cc282",
        "outputId": "6fdb9307-3f1e-4f31-c63b-c50e0ade89c3"
      },
      "outputs": [
        {
          "name": "stdout",
          "output_type": "stream",
          "text": [
            "Because you watched Flint (2017) (Drama):\n",
            "\n",
            "* My Scientology Movie (2016) (Documentary)\n",
            "* Three Burials of Melquiades Estrada, The (2006) (Adventure, Crime, Drama)\n",
            "* Peter Pan (2003) (Action, Adventure, Children, Fantasy)\n",
            "* Bubba Ho-tep (2002) (Comedy, Horror)\n",
            "* Stepfather, The (1987) (Horror, Thriller)\n"
          ]
        }
      ],
      "source": [
        "# ITEM BASED\n",
        "# define which movie ID that we want to give recommendation\n",
        "movie_id = 193585\n",
        "# how many similar movies return\n",
        "n = 5\n",
        "\n",
        "# get movie title and genres for the selected movie\n",
        "movie_info = movies[movies['movieId'] == movie_id]\n",
        "movie_title = movie_info['title'].values[0]\n",
        "movie_genres = movie_info['genres'].values[0]\n",
        "\n",
        "# get recommended titles\n",
        "recommended_titles = get_similar_movies_svd(movie_id, n)\n",
        "\n",
        "print(f'Because you watched {movie_title} ({\", \".join(movie_genres.split(\"|\"))}):\\n')\n",
        "for title in recommended_titles:\n",
        "    recommended_movie_info = movies[movies['title'] == title]\n",
        "    if not recommended_movie_info.empty:\n",
        "        recommended_genres = recommended_movie_info['genres'].values[0]\n",
        "        print(f'* {title} ({\", \".join(recommended_genres.split(\"|\"))})')\n",
        "    else:\n",
        "        print(f'* {title}')\n"
      ]
    },
    {
      "cell_type": "markdown",
      "id": "e37f1c9b",
      "metadata": {
        "id": "e37f1c9b"
      },
      "source": [
        "### kNNwithMeans"
      ]
    },
    {
      "cell_type": "code",
      "execution_count": null,
      "id": "18fd3681",
      "metadata": {
        "id": "18fd3681"
      },
      "outputs": [],
      "source": [
        "# DZIAŁA! SPRAWDZIĆ DLACZEGO!!\n",
        "def recommend_movies_knn(movie_id, n_neighbors):\n",
        "\n",
        "    '''\n",
        "    Function to recommend movies based on kNN algorithm with averages.\n",
        "\n",
        "    Args:\n",
        "        movie_id: ID of the movie for which we want to find similar movies\n",
        "        n_neighbors: The number of movies to recommend\n",
        "\n",
        "    Returns:\n",
        "        Message: List of movie recommendations based on similarity to the reference movie.\n",
        "    '''\n",
        "\n",
        "    # Konwersja raw_id na inner_id\n",
        "    inner_id = kNNmean.trainset.to_inner_iid(movie_id)\n",
        "\n",
        "    # Znalezienie najbliższych sąsiadów filmu\n",
        "    neighbors = kNNmean.get_neighbors(inner_id, k=n_neighbors)\n",
        "\n",
        "    # Wypisanie tytułów n najbliższych sąsiadów\n",
        "    movie_info = movies[movies['movieId'] == movie_id]\n",
        "    movie_title = movie_info['title'].values[0]\n",
        "    movie_genres = movie_info['genres'].values[0]\n",
        "\n",
        "    print(f'Because you watched {movie_title} ({\", \".join(movie_genres.split(\"|\"))}):\\n')\n",
        "    for neighbor in neighbors:\n",
        "        recommended_movie_info = movies[movies['movieId'] == kNNmean.trainset.to_raw_iid(neighbor)]\n",
        "        if not recommended_movie_info.empty:\n",
        "            recommended_title = recommended_movie_info['title'].values[0]\n",
        "            recommended_genres = recommended_movie_info['genres'].values[0]\n",
        "            print(f'* {recommended_title} ({\", \".join(recommended_genres.split(\"|\"))})')\n",
        "        else:\n",
        "            print(f'* {recommended_title}')\n"
      ]
    },
    {
      "cell_type": "code",
      "execution_count": null,
      "id": "7a00ae84",
      "metadata": {
        "id": "7a00ae84",
        "outputId": "b19ff756-0595-4f69-e259-562d020dad77"
      },
      "outputs": [
        {
          "name": "stdout",
          "output_type": "stream",
          "text": [
            "Because you watched Jumanji (1995) (Adventure, Children, Fantasy):\n",
            "\n",
            "* Mrs. Doubtfire (1993) (Comedy, Drama)\n",
            "* Mask, The (1994) (Action, Comedy, Crime, Fantasy)\n",
            "* Back to the Future (1985) (Adventure, Comedy, Sci-Fi)\n",
            "* Liar Liar (1997) (Comedy)\n",
            "* True Lies (1994) (Action, Adventure, Comedy, Romance, Thriller)\n",
            "* Casper (1995) (Adventure, Children)\n"
          ]
        }
      ],
      "source": [
        "# Jumanji\n",
        "recommend_movies_knn(2, 6)"
      ]
    },
    {
      "cell_type": "code",
      "execution_count": null,
      "id": "928acfe1",
      "metadata": {
        "id": "928acfe1",
        "outputId": "8806bfe7-dd98-4a73-e9fd-db50192c9d0d"
      },
      "outputs": [
        {
          "name": "stdout",
          "output_type": "stream",
          "text": [
            "Because you watched Flint (2017) (Drama):\n",
            "\n",
            "* Toy Story (1995) (Adventure, Animation, Children, Comedy, Fantasy)\n",
            "* Grumpier Old Men (1995) (Comedy, Romance)\n",
            "* Heat (1995) (Action, Crime, Thriller)\n",
            "* Seven (a.k.a. Se7en) (1995) (Mystery, Thriller)\n",
            "* Usual Suspects, The (1995) (Crime, Mystery, Thriller)\n",
            "* From Dusk Till Dawn (1996) (Action, Comedy, Horror, Thriller)\n"
          ]
        }
      ],
      "source": [
        "# Flint\n",
        "recommend_movies_knn(193585, 6)"
      ]
    },
    {
      "cell_type": "markdown",
      "id": "476fb862",
      "metadata": {
        "id": "476fb862"
      },
      "source": [
        "## Rekomendacje"
      ]
    },
    {
      "cell_type": "markdown",
      "id": "210f30a2",
      "metadata": {
        "id": "210f30a2"
      },
      "source": [
        "### SVD\n",
        "\n",
        "| Rekomendacje dla Jumanji (1995) (Adventure, Children, Fantasy): | |\n",
        "|---|---|\n",
        "| Back to the Future Part III (1990) | Adventure, Comedy, Sci-Fi, Western |\n",
        "| Broken Arrow (1996) | Action, Adventure, Thriller |\n",
        "| Saint Ralph (2004) | Comedy, Drama |\n",
        "| Back to the Future Part II (1989) | Adventure, Comedy, Sci-Fi |\n",
        "| Mrs. Doubtfire (1993) | Comedy, Drama |\n",
        "\n",
        "\n",
        "| Rekomendacje dla Flint (2017) (Drama): | |\n",
        "|---|---|\n",
        "| My Scientology Movie (2016) | Documentary |\n",
        "| Three Burials of Melquiades Estrada, The (2006) | Adventure, Crime, Drama |\n",
        "| Peter Pan (2003) | Action, Adventure, Children, Fantasy |\n",
        "| Bubba Ho-tep (2002) | Comedy, Horror |\n",
        "| Stepfather, The (1987) | Horror, Thriller |\n",
        "\n",
        "\n"
      ]
    },
    {
      "cell_type": "markdown",
      "id": "0b0b784e",
      "metadata": {
        "id": "0b0b784e"
      },
      "source": [
        "### kNNWithMeans\n",
        "\n",
        "| Rekomendacje dla Jumanji (1995) (Adventure, Children, Fantasy): \t | |\n",
        "|---|---|\n",
        "| Mrs. Doubtfire (1993) | Comedy, Drama |\n",
        "| Mask, The (1994) | Action, Comedy, Crime, Fantasy |\n",
        "| Back to the Future (1985) | Adventure, Comedy, Sci-Fi |\n",
        "| Liar Liar (1997) | Comedy |\n",
        "| True Lies (1994) | Action, Adventure, Comedy, Romance, Thriller |\n",
        "| Casper (1995) | Adventure, Children |\n",
        "\n",
        "\n",
        "\n",
        "| Rekomendacje dla Flint (2017) (Drama): | |\n",
        "|---|---|\n",
        "| Toy Story (1995) | Adventure, Animation, Children, Comedy, Fantasy |\n",
        "| Grumpier Old Men (1995) | Comedy, Romance |\n",
        "| Heat (1995) | Action, Crime, Thriller |\n",
        "| Seven (a.k.a. Se7en) (1995) | Mystery, Thriller |\n",
        "| Usual Suspects, The (1995) | Crime, Mystery, Thriller |\n",
        "| From Dusk Till Dawn (1996) | Action, Comedy, Horror, Thriller |\n"
      ]
    },
    {
      "cell_type": "markdown",
      "id": "6a2b118d",
      "metadata": {
        "id": "6a2b118d"
      },
      "source": [
        "## Różnica między kNNWithMeans a standardowym kNN"
      ]
    },
    {
      "cell_type": "markdown",
      "id": "3ae241c0",
      "metadata": {
        "id": "3ae241c0"
      },
      "source": [
        "#### Czym różni się algorytm kNN with means od standardowego kNN?"
      ]
    },
    {
      "cell_type": "markdown",
      "id": "5475ec3a",
      "metadata": {
        "id": "5475ec3a"
      },
      "source": [
        "**Standardowy kNN:** Standardowy algorytm kNN klasyfikuje nowy punkt danych na podstawie etykiety klasy większościowej jego k najbliższych sąsiadów w szkoleniowym zbiorze danych. Wykorzystuje metrykę odległości do pomiaru podobieństwa między nowym punktem danych a istniejącymi punktami danych. Wartość k jest hiperparametrem, który możemy wybrać na podstawie charakterystyki danych i danego problemu\n",
        "\n",
        "**kNN ze średnimi:** Jest to odmiana algorytmu kNN często używanego w filtrowaniu kolaboracyjnym w systemach rekomendacji. Kluczową różnicą jest to, że uwzględnia on średnią ocenę każdego użytkownika (lub elementu) podczas dokonywania prognozy. Pomaga to skorygować użytkowników, którzy zawsze wystawiają wysokie lub niskie oceny. Na przykład, jeśli użytkownik ma tendencję do surowego oceniania filmów, 4-gwiazdkowa ocena od niego może być równoważna 5-gwiazdkowej ocenie od bardziej łagodnego użytkownika. Odejmując średnią ocenę użytkownika przed dokonaniem prognozy, a następnie dodając ją z powrotem, algorytm kNN ze średnimi może tworzyć dokładniejsze rekomendacje.\n",
        "\n",
        "**Podsumowując** , podczas gdy oba algorytmy opierają się na koncepcji znajdowania \"sąsiadów\" w danych, standardowy algorytm kNN jest zwykle używany do zadań klasyfikacji lub regresji, podczas gdy kNN ze średnimi jest często używany w systemach rekomendacji w celu uwzględnienia stronniczości użytkownika.\n",
        "\n"
      ]
    }
  ],
  "metadata": {
    "kernelspec": {
      "display_name": "Python 3 (ipykernel)",
      "language": "python",
      "name": "python3"
    },
    "language_info": {
      "codemirror_mode": {
        "name": "ipython",
        "version": 3
      },
      "file_extension": ".py",
      "mimetype": "text/x-python",
      "name": "python",
      "nbconvert_exporter": "python",
      "pygments_lexer": "ipython3",
      "version": "3.10.11"
    },
    "colab": {
      "provenance": [],
      "include_colab_link": true
    }
  },
  "nbformat": 4,
  "nbformat_minor": 5
}