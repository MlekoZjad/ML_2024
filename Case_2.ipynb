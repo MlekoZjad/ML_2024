{
  "cells": [
    {
      "cell_type": "markdown",
      "metadata": {
        "id": "view-in-github",
        "colab_type": "text"
      },
      "source": [
        "<a href=\"https://colab.research.google.com/github/kkarolina71/ML_2024/blob/Case-2/Case_2.ipynb\" target=\"_parent\"><img src=\"https://colab.research.google.com/assets/colab-badge.svg\" alt=\"Open In Colab\"/></a>"
      ]
    },
    {
      "cell_type": "markdown",
      "id": "553520f7",
      "metadata": {
        "id": "553520f7"
      },
      "source": [
        "## Case 2 - movie recommender system"
      ]
    },
    {
      "cell_type": "markdown",
      "id": "5c661c65",
      "metadata": {
        "id": "5c661c65"
      },
      "source": [
        "1. Przegląd danych:\n",
        "\n",
        "   * Podaj liczbę filmów Sci-Fi\n",
        "   * Pokaż rozkład ocen komedii\n",
        "   * Podaj średnią ocen wszystkich filmów akcji oraz 3 filmy najwyżej ocenianych\n",
        "\n",
        "\n",
        "\n",
        "\n",
        "\n",
        "2. System rekomendacyjny\n",
        "\n",
        "   * Zbuduj system na podstawie algorytmu SVD oraz kNNwithMeans\n",
        "   * Czym różni się algorytm kNN with means od standardowego kNN?\n",
        "   * Wykorzystaj metodę hiperparametryzacji GridSearch do wyboru liczby sąsiadów od 2-6\n",
        "   * W ocenie metod wykorzystaj walidację krzyżową\n",
        "\n",
        "3. Podaj rekomendacje po obejrzeniu filmu: Jumanji  oraz Flint"
      ]
    },
    {
      "cell_type": "markdown",
      "id": "e79af605",
      "metadata": {
        "id": "e79af605"
      },
      "source": [
        "\n",
        "**[Ogólny przegląd danych](#Ogólny-przegląd-danych)**\n",
        "<br>\n",
        "  *  [1. Liczba filmów Sci-Fi](#1.-Liczba-filmów-Sci-Fi)\n",
        "<br>\n",
        "  *  [2. Pokaż rozkład ocen komedii](#2.-Pokaż-rozkład-ocen-komedii)\n",
        "<br>\n",
        "  *  [3. Podaj średnią ocen wszystkich filmów akcji oraz 3 filmy najwyżej ocenianych](#3.-Podaj-średnią-ocen-wszystkich-filmów-akcji-oraz-3-filmy-najwyżej-ocenianych)\n",
        "<br>\n",
        "\n",
        "**[System rekomendacyjny](#System-rekomendacyjny)**\n",
        " <br>\n",
        "  * [Znajdź ID filmu po tytule](#Znajdź-ID-filmu-po-tytule)\n",
        " <br>\n",
        "  * [Cross-Validation](#Cross-Validation)\n",
        " <br>\n",
        "  * [Hiperparametryzacja](#Hiperparametryzacja)\n",
        " <br>\n",
        "  * [SVD](#SVD)\n",
        " <br>\n",
        "  * [kNNwithMeans](#kNNwithMeans)\n",
        " <br>\n",
        "  * [Rekomendacje](#Rekomendacje)\n",
        "  <br>\n",
        "  * [Różnica między kNNWithMeans a standardowym kNN](#Różnica-między-kNNWithMeans-a-standardowym-kNN)\n"
      ]
    },
    {
      "cell_type": "markdown",
      "id": "8b4ea7c6",
      "metadata": {
        "id": "8b4ea7c6"
      },
      "source": [
        "## Biblioteki"
      ]
    },
    {
      "cell_type": "code",
      "execution_count": null,
      "id": "f3c32bb5",
      "metadata": {
        "id": "f3c32bb5"
      },
      "outputs": [],
      "source": [
        "import pandas as pd\n",
        "import matplotlib.pyplot as plt\n",
        "import seaborn as sns\n",
        "import numpy as np\n",
        "\n",
        "from surprise.model_selection import cross_validate, GridSearchCV, train_test_split\n",
        "from surprise.prediction_algorithms import SVD, KNNWithMeans, KNNBaseline\n",
        "from surprise.dataset import DatasetAutoFolds\n",
        "from surprise import (\n",
        "    Dataset,\n",
        "    Reader,\n",
        "    accuracy,\n",
        ")\n",
        "\n",
        "from sklearn.metrics.pairwise import cosine_similarity\n",
        "\n",
        "\n",
        "from scipy.sparse import csr_matrix\n",
        "from sklearn.neighbors import NearestNeighbors\n",
        "\n",
        "pd.set_option('display.max_colwidth', None) #  show full title\n",
        "pd.set_option('display.max_columns', None)  # display any number of columns\n",
        "pd.set_option('display.expand_frame_repr', False)  # prevent line breaking\n",
        "pd.set_option('max_colwidth', 1)  # display full column content"
      ]
    },
    {
      "cell_type": "code",
      "execution_count": null,
      "id": "47ab97d6",
      "metadata": {
        "id": "47ab97d6"
      },
      "outputs": [],
      "source": [
        "ratings = pd.read_csv('https://s3-us-west-2.amazonaws.com/recommender-tutorial/ratings.csv')\n",
        "movies = pd.read_csv('https://s3-us-west-2.amazonaws.com/recommender-tutorial/movies.csv')"
      ]
    },
    {
      "cell_type": "markdown",
      "id": "c1f18723",
      "metadata": {
        "id": "c1f18723"
      },
      "source": [
        "### Ogólny przegląd danych"
      ]
    },
    {
      "cell_type": "code",
      "execution_count": null,
      "id": "a1b180db",
      "metadata": {
        "id": "a1b180db",
        "outputId": "52c8f6e5-ea3b-4f5a-ce30-25b9dbdecd33"
      },
      "outputs": [
        {
          "name": "stdout",
          "output_type": "stream",
          "text": [
            "\n",
            "Całkowita liczba ocen : 100836\n",
            "Całkowita liczba użytkowników   : 610\n",
            "Całkowita liczba filmów  : 9742\n"
          ]
        }
      ],
      "source": [
        "print(\"\\nCałkowita liczba ocen :\",ratings.shape[0])\n",
        "print(\"Całkowita liczba użytkowników   :\", len(np.unique(ratings.userId)))\n",
        "print(\"Całkowita liczba filmów  :\", len(np.unique(movies.movieId)))"
      ]
    },
    {
      "cell_type": "code",
      "execution_count": null,
      "id": "bd716cb3",
      "metadata": {
        "id": "bd716cb3",
        "outputId": "b06aa7f4-37af-4cea-a9df-468eb3aa4287"
      },
      "outputs": [
        {
          "data": {
            "text/html": [
              "<div>\n",
              "<style scoped>\n",
              "    .dataframe tbody tr th:only-of-type {\n",
              "        vertical-align: middle;\n",
              "    }\n",
              "\n",
              "    .dataframe tbody tr th {\n",
              "        vertical-align: top;\n",
              "    }\n",
              "\n",
              "    .dataframe thead th {\n",
              "        text-align: right;\n",
              "    }\n",
              "</style>\n",
              "<table border=\"1\" class=\"dataframe\">\n",
              "  <thead>\n",
              "    <tr style=\"text-align: right;\">\n",
              "      <th></th>\n",
              "      <th>userId</th>\n",
              "      <th>movieId</th>\n",
              "      <th>rating</th>\n",
              "      <th>timestamp</th>\n",
              "    </tr>\n",
              "  </thead>\n",
              "  <tbody>\n",
              "    <tr>\n",
              "      <th>0</th>\n",
              "      <td>1</td>\n",
              "      <td>1</td>\n",
              "      <td>4.0</td>\n",
              "      <td>964982703</td>\n",
              "    </tr>\n",
              "    <tr>\n",
              "      <th>1</th>\n",
              "      <td>1</td>\n",
              "      <td>3</td>\n",
              "      <td>4.0</td>\n",
              "      <td>964981247</td>\n",
              "    </tr>\n",
              "    <tr>\n",
              "      <th>2</th>\n",
              "      <td>1</td>\n",
              "      <td>6</td>\n",
              "      <td>4.0</td>\n",
              "      <td>964982224</td>\n",
              "    </tr>\n",
              "    <tr>\n",
              "      <th>3</th>\n",
              "      <td>1</td>\n",
              "      <td>47</td>\n",
              "      <td>5.0</td>\n",
              "      <td>964983815</td>\n",
              "    </tr>\n",
              "    <tr>\n",
              "      <th>4</th>\n",
              "      <td>1</td>\n",
              "      <td>50</td>\n",
              "      <td>5.0</td>\n",
              "      <td>964982931</td>\n",
              "    </tr>\n",
              "  </tbody>\n",
              "</table>\n",
              "</div>"
            ],
            "text/plain": [
              "   userId  movieId  rating  timestamp\n",
              "0  1       1        4.0     964982703\n",
              "1  1       3        4.0     964981247\n",
              "2  1       6        4.0     964982224\n",
              "3  1       47       5.0     964983815\n",
              "4  1       50       5.0     964982931"
            ]
          },
          "execution_count": 37,
          "metadata": {},
          "output_type": "execute_result"
        }
      ],
      "source": [
        "ratings.head()"
      ]
    },
    {
      "cell_type": "code",
      "execution_count": null,
      "id": "a1887974",
      "metadata": {
        "id": "a1887974",
        "outputId": "9a824c45-0265-4594-e2ff-ca4e498879d7"
      },
      "outputs": [
        {
          "data": {
            "text/html": [
              "<div>\n",
              "<style scoped>\n",
              "    .dataframe tbody tr th:only-of-type {\n",
              "        vertical-align: middle;\n",
              "    }\n",
              "\n",
              "    .dataframe tbody tr th {\n",
              "        vertical-align: top;\n",
              "    }\n",
              "\n",
              "    .dataframe thead th {\n",
              "        text-align: right;\n",
              "    }\n",
              "</style>\n",
              "<table border=\"1\" class=\"dataframe\">\n",
              "  <thead>\n",
              "    <tr style=\"text-align: right;\">\n",
              "      <th></th>\n",
              "      <th>movieId</th>\n",
              "      <th>title</th>\n",
              "      <th>genres</th>\n",
              "    </tr>\n",
              "  </thead>\n",
              "  <tbody>\n",
              "    <tr>\n",
              "      <th>0</th>\n",
              "      <td>1</td>\n",
              "      <td>Toy Story (1995)</td>\n",
              "      <td>Adventure|Animation|Children|Comedy|Fantasy</td>\n",
              "    </tr>\n",
              "    <tr>\n",
              "      <th>1</th>\n",
              "      <td>2</td>\n",
              "      <td>Jumanji (1995)</td>\n",
              "      <td>Adventure|Children|Fantasy</td>\n",
              "    </tr>\n",
              "    <tr>\n",
              "      <th>2</th>\n",
              "      <td>3</td>\n",
              "      <td>Grumpier Old Men (1995)</td>\n",
              "      <td>Comedy|Romance</td>\n",
              "    </tr>\n",
              "    <tr>\n",
              "      <th>3</th>\n",
              "      <td>4</td>\n",
              "      <td>Waiting to Exhale (1995)</td>\n",
              "      <td>Comedy|Drama|Romance</td>\n",
              "    </tr>\n",
              "    <tr>\n",
              "      <th>4</th>\n",
              "      <td>5</td>\n",
              "      <td>Father of the Bride Part II (1995)</td>\n",
              "      <td>Comedy</td>\n",
              "    </tr>\n",
              "  </tbody>\n",
              "</table>\n",
              "</div>"
            ],
            "text/plain": [
              "   movieId                               title                                       genres\n",
              "0  1        Toy Story (1995)                    Adventure|Animation|Children|Comedy|Fantasy\n",
              "1  2        Jumanji (1995)                      Adventure|Children|Fantasy                 \n",
              "2  3        Grumpier Old Men (1995)             Comedy|Romance                             \n",
              "3  4        Waiting to Exhale (1995)            Comedy|Drama|Romance                       \n",
              "4  5        Father of the Bride Part II (1995)  Comedy                                     "
            ]
          },
          "execution_count": 38,
          "metadata": {},
          "output_type": "execute_result"
        }
      ],
      "source": [
        "movies.head()"
      ]
    },
    {
      "cell_type": "code",
      "execution_count": null,
      "id": "8f408e59",
      "metadata": {
        "id": "8f408e59",
        "outputId": "954f4a6b-bf50-4a2a-86e9-059c701a729d"
      },
      "outputs": [
        {
          "data": {
            "text/html": [
              "<div>\n",
              "<style scoped>\n",
              "    .dataframe tbody tr th:only-of-type {\n",
              "        vertical-align: middle;\n",
              "    }\n",
              "\n",
              "    .dataframe tbody tr th {\n",
              "        vertical-align: top;\n",
              "    }\n",
              "\n",
              "    .dataframe thead th {\n",
              "        text-align: right;\n",
              "    }\n",
              "</style>\n",
              "<table border=\"1\" class=\"dataframe\">\n",
              "  <thead>\n",
              "    <tr style=\"text-align: right;\">\n",
              "      <th></th>\n",
              "      <th>userId</th>\n",
              "      <th>movieId</th>\n",
              "      <th>rating</th>\n",
              "      <th>timestamp</th>\n",
              "    </tr>\n",
              "  </thead>\n",
              "  <tbody>\n",
              "    <tr>\n",
              "      <th>count</th>\n",
              "      <td>100836.00</td>\n",
              "      <td>100836.00</td>\n",
              "      <td>100836.00</td>\n",
              "      <td>1.008360e+05</td>\n",
              "    </tr>\n",
              "    <tr>\n",
              "      <th>mean</th>\n",
              "      <td>326.13</td>\n",
              "      <td>19435.30</td>\n",
              "      <td>3.50</td>\n",
              "      <td>1.205946e+09</td>\n",
              "    </tr>\n",
              "    <tr>\n",
              "      <th>std</th>\n",
              "      <td>182.62</td>\n",
              "      <td>35530.99</td>\n",
              "      <td>1.04</td>\n",
              "      <td>2.162610e+08</td>\n",
              "    </tr>\n",
              "    <tr>\n",
              "      <th>min</th>\n",
              "      <td>1.00</td>\n",
              "      <td>1.00</td>\n",
              "      <td>0.50</td>\n",
              "      <td>8.281246e+08</td>\n",
              "    </tr>\n",
              "    <tr>\n",
              "      <th>25%</th>\n",
              "      <td>177.00</td>\n",
              "      <td>1199.00</td>\n",
              "      <td>3.00</td>\n",
              "      <td>1.019124e+09</td>\n",
              "    </tr>\n",
              "    <tr>\n",
              "      <th>50%</th>\n",
              "      <td>325.00</td>\n",
              "      <td>2991.00</td>\n",
              "      <td>3.50</td>\n",
              "      <td>1.186087e+09</td>\n",
              "    </tr>\n",
              "    <tr>\n",
              "      <th>75%</th>\n",
              "      <td>477.00</td>\n",
              "      <td>8122.00</td>\n",
              "      <td>4.00</td>\n",
              "      <td>1.435994e+09</td>\n",
              "    </tr>\n",
              "    <tr>\n",
              "      <th>max</th>\n",
              "      <td>610.00</td>\n",
              "      <td>193609.00</td>\n",
              "      <td>5.00</td>\n",
              "      <td>1.537799e+09</td>\n",
              "    </tr>\n",
              "  </tbody>\n",
              "</table>\n",
              "</div>"
            ],
            "text/plain": [
              "          userId    movieId     rating     timestamp\n",
              "count  100836.00  100836.00  100836.00  1.008360e+05\n",
              "mean   326.13     19435.30   3.50       1.205946e+09\n",
              "std    182.62     35530.99   1.04       2.162610e+08\n",
              "min    1.00       1.00       0.50       8.281246e+08\n",
              "25%    177.00     1199.00    3.00       1.019124e+09\n",
              "50%    325.00     2991.00    3.50       1.186087e+09\n",
              "75%    477.00     8122.00    4.00       1.435994e+09\n",
              "max    610.00     193609.00  5.00       1.537799e+09"
            ]
          },
          "execution_count": 39,
          "metadata": {},
          "output_type": "execute_result"
        }
      ],
      "source": [
        "ratings.describe().round(2)"
      ]
    },
    {
      "cell_type": "code",
      "execution_count": null,
      "id": "3fb49e83",
      "metadata": {
        "id": "3fb49e83",
        "outputId": "2996cb91-bb20-4ec6-8b8c-d6b0deaf68e3"
      },
      "outputs": [
        {
          "data": {
            "text/html": [
              "<div>\n",
              "<style scoped>\n",
              "    .dataframe tbody tr th:only-of-type {\n",
              "        vertical-align: middle;\n",
              "    }\n",
              "\n",
              "    .dataframe tbody tr th {\n",
              "        vertical-align: top;\n",
              "    }\n",
              "\n",
              "    .dataframe thead th {\n",
              "        text-align: right;\n",
              "    }\n",
              "</style>\n",
              "<table border=\"1\" class=\"dataframe\">\n",
              "  <thead>\n",
              "    <tr style=\"text-align: right;\">\n",
              "      <th></th>\n",
              "      <th>movieId</th>\n",
              "    </tr>\n",
              "  </thead>\n",
              "  <tbody>\n",
              "    <tr>\n",
              "      <th>count</th>\n",
              "      <td>9742.00</td>\n",
              "    </tr>\n",
              "    <tr>\n",
              "      <th>mean</th>\n",
              "      <td>42200.35</td>\n",
              "    </tr>\n",
              "    <tr>\n",
              "      <th>std</th>\n",
              "      <td>52160.49</td>\n",
              "    </tr>\n",
              "    <tr>\n",
              "      <th>min</th>\n",
              "      <td>1.00</td>\n",
              "    </tr>\n",
              "    <tr>\n",
              "      <th>25%</th>\n",
              "      <td>3248.25</td>\n",
              "    </tr>\n",
              "    <tr>\n",
              "      <th>50%</th>\n",
              "      <td>7300.00</td>\n",
              "    </tr>\n",
              "    <tr>\n",
              "      <th>75%</th>\n",
              "      <td>76232.00</td>\n",
              "    </tr>\n",
              "    <tr>\n",
              "      <th>max</th>\n",
              "      <td>193609.00</td>\n",
              "    </tr>\n",
              "  </tbody>\n",
              "</table>\n",
              "</div>"
            ],
            "text/plain": [
              "         movieId\n",
              "count  9742.00  \n",
              "mean   42200.35 \n",
              "std    52160.49 \n",
              "min    1.00     \n",
              "25%    3248.25  \n",
              "50%    7300.00  \n",
              "75%    76232.00 \n",
              "max    193609.00"
            ]
          },
          "execution_count": 40,
          "metadata": {},
          "output_type": "execute_result"
        }
      ],
      "source": [
        "movies.describe().round(2)"
      ]
    },
    {
      "cell_type": "code",
      "execution_count": null,
      "id": "10949beb",
      "metadata": {
        "id": "10949beb",
        "outputId": "a026edfa-ad58-48b1-8bb9-c11844e9a0e4"
      },
      "outputs": [
        {
          "data": {
            "text/html": [
              "<div>\n",
              "<style scoped>\n",
              "    .dataframe tbody tr th:only-of-type {\n",
              "        vertical-align: middle;\n",
              "    }\n",
              "\n",
              "    .dataframe tbody tr th {\n",
              "        vertical-align: top;\n",
              "    }\n",
              "\n",
              "    .dataframe thead th {\n",
              "        text-align: right;\n",
              "    }\n",
              "</style>\n",
              "<table border=\"1\" class=\"dataframe\">\n",
              "  <thead>\n",
              "    <tr style=\"text-align: right;\">\n",
              "      <th></th>\n",
              "      <th>movieId</th>\n",
              "      <th>title</th>\n",
              "      <th>genres</th>\n",
              "      <th>(no genres listed)</th>\n",
              "      <th>Action</th>\n",
              "      <th>Adventure</th>\n",
              "      <th>Animation</th>\n",
              "      <th>Children</th>\n",
              "      <th>Comedy</th>\n",
              "      <th>Crime</th>\n",
              "      <th>Documentary</th>\n",
              "      <th>Drama</th>\n",
              "      <th>Fantasy</th>\n",
              "      <th>Film-Noir</th>\n",
              "      <th>Horror</th>\n",
              "      <th>IMAX</th>\n",
              "      <th>Musical</th>\n",
              "      <th>Mystery</th>\n",
              "      <th>Romance</th>\n",
              "      <th>Sci-Fi</th>\n",
              "      <th>Thriller</th>\n",
              "      <th>War</th>\n",
              "      <th>Western</th>\n",
              "    </tr>\n",
              "  </thead>\n",
              "  <tbody>\n",
              "    <tr>\n",
              "      <th>0</th>\n",
              "      <td>1</td>\n",
              "      <td>Toy Story (1995)</td>\n",
              "      <td>Adventure|Animation|Children|Comedy|Fantasy</td>\n",
              "      <td>0</td>\n",
              "      <td>0</td>\n",
              "      <td>1</td>\n",
              "      <td>1</td>\n",
              "      <td>1</td>\n",
              "      <td>1</td>\n",
              "      <td>0</td>\n",
              "      <td>0</td>\n",
              "      <td>0</td>\n",
              "      <td>1</td>\n",
              "      <td>0</td>\n",
              "      <td>0</td>\n",
              "      <td>0</td>\n",
              "      <td>0</td>\n",
              "      <td>0</td>\n",
              "      <td>0</td>\n",
              "      <td>0</td>\n",
              "      <td>0</td>\n",
              "      <td>0</td>\n",
              "      <td>0</td>\n",
              "    </tr>\n",
              "    <tr>\n",
              "      <th>1</th>\n",
              "      <td>2</td>\n",
              "      <td>Jumanji (1995)</td>\n",
              "      <td>Adventure|Children|Fantasy</td>\n",
              "      <td>0</td>\n",
              "      <td>0</td>\n",
              "      <td>1</td>\n",
              "      <td>0</td>\n",
              "      <td>1</td>\n",
              "      <td>0</td>\n",
              "      <td>0</td>\n",
              "      <td>0</td>\n",
              "      <td>0</td>\n",
              "      <td>1</td>\n",
              "      <td>0</td>\n",
              "      <td>0</td>\n",
              "      <td>0</td>\n",
              "      <td>0</td>\n",
              "      <td>0</td>\n",
              "      <td>0</td>\n",
              "      <td>0</td>\n",
              "      <td>0</td>\n",
              "      <td>0</td>\n",
              "      <td>0</td>\n",
              "    </tr>\n",
              "    <tr>\n",
              "      <th>2</th>\n",
              "      <td>3</td>\n",
              "      <td>Grumpier Old Men (1995)</td>\n",
              "      <td>Comedy|Romance</td>\n",
              "      <td>0</td>\n",
              "      <td>0</td>\n",
              "      <td>0</td>\n",
              "      <td>0</td>\n",
              "      <td>0</td>\n",
              "      <td>1</td>\n",
              "      <td>0</td>\n",
              "      <td>0</td>\n",
              "      <td>0</td>\n",
              "      <td>0</td>\n",
              "      <td>0</td>\n",
              "      <td>0</td>\n",
              "      <td>0</td>\n",
              "      <td>0</td>\n",
              "      <td>0</td>\n",
              "      <td>1</td>\n",
              "      <td>0</td>\n",
              "      <td>0</td>\n",
              "      <td>0</td>\n",
              "      <td>0</td>\n",
              "    </tr>\n",
              "    <tr>\n",
              "      <th>3</th>\n",
              "      <td>4</td>\n",
              "      <td>Waiting to Exhale (1995)</td>\n",
              "      <td>Comedy|Drama|Romance</td>\n",
              "      <td>0</td>\n",
              "      <td>0</td>\n",
              "      <td>0</td>\n",
              "      <td>0</td>\n",
              "      <td>0</td>\n",
              "      <td>1</td>\n",
              "      <td>0</td>\n",
              "      <td>0</td>\n",
              "      <td>1</td>\n",
              "      <td>0</td>\n",
              "      <td>0</td>\n",
              "      <td>0</td>\n",
              "      <td>0</td>\n",
              "      <td>0</td>\n",
              "      <td>0</td>\n",
              "      <td>1</td>\n",
              "      <td>0</td>\n",
              "      <td>0</td>\n",
              "      <td>0</td>\n",
              "      <td>0</td>\n",
              "    </tr>\n",
              "    <tr>\n",
              "      <th>4</th>\n",
              "      <td>5</td>\n",
              "      <td>Father of the Bride Part II (1995)</td>\n",
              "      <td>Comedy</td>\n",
              "      <td>0</td>\n",
              "      <td>0</td>\n",
              "      <td>0</td>\n",
              "      <td>0</td>\n",
              "      <td>0</td>\n",
              "      <td>1</td>\n",
              "      <td>0</td>\n",
              "      <td>0</td>\n",
              "      <td>0</td>\n",
              "      <td>0</td>\n",
              "      <td>0</td>\n",
              "      <td>0</td>\n",
              "      <td>0</td>\n",
              "      <td>0</td>\n",
              "      <td>0</td>\n",
              "      <td>0</td>\n",
              "      <td>0</td>\n",
              "      <td>0</td>\n",
              "      <td>0</td>\n",
              "      <td>0</td>\n",
              "    </tr>\n",
              "  </tbody>\n",
              "</table>\n",
              "</div>"
            ],
            "text/plain": [
              "   movieId                               title                                       genres  (no genres listed)  Action  Adventure  Animation  Children  Comedy  Crime  Documentary  Drama  Fantasy  Film-Noir  Horror  IMAX  Musical  Mystery  Romance  Sci-Fi  Thriller  War  Western\n",
              "0  1        Toy Story (1995)                    Adventure|Animation|Children|Comedy|Fantasy  0                   0       1          1          1         1       0      0            0      1        0          0       0     0        0        0        0       0         0    0      \n",
              "1  2        Jumanji (1995)                      Adventure|Children|Fantasy                   0                   0       1          0          1         0       0      0            0      1        0          0       0     0        0        0        0       0         0    0      \n",
              "2  3        Grumpier Old Men (1995)             Comedy|Romance                               0                   0       0          0          0         1       0      0            0      0        0          0       0     0        0        1        0       0         0    0      \n",
              "3  4        Waiting to Exhale (1995)            Comedy|Drama|Romance                         0                   0       0          0          0         1       0      0            1      0        0          0       0     0        0        1        0       0         0    0      \n",
              "4  5        Father of the Bride Part II (1995)  Comedy                                       0                   0       0          0          0         1       0      0            0      0        0          0       0     0        0        0        0       0         0    0      "
            ]
          },
          "execution_count": 41,
          "metadata": {},
          "output_type": "execute_result"
        }
      ],
      "source": [
        "# Oddzielanie gatunków jako nowe kolumny\n",
        "genres = movies['genres'].str.get_dummies(sep='|')\n",
        "\n",
        "movies = pd.concat([movies, genres], axis=1)\n",
        "\n",
        "movies.head()\n"
      ]
    },
    {
      "cell_type": "markdown",
      "id": "28bbcbb9",
      "metadata": {
        "id": "28bbcbb9"
      },
      "source": [
        "#### 1. Liczba filmów Sci-Fi"
      ]
    },
    {
      "cell_type": "markdown",
      "id": "82f59635",
      "metadata": {
        "id": "82f59635"
      },
      "source": [
        " liczba filmów Sci-Fi = `980`"
      ]
    },
    {
      "cell_type": "code",
      "execution_count": null,
      "id": "938d62bf",
      "metadata": {
        "id": "938d62bf",
        "outputId": "e84d1b9a-d10f-4c44-c2b6-0cbac5cab083"
      },
      "outputs": [
        {
          "data": {
            "text/plain": [
              "980"
            ]
          },
          "execution_count": 42,
          "metadata": {},
          "output_type": "execute_result"
        }
      ],
      "source": [
        "sci_fi_count = movies['Sci-Fi'].sum()\n",
        "sci_fi_count"
      ]
    },
    {
      "cell_type": "markdown",
      "id": "65769186",
      "metadata": {
        "id": "65769186"
      },
      "source": [
        "#### 2. Pokaż rozkład ocen komedii"
      ]
    },
    {
      "cell_type": "code",
      "execution_count": null,
      "id": "7ab5c78e",
      "metadata": {
        "id": "7ab5c78e"
      },
      "outputs": [],
      "source": [
        "# filtrowanie komedii\n",
        "comedy_movies = movies[movies['Comedy'] == 1]\n",
        "# łączenie z ocenami\n",
        "comedy_ratings = ratings[ratings['movieId'].isin(movies[movies['Comedy'] == 1]['movieId'])]"
      ]
    },
    {
      "cell_type": "code",
      "execution_count": null,
      "id": "5565a78c",
      "metadata": {
        "id": "5565a78c",
        "outputId": "d8d75a5b-5fdf-4dee-d8d3-3e6afd2a579d"
      },
      "outputs": [
        {
          "data": {
            "text/plain": [
              "Text(0, 0.5, 'Liczba filmów')"
            ]
          },
          "execution_count": 44,
          "metadata": {},
          "output_type": "execute_result"
        },
        {
          "data": {
            "image/png": "[encoded data removed]",
            "text/plain": [
              "<Figure size 640x480 with 1 Axes>"
            ]
          },
          "metadata": {},
          "output_type": "display_data"
        }
      ],
      "source": [
        "sns.countplot(comedy_ratings, x = 'rating', palette='viridis')\n",
        "plt.title('Rozkład ocen z gatunkiem komedii')\n",
        "plt.xlabel('Średnia ocena')\n",
        "plt.ylabel('Liczba filmów')"
      ]
    },
    {
      "cell_type": "markdown",
      "id": "c32d064b",
      "metadata": {
        "id": "c32d064b"
      },
      "source": [
        "#### 3. Podaj średnią ocen wszystkich filmów akcji oraz 3 filmy najwyżej ocenianych"
      ]
    },
    {
      "cell_type": "code",
      "execution_count": null,
      "id": "492138d7",
      "metadata": {
        "id": "492138d7",
        "outputId": "9ffcda52-cf51-49a9-b631-8bbd93cb632d"
      },
      "outputs": [
        {
          "data": {
            "text/html": [
              "<div>\n",
              "<style scoped>\n",
              "    .dataframe tbody tr th:only-of-type {\n",
              "        vertical-align: middle;\n",
              "    }\n",
              "\n",
              "    .dataframe tbody tr th {\n",
              "        vertical-align: top;\n",
              "    }\n",
              "\n",
              "    .dataframe thead th {\n",
              "        text-align: right;\n",
              "    }\n",
              "</style>\n",
              "<table border=\"1\" class=\"dataframe\">\n",
              "  <thead>\n",
              "    <tr style=\"text-align: right;\">\n",
              "      <th></th>\n",
              "      <th>userId</th>\n",
              "      <th>movieId</th>\n",
              "      <th>rating</th>\n",
              "      <th>timestamp</th>\n",
              "    </tr>\n",
              "  </thead>\n",
              "  <tbody>\n",
              "    <tr>\n",
              "      <th>2</th>\n",
              "      <td>1</td>\n",
              "      <td>6</td>\n",
              "      <td>4.0</td>\n",
              "      <td>964982224</td>\n",
              "    </tr>\n",
              "    <tr>\n",
              "      <th>5</th>\n",
              "      <td>1</td>\n",
              "      <td>70</td>\n",
              "      <td>3.0</td>\n",
              "      <td>964982400</td>\n",
              "    </tr>\n",
              "    <tr>\n",
              "      <th>7</th>\n",
              "      <td>1</td>\n",
              "      <td>110</td>\n",
              "      <td>4.0</td>\n",
              "      <td>964982176</td>\n",
              "    </tr>\n",
              "    <tr>\n",
              "      <th>8</th>\n",
              "      <td>1</td>\n",
              "      <td>151</td>\n",
              "      <td>5.0</td>\n",
              "      <td>964984041</td>\n",
              "    </tr>\n",
              "    <tr>\n",
              "      <th>10</th>\n",
              "      <td>1</td>\n",
              "      <td>163</td>\n",
              "      <td>5.0</td>\n",
              "      <td>964983650</td>\n",
              "    </tr>\n",
              "    <tr>\n",
              "      <th>...</th>\n",
              "      <td>...</td>\n",
              "      <td>...</td>\n",
              "      <td>...</td>\n",
              "      <td>...</td>\n",
              "    </tr>\n",
              "    <tr>\n",
              "      <th>100826</th>\n",
              "      <td>610</td>\n",
              "      <td>162350</td>\n",
              "      <td>3.5</td>\n",
              "      <td>1493849971</td>\n",
              "    </tr>\n",
              "    <tr>\n",
              "      <th>100830</th>\n",
              "      <td>610</td>\n",
              "      <td>166528</td>\n",
              "      <td>4.0</td>\n",
              "      <td>1493879365</td>\n",
              "    </tr>\n",
              "    <tr>\n",
              "      <th>100832</th>\n",
              "      <td>610</td>\n",
              "      <td>168248</td>\n",
              "      <td>5.0</td>\n",
              "      <td>1493850091</td>\n",
              "    </tr>\n",
              "    <tr>\n",
              "      <th>100834</th>\n",
              "      <td>610</td>\n",
              "      <td>168252</td>\n",
              "      <td>5.0</td>\n",
              "      <td>1493846352</td>\n",
              "    </tr>\n",
              "    <tr>\n",
              "      <th>100835</th>\n",
              "      <td>610</td>\n",
              "      <td>170875</td>\n",
              "      <td>3.0</td>\n",
              "      <td>1493846415</td>\n",
              "    </tr>\n",
              "  </tbody>\n",
              "</table>\n",
              "<p>30635 rows × 4 columns</p>\n",
              "</div>"
            ],
            "text/plain": [
              "        userId  movieId  rating   timestamp\n",
              "2       1       6        4.0     964982224 \n",
              "5       1       70       3.0     964982400 \n",
              "7       1       110      4.0     964982176 \n",
              "8       1       151      5.0     964984041 \n",
              "10      1       163      5.0     964983650 \n",
              "...    ..       ...      ...           ... \n",
              "100826  610     162350   3.5     1493849971\n",
              "100830  610     166528   4.0     1493879365\n",
              "100832  610     168248   5.0     1493850091\n",
              "100834  610     168252   5.0     1493846352\n",
              "100835  610     170875   3.0     1493846415\n",
              "\n",
              "[30635 rows x 4 columns]"
            ]
          },
          "execution_count": 45,
          "metadata": {},
          "output_type": "execute_result"
        }
      ],
      "source": [
        "# filtrowanie filmów akcji\n",
        "action_movies = movies[movies['Action'] == 1]\n",
        "# łączenie z ocenami\n",
        "action_ratings = ratings[ratings['movieId'].isin(movies[movies['Action'] == 1]['movieId'])]\n",
        "action_ratings"
      ]
    },
    {
      "cell_type": "code",
      "execution_count": null,
      "id": "0f84e512",
      "metadata": {
        "id": "0f84e512",
        "outputId": "c1853a11-d103-4fcd-b2f2-654e5becaff6"
      },
      "outputs": [
        {
          "name": "stdout",
          "output_type": "stream",
          "text": [
            "Średnia ocen wszystkich filmów akcji: 3.45\n"
          ]
        }
      ],
      "source": [
        "print(f\"Średnia ocen wszystkich filmów akcji: {action_ratings.rating.mean().round(2)}\")"
      ]
    },
    {
      "cell_type": "markdown",
      "id": "e8249e17",
      "metadata": {
        "id": "e8249e17"
      },
      "source": [
        "### Bayesian Average\n",
        "\n",
        "![obraz.png](data:image/png;base64,iVBORw0KGgoAAAANSUhEUgAAAwsAAAGHCAYAAAD/S84wAAAgAElEQVR4XuzdBZRlR9U24MOHu7u7uwZ3d4K7Bg8QSJAECW4BgrtrkOBuwSEEd3d31+//nvOvPWtPTV3rvt1ze2bXWllJ+h6p81bVrv1uqyP97/+1oVohUAgUAoVAIVAIFAKFQCFQCBQCDQJHKrJQc6IQKAQKgUKgECgECoFCoBAoBHoIFFmoeVEIFAKFQCFQCBQChUAhUAgUAl0EiizUxCgECoFCoBAoBAqBQqAQKAQKgSILNQcKgUKgECgECoFCoBAoBAqBQmB+BMqzMD9WdWUhUAgUAoVAIVAIFAKFQCGwWyFQZGG3Gu762EKgECgECoFCoBAoBAqBQmB+BIoszI9VXVkIFAKFQCFQCBQChUAhUAjsVggUWdiFh/uf//zn8Itf/GI4xjGOMZz4xCce/ud//mcX/tr6tEKgECgECoFCoBAoBAqBZSNQZGHZiK7I8171qlcNe+211/DnP/957NHZzna24f3vf/9wmtOcZkV6uDndcObgP/7xj+G///3vcKQjHWk4+tGPXqRpc6CvtxQChUAhUAgUAoXALoDAhpOF//znP8PNb37z4QMf+MDQOyyaAnesYx1rOO5xjzuc9axnHS584QsPN7zhDYdzn/vcuwC8O+8TznGOcwzf+MY3tuvAox/96OHBD37wzuvUJr/5aU972vCgBz1o+Nvf/rbtzebbxS52seGDH/zgcMxjHnOTe1SvKwQKgUKgECgECoFCYGshsOFk4Wtf+9pwrnOda2FUrn/96w/Pec5zhpOf/OQL31s3DMOJTnSi4Xe/+912UNzvfvcbnvzkJ+8W8Pz73/8eTn3qUw+//OUvu9/7mte8ZrjpTW+6W2BRH1kIFAKFQCFQCBQChcBaEdhwsvD5z39+uOAFL7im/p3lLGcZPvWpT42Kb7XFELjIRS4yfPazn93upuc+97nDXe5yl8UetEWvfu973ztc9apXndj7613vesOhhx66Rb+uul0IFAKFQCFQCBQChcDmILBTyILwjzOc4QzjFwpT+tWvfrWDFTw+n3JLya22GAJI1v777z9873vfG4597GMPl7nMZYYnPelJY7Lz7tDucIc7DC9+8YsnfurRjna04ec///lwwhOecHeAo76xECgECoFCoBAoBAqBNSGwU8jCFa94xTHZNppchs997nPDHe94x4EnIrfjHOc4I5nYXZTcNY1i3bQdAhKaha/94Q9/2Pb3Ix/5yCMxze0FL3jBOOeqFQKFQCFQCBQChUAhUAj0EVgJshBd++EPfzic8YxnHCvX5CbvQcJutUJgHgSEF93gBjfY7tIDDjhgeOQjH7nd3650pSsN73vf++Z5ZF1TCBQChUAhUAgUAoXAbonASpEFI6AK0le/+tXtBuMTn/jEcIlLXKI7QBJY3/SmN43Vlr7whS8MP/nJT4a///3vA4/EyU52suH85z//IFn6Rje60Vg2M7eXvexl432q5bA8X+ACFxge8IAHjCU2J7WnP/3pYx7Fv/71r+H4xz/+cItb3GK4/OUvv8Plf/3rX4dXvOIVw1vf+tbhS1/60phoe9SjHnU46UlPOlbjETO/5557ju+d1pQ+9Zy3vOUt4/f99re/HS9XAlXlKEqxbzvKUY6y3WN4aFjOeWX8dvazn324//3vP1aeahvPDoz11b9VUfIe5zIc73jHG+SO7LHHHsNtb3vb4bznPe/E7n7oQx8aYPqXv/xlDO+5733vO77X89/97ncPz3/+84dPf/rTw69//evx3IeLXvSiYw7FNa5xjaUuPonLr3vd67Y9U8gbwsnb8Mc//nHb333fj3/84+GUpzzlDu9/ylOeMuZ8OKsCZpe+9KWHO93pThP76RsPPvjg4fDDDx9LtbrnZje72XD1q199h3vMz1e+8pXjmH7xi18c54YxOslJTjJict3rXne4yU1ussOYxoP06VGPetTwrW99a5yr8lMkr+uDkD19/+53vzuc4hSnGB74wAcO97jHPbb1ARH/6Ec/OrztbW8bx9ozJMKbh8Zaid1LXvKSw+1ud7u5CLpvee1rXzu84x3vGOe5ZwnxOt3pTjfOlV7FKfPofOc7X3cevvOd7xxe//rXDx//+MfHM0JgCRfGAvNEeJl1V60QKAQKgUKgECgENgeBlSMLvZKf4u4jxyFg+dOf/jQqv+LSKe6z2jnPec7hjW9843YK0OlPf/qBNyM3RIAy32uISHtOAQWGopQbpftud7vbSFymNcrUIYccMirUvfaxj31sLDv7ox/9aOpzXONchdzuete77pDr0SNdFPx73/veo6I3T4P5E57whC6h0g9VhqI98YlPHAnGne985+HNb37zxMcjDM9+9rOXcv4BcoUk5nKp+qwvt771rUfildtTn/rUYe+9996hbyc4wQm2C2NywQ9+8INRCe41Sj9imhsiiRTk9q53vWs8/6Kdd+0zVRBDeHolhK2HM53pTNtuQUIp1Z6LkOWGfCBomnff5z732aGkbu97ECk5Lw9/+MMnkmfz85a3vOWIyyLN2njWs5613S3f+c53htvc5jYjSZjWFDtAiBDtaoVAIVAIFAKFQCGw8QisFFlg5WTZzI2S/5WvfGUHhYUCuGgZUISDUszroFGunve85233PsoUy2yvPfOZzxzuec97bvfT4x//+GHffffd9reXvOQlYxx8G0o1aShZ2BGUM5/5zNtdwrrPc8BKP6tRHClbuc1DFng/eDr8e5H22Mc+drRYt60lC5RwHoWvf/3rMx9PmTem622U81vd6lbbPYayTGlmyefRye3iF7/48MlPfnKH17LuI3258Sq14x+/s/QLdcrtGc94xnZW/Ve/+tUjYWlzJyZ9M8JCebYGcuuRhYc+9KE7vN89LPg8Ur/5zW9GD8o8xDq/y5y/+93vvkMXeV0ue9nLLjx3PAgGPFDRvvzlLw9CwiaVuW1fzpuC9CFj1QqBQqAQKAQKgUJgYxFYGbKAKNz4xjceFZvcWKQpbm0TesNTEE0YB8vuaU972jEcAykQitE2B3WxpGsUsUtd6lLbXSJ0Q2hKLzzoyle+8naJ2W7MXg/vFBIiTCSa51CiKf6///3vh5e//OU79EuIy2GHHbYdIRKGwuuQ23Wuc50x5ImyRAEXSvLTn/50zPNov3UesvD9739/vDc3VnkKplAPISW8EdlK71q/8ZqospRbSxYWmbqeqTrRehPZr33taw9vf/vbt70aQYQNzITM+D5eqdy+/e1v70DWXvrSl46hOLkZfyVZe4036jOf+cy2n7wPRhHiZLwudKELbYcl672QKfcKj6IAWwe5ITnIZA6Na8mC6z2rR1DNR/0yN9vQH307z3nOM4YfIRPGmociN6FbPFu8F9GsL/3KpXn9zjPgeeYVj18O+crPzMTQ3NLHNvRQ9a5rXeta4zo0njxguTnEEaanOtWpFplmdW0hUAgUAoVAIVAILIjATiELFMMI2aDgiGFvrc/inin2lN5eEw8vhES4hv9GNHIsM4WGBfwhD3nIdrfnsCHXCAFqFTRJryyduYnhp2hmq3BrlRafzpIejQL1nve8Z7ucBveziOaYetcjLvICNP3i/cgW/16okWchTJRdJxXnNg9Z8Hy5BcZAn4SH+KasmIobR1Da8elhNI0siN+nfCN1Qo7e8IY37DCsyA8Fca2NwovsOZAtWoQgxf/3QpF4Bdp5gtgZ72yJ13c5ICz+uSFsDoDLjbKLAEaTN5NDsSjB4vOvcpWrbLvGOAjbakOl5NVc4QpX2HZdjyzEj8bOCehIEuUfQYC3+cuL5Bso9bxqCGweayRZvyn7uYVnJv7WOzvFPMxJ5Txd3p3nsPGVeySUKN5rDVu/ufGStOFP8m+Es+XGk3PggQeudbrUfYVAIVAIFAKFQCEwBwI7hSzM6hcr6YMf/OAxLGVSMqOQhSOOOGI8eMv1vUZppPDlk4wpUZStaI95zGN2UBRvf/vbDy960Yu2eySPACUrt4MOOmibovPNb35zh9wDHgyEp209i/4+++wznoOgKfnZKqSUWUrtvG0esuBZFFremNbDkN/TU9Qk897rXvfarjs9skApFEefS5RSiim/WZn2oEc/+tHjuK+1CSmjBOfW5qD0QpEQTqEwbWI74tLmowhzasNfeu/N+Ijphy8SGG3S+SE/+9nPdrCWS1AW0hRtEllAsCX7X/Oa1+xCqFyxMD/jPakJwZMsnZvQOiQmWjsfhNBFsnW+D05Cr6JJEM85FfA461nPul0InZwlY9F69lxrnDJplc/h2mqFQCFQCBQChUAhsHEIrCRZiM8VHkHZbsNBFoGjDQ+hhGfyIMRConNW5LyXRT2HxLDWUsRyc28kPItnj/CmuOYjH/nIWEWn1+QZZNIi/vvDH/7weCmPgXdnC7l+qxLTejwmYTEvWZgHS9+hf7kpQyoBNrceWZBX0iqf7umF+SAflOy1NgQkh6sYVxhnEjApFEn4Wxum0+uj8DDVf3JrSYX3sdJHiAwFuT05WziTsKZek6OQlWJzGOmJNoksLOPcCOSo9e60SeDGNOeX8Ij1EpPbvCLelbyGejlK00ix3AlekmhwFlLWhsOtdf7UfYVAIVAIFAKFQCGwIwI7hSwIhYiTcynp4panJfJStqaVrcyf5VkUCP/2bLkNPBDRhPe0Meu8E20sujAZBEETSqF8Y47dRwIo0dFUhWkrEgk1ksDcaxTjHKfN4iupOVovP8JvlHZWet81TUlaD1lg+Rdv7rvlXzgwL7CI/j3sYQ8bQ0Vy65EF39gm6LpHUnGEXcUzlMV84QtfuKZ1Kj8g8lXiAW0IUvxdAnRbpUjCtrC13HqhSOaPsLkow6v6krmRY/3buWG8Wk+VUKNeyVbv52XKhxOqwJQrDvXIAixVJ5pW9rcHLGJqPVh/Qq7M6daDxuOlT9F4GnjfolnLyFFblldIkzKt0VpvSs9bp3Rxr9ysZ7jeu3OTjzLNK7amyVQ3FQKFQCFQCBQChcA2BHYKWWhPcNYbCpjqM8JQJLrmRgmhIAkpapuQHoqXGHqKqZjyaa1HFij5lP3cKOMs+VrvkK+2Mk5r1V50jlEcxb5HE29O2ZpUOYf3AyHYb7/9xhjwti1CFpADSaRi6r1XvHmb6No+f71koVdqlAdJYuxaWi98ZlIZXN/Jyp1bzwvh914oklyDUGhZylsilZPoPUOejLKla22U8ThfwzN6ZKG12k96l/nk+4VjIWyelRPye/e1ZIGC3lbvsn5Y/SUee4ck5jaPpg3hUkmsV1VrEZyQqrZk7SL317WFQCFQCBQChUAhMB2BlSEL0U2hCcJBhIvk1oZCsIJSRvx93lKUntcjCyzolPVcvYXlWCiSnAnx2rnUoxwJlmzJtNEc6NZWclpk8ondlveQG7LCgst6PampVkP5k5ic27xkQcw3j8Cisd/rJQve1x7wth6y0IabweJqV7ta19KOCH3wgx/cAVKWeQeS5dZa0f0mL+I5z3nOeJnxaa3drOw54VlSbw4jWmReuJbHJJ/LsFayoHqRPIJ2ns3qT0sWXN9LFJczIScIYc+hfq7nHRFalQ9ps34f97jHzXr91N8R23zmxLoeVjcXAoVAIVAIFAKFwA4IrBxZ0EOVc9q4cJbLXCVGWNKkkBXx/bwRQjIkQueKNj2y4J1CJNoDrVi5hay0SdK8CCrU5NZTVlVamnVCs2cgJsIvKO1to3hKwqaQtiVM41qhTs6iQByizUMWeGUueMELjiVd26aSE4t2HPjF85PbKpEF1aCQrfU2ZyjwGOVG6YVrnkOIpXER5oYwZmyU4s2hN54ldCyHrPmb/uZypJP6TgF39kdOMF4LWaCoq37UO1PDO6wZ/UHSVZXKrUcWzP9582eEy/H8taewm0NtNSMka54Tmq1toXo8SouGXq13ntT9hUAhUAgUAoXA7oTASpIFoQlCFHJz1kKUnuyVbhSKI/HSoVuRD+F+yltOvpxEFnpnLihrqS+tUuQE2TZhtZf3wPuwrDrwFHqVZZx82/MCCN9STWgRstCzDgu7kYuARATRYRXvKXrryVlYpmehdyDaWhYxUmjM5NTkprqQ0KPcYCJ8R6hYbr0ToXsHvK3HIr4WstCWbtVnoXaS1Hl4Yqzl7pjL08gCAu48hQj5c69QtlwkIO7n3RGW1TulvBc6xgAgd6VaIVAIFAKFQCFQCKwGAitJFnqJsrmcqUo8arHnlhOS89/nJQu9MxeEG4lHj9wFz6UYyamQ1JqbMwoiNCX+rlSl/IxlNkrZE57whB3iwVuL9jyeBdZkZVqjsXbzULQW71UmC8aN4toe6rVWzJ2T0SrLPEytAiuERrUqsfm5tSFIfoszQfJ1ckQmlTid1fdFyYJ+8rRl74g4f4n/bdnhechCS+b9vyRuZ4rIu+FJEHYk0VsuyKTWK2PLw2Z+VysECoFCoBAoBAqB1UBg5cgCi7MTXdsEW4p41NDvKcKqxVBQ2uak2cMPP3zbnyd5FlzQO3OhfR5LaS9ZtVdmcz0x+NOmBwVZydacEC1nQtWiaLPIguo3sMhtzz333OHUaL/3SqeuShhSL1HaIXLOPpjVhPZI6M6tN2aSi4Ui5VK2av4jbrnEaS8EybOF1Amty83/5zMIZvU1/74oWUBu28pLvbNEvAOJcQp2bm0YUhty1/OmzPM9coJy3o97kAtVwaLa1DzPqWsKgUKgECgECoFCYOMQ2ClkQegGq2I0SpiQBlZdXoNc+cU1LJUSPKPqT1u/3TWs/8IqolGoxUO3oTLTyELvzIUWeiUwc9nI+F2cNwW+TcyOA8l6cdUIEeKBzDziEY/YZuWlyAsHYs2WkNqGxcAKMcrvYqWm6EWbRRYkhYtVp/BGU+GGhd7fo8EEQfra1762HRSrQhZ6IWu9MLHeEuqdjdE7Y8O981Q0mqQ0896YG22iuoPWnB3QmxtCnKwHFYvM45z7sihZUBrVd+WmiADPQn6u0CheFdWOcmvJQkvAnQnCG3iWs5xl9GBIYvaPykjC8IQ5tWVV4/mXu9zldjicT36SMyPyOSd5XX/mM58Z5YcTnad5LjZObNaTC4FCoBAoBAqB3QeBnUIWFoW3LVP6mte8ZodkYEm+FG6x9k7BVcZRGFDbppEF1/ZyD+IZwnNYQ3NORH6+Q9naBFm/65PnsqJS0ll6v/SlL42JsHG+hDjwk570pOPjKOYs1xol88Y3vvHobaHwUeS8Q1JvbhRPJ/1Gm0UWXNcqff6mJKhEX0mmqgMJCWnJm+tWgSwghGrs5zMIhNUY/16Z3XYu8MzAt42174W09UKR2uflQ/ra3/bdd98dQpZcQ2mHOcs/4mZu8K6ZG3EeCKKcT11elCx4j5OR8zke/naDG9xgzL1Bxh0IKKQqVwSLb2jJgtyY9kC+9nvz/yO7yK/cEiFjufUOgfM7PORZqHTkfonmvDhwCY8ab157JsS0ftRvhUAhUAgUAoVAIbA4AitPFiil/snWVxVdKD+Us1mN5TSXVp1FFnpnLsQ7hGc4C2JSo/hLBF60DKnnURKjmpHSlr2E0EnvdaCbpO9clnIesqAcbK6yMw3LFsdVIAtCiNpSpyzV+RTnWfOjZ9nuhWP1QpHys/UDuZrUeIFck0PFZvUtfle1KlvQ10IWnvnMZ44kcJ7WjnVLFuQ+UNKR9kWa0KK3ve1tO5xcjeRK3F+0qRA27/xd9Nl1fSFQCBQChUAhUAj8fwQ2nCystaylcpMskW21mRg4Sbes9T1LaFzDEu8gqOtc5zrbxnsWWeiduRA3O0FWKdVpTRlNoUPtidDT7mE1pgBGSIgQFCEd85AhpEmlHvXtc5uHLLCou25WfD/LN+9IPuF4FciCA+naZNiDDz54cDr2vI1Hpr1eyAxLdg7H8rxpoUgq+yhxOq15pgpUOVxsVj95o3hOcl/WQhYQZgp+e8p4+37eBsRESFW0liz4Dp6CNt9j1rf4nceAdyyHGOmb+SRnqFdRqfdca+XTn/70cKELXWie19Y1hUAhUAgUAoVAIbBGBDacLNj8VS5Sl32SIkARosQLCZGoq2Rpe0Js7/uEZwg9kq+QSYPchpve9Kbje4WjIBUOexOiIjmzPcOhfXYvlp1VVKhQG/vd65fvRBYkZUsObs8ocA8vgoPUKKCSXVUmys09rMFCYngqMnYUJUoSxVMYSS8Z9HWve92ofLGIC+MQroM4tQmlnutaZWflTuT3CH3ae++9x9OtEZJ99tlnDJsyVkrbZhKm70J1KM3KvArZUl2J9bn9Ntfqlzh34yJnRWiXUJ32JO1p8xq+Bx100Ji74RvNGUnDbaWqac+AszAvCjmLOWzlg8glaePsKaeqIJl3kYDvmnOf+9zjGR29k7Tbd8PXgXDC5A477LBxTrVNOFqeG+1z5T6Y38Jy9FnIGK9BFACY9L3ezZuklGnr4dhjjz3Gqk28KtaTMCPnepjvro/ywZ4hhyWTYWcjWN9ChuDiH7j6m+pGba4GbD2jbcKkkD3PNi/aJlzKvNcX8wShrlYIFAKFQCFQCBQCG4vAhpOFje3+/386yyRlTyIpxYry0iYFL9KPXmUjJVQp7os2ypU8B9ZYijblUtJnT4Ge9GzKFgWV8iZplCcihxwt2qdJ18NP6U+x8zCcR/ld1rt3x+eYG8hCzA3WdnNjUk7MMjHyTmdKCO8z1vPOR0nXPE25IZLt3+J3ydm8BrnNk4COcCIc5iTiiUAh2G2p12ViUs8qBAqBQqAQKAQKgR0R2CXIwrIHtj2bwfN5I25yk5ss+1X1vEJgSyHQS9RWCWwSseT5ayuSHXLIIaMHo1ohUAgUAoVAIVAIrD4CRRaaMeqdLCz8gXfAv6sVArszAve73/3GULPcDjjggDEcsC0BK6xNuFGupsXjp5pRVP7anbGsby8ECoFCoBAoBLYCAkUWmlESoy9uOjex9bMSQ7fCYFcfC4H1IsAr0POwCY1zYrN8EQn6SgN//OMf3+F1ksBbsrHePtX9hUAhUAgUAoVAIbBxCBRZSNjKCRAzLl46t0MPPXS43vWut3GjUE8uBLYIApLRFQyQpL1oc26CBPTeYWuLPquuLwQKgUKgECgECoHNQaDIQsK5d9ibxE+HfJWCszkTst6y+gioPiVpWdlZpYZnNZW4hCo5E6ESlGehVb8XAoVAIVAIFAKrhUCRhTQe8hXUlBdjrRypKjHOVVBCtFohUAhsj4AqXU5JP+KII8YTxZUvRiSU1lXRyWnNSrI6qLDNZygsC4FCoBAoBAqBQmBrIFBkYWuMU/WyECgECoFCoBAoBAqBQqAQ2HQEiixsOuT1wkKgECgECoFCoBAoBAqBQmBrIFBkYWuMU/WyECgECoFCoBAoBAqBQqAQ2HQEiixsOuT1wkKgECgECoFCoBAoBAqBQmBrIFBkYWuMU/WyECgECoFCoBAoBAqBQqAQ2HQEiixsOuT1wkKgECgECoFCoBAoBAqBQmBrIFBkYWuMU/WyECgECoFCoBAoBAqBQqAQ2HQEiixsOuT1wkKgECgECoFCoBAoBAqBQmBrIFBkYWuMU/WyECgECoFCoBAoBAqBQqAQ2HQEiixsOuT1wkKgECgECoFCoBAoBAqBQmBrIFBkYWuMU/WyECgECoFCoBAoBAqBQqAQ2HQEiixsOuT1wkKgECgECoFCoBAoBAqBQmBrIFBkYWuMU/WyECgECoFCoBAoBAqBQqAQ2HQEiixsOuT1wkKgECgECoFCoBAoBAqBQmBrIFBkYWuMU/WyECgECoFCoBAoBAqBQqAQ2HQEiixsOuT1wkKgECgECoFCoBAoBAqBQmBrIFBkYWuMU/WyECgECoFCoBAoBAqBQqAQ2HQEiixsOuT1wkKgECgECoFCoBAoBAqBQmBrIFBkYWuMU/WyECgECoFCoBAoBAqBQqAQ2HQEiixsOuT1wkKgECgECoFCoBAoBAqBQmBrIFBkYWuMU/WyECgECoFCoBAoBAqBQqAQ2HQEiixsOuT1wkKgECgECoFCoBAoBAqBQmBrIFBkYWuMU/WyECgECoFCoBAoBAqBQqAQ2HQEiixsOuT1wkKgECgECoFCoBAoBAqBQmBrIFBkYWuMU/WyECgECoFCoBAoBAqBQqAQ2HQEiixsOuT1wkKgECgECoFCoBAoBAqBQmBrIFBkYWuMU/WyECgECoFCoBAoBAqBQqAQ2HQEiixsOuT1wkKgECgECoFCoBAoBAqBQmBrIFBkYWuMU/WyECgECoFCoBAoBAqBQqAQ2HQEiixsOuT1wkKgECgECoFCoBAoBAqBQmBrIFBkYWuMU/WyECgECoFCoBAoBAqBQqAQ2HQEiixsOuT1wkKgECgECoFCoBAoBAqBQmBrIFBkYWuMU/WyECgECoFCoBAoBAqBQqAQ2HQEiixsOuT1wkKgECgECoFCoBAoBAqBQmBrIFBkYWuMU/WyECgECoFCoBAoBAqBQqAQ2HQEiixsOuT1wkKgECgECoFCoBAoBAqBQmBrIFBkYWuMU/WyECgECoFCoBAoBAqBQqAQ2HQEiixsOuT1wkKgECgECoFCoBAoBAqBQmBrIFBkYWuMU/WyECgECoFCoBAoBAqBQqAQ2HQEiixsOuTbv/CjH/3o8P3vf3+48Y1vPBz96Effyb2p168iAm9729uGj3/848Pd7na34bSnPe2mdvFnP/vZ8O53v3u41KUuNZz1rGfd1Hfvzi97+9vfPvz4xz8e7njHOw5HOcpRdmco6ttXGIGvfOUrwzvf+c7h73//+3CZy1xmuNzlLrfCva2uFQIbj8AnPvGJ4YgjjhhufvObDyc60Yk2/oWb9IYiC5sE9KTXXOlKVxo+8IEPDN/+9reHM5/5zDu5N/X6RRD44Q9/ODzoQQ8azn/+8w/77rvvIrfOfe03vvGN4XznO99w0YtedPjgBz84HPWoR5373mVc+LKXvWy47W1vOxxwwAHDgQceuKZHUiTufe97j30/+OCDhyMf+dv1lQsAACAASURBVMgLP+ef//zncK973Wu81zN2dQX6Yhe72PCZz3xm+PWvfz2c+MQnXhiveW/49Kc/PTz5yU8ern/964+bm/bXv/51HK9jHetYw1Of+tThf/7nf+Z93C593Xve857hBS94wXDXu951uOIVr7ih3/r85z9/eP/73z/sv//+w3nOc56lvetf//rXOLb/+7//O66jox3taGt+9hve8IbhJje5yfDf//53fMZxjnOc4U9/+tOan7cVb/zRj340PPCBDxxl9H777bftEx784AcPP/nJT4anPOUpu5TCuBXHaLP7fLvb3W546UtfOhx22GEjgd5VWpGFCSP59a9/fRSo5zznOTd0rIssbCi8G/rwV73qVcMtb3nL4VSnOtW4MSy7mX+Ukq9+9avD5z73ufE9m92WQRaspVhHPBWnOMUpFv6M73znO8NZznKW8b6f/vSnwylPecqFn7GVbtgsskAZffSjHz1c7WpXG971rneNEH3hC18YLnCBC4z//dvf/nY44QlPuJWg27C+3ulOdxpe+MIXDve4xz2GZzzjGRv2Hg++4AUvOHz+858fDjrooOG+973v0t71gx/8YDjDGc4wPu973/vetv9eywusacaMd7zjHcMlLnGJcd7sbp6F173udcNNb3rTUaaRbRryFAaRD33oQ7sdJrPmEsPo3/72t+G85z3vrEu35O9FFrbksK290yc72cnGCb3RlpIiC2sfo519J6sv6xyhJ4xs2U340a1udavh0EMPHS5/+csv+/FzPW8ZZOHf//73aL0+xjGOMVo1j3SkI8317nzRf/7zn/EZLKF77733mp6x8Et34g2bRRa++c1vjlYwZOGyl73s+MWsz0960pOG4x73uKNivJbx2onQbdirkXZr8gY3uMGGh+QJQxPOIPTw1Kc+9dK+iSKLgBhTJGStXiP74vGOd7zhXOc61yAUaXdtv/nNb8Y9gPcn7wE8Q7/4xS+GffbZZzjmMY+5u8LT/W4kkwGJt3izPeWbMRBFFjYD5RV6R5GFFRqM6spOQ2AZZGGndX4Lv3izyMIWhqi6vhMRkE8jf0ouk7y7aoXAvAgUWZgXqdW6bsPDkMT0Pf3pTx/d2de+9rXH2Nh5G+uFmNkrXOEKwyUvecnh9a9//ZhsycXHunONa1xjfNQvf/nL4dnPfvbwrW99azjTmc407LXXXhOtMR/+8IeHt771rcPPf/7z4SQnOclwrWtda7jyla+8zXr23ve+d/jSl740PPShDx0tbI997GPHd4gbFrsdTYgIF6PkLmER4jXFld/sZjcbjn3sY+/wiSw6b3zjG4f3ve99wz/+8Y8xlu02t7nNaNHr5SzAzfVf/OIXx+tZl254wxsOF7/4xeeCD3YUvcMPP3x0i3Jr3/rWt94W//zqV796m9s0P/A0pznNGIcajeXxzW9+82g9Yt3lwvaN5z73ubv9+OxnPzuIZbWZwNeYG79snYQdnI0l6wsLJje292YrzIte9KKxjyxg4qej/fnPfx7nhYRbLuDczAHhQVe96lWHPfbYY/zJM2DJrS8eWzjPda973R3iCYUSiUnec889h7Of/ewDjCJPwDy5znWus913wPhpT3va6Fm43vWut93csIH6Pq5+1nCWJ+N90pOedK7xY8V8xSteMQgbOMEJTjBc5SpXGfsclkAJVKycLI+sW/rBUsNyL4ci2sc+9rHRMwEDyVbXvOY1xznXsxYbY+80dmc84xmHu9zlLuPcbHMWvOeJT3ziOBd5xsRye4fcBMqD61uLkf5J4Bfv3bZPfvKTw5ve9KYxlEvIi/7Bu+2jZ8DSN09rrFbCA4SN+GbrwHiYW1e/+tVHGdT7fjLqta997RjyxatIGTKu7Zqznh7/+McPF7nIRcZxIVO8z7w0FyQlt6E7Ypd9/93vfvftug5LVnzr6ha3uMW23yaRhUXlAix803e/+93REqy/1mTMI3835v4e60UneHFcf+c733kq1mSlsTMm5N5LXvKSwXj6b3PNuzLW8nxe/OIXj+vWvPbt5DfZpA8s6kJb2nb84x9/xJX8NKfJIGu0bcba/H3AAx4w0Wop3Equhj6369E4kiH3u9/9xvlCVj3zmc8c11bbhGoJE3zOc54z/O53vxvlFO9ZbuaRsW/Hl1w/5JBDxvVtjtrLyKzASr6C77QGI2yPLPF99ivrLDchQNagPWJWeIfvMYflAEWzzhVRuP/97z/88Y9/HMOtvva1r43vZinlQYj28pe/fLAvPOpRjxq/K55jXdl/NXuW/doz//CHPwyMb/rtO9u1513+dvvb336U3fbU053udGOOlNwkzzHv4eu9ZLQ9V54AeWKe+h7XCYkyBvQDcqRtxsl8lQ+kX8Yf7uZqTybQE6wP8lhf4G7uxjjDKjwLWbd55StfOfYZntPyq+xLCpy0Tb+sidxgaYx9uzlDlmU8zSnP83f7aW72ZN9gf7CWokXuCnkQ45jxJh/sw+apsSUP6Ai99qlPfWp8f8hxuOb1/5GPfGTE/XGPe9zwq1/9anjCE54w6nJkBZ1N8wz7pr5Yx8L9jK2xNwf15fe///0Orz/b2c42vkuDD8+OtYCYvOY1rxn3MXuScbaPxlg/61nPGue757cFZv7yl7+MeoZcUvImGj0CRmQZvdAzsw6ZPQt0FPOVTKPD3eEOdxj0dSu2DSULBpviYhOOZnPgmpunEdqA5Qq3oGwkJhelVQuFhWCgMJnwJhYl1aSM2EzXUvwNlIVPuPiN4KHgiDsnhN1vghEmbRMjbRJqJpGN/S1vecs46SxcE1i/TAjCLgtsGw0FFEnRCA+hGTZn76ec5ATnSKLzvIhTj3dbPPCY1my+yJU473Oc4xzjdxH8hAhhqvl7b1OGi01JI6wf9rCHjf9NcbIBeLYxsKnCKjfJvgSBBmPKNGF0n/vcZ9wwNQuTu5aC2WJHQbWRx2KCGSFHQGZl3Ph4N6EnFCgLY5u8d1H0LXCCgvJqDGx8+h75BYig5LRo+mSD8d1wovTk+Wbemr/R4AdHAjtw9VuEllFsjZ+5CQsbgNCCWYnsBJFkU8KNsKPo+ye+yTsIWgl1hJ1/R7jcYx7zmDHp2twhgG3EyBhszTFkCa6elXGjAFgf5qX3Wi/uswH6LSc4w9y3ID/WmzWVcfL9QeoDKxuC59l8o4XC4hv8Dhdz1voi0ClTOQETYfQMBHNao4z6FhuGuWCTtBGYv5p+U2qzckA5My8pE5RE18emRGFjjAgF23MoC+aV6573vOdtw8zzT3/604/kJG+qnmlNtH0PLBEPMitajywsKhcYaaw9ODNmUFzNC+MPWw2RsE7MoVi7/m5ukGWUhGmN4nnPe95zxJPyaI5lrClzxjewRnCRbnkScIvnC7czzygYDAltg72+x/tsyMY5N1iS09a5504KsSHvKaXGqFW6hWJRatxPYSU3jF0k8eb3UU7IdP+2N8EyG1oyvoiO8dPgZD1p5rP57vkUMZhokR9ByWFs0cgFc7SVQ34zz8k+yo0wvWmNggPLrHQhseY4uWA8yaxY0+SBPc261sxvilLbzAFrglxE9q1l95r3nqd5Bvntu6Mhfd5FppsX0awVJAOJJDef+9znjoTRmNhXNEYrBh3r3dzKcoiMRBqjIfXGCqmnI5AnFHrPIiuRvtzsRdaK8TEHYObdDD+McOa5fZUSa2+FUbQLX/jCY0UcGGflvMWMUk9BbhtjQ+hN3ovYkmfWMaU9ZDnMzDvrlQyjtLZ98X3WBTzJavM/Gh0I/nJNGD+1wNtchDcdxfr1HAQfacm5nOYuEmJttnLcWjdvyXHzO9ZA/l44eof28Ic/fHjEIx4xrgOyy36lmd/+39zN+mQ8h7wMHAMHzzGG5k6eF4iBUDwNVvYqekarzyB85FKeG9E/95rD5hJcjA85pwVZoDsxcJkDoZvaNxg8WrmzwwRYwT9sKFlQESAs8/HtFo4NeZ442CALBprQMNHFblMeLWLAe44BN1EtJELW4smC17sf+chHjt4CA2lQLX79INwIfJPTPQaf4kUgmMAWpWZCRxmsmPQWAgFmIbrHRDIJsUlW2rCustKxMLDum5SErQnKkhLKQyYLD3nIQ0bFBrt2rSazniDQb6x8WhWLSFokXOCh2fws8qh4YmMlBKMhS/BpNywbpsVy8pOffFwUFr4N0TcSNNF8lzGhPNv0KT82CN9OmFuwmvdT4D0D8aF0svBQ2glr1iLkyeLyHIpdO5axsQUuueKA97OGwMhcozxTtG2gkSBLKTOPCGHkx2amBVkw3whkmx9CR4ja/ChbeZx6ZAFG7iE8bOw2JIq38WeBoniaM9MazI3Nl7/85XFueab5QgmKxNMgC9YAzDyTom8NwACpsVHC2zwgxOFsPhhDfQlLkg0TQYMHZQH5pgxQGihBWo8swInAtHbcQzlAnJBNyqj5EK1HFoy/PtzoRjcaFT/Pso4omJS5drNflCzYQGHDGuXfNnjjaG5QWMIS6FspHcbJteame13Pimg+kS/hFQiy4BpygTxhPIAv+UJpMfYIdbRlkAXyNKpCzZIL1psNyZwhNymcZJs1pr9hEFgWWYCFNY+cUiTIGvKRjDV3kQAtyIJ5S6bIl6C4UQp4Zm2scIxmYzVnIwGbTEHA4U52Zk+keUhWtcSnXWuLkAX3kh/Zs0C+wpQiQEkKJR7B5YXNzbqwX0WiK+XFGkHePYNRxzdbj2QoD4G2s8hCKO2UM7KZ8s54wvjFcq1R1qwJ40VJ832acSRDrDV7t3spZsaIsY8sR8RaxZyyan+yrmBL8Ufwjbl5RXk1D+wJZJpryAlr2V6hn/QAeCIjZJa1bY8k34OY2OPIeM/QR/eQ5wiiMbafRXloRg390ify0/r2bcbaXqJ/3rtesgDLnBcJS0oxGWRtanQKBJEssr5ClttLyJhQpMkvfaK3WCcR4WDcwtvsOyjB0ZBLYxTP8PfAGz7mN6WXLmM/sF4p1eZqNPKEAdNc93vIcfLSmIRRzhq3tu3X9gpj7rn+MXe0UMbJB/LEs+27dC/7tzUfxML1+m0d0pmQcC3IgrnM+KlP1lmQRXurvdueRxexR7bf5DnkF3kVRoWQXfpBN0H0yDcY0iGRQy3Igv9GNhi1kT/6lT2Np5ohcqu1DSULWakLYCx+gzVPybYgC4AGbnbfhAXKIFswUX0gqj1QmCxkzYK3adpgCK3sKrZpUgwpeDa4aJNyFlilKXN+N+FzeAylzgZto87WcAKIUOKyz2XwCCfvJTDmKZ0a30xQTavSZIISCNxlOSRl0uQkGD3PooXZrFKNEXNIyFFONYvRdxPGhE1uFrsNI8bTArZY8xxgnaAIw8hi596HC5yNHYU2CKZ5QOGzySIZQUhtYKzTcKKgTGvhtTCvIswkyIKN3LdQZqJR/ilalEkkT5vkWei9F8YU/9aC3F5rQwolNxSH3vOCLFCcXBfC1rVIg7/7N+9enqM8VCzGsLbRamHpRGgItmj6Yn3xoPXIgs0Iib3QhS607R4bq03MxsKyHa0lC8bbOuJp0scgbK43tvpPKMca9vdFyYJvtEHkZ4dCaWPjMtdsxDZkBgWKSG6UG8qEOReeuCAL5q+5eulLX3rbLUg4fH2fDTvevQyyMGk+x+YOK3JPo2wgbJQLyldusR79bVlkwRqCRQ7BDGs35ZzSoGWygIxNCmd0rX2CkkqRIxeC7CNilLbWkh8evVbOtrgtShby/QwNlARziyXTWjUfrG1kTF9DflKMyBD/2GcouyHDzT1zcNK47CyyYO+gXIVXhgywTsmNXBmLPPZ3c98aiRY5Ti1Z9jtFD8m1T1Liw+JOKbcX0heQ8rbF/GYppnBFs8fC0HPs3TlUCpHg7c2emUnrh9xj1KI4RlgrokMWIAaUwUnjtF6ykJ9rP/MN5r09nhyJ6AJkFeax37rPnuIaOkXsFcgAgw+ZTdnVgmzQo+yhER3gt5iP9k77nhZ4U9wjssDfKcbICO8COacZS2PqN3I8e1FcQ457bo5imJazEGSBjmB/8q5JjT6B9HmHNR/7XJAFz7CP5+p79iVzjIeD14QstHb92/yM9/ke65Z3mJ4HNzoJw2fGNvqWZWqQBUZORrzQW5A5ffHs8FZN/LgV/GFDyQKFjdU/t571ZdpksEnnsn5xLfaNUdo0WCajmbw2ZuyW0qGZMJRZ1gabZ9tMKgOaLVqTyIJNTyzhJAtxKHGsF/7bwjTpKLHhpcjvX6QaUggCGxalc1ILiy1PBuVo2rWeEYpFDnOZNldZBrBtwsq3WSjwtljD5da7n7JN6eYuJ5zbRiGluLJkhZueRZRVjuCwQQcZtGlQRgiiEJQRosAaMSuunfXaQg5ioi9BFvzGJZ9bPFusepypsAhZiPCeTGInYRwhKKw6vrNH3mKeZYtQPA9JNPbWDQt922zO5jolx7xn6WTx7IVl9BKcI3Qmu37jHbHWbLo232gtWYhyqjw82UoV1yO5Nh8CNsKlFiULPeWfscCcscFFrLANx2bTI+zkCVngm61lm2WQBZueTb1tDABIqJhzckfbSLIQ3rosF2xKNr9ZYRDLIgvWs3WdG+8qRSbjFGRhHg9bKHHCo3IN+3hG3ktCcQrP5DT5tVayYC6Spb5LzkMmySyr5A65EXk5sXaEBfJwUvzISc8hM6fFsu8sskAOtLH+oTyGNRa2k8iCvdEe2QvrcF8oXFnuBllgOMjhSTGG8X5KW+RE+C1CaDzT83KLcFSGxFmV6hibeO0ysQ4lmrEhqoT15tQyyYI1wdiS51B4BWCQ5Wn0BblglEAmyPJYz9l7Q76Tb/Z5+wViRUZRWFns7UnZMDUJb++kK9mDzWWEMsYARr3wbfsQz22ufDQPWbA3w2NSi7LidANhi6IuogVZ6MkY2CKlOQQZVvSkHInBKIhMhJHMmkXUYAy3aWcFTauGxJgMf+tnUu7HNNm1M3/bULLgwwwOtmjTkghiUOZN8gxLdI8sUNhYQVuy4J0EDqtfxEmysLWxpC3oNvOIj/PbJLIQFod2A4vnxWIV3iSMJWqW9wSaeyaRBQsAVhKGkR6TNWI1Z5EFiqnNhoVI4y7maqTAtXG83OZIFEsMV1qbiEzo2/QooPAkJCL2O8hCKPCTlKfAJnIaJuVdENb6neuYh3USieBqZBHA2Cljxl//YuGFNYmSmcsNsn4jKjZ4ChQs/cP6Oy9ZiPcafxuLNoksmEfex/LlGpugdxm/ecgCRZpVKOK/eUG8M1vOgix4TySHBc6hTE0TLISdcfRvJMw87QmwRckCV6x4XQTe2ozWkgVhBa0HqtdfWEaoyTLIgnEnG/SHJVhjTUKerJveJkBBtA6FhbGEzyILYfm2tii02rLIAkJrU2OVJxf0uZUL4Z2a55CsjSQLMIUteY9oaTE3exbbPP5hwaf8W7c5Yd4YyqFi6SaDKDxhIJknJ26tZIHCTwbZexgNctNH3pVsaQ95hFyEUscDqO+9mP/8vFUiC5GTEd+hn5PIQuR8hHGnXdO8XEIOGTEiJDbIQjYM5PsmKa9B/Ht7K4+zMcreAs8k54R8Udh4S6xla8iayWQByfW92eLek0/LIguUXoYx8wdBiX2ad8Q8mtZc6zuQz0jaZsQLJZ1Hwd7Pa0Sp5jFhSLHfk0/tgZvTyEKMVSj/PDeRyzKtj2RteB3nIQv2nTbBOz8/9uNe7tI0shAkIBuSzAVKPMMVz4FG5yRrgyDTGxhgGJrMiWltGlkIsrzeM06mdmCDftxwsqDfWGA+qGTeb1kWWYiYUpN60gE3JgIlJ9okshAhG1lpzN8TB3VFnD2hyQJFiBICbeuRhYg3x+ItGO5egoBiyPU9iyzEOygUrF08BuL8gsDE7wSLTYwySzB6T242dIKVgiQJkruOMmXTNDZBFiKUK8e19sY4BHjE+rbXRIhITkCK0KIIE9MPHiuWXmQI+3cfQUhpIORzoigLBUsf8uD7LXZYupeAnpcsBJGZRRbgbKz1gVeNhYrCZA3o6zxkAS6EMUXOmBNmlCXKZ1QAm4cs8ABli2zG2/xGIrWwrPcE2KJkIeb7vGSBghVepHY+UKxyJaJlkAXjQ3E3V8KYwHVuDUyq+x0HZEVM8yyyEEUSspU2vJ2hNMe3LpLgjBxTVM1h832SXAgvVk6SnCRzN5IsUOZ5xVjQKJfaPGQhLPjIGSU8y+X4jvA6BFmmZPFqec+swwuDLAifySFknt0mOMf7KA28Xb6FtTeH9sUeR05SHimxiJo9xdpCNDXkzrqbR+GYRhZ6ntllJTj3PAsRuz0PWQivs72nN25kMJmSjXybRRYox9YmY6JQUu9lOJDjoD+ZLNgXjSWFG7mb1JZBFniZzBPvQmYilNA7JU0zslJmGdt6DRnn5Y0WXhHPsgaREGHJZDKZKlrDnIzQ2nasppGFKIzSkgXvzyFiuZ9kQK7OtF6yINTPM4SV8+y2nvdpZCGKX2SyYG82FxjnjIHn0nXM30ia9k5ypc3V7I3HNLIQ+l6RhYlLam0/LIssRGjEPLHs0VNCnVUzrI/xd94CgqZVvON3C8ZEtLHb0CJW3cbeqywSTDNCIAgOk19eBbdrLsEYm9y8ZCH65L1Ys00srKN+i1CcnOwa90QdbXHC7sllxWJDDbLALUcA2yAJp0nu9bD+TToBNVzH2Q2rP0iIjcr7bMjez6MQC5hnhMuRUA0PhPuiMhYF0eLs5SAsmyxEmJpkvvDs6EtYe+clC3nFxDORzlA8ppGFWQS1XY1hRWFVaQ9/8w2EXy9noReGNC9ZiE2294xJ0mJRspDD2eKZEaKFAERCWigGWRmK6ymuiIXNEaGISj/W56SxjOflHIIo7yjPJ3vvQoGcVQ1pmlzohSdSIBARhCgKM/RwXRZZ6Fn0w2KXa/HPQxbCgt/m0OT+C6ugYFH2GWjIV0oOa+CsFpt5TryOe0LZjWpIIUesC+SCR2ySJTXWpP7Dn8Eon8AcBQjIJfOgLdWY+90jC+EF7oVJRlz6eqshrZcsREhc9hzk70L+EUCEKyoGbhZZCA9qfre+iRKgiGeyEErdrBOYl0EWwojWC5uMMKRFzrOIkFnzkP7i37FXR8I9rwoF3lykIGeZtAhZCO/6rFy8PAeCLDC6tLmrkbMwzbOA9Mj5mRQ2vShZ0LeQOdYwXQaRynoR+U+/YSxlZJ2Wc1tkYZYE3oDfl0UWbLSsPAacpRprnNVYkCQzu7eXEE2Jb5V511JmKaahKGCtLEk2H0IyrLneb2PjYrSJBFkI966NMMcRWtQsBEJqFiUL3hXxkKEQeo5yaQSGWPU2/CI2ev2zwUejeLOwsbKGAPKb72KhyFVm/N33i922qSMdNghjYWxzspbN06bB3Qe/7OWI6k7IhE0x5yRg//oSVX9ycmOEQeRysNEn1jIWpWWThQhTa5Wn8L6shSzAkKJMAYnwhWlkgYJrjlNuzavWY9TOfUlsFOuWxEnEoiTZsJZNFsxna8x423AieXXaulyULMhLMPdySFokM2fvVcSbR55R7kMQtRwfH54FG2xU9op7kDkbJyuUsYp1FRtkLk5gXL0bOZ5FFjzL98wrF0IpkGQuqS83Sm9UEFsWWWBx89weIc+VSmaRhbDgG7OctNibF1GeUkUt34nYIumzmv5QDrJhwT1CPowzYp/JQuRaMRIJY5jUKGCs0MaajCNr7SE5wdJ64mFWTYV3KJq5QA7HuPTIAvlKzvpue0AoeOQw+Wo/2tlkITy5UaY7K6ERkhtlnCPUZrPIgj3bPmMPywatWP+ZLIRMNA7C/nKzj1uH9IL1kgUGCwYTc4bsaJXQKFZBFtszczn4SfMwdAgEg85DXoUuEQUoyEF5Rj3D3SJkIQpVMNwJn41qUtPWIP3BnmK9tLrYLLKAJCALvbDpeOdayALMQr6KBLAWfVMOmbfG7CctSWnX7qJkwf3Gnod7HvxmybeN+n1TwpDW2vllkQXvjzMDLHIKpwVqkCx2seVxCFX0NRJreQooojaxqPUfFn6CmwfBALPaU2qj5nNOpI4EKtcRpiYltycFjMAJpU4SdCh6LPQUEW5TE9nijgSiWWQhDo6Rp8HtyLNigfGU2LxYOcNaL64zV2gi3AkLOSYUHkLVBo9YwADjRjS0TBYi/IoVU5gRC5IN1/NhYyw1mzF3sIUHl6gZzbqin5J63Z+b7zVeUf/fs0K5jKRov1GK/RYbVFRqgJ9N3uZMOfWuKB+3bLKgUoJ5wrrsvwn3KP/IWzOLLBBS5hFLFw+K+cAjQ8HJZe+mkQXYRciKTYgCgRTChUBnoaTURelURMaGTfBbG4iUsaZQE+jm57LJgj5S8Iw3t7g+SgaOpDnYEZ45aXZRsuAdCIlvYlU0jxECc5oXIc67MGdsYJQIm5X1btOmPLreGFAQorJYkAXP198YG/OM1ZdBoi37GiTFuvDd7qOwIqzmKbk07ZyFXEmDgo8MTJMLYQwQ/kQpYCkVAsVaZv0xbGjLIgueRYZ6F3nC8yfPxvvNuQjlmEUWeAeFXvAqxPkCIQvIoFxtKeaP380NazsbICbtO2G8IAfJBf0lW81xzzHfgywwOEQpY17l7KVxbeuJi2IB3t3LtQv54N3mPDlIJjMuUBzjPJ0eWaA46gslhnxAXhAqa4Qyqd87myywZDOYIbfyExQigZkcM/9NBrZ5BJtFFsIjrqpSnE1jD4qa+5kshKzmNbe+yQTrnsXbvAvFeL1kIRJe6Rnt4Y/WLO9TeI3sHcZXSG7IcvPJHt+erYFQ8qJq5HicD2SukYmxl7bJwa5fhCy4Pkqn0m/0zzcxkthDyBpr0nqOFp4BfaZPMCJGkZppZIEMJGN8AwNLNoJFiV24rIUs5O/2362R1N+CqNiX4jvNE3utbwhD3qJkIUh0Do2dJLt25t93G7JA0Nr4bZbtATsmGsZtkKPZxCl9cQAc6xAhrRGILFi97H9CnnKXXcwmuVj7KNXoGSY1pTVOgqUyKgAAIABJREFUg82VWFRwkKsQFQ4ips5GZJLOIguRkJYnVpyuKlk2YponTbywfsKKgPf+OJSF0m4zEPuXyYJrKLmEbxyY4/nIEGEX1YmQEEpvPsDGdZQnVg7XtmFMMKJs2Egp35SxIAQ2oTh5thfLaxwlnFKO4hsIHH+j0C2bLOirZLJI7o132jht7CxbuRxoOwbmQdSbz79RJoUIhCVmFlnQD/MLnjGH43kEuTmaT1NGnuRURPK6axEMrnGbx0aQBX20SSKU5mRu+kjxzJvgomTBnLNWWGSj2bhs+G3ZSl4+a67NKUCYKYk5GTvIAiUHscoH9XkPGcAanb11ETsctepdh7Ah2UgsS/qsQ9kWlQuUGpt0PiNAnyg/FCZtWWTBODGU5O+zqfo+BCDaLLIQHt2ebGpDZKI0I/na1o+fJNvi75GPFf9P/piLxp/yE2Qh16hvn+ke8zZbz6Nuu2vbA7DifiTRu/K6RE79PQ4s7ZEF9yOwFKtca17SKs8x49DOJgv6aP/QRwp1btaeNd1WudksssB6KxTZWgy5zHLMaGI82jLD9ijzqj0x2F5OhkSp8fUcyhYHe/Xma1QtIietWUppT5bbp9uT4a1virfWrpsIx7I+hUHm4gGuX5Qs2O/tDz057nmtAZBBDBEKuWTux74zjSxESPekte1bEKe1koXwInt+S2j9zXfaD2GbdUj99+10JW1RshDFEeYpfDBLrm3k7ytNFkwgzJSC2Jb/ZA1kiSEo2wQXiyNqWrfg2QRk8FP8DTKrJutOL66XUmfi2RBYkOJArHgm5Y/rnTCR4yD/IJd2y+820VxrYiASFH/WccohCwCLe3ZBYqmEFYsR67DrbY6sYjbfbGFrv9G7KNGSc1hGTEL35Fr8BBFLVNsIUQs5FHbWAdYHzxHn7TeWaGwYmWoVe9/Dki5WGvPX7/zeeJ/Ydn1guUPEPDcOmupNeBjZfFhX8jhYtHBC4ODfq7SFZCAN8DPerAa+XTwq61/UhtYXccy8Lu05FgSV8AEKdPQz5ifykZP5wi0Jf8qZfrFK+14CsrVGtt+LUFBehVfB1/eysmaszQ+eGNayaWF1rM/mOwxsCuacUIdeOVbXwgk2+mttmfvWoLEPS7wNi0WLshulQeMbeK88g5Upj5Mx8v5c4i7uYSmyzvzbN+qjNdmOJeLJRZxPge7NlZzEhjDpq7kDJ2NvrfaaOW7uwp38oMSYl/ngL/e1Cc7mpvGyflm/YdVrMV+sEUqxNc/C7F7rOZ/qaa6wlLsmk45F5QLLlzkNM+vMfM8l+7jUKUT5vBJ9p9QjZ+butBbx0ZRA4U68VmQz8sNo0c4z8sz3wiifmxPvINNbwha/mbet3AvFhhIdyf/zbphkJMWFPCYfzW8yn7ILd/PVXEeCWjLrHfBpy2qSQ77ZvcZvkpzmbYUDBcd4CNvJIVw8X/7x93xOiPcaU+NjnTIskCf+2zhbj7NKMnovGZVLpPpu+1mWh3lMGGiMZ4TkImjkgnFuLeLugxd5iWyReWSksco5ePF8clj/Ee/eYa1ItHnv97xHeq4+2GdyeK/nWmPIgfWb9x/zjzwga8hxz7TWzR/zq5WlrqdPGC/jYD3kvSHKA5t7nhHNvLLfmEeTThJ3LX2gdyKx38j8bHQ07uQkWU5OkrHkZG9/pZPYt81DMi8TAmNt/zYmvbGbhLc+GVP7ZG+sQo7TregN5DBDHvzaOSxkznxFesm96AfdAia+vZXT5qz3Z6IceMPDWEcJfM/mMcwVBF1rTZpv3teGdJmD1i55T162RQziXfpoDRlfa83Y577yMpAh/t6WAvZt9tmQL54ZYY48sfkE83nl2GZdt9JkYbNAqPcUAoXAaiOAhFC85qlG0at4scyvm1UNaZnv2uhnRd3xSdXdZr0/k4X2nIVZ9673dxu/zdoGT5Gadm7Bet817/0RjslLxfpcbddGIELa2nNldu2vnv51yAJPOBKHaLdEYVWxicp/s3KTltl/pJvRBAlmdGoNU8t813qfVWRhvQjW/YVAIbBhCLC6sVSLgeeGn2dTLrIwezhY/ljwhQjYpHpVcGY/ZRhPQ+VR6B3KNs/967kmQvG4/5UOXYUWCcy9k+xXoX/Vh+UgwDrMkq6SEm9aPqxzOW/Yuk8JmSA8kwGh5y1axa+LBOZ5Tv1eVv8VZUBORJ1kz/Kynr/M5xRZWCaaW+RZXKvc6z33ZZzMuDMXOMst93yc67BFYK1ubgACYe3xaCFIhGpOyO+9clcgC6zmcZDbBsA6uvm54zWhJ0IopoVLTOrDziILQhJY5CLcJJ+mPKmvQhbJtY2SbXGabVsJayPGb1WeuZH7hbBAIS/2gY0as7XiiKBGIQ7zUEhbL8Rqrc/fyvcJvxUOF3H9Spv38jtX6RsjUV3ItpCztcjCtXyPvYpXQdGcVW9FFlZ9hJbcP/GIFrL4TAw6N658cZxiHMV17ozGLSeJmuVTXOWipcR8g5hCuQVt4lb+HsoGoSaEYdF3LBMXAlU/xOfPUz609+5V+ZZl4hLPQmzFJYvdbeOPJ72PxY9l1xxfK6bTvgXeEuDMHQmTy25R3rB3UvAi7xJPjXj3FGneBPkBQgUQh97J1d7lGWKEewds+T1ywFjUxUBvVrNujIF8I/kGs5RJSq0wNjlPUSVm2X1F8OTmyNVp89uW/a5JzyP/5BeIFZ8m/5bRH+QInhKrjcUym3hw8eYUKYpcG/u9zHf1nmUfkhMmB7GXA0KhFGJDBsjDmhTfvtH9XNXn8wYjUOQKi/m0fMRV+AY5Cryrcqmi6t0q9GuV+lBkYZVGY4P7IulMorhNjaLQJnPFWQCEn+SondEitKCtQz5vX6KGswo2Ds6b1FhVKUmUjbbaxbzvWsZ1CBsleD1l06JMJss75bra1kUgTielKJmj0w7/mfaV5jRFhlKdK60tgoxkXXOKoh2nVy9y/ypdGxXgWIEZInbVhhgqHtFW9tmI741zc/IZJMt6j4oy8j/Itnz677KeP+s5SuqqDock52pqs+6r3wuBXRWBIgu76sh2vksMoaonLCJx+E++bGeTBe9XllUMn/CGtTRl7VS0Ubp0WtUh1QqQBRVv4tyIed/nrAzWX8mhbRWOeZ8R19lwkQUVNiIsZNFnsLz5VlY+1SKqbV0E5GSYB8h8Pkxu0S+KwxN5Fig7vZDDWc9UbUaiorLDKsus5Rmz3rFZv+8uZEFlK5VgDjnkkJmVrNaL/SJkgTdHOVgkoD0ksO1HGFCUd1ZOe2c0xjJrERFieNqopkqbZHjeGaXdqxUCq4pAkYVVHZkN6Bc3G1d8jyh43c4mC1yXSos5A2GtFtUNgG2HR0raklApsc1mUq0QWAYCwpucd8Ga2ZbuXcbzd+dn7C5kYTPHeBGygMAoA+s8gFmGIKGywqnEus8KL9vM792Id8nBUn6XF3wjSclG9L2euXshsLJkwcYpblGsYtR2jqFh8ZL4xNLVChMlFlnVeucmtEOrGggXvXjDiI+Ma1jk8uFi8XdKbJv84loWAv+2yef4SptUr0a3Z/QUYkJSpQXP8KxJscT6pu+qxaifnmt0i+9ucVFDmDIuFlN9Yfe0bRJZkGgmFCFKoIlTVutZXfJJNevj2eLHfY9vZcWfdj6Ea8WCCg2a9u0w8o8wCzHp+VuNgfAJ4z9roxGqAau2XJnQDaEKcVZEnBQJc88XS+7AK9Y7tce1wNw17hO+oZSjuWpT1ReJub044kn98FzPM27WgjEWQ9v7rmnPMM/VtTaX5GdMS8SLeeV9vnuSdTswEvbkmmkxqbE+ot56nLLrO3Id8Zgz5pa66nEOyjyn8uqPPps77TOnyQtz2+8tJtaJNU2eCF3Jv1sLfm/bpDUtHtbaCjkzKZac3JIjoD+8RG2f8hjH6fPmOtnVw8hvcJlUutB6g/M0WTPrGYGB95j31iQcfIsa+76Vt7CVdbFOjJdryAj/OONEf9aKMflCdrQYTyMLcLU22rh4HhVywBwQt55PjM1jv+i4xLomw+BvfyMbe2PYyl4YuY8cyDI/743OaenJP/PKnLYXuJf8Xk8i5ySyEGNrLMhW618OEcOKA9kiMdgYtfuba2Fu3gmTtVf15J1vIF+tKbqAvsiZkVyemzHkebVeyb559IIYH3urOdHbp81PWHq3pNg4obynPpJn1r91aG5GiV/jwavt/AkHM/JWaz1cdi+1tL52FRFYWbLAuiDRVahIm4jLbee0vTYuk5AiAAlTArOniBgEv3GJOhE1GiEiScvCFdPfU6Zd61RYJ3xqBMajHvWo8QRXwi0WulhHJ2l6P+sIC3Tb/OaeEBwOxHGirsOYohGWLNjcobkJU7jzne88koVeE+vpeHqNAuW4dye1ZgWHd0EYjY082iSy4AATCo+a0t7LQ6ER4vBwgmQr9CU3OSWVpyAaocsN7VThTBoosywr8VzX+3ZJ1vkwPhjZbDw7mk1WWJDDsLSYG7NOuYaLpGLJVw7QicbSo4+SBKNJCHcYDuuY8ew1oV1CgWLeyr2gQCtNaT5p5pR5K+womm+3cRuPNhxKhRr3U/SjUaZe8IIXjGujfYbSb/ofzeFoTiYV0hKNcqDywvOe97wdSLjkTO/L88ozxe/mJHBzycnA1lk0/bEec6Ui69H8deLlpAMAjUNs4MJlvF9iYTQbp9PSPWdakmPkoDgsqE3Ov+ENbzhW42hP5aTgUi6sQ/2DjT5TZg488MBt+R/+bj1ZL/qw1157jfi1zXXWSRwmZw65VlhcNN/qpF5/z03IhUN5yCbNs6zbOB1av6wxJ+Miq04EpyBpFDKlS+OU9Hgu5UkORHuIkfu8P8sacxPGwvhyo6x5Rj7Ze4cP/78/xMnMwv8oWcId47ApRh2KUF471rIQJyei6r9vMh4Sxq0zcsY872FsPUVIlLVBbmaMERYY55OCJ5EF77dGxMXHvEMOjIU+++9o+ssqbk3kZqzMMd8cJ7XHuBi/9nRdFVCU3JQHEo1sJC/9PSvwZEocouV7JPtrZK99xpzM50uQoyqIKZoQMkJlOX0z//P3IByuXWvJxh5ZMIb6QM6Ro4wqCGE+8Ta+OR8ESHF2eq91EGvAdUiz9dgWEjDGksidHOw0doSNrDBPYWOvc+qx5yEMmvVjHdu/ZyVMWxtw6Vn8lbvU93w4pGvJyXzQINnm/nxYm3V26KGHjt5DRKdndGhPPO6tt/pbIbDZCKwsWSDcLSzMPSyGwLFp+jsli4BWfz2aOHTKb2w4k8C0uVAwbcZCXlhHnWRqMxA3SOBQFrJHQCw4AZwF3D777DMqvgiKBc5yQOFCQigsFBfW55wg5V02IcLON9gYbHiEB4FKsSLkbRAOSmJpp/Sp+KH5f99I2Hk3i4aNmnJqY6cEiH+0EbBKUfRZK1U48nfv0zf9YrlUcSisIpPIgrh8G5vrCWKbn75SUGxEyMK97nWvbXDDySbnGvGpvscYwpySgJDFKdtuCkIF8yBrXLL+HknKvBk2B0qdv1G4/c3ph5QzMdWamF1jiVD0TqeMToaSnpUEcw2GNm5kD4asozYcygil0obAShbhUsiKBhMEx7d7JqXet+65555jtQxES9K2jZMSGQpyHGGPkLgmmg3G/EE4zAmKH1JDCbIG9Cuqz1DmKL0qoGQFkNdHn2zaNl3Km3niXpssvKNRtmHKymnMrAXXwdc3IAIaJQAhY82mZPEqiO9VZ9ycNNfC2+R7Kfo20oc97GFjv80Z+FmjxloJQsqOpExKmM0Tlr5Ffynl4p2RQYRtkqfNmqVAIvAs3OEtsoatNfOmPSgriF2WI77DGvddlDdEDhGkVOkLBc0az/kllHFKEQOA9cBCbH6Zr74B1vpvfVEGyamcgB8x2uaNsaZEeCfiB6uQe9YuWROHHrFGsjSTA1G9JSeDsoS7Nisk5h5ZAyfKmbXJQmpe6R9ZQlZEIxs8o+cdzfKVTHGiuwRb5NS4+2brknJGkSMHzSuN3IFPXO+0U4qWuUDBNv9z/g2FD8bmZ2CMNHgGRRHGwjl8w2Mf+9hRfhozY671yEKcnGoNw9taIbOEy5jT1qT8KYYN401u+w5rLFeHIhNjXKx778zj4nrzWaMI2ycYB8gq8gbpRlp4GdrCDL4JhvpGoRbDbw1YR2SH9Zxj3c0JoWz5nfCwlxgTJxBbG76PEk52kqNrOQyqJQvWtz3Vcxn5EBvj5d3mGLkMtzhpmwyAg/vsTYim+YAo2mt8g7njd/31zGh+t67NBfPcM8ke81eDA6OZtR3EnOxm6DC+5tc0z3OEB3kOORbNHkZ/MO+QEfKBPDBnyT0yPzyC5Cb9hOzzTjIB0bC+zCvjwotinpo31o9m78wGpbzO6r8LgZ2FwMqSBYBQciwuyjelXqPARGkrygklNNyEBCiLJ+tPa83JABMuNnibzaxQFfcRSBFDbBMiYCntNgiCQZhIDhmgWLLE9kIzeDQoXjaqEGIEJeWd0CFUosWGmhXasITZEGw20QhLCrjNMo4x5/WwidokbEL5WymEcGKtIgC1aWTBRm/zRFyE2GgUGTXaKeVh7SfYkQsbHEFJWEdDXmwGiAdhrc+ut6FQFAjaSY2SRtj7/v3333/bZTZfzwrvy3rIQsTVzjp2fVrOQpAFHbTRZWsvN7wNNFd66pEFihwFhvvafMvzKM4QMH6UJ20SWaC0KQWXx52yaN5aQ7mEJA+OMdO/CK3ybAqMjd7GTmGzdoyZv+WEVwemsQ5TdpEIzXxBqvQvrO3Gi+LjOZTmaHEgTvaK+c07zSeKAO/AJM+Oa8kICkcm16zF+qHprzUflltkyUZOxlgjiLxwE/jzruSSiZ5DycueuOg7pYGy7XnWm4Y8I5mt8gdPsgEZYSQwNpQ9ysa0w4BgHv0mQ8iPIE6xzr0TcY/WIws8BxSmjJHrw9KPPJjD0RYlC/poDLM3dL/99huVWhjDWgvZ5r8ZWpDzabL4QQ960Ei08vqnOFtjmRR4HuUXxr6fbPbcliyYJ+QuuRNEwb1xAjOFjYKarfaxvyC5QeLcE/0mo4xL3ENJJqvyWjWO1mVbijZkKc+RvkVDFiiu1if5TkHWogIa8gXLaD2ygLggsm3IaMij8Ipue8ic/9GSBcov2RlEIXuPp+Us2PcYw+wNDCY57DjkXVuVyH6LJJqv+p9LlzKqICH2F/M8xgf2yBLiRy5NK07RIwtkF5nAGEB2MfxEI0esf+uYEVHTJ3txlnMttJWzMOdkq8t2OgIrTRYoB5TN7AoMge3vb3zjG7fbYLFxGy7h2KuNHGhToAhYSj3hMauFApo3JYqaTY4lhWVvnhYWRBsAARexvYROVh7ys2x6FDxWbdYfyj0LF0tsruUdCixrnOdrFBuCqlf20IZKkFHcxC4TqLPIgnty3C6likAM0uadNmcbMMszBa9trE6syTmcSx9Y9W0UxqZtrH02OpsD68y0uNP1kIWwNNuYzY28GeQ+zUMWeuEwYZWysbDqaj2ygJjZyFimkMjc4ISssUQhztoksjBpTtrsjJn7NAosQsKTQkmepLRRVmzAeeziHRRf+SPWEw+ARtGkpMV74lpzw1xCHvP7kZhQ7nLfwwIsxCM8HL1vC69HTqIMQkAJQ15zeAYSDmsEghLGKEHJFablWfM0csR84blBthguwvuJ6PAsZIXTM4MYhZwKJYvyS9nvxZEHWegd+EUWULSMTQ55aMkC74s5zTNrrbfjjKDCn6wJ5WtRskBhbsOHYm6Qyb5ZC7IAN/89raABUgtj88Z4BcZkAms7jFuPE28WyzSrPdmayYLQHVjxzGWioF/WLet070TryIWDI09VKMNwJMN8W+6HfpNnDEAU4mkt5EAbFhlkATkPL6bnmA8R3hMhsP7eIwuT3ovIIDQs/m342TxzP5MFxAOJ7REFz5pGFpBIBpReP8h+85XBjvEkyn0jC76bZZ7cys2+bH8O737+DYFHqhk3GBYntR5ZQOIYJNzn/txiPme5b+3ot31t0jklRRbmmWl1zSogsNJkgTJhEycUKRw2UUKekBJ/adPF4rF5wpvlkMWU0jetIRkWPYHLUsmtyFrUU5JYJlhaWVZtIHENhcSmY2O0Qc5qYkVZgWxeBEsI/hC4+t5zPbJu2Qxj0wvFIpeVI1C5uVlLQgGxOdpUWUNZTHvfFtYZOFMOZpEF4R2tom7Ddn8ofrClmGUrYsYGmWG1y2c5hBJNqaKsGQ+bZvQ5QoYIX4rttLYesmA+EPbGnCWcOxw5az1E85AFsbGslLmFMpoP2+qRBdZobmqkq0eeWIZtoKGETyMLyAXigzT6b3OFRwnhiFyKsGqa5xET3cPYOmMFR1QobrlR2pB7OQvhIQpFhwIah6PZ8Clp5n+QnVhjxr53uBOvlfndy+vIfbBOzEdKaSjD+mDDRlJ5wYKo+ZsQAqEyFEaNVwSJ4yVgyZ7VrDH9QhIophEC5Nn6gZTlkJ54HgUBDu6j5JvflGFrF37ImFCWHFcdZAGhanOVeDlhal3Ft3hXSxYiTHOSrDFPrHFrLEITFyULDAFyH3IL76E5AjMKdShX4s3JjEnN9TyXCJF5EHH4IRNgFCGa+RmBcRhVgiz4dso+KzGvHbKSGwMKItuTda6LcwzM8cjPIacorDm3yLVhkDHH2rLI+k+2M+RQeu0PSHEbShhrKOR/7qvxZehhtIk2iSwYA0TLPCUvjAVvGUxbL/WseR+/x95FPpq75rt/9xLqp5EFMg6xmnQeiL2CAYI3JSr5RUhs5MXkPofR0HoPL3j8bkx886wDD3tkgWwgI/Q35yZ4tvEjO3MUAMMGAmW+82LZ1/Q/78VFFuadbXXdzkZgpckCcCgwlAkWQUSAkGAFYV23IdvwbYLhheCSFxYwqxGUFn+4k23WrLgRwuN+GwrrvI0jqi3Ec8MaYqOz4c1q4Ypv+xdhK5TwSYfPIEvcsVzJFDwbOAFEqaCEsYSxXGWLaFigWSJtKL3G4kZpIXDhuhayQGmFU5AFYQbCx3rWZ30I632r+BkHIQaRbMxCRXE0xmGZbENnet+0HrLgeeK7ETFhEZQmOCOkSFpYfNdKFsIyNYssUOaFLlAAJ5XQpLALy9AmkQXWcaTW+HhWVKqJuvtBFmYRvMA5lGmKPqW11xD4ULRZCo0HpcZGaf4ihhQkfYsj7o0zcjXJcxChh22ITO/95g3FzHr1XuvKuxEd/209I9XhhTDOchM0FkOeyxwiOG1d8yiaG21CYijvLM+ReN8+h5eQDIvwRQTD/LfOKY/+DqsIv5xGFsIzNIssxNrz7Iihb/tF0dOHCAVZBlnwDkobmURRZ8SYlywEQTVGxipahNNRUMOT2sOYMce7s2fB9f7OUGTuZ+XNGiEPeRF6BTLILTLKGgpr8SSyQHE2B1uyQJbYe6JCD/muf4jNImTBXuUds8gC+cBLiSgYX8TGGCAg5P96yQKyRv4zBNnnQi7l8ZhGFuxhZLx+9gqLRLgUcoU4aNPIgn3UvmqsJiUym0/TTl/vkYUIF2QoyXpC/k79E20QDQHn3YzCE+YCY09UsiqyME3C1m+rhMDKkwUbKuuuOGiboTCHEG6hGNo4WANtANniMw/QhBTlBlFoXcAR108pyALAc+O3eTwLYlQpOtmNHn3jRmXdQlZmeUTcE5sn4Y8gENIED0ULRrHJ20BsCBLyXNO66W1ONlobnd8pwssgCyo9IE+9EBr9DysyJShXowo8KHkUMOQh4nejclEOY5g0tuslC/Fc+OmrcbYh59jzjSYL5jcLISWX92pW65EFCrn5hiyaJznWnvIUxNOzbWg8a6zgkSDYe2eEkLXJ0ZP6Z+MM6y1FAqassRKIgyi4N2KWe6FbuX/znBRLobRWJSr7fs+M8zAkEApN4M1xDTKTc3wiZElohtjraY3M8S08UOZsVkqEy1Fm5vGEte9AFMg8GPECGUdEbxlkIUIEWcejIMCsubUMssDqStb4J6pizUMWyGakGMZCGnNpUQo9xZ5VGzmb1TJZYMWWx+LfbYIwRdqcyN6V/GxE2ZhkS/8iZIHCS0llnTYvw4MTMm4jyELMe/OaoSLC4sJSvl6yYF0i2L6JAaJ3/sw0soB02SPNiUiAz5iH8p/39mlkQdiX9+Uk71nzo/29RxYiBwUZQooWaQyajBFknfGwT2pFFhZBsa7dmQisPFmwsVN4bHDcikgBgcTiHNZBlmB/pyhPi7meBLRNOaw04SYXZ8gyQZBxW7bKdsRRtxVW2newHiEKBGF2o8d13kd5o0hxTc8q6YZU2ChtpBQI7uT2HIp4tpwG783u2/gt8idyjPkyyEJYVY1PnK+QMYl4Uoqn/+411kdWYJZZmPhOsarGfZKrOp6zLLIQzwtFNsdiRxUsFiLu5dzCU9QLQ5rXs0AxoojafCl1s5Lwe2QhSDYibG3kxpJpzoRnIUKhYM7SOKnkcISQtQmevTEM5Sc8TFGRp3fGQPTf+ylhbWWWsOi1il3vvTGHWY/hRzbwDPrmCHeTKG8MKWo5OTS8k7OqqZmPrkGy2kTh6FOEs/TCR+YR+DHHIo57GWSBjKFkGQtjP+n8hdy/RclCW+nMs8JAYEyiwtEssuB7kU1yKoohtLix2seZK219/fbaNsGZHCHbGUq8I7wTUWa3TUz3vPBmGFv/HetyEbKABCKyrZEpQtc2giwgWfDkYcz5MJGUuwyygCBERTV7GLmVvY8R6tjzHkbxCuFrwthyg4uxNVftBbEPTyML4cXvGfnmWXuu6ZGFmMezQucmvcNeLQyODCSTtEjGnhSCOW9/67pCYKMRWHmyAAAClKJN+BB8UcUl4o5Z3ghvFl9hBNMayxYvgjCiUFwsXBYlcftRalDICwsSoRfVl/JzbbasWjZgCmW4R/WJEsyyzjIeVWJ6sbzxvCjlSpAiIVmhIiAp4BGrG1Yi4Vn6RaH2D+Xchpc3zbCyUpoI66heQznUX0pptgItgyz4Jh4gSgEuyKRsAAAgAElEQVRXr/EIAS/ulMvaGLJyUg6FSCEzhGVsZOJKjTWrIte8xhLse9xP6aZQ2gBZaCSzxVkc6yELlD99QkyjsewL5eG1EYajRd5IzDf90CgNyyALuaKUhFfejUwYYOeaiJvtkYUI7QnLuvvNVV4B/Tdfgizoe4Tv+CZz1lhQsCjbLOeUG/d7p7XWVi3yjLCwWxeSexE8xA+h9t/mqbGn5HlfrpbCEGCOIhfGM+aMucFSyEtmPc46BFA/WCdZ8ii61kOUpI1wHXML2c5j6r44fEuOTyaCwmcoINab/kWoXY8QxrwJRcx6pfBnAsTzYO1FfXuFE5CPCMEwtjxvErKjYMEyyIK+Ra6VUEGlYLOsIbvIgHyGx6JkwTt4xRAz8tS3kgfIgffJA9JmkYXI25mWbG4uC+sUTgTjbDQxhuZAYNwrnRrhd3Bn2TZHyUPP892wj/LE9g1KIjnTKrWLkIWwTuf9QMiT2HZK+0aQBd9F5ufcIXuodUUGtGTBPuR3ayCfr9Luq71zFkI2MlSx7Me8jwpQ1qb/tr7NadhFZSf7E8wjH8p6NP5kfLtWp5EFHghrlUfK83JeChkmr0c40KTDEX1njyyQZeYDLM2dtjIbzLxTeC+ZbK4ImQ5ZxnhGz9CfyOuKyAI4kwn6FLi0eNf/FwI7E4EtQRa4/SIOOhKaA7RwUfr/XAloEqihEFMiKCwWJ5elxR3nBYQF1W+txcomEvGHURHJu1j8KT/ioQl/VhbKe7itbUitxZZnRIy3jY0Xg7DwfBsc5Yj1i/Jpk4qqOBQ1SjRljEKX41UJJcI66m6zIFKuKcGUNO/iRWHNIIjbSk7LIgsEoG9HdFjhbBA2Jd9iQ2fBjRKxUdqSEIaB/iFfCFxW2HhTJDrChED2TMqfDTAnS6+HLAg9gZ8Nm2XfpsCqaWNCWqLClk0BoSDUjZXrKEcS65ZBFswnm4n5CQfjbfOl8Nig/ZZd4T2yQLkResTyaiz8t3FHxMxFSlwmC54J/zhrgkJN2fLsvOYo3sZOuIw5L6eCxYzyp2JLPigxlGrzMs9T30cxsOFGwiLlXT95NpAJ32v+wNM6RBARn3laKJGuzZWn/D8s4zCzSDDOz0SyzCFjS+FAHoUH+t4oBRxJp+ZhLtnoOQgtJcL6NB/Mb2GC7okiAgwf5FZY2Snn8jLMY/IGluSIeygcoVjFOQttgvO8OQv6R9Z4Lgx6skbfc+nORckCzISe8eRYo9aKOWwuI4MRAjOLLETFKOSw9TTxSiJhZBiM4WlOm0sZY+s4EosnHcoWHhz3BtYs3ZEjph9kFsUXdjwPwiezp3kRskDGwsV8EvYHX4UzrCHyWvx+PitlWoLzvDkLEW5kvhpfslQ4HhlHrrVkQZ/IDcadadUCJx3KJiyJFT57EeBPxnsumcH7YE5EfkOMg/kBc78bVwSWt0rycN4/p5EF8zzOS7GPeg/C5Ls9k1zJlZV6MmXSOQswIYesb2uY8cR+D0d7URz8GPlBxsgYkif2Emsh422/Qx4iRJC8UQkvl0CeR+bVNYXARiOwJcgCAetMAgKH1TOXIWPhpKhRPiiXbZnCHoAUb5YryrlFzJIhLyISlVnyWX7CYpyfQeiw/kcjFCWkUqy8m0LLsxAHgnE72zx7jVWM8qLZPFhxxYzb/CkGhCtBwxpHUdUfG4y4VwSHILfBcC9TLlhwhX9QvKKcnE2IVdg3w5HwpDh6pspS2WLtXhZ+CnA+sAupsDGwurXKESuiTbutaELJ5AZGVDxXqJUN2bOytYqwNBYsg0iGTdhmqrxdeGsCO4LWJuDb/bdNzeat5GT0iycDhpTWtqReHgOYuZdSGmXwKAPu93ybCYVHnxHVNqHNXKMYIgo2eN/AooTMUTZsKKz0uRkjMcN+j8OiKPX6gXwIs8mN14UVkyWMYk9psbHAxTMiZE1fvbu1SprHlGUKvrnjWyjSrJgUzihjGe80b4QsuV54hnex7PHC5fAF36hfLILGFkm2hpAIZY4pdzZkc1sfbbyUuShzaUOFjefnteEec4ZSSUmAv7no2lw2cpZQRFp4Y3wzxTKfKi0ECYmhlJMdvRAv36UfFHjPIG9Y5ENxQijzKeK5P+KSgwBRIljTkWNrz1zndaEMGb+oEEV2eB/czQcyhjLsu8P7oh+IPzkgxCw385YngsxhuY7Ge2CdtBWuyBoyy9/NARiErDE3Io7ec7zPHJ/3UDZyk0wwz+BHQeVhpQxmpd97zRUeFTKybeZhPu8h/84YEqcow5j8h7H5Pgljf4cf/ONcGc8kP+0t5rS5guy41hzl8Qkvnvnnu3iT2tK25Kj115aMjXFBBnMoIAIlmR1ZtaZ51RTlYD1n1IlTu/UPNpKpEdW2lDNl3JrJeUbWJSKgLxEG5HviPApy2ViT/zGvzZnsgUHQyHTyJ8516K05v5NjCFsuKkIp17fw4sczzAcGGfOdUuy9vl0LL7H1SSYwLug/vM2Tdl8X/mneksOTGsXeWCOm5jwdgZy1VnoVtPJzwtvRHsrmGvsU2W+9Wl/GjIwxD+CB1PgecoaMIY/sa+QhudQmVvvdOMPHPklmxwFts2Rd/V4IbBYCW4IsbBYYq/6ecFm2B/dEvwlVG9xaD9lZ9e+v/vURiDyRXonG9o7wnsyTmL8evCMZetJ7KCSUCcpetdVFgLJPcYxqZ5N6Gic4Twu3XN2vrJ4FAnHqenv45e6GUBR96J0bsrthUd9bCECgyMIWmgeR+MqKIbwhVwdhqWNZFF7C4pNPlN5Cn1hdXQMCkZ8w6WyLeGSc0sviLMxiI1tU7RLjz4qdLfgsoTwvwgMi12Qj+1LPXhsCUbJY2Mi0U2g9vcjC2jBepbt4IHideWl5zqbF9K9SvzeiL5Fbkk9l34j31DMLga2CQJGFrTJS/9dPrk2JzRFHzxWPFHBFi83lumXJpTRW2/UREI4iJA4JEE4hfEd876QW+SFCJijrYm55ozaiCY2S0yDsQdiZcC8hF5KUhZcItREmMOkciY3oUz1zPgTME+ESyIIclnlKyRZZmA/bVb5K+KUwGlb1XgnTVe77svomFMxcFhIk9IlsXSQEcln9qOcUAquGQJGFDR6RiL/uxbqu5dVihyXYIQzizqPknoojcervWp5b96wNAaFhkfQ7q3yjN0jwsynLRZlWaWSe3qgSIhZaLLNYc/km0xqyKT/DZohYmi9ydTaqiV2WOyKxWty7hiSYq7wb7emqs/ohtlfyp9hgz6m2MQjwIohpF5vPOCEPoy0d3b5ZQqfcIfNwI+fUxnxxPbUQ+P8IyO2QN0G+yK+bluBdmBUCuxMCRRY2eLRZaFgnJFjlUpHLeK0EOdZbCbIS4NbaKJySqiVuVvjSYihGiUyxvpLhZjUbkTjYfJI3660kaknALFtbrQk54jHwTfOUNl3r98FGLHU+/Xmtz6r7CoFCoBAoBAqBQmA+BIoszIfTmq9adbLA2szdKl6V+1lli2rzI7AMshCler01DgWcvwc7/0q5MxJgVddhid6oVmRho5Ct5xYChUAhUAgUApMRKLKwwbNj1cmCz1eyVVK0SjmzTpDeYLi23OOXQRZ4ncSFC2NSMnarNeUJlZ7kHVk0tGiRby2ysAhadW0hUAgUAoVAIbAcBIosLAfHiU/ZCmRhgyHYpR+/DLKwSwO0xI8rsrBEMOtRhUAhUAgUAoXAnAisNFlQBlSCJIW7rfIiUdRBXhJFlQx1yBYLp4O4xPDnpuSohGAHmsVR8vG7A84ckiOhTxKf0xV7TQ37XLlFwqb3SzJ22JBDu+LgGIctxYFi08gCa6zD0vxbKIfDnFSp6SUTqngkVltsuLhwVSvUqe/lLIiLZ+GFg2/XT4dn6YvE0vZgNQeqKb3q4KlcLs87JcM61MZR96roOLiurZQh38HhOHvuued4oJNvktQKF6d5GqNe03/3eb7m0BqJ4Mc73vGmTl9j5h4HhrWJrg7Bgp+8gNzkBZhLxlCC7KzmRE4lPs0z3+EwH+dbtHknmSzAxjkX7pX74XoHMuXWy1mQbKy8qG9xYFBuwsSEh6kcZD04qMiBRA6X0hxgFCcB5/uUKm2xNJ7wlsBqnM0dz1KlKDf5Fw4W8pukYgcLuVdZRfOn9T4JP1I55653vet2zzLn/AYPJ56aPw4buuAFL9iF3xyUvO9Z1oOQOAcYRdnVTBacRAtr88BhS05dbtf2rDGu3wuBQqAQKAQKgUJgNgIrTRamJfCqBEM5i0OAHBzkpEiKolMV89Hwqr44Yde/KWvRKGIUe8punHycT4fO8AmxiFM4HXpG6RE+QnlTHjIfWkTJoeBpk8jC05/+9PGEVn2g+Dmh1zMQBkpqVphVGnE6ruoy0ZzErIa9w6/aBGeJskgThUpoEWU0mjMaVO/Jz6fQegcM4rRNipiqJkiCajsUNsqqfyvZmZXx17/+9aOS6/RQNf/bk1dV4FFRJTd1vGFICXVKrPeo7ERhfte73jW1dF8ojcbDuERzSm6c2vyDH/xgON3pTrftN9+jTOh+++03PO5xj5u4MpQgVdUlTsmlSMfBYZRdY6MMaLQgC07gpOgifrk5ldmJs9F6ZME8ooCbK0GcXG9OwxXR1ZBROQ3G3om1TiGVlG6Me005XSRXo7QjV0g1Yos8OWH2bGc723gieMbKCa/G3Bibo/n0XtcrrekE1miqGyEslH1jqcEC3rAz16xL79OEvcE4NwRFJR2nPLs25mw+gDDG3fciwMY7GmxgspE5ExMnTf1QCBQChUAhUAjswgjsMmTBGLFiU4pyvXnKOGu3mHxKtH8rCaix0quhzGvhHkm+/uYezb8pPIcffvhY7pKVkxITytZHPvKR4fznP/+o1N3sZjcb360qkeeF9bVHFuJ0SMSEgqN/iAIl6OCDDx5rnCMTGuXpHOc4x6gYPfzhDx+VbkrXQx7ykNGyqvXIAmKhr6rHUMwo+kprUuTbuuk9suA9+nTve997fL8GA54P34bchBciyIL/p2hStHl7eCWiZCzcnQarISWswBRzpI9CC3seCdcbEx6RGKd2/QWJvNSlLjV6MKLxKuy1117j/zp/IP7b/xsfVnWlN/fYY4+JS/qAAw4Yq/p4Nk+EvkSteaSHUs2aH96ZIAse6Due/exnjwTUd6mO5BvV7EbStEXIwt577z3OB6TAfIAtLxjycdGLXnQkCogGJT0aony1q11tJBSICw/Ht771rZGIwB/Z8d/6pUwgss0LhjBE8x7jhSRQ0PXDe5ANc97cg1G0HlnYf//9xzniXh4JDXlBes0TxJDHRlMtjOfGvII5EglzY4iAIpRakIXAGulADhFmawfp9s2T5s3EQa8fCoFCoBAoBAqBQmAiArsUWXAgmXAiCspTn/rU8aMpdhRT1k1hLxRNionmGrWUhYAIwWlbnIwrHIOiqVH8EITWS0EJpWB6judF65EFtZt5J/QtFHHXs8JSeJAPhIC1NA47ahU6RIaiR5nskQWKWlvOk6InJCh7Pry3RxYmzRj3OnVXeEocVhNkwbkBvBZBCjwDQWFlFurEE6SFNVzf24ReWCMNhx122Ohl6bUggDw6FMnwhrDC80pQbBHHN7/5zePtlF594m1yWNgkZdL84NnwO3ImvCWadyKBwoEyrkEW4PL2t799O48Wqzxll3LPw6DNSxYoyyc/+clHK7tQqFzSFrFC5HrJ6OFFsxbC+2NOIjEIDEU8fxPihEB+//vf3xbahCz4f6SPtT8a0oykuMd8j9YjC5PmD7KJsBxxxBHbwpG8A0mAlTmdmzEJL1iQBVjztiBEmrFBSKwnYYG8fdUKgUKgECgECoFCYDkI7FJkgYJM2aMssKZqLLKs449//OPHEBSWdlZPjaeARTWHTwSsLLTi2ymalBCKmyZch3KNlLBkR4u/C92ROxGtJQtityk/Qloo3G1jFaYo6z8L9b777jsepEXZExOe26QwLR4UCrN/WsVLeAkrN2tutEXIAss/EuV7xbxrQRZ6IT5ChViis6U/CMeXv/zlHRQ730opZPUWZjWphQIsx0S8Oi+KXA5EjKJvzHhXEATeB8SjHbP22e985ztHK34OfcnX+AZ9ymM8LcEZsUDyrnCFK4wES5uXLPDisMJT7in58zRz2Zz2Pu+OWH8kjhKNgLb5CYi1eZzLniILwriQktx4IyjorPnyCqItQhYQGBgIW4pcFuuVR4A3Y9rBdtMSnMNzhKxe8pKXnAeuuqYQKAQKgUKgECgE5kBglyILvpeiIKbaybriq1mYKbaUGxZoyZWsohRp/0+Z93vbhB8J82HxvMMd7rDtZ8q+uGyK2Kc//elRcUIoXC8RtD0wqiULOa5+2vhQpFlLhbJQiCmylMfcFiUL8gIoi7wZlOlok8gCJZuFmkVZ2AhlEW7+PS9ZePKTnzyGTuU49VBep33/QQcdNHp9JrVQphEF+ITVG1FjiUcKIxwNWUFaWP6RgUkNIUNCEDTksm3xzuy1mEYWIswtk7N5yUJcl0PSpuHF0yBBnLeF9yufDm3Mjf20hvAhSdoksuA3ng7zH5mINoksyEtBRIwNIm/e6KfQukwW9A/Z08dpIUTTyILE65e+9KXbPXcO+VeXFAKFQCFQCBQChcAMBLYEWRC+IowltzbBOX6j5Ek2pWxStBAC1lmhIxRFYSpCVxAGf8+ehnhGKIWs1PILwkLrdyEPqipR3lmtKfQUIVZRyZVyEKIqkutbssCCypIqT8HJt70mHt47oqINS35P0V2ULFDS9HkeshAeGZZe3gSx+r6LEuu985IF47DPPvtsRxZ4TJA3lvreidG+W8jPtJr9FEuhReLfjacwH3Hrnuv/hcpE8juCyFMjV6K1rGf8ERphUTlsKP8engdVn4RKafOQBe8XdqPNSxYi/0IoE8I1q8EY1kK8zP/cjDlCKym41xAA8y2wmUYWzAFesVlkIUICeeQQuqgWhkwj80EWrCfeCs9FxKe1aWQhwq8yCZmFWf1eCBQChUAhUAgUArMRWGmyEPkBLOoUtdwo5WL1QyGM34T2CB8S6iIhWPgJi+NtbnObUWGlDLJEC/VhhRaOE8mnnsFy7v8RAL9RbHOTpCnMg6WaAiYRV1gR5VZ/2rKnLVlgWXW9ajKU2kxEesPl+yRw9vIqwprey1nohSHNSxbkTojXp8BRsnMOAsWP0rkesiD8RP6Ekpq5stDs6br9FZEPwQMiMZkCiyywUlNSEUXhPyzhWcGf9B6ElHW9R07dYxyMRw63mkYWEDwEMocSzUsWIldlUl/yNxiLS1ziEqNnwX/n8reuixyEXO1qGtbrJQuRI2K+mT85tCjyE7JSb3yQbfkkbSnc3M8iC4uukLq+ECgECoFCoBBYPwIrTRaEvohDp0AobxoWexZIBILC35IFkEi8Fe6DGLC2Rix0WPUpvJRVSpVY7qywC32R+Ky8JqWwbaEw5gTSacPQS3Cm2EkqnccKSjHX36jYFO+iELP4s3AvmyzI4eBJkMit+k40VmAkTHL2eshCKH1tVZ1Fp7OwLxV6xN0LIWJd5q3QInyLld1YtsnevXchiKzmLOzmirmX8RauxUOAnEhm14Is+H8eqXwOQ/SBZ4CHQJuXLOgLJZuXqU22lgDvb7xaQnvkjghbM6cijyR/X4ToIMfyLWa19ZIFpATBFAYoHDDPH+RJcnKe+5Fv0As9Q4jjm4oszBq5+r0QKAQKgUKgEFg+AitNFnyuykUs0BJLKe8UWSEXLPqs9D2yIIxEiI/wCyE/ro3G60DREsbShni4jnLPIk0RzRZayo+qSjwXlEb16l0nYZhCJ2SGR0KZ0uyp6JGFCKGimFJyJcHqK8s4D4oD3w488MCxy3GWAy+ExGw4IFGwQHgojssmCyzCLPMq0bBwC9+ivMIdLtp6yALyRtE1fsKHHDAHS0nlCKD4ecp973C6vAQk7BoXJNJ4Ik48CFqQrAjBgVkv5KldUpKgEUHzTrUm/dRfXir9goVqPkEwgyzog7E27+QLyHdBhrxT7kJUVpqXLOhXkA0hVQgHAidPxjxQplUSeJBXic3teQuUdUSbh47CLdyHd423gnfLPJMIbR7lpPz1kgVEFtGBOcy8D4GQC+K8Ey2TBUnJl770pcdSqjCX5G8u8KbJGeKpkMtQZGH5G0A9sRAoBAqBQqAQmIXAypMFSZIUIcp5NEo7KyTvQo8sRPUb1+cyqv4/YrtbhcX/i6emuPZaWNkpuN4rbp9lnyJDYafoU6App5QvJSa1SYeyUf4odxRzjfIZ5ztQSIWwRGPJd8Aa5T2a0A0lSYVZCXNxvkO0SdWQ5g1D8hzKOks9xY8Sx5tDiXT6MSV1PWTB85ECFmUJue33C/1ikZ6nXn5UVoIfhTQOC6Ns8gyo6CP3hFI8TzO+QtbaHBn3SmyGSz7QLsgCEiWRWyhNNESSshynefv7ImQBGTK25lNuCJLnCucyX83bXsuJ2r5HJSLnbbR4S1A2x6Ktlyx4jrkZ50zEwXbmLGKLELReNX+zNvMBcJ6DfCM4WpGFeWZwXVMIFAKFQCFQCCwXgZUnCz6XQknZYd1mtadAUawpJCzA2ZLvegoi5Znih2jkmGnWVOEiFBhW6Gy9Vtt+klLJQsvCG2TD8yk+uUVORC6tqZwlCyvFuFV+KZYSroVYuUYIjcRneRESQnPz7TCABWXau49znOOMGLgnHzTGGyA8JarbxHNgJlmaQs16G01cv+fKAcjJ2eLNWdEprTwyCAsPB8XSs6POv74JLRFe5brceHF8D4XdGRK5ISDGQggNwgVjFnCem1lehXgOUsEy7V5EJjfVkFRGgk3br1nLSLgRhRbpgBeFOs7nyPfyNLH2Ox+CdwO+EcbFop7zPdynP+YEkhf5MOar+1wr3Cw3v5mTQoyQPZ4OoTwR7mSMchncfK98kDjR2t/Nb/ONp0NeinkDawnYORTPWPJo+aa2mW/eLSE6GpzMYfMnzj7wm1AucxGGQgPhgaz4fnOpTWB3toP5Zi4iesaTdySPtcIEyHqb22C8eFC8A0mrVggUAoVAIVAIFALLQWBLkIXlfOpynhKeAopuW1mHkkWJEirE+j5vo7jxRDgXgOLbEoV5n1PXFQKFQCFQCBQChUAhUAgUAstEoMjCgmjyarCWIgS8DKzlrPiUfDX6WXoXPRgqSnK2IVMLdq0uLwQKgUKgECgECoFCoBAoBJaKQJGFBeEUViN8Kerm59uFkYi9FnK0SIvKNrwVkqV5L9Sir1YIFAKFQCFQCBQChUAhUAjsTASKLKwBfbH/4sS/8IUvjDHYEoBVwBEbn2O2F3m0+G65AxKKI458kfvr2kKgECgECoFCoBAoBAqBQmDZCBRZWDai9bxCoBAoBAqBQqAQKAQKgUJgF0GgyMIuMpD1GYVAIVAIFAKFQCFQCBQChcCyESiysGxE63mFQCFQCBQChUAhUAgUAoXALoJAkYVdZCDrMwqBQqAQKAQKgUKgECgECoFlI1BkYdmI1vMKgUKgECgECoFCoBAoBAqBXQSBIgu7yEDWZxQChUAhUAgUAoVAIVAIFALLRqDIwrIRrecVAoVAIVAIFAKFQCFQCBQCuwgC/4+9+4CSrijeBt4KBgyIWVFERcGIGTEhZjGggjnnnDAC/o0oggoqZhQMqJgjCpgjihETKIoJRMyKiaR+53e/U+9pmnvvzO7O7ju7b/U5Hl92Zu7tfrq6qp6q6u4kC2tkInMYiUAikAgkAolAIpAIJAKJwKwRSLIwa0TzeYlAIpAIJAKJQCKQCCQCicAaQSDJwhqZyBxGIpAIJAKJQCKQCCQCiUAiMGsEkizMGtF8XiKQCCQCiUAikAgkAolAIrBGEEiysEYmMoeRCCQCiUAikAgkAolAIpAIzBqBJAuzRjSflwgkAonAMiHwv//9r5zrXOcq/j+a/86WCCQCiUAikAgsFwJJFpYL2XxuIpAIJAIVAhz8k0466WyO/iSAEIHLX/7yHUH4+c9/Xj760Y+WG93oRuWUU04pf/3rX8vd7373colLXGLSY/LzRCARSAQSgURg0QgkWVg0dPnDRCARmDcEOOR/+tOfynHHHVf+9re/lctc5jLlBje4Qfn73/9eTj311HK5y12uc7zXR9OHO9zhDl3/7nvf+5YLXehC67IEkS04+eSTy5///Ofy05/+tPz6178u5znPecoRRxxRttlmm/LGN76x/PGPfyzHHHNMefWrX13e8IY3lGtf+9rlPve5z/oYTr4zEUgEEoFEYANBIMnCBjLROcxEYK0jgAy8/vWvL4cddli5xS1uUa5zneuU733ve+X85z9/Of7448tDHvKQcrvb3W69kQVE5gMf+EBHFJ7ylKeUffbZpyMDbTvzzDM7ciOLsNdee5UnPvGJ5elPf3r3t913373suOOO5Z73vGfZZZddyrOf/eyy/fbbr/WpzfElAolAIpAIrEcEkiysR/Dz1YlAIrB0BDjhv/jFLzoysPnmm5fXvOY15VKXulT34P/85z+ds41AfOMb3yiXvexll/7C5gknnHBCueAFL9hlMSa1//73v+UFL3hBecUrXlEOOeSQzuEfy3R49rOe9azy3ve+t3v0tttuW44++ujyu9/9rjzhCU8oe++9d7nyla9cLnrRi056dX6eCCQCiUAikAgsCoEkC4uCLX+UCCQC84KAsp273e1uHTE4/PDDy0UucpGzde1jH/tYOeCAAzrCIMsw6/bOd76zXPWqVy03vvGNp3q0vQZ3utOduj0IX/va18qVrnSlwd8hQl/+8pe7ciOZk8c//vHdOH72s5+Vl770peW6171ueeQjH1kucIELTPXu/FIikAgkAolAIrBQBJIsLBSx/H4ikAjMDQKc6Ve+8pXl+c9/fvnqV7/aOdVtpP4Tn/hE+da3vlWe97znFXsCOOgcew72UUcdVU477bSulMd+BtmHX/7yl+Va17pWueY1rzlVydJCyYI+f1E5R6AAACAASURBVPOb3yy77rpr2XrrrcvHP/7xqZz9f/7zn+Uf//hHufSlL13OOuusIutwyUteslzsYhdb0nzoT+Cy1VZblatf/erls5/9bLn4xS/ebabeaKONlvT8/HEikAgkAonA6kYgycLqnr/sfSKwQSNgE7PSHCVAn/vc57pyoLYhA/YB2FD8mMc8pnO2ffca17hGt4fh+9//fvnCF77QRemRiI033rgjHxzmLbbYYiK+CyULHshBf8tb3tKVEilJetKTnjQVMZnYmQV+QT9spt5vv/3K/e53v25PhNOXtttuu65/n/zkJ8tVrnKVBT41v54IJAKJQCKwlhBIsrCWZjPHkghsYAj86Ec/6rIAavc5um1WIe4j8Pdvf/vbXUmPSPlLXvKSjiBc7WpXK5///Oe7I0hlIG52s5t1EXsbpL/0pS915UV187zTTz/9bH9797vf3X1PFD7auc997m7z8th+BM+y2VmZ1Lve9a5yj3vcY8UJgz0UL3rRi8oDH/jAIqvgZCUZl4c+9KHlmc98Zrche8stt+xKvBAsuCxHKdcGJrY53EQgEUgEVhUCSRZW1XRlZxOBRKBGQOT7zne+c3nrW9/aObht+9e//tVFx5X8/Pvf/+6cXicRceJFzrV99923HHnkkd33OMKc9z322KMjFkpx6qYMiHNdtx/84AddOVC9wVlGQhbjvOc97+iE2W9x29vetnPIbWKe9P1Zzz7CcuKJJ3YZlDPOOKMri5LpcNpSXAAHK5+9733vK/e6173K+c53vll3I5+XCCQCiUAiMMcIJFmY48nJriUCicA4Ascee2y3t8CRqY973OPO8eUPf/jD3ZGjD3rQgzqC4N+OVFVm5PQktf+yCrITNgxzkP0dqTjwwAO75ylfiubz+vZkf5dZUKqjdCdaZBQm3ekgS6EEycZl/Zr0ff0yptvf/vZl0003HQVHP2UOlFPJoFzhClc4x/djPN77ne98p9z61rfu7qhwqhSihRjIkvz2t7/tSrzazeMpn4lAIpAIJAJrH4EkC2t/jnOEicCaRcB+BOU79hmIfG+yySbrxmrTLhLx3Oc+d1003BGrLmlTesQ5dzIRR/pNb3pTd6JS/LfjVx1Peqtb3aojI2NtMXsWPI+jrnzqJje5SfeeSUTBb5Cbgw46qNtfMIksGOs73vGO8pnPfKYjQje/+c3PMQx7ORwte8tb3rK7xE6WRRmWDArc9O8rX/lK+frXv96VVe25555T9XPNClwOLBFIBBKBDRCBJAsb4KTnkBOBtYIAh9vFa/e+973LTW96086JdscCB9dRo+4oqC8+Qx4QA84vYuGUJJkF37/iFa/Y/UZd/tOe9rTupuUnP/nJHRGZNVngpCMkovXKlYaa8fkuIqEfypb0e9qjUmUi7n//+3fZiz6ygGzJiCjhQhLgIqNy6KGHlp133rnDwl4Pt0hvttlm3YbsaUjNWpGvHEcikAgkAolAKUkWUgoSgURgVSPAoebku/H4mGOO6cptbDaOk43qwTn55y9/+Uv3OadXvb49BzvttFP338p2EIjf//733V6CaTbzLjSzoL8uZJO52G233UbJiP7sv//+3V4BmRJZAtkP+wocv4rQ9LXrX//63alPk8iCvig/clyszd3IiNOhZFuiLMqRrQ9+8IM7AnW9611vaqKyqoUqO58IJAKJQCKwDoEkCykMiUAisGYQqE8/WqlB/fCHP+xq+ac5ZlX/EBqlRC9/+cvPVjbV9jdIxYc+9KFun4J7JPz2D3/4Q3cLNKKDJPU1hEmZErJgc/ejH/3o7iK4xTSXx9kPYi+HcqnluAV7Mf3K3yQCiUAikAisDAJJFlYG53xLIpAIJALdzcsuh9tnn326+wz6mui+0p/3v//93QlJyoKUVyEPd7zjHbv9By5O+81vftNlJ/qazICTnJAFezoe8YhHdHsyFtPsXzj44IPXZWtseM6WCCQCiUAisOEgkGRhw5nrHGkisGwIHH744d3egbq5z2BSmc2ydWgOH6ykSHRfpL7v8jjlPkqk6uY0IuVGovk/+clPytOf/vTysIc9rLtAzt4MxKKvOcrVb2UeEA33KChlcjRr7jmYQ+HILiUCiUAiMMcIJFmY48nJriUCqwUBx232RbltkEUasv3/04+UECEN0zaOPVLg/xEJ5Uv2W+ywww4TnX5Hn8pMHH/88R05uc1tblO23377ib+btm/5vUQgEUgEEoENA4EkCxvGPOcoE4FlRcCFZ87idyeBqLZ/c46d15+R7NlBvz72ZMyu9/mkRCARSAQSgdWIQJKF1Thr2edEYI4QUOriVuOtttqqfPCDH+yi3u4DOOyww7p7DkSz6xaXhU0zBPXxSTamQSq/kwgkAolAIpAILA8CSRaWB9d8aiKwQSAQF4ttu+225a53vWt56lOf2h29aRPuPe95z+6iNJeOtWThgAMO6Gr3JzWbgW3UbZtSnoWU80x6T36+cASUlyWRWzhu+YtEIBFIBFYbAkkWVtuMZX8TgTlCII4C3Xrrrbvz990E7MSePfbYo/z617/u7jxYDofSXQPO/R/a4DtHEK3JrrjoztGvLrLLlggkAolAIrC2EUiysLbnN0eXCKwYAjbvXvWqVy3uBbj1rW/d7VnQWrLg76ecckr54x//OLFv17zmNUvfUZ1uNT722GO7242zrTwC5tTxrdPeJL3yPcw3JgKJQCKQCMwKgSQLs0Iyn5MIbIAInHHGGUVJ0TWucY1y2mmnlcc+9rHdEZ+bbbZZefOb31we/vCHn+OGYmThk5/8ZHdPwKTmmFBR7GyJQCKQCCQCiUAisH4QSLKwfnDPtyYCawIB5UCOR33MYx5TfvSjH5WPfvSj3U3DRx111LoLyJajDGlNgJeDSAQSgUQgEUgEVgECSRZWwSRlFxOBeUXADcEIwo9//OPuhmCE4Zhjjin2MLgMzMVga7nJkrjh+KSTTurKpS596UuXi1zkIt3RsRe72MXK+c9//rU8/BxbIpAIJAKJwAaAQJKFDWCSc4iJwHIiEHsT2nes9YyCPRd77713+dWvftVt9HU7skyLTd7vec97yoEHHthdqJYtEUgEEoFEIBFYzQgkWVjNs5d9TwQSgRVHADn6xje+0ZVe3epWtyqOd9100027zIIToK597Wt3G7xt9O7bnB0ddvSrfRtbbLHFio8hX5gIJAKJQCKQCEyLQJKFaZHK7yUCicAGjwCi8Mtf/rIjA7vsskvZd999z7aBGwFQfuVuiac85Smjx8YiCu6jeO1rX7vB45oAJAKJQCKQCMwvAkkW5ndusmeJQCIwZwg4/QkZ+MEPftBt5L7kJS95th4iE0984hPLAx7wgHLTm950tPfIgjKm173udRNH+e9//7vbF3LZy162u6TuF7/4RfnLX/7S7Q256EUvOvH3+YVEIBFIBBKBRGCxCCRZWCxy+btEIBHY4BD48pe/3F06t9tuu5W99tqr9w4JexhsdN5kk01mQhbOOuus8qpXvaocd9xxXVbDzdinn356+d3vftfdlv3xj398tNxpg5ukHHAikAgkAonATBFIsjBTOPNhiUAisJYReNGLXlT22Wef8ulPf7rc7GY3W9JQp80snHjiiWW//fbrSMo97nGP8pa3vKXc//737zIbd77znTsSsfnmmy+pL/njRCARSAQSgURgCIEkCykbiUAikAhMicBDHvKQcsQRR3T3SGy11Vbn+NVPf/rT7rjYK1zhCmf7THnSQQcdVL71rW+t+/upp55avvOd75Qdd9xx3d823njjsueee57N+f/Xv/5VlCHtv//+5eijj+6IipOm3v3ud5fnPOc55YQTTsjMwpTzl19LBBKBRCARWDgCSRYWjln+IhFIBDZQBPbYY49y8MEH95IFhODFL35xefzjH9/tK2gbp//vf//7uj+ffPLJXXnRy172snV/QwLsg2iPnT3zzDPL7W9/+7Lddtt1m6q96773vW93l4MN0jZW503XG6hQ5rATgUQgEVhmBJIsLDPA+fhEIBFYOwjYs3DXu961vP3tby8777zzOqee837YYYd1ewpscJ7mjolpy5Cg50hWJywdeuihZYcddiiIxvbbb18OOeSQcuyxx3anM22zzTZrB+gcSSKQCCQCicDcIJBkYW6mIjuSCCQC846AzcYyB0qRRPR32mmn8re//a185jOf6fYO7L777hM3NscYF0IWkBTk5Pjjj+8yD05j2nXXXcu73vWurrxJX5QwZUsEEoFEIBFIBGaNQJKFWSOaz0sEEoE1jYAswle+8pVuz4BbnLfccsvyoAc9qGy77bZTZRQWQxa++c1vFvsh7nOf+5SNNtqoK0N65zvf2e1VkFVwpGq2RCARSAQSgURgORBIsrAcqOYzE4FEYM0jwGHXpik56gPDHgYZCRmDbIlAIpAIJAKJwLwikGRhXmcm+5UIJAJrHgGEY7FkY82DkwNMBBKBRCARmAsEkizMxTRkJxKBRCARSAQSgUQgEUgEEoH5QyDJwvzNSfYoEUgEEoFEIBFIBBKBRCARmAsEkizMxTRkJxKBRCARSAQSgUQgEUgEEoH5QyDJwvzNSfYoEUgEEoFEIBFIBBKBRCARmAsEkizMxTRkJxKBRCARSAQSgUQgEUgEEoH5QyDJwvzNSfYoEUgEEoFEIBFIBBKBRCARmAsEkizMxTRkJxKBRCARSAQSgUQgEUgEEoH5QyDJwvzNSfYoEUgEEoFEIBFIBBKBRCARmAsEkizMxTRkJxKBRCARSAQSgUQgEUgEEoH5QyDJwvzNSfYoEUgEEoFEIBFIBBKBRCARmAsEkizMxTRkJxKBRCARSAQSgUQgEUgEEoH5QyDJwvzNSfYoEUgEEoFEIBFIBBKBRCARmAsEkizMxTRkJxKBRCARSAQSgUQgEUgEEoH5QyDJwpRz8r///a/897//LRtttNGUv8ivJQLTIfCf//wn5Wo6qPJbi0CAfJ373Ocu5zrXuRbx6/xJIrA0BFL+lobfSv0652mlkF6d79lgyMLhhx9evvzlL5f73Oc+5TrXuc6CZuv0008v1772tctf/vKX8r3vfa9svvnmC/r9Qr/8wx/+sHzmM58pRx99dPnTn/5UNttss3K1q12t7Lrrrgvu+0Lfnd9fWQTe/OY3l8c85jHl//7v/8qLXvSilX15vm3FEKA7PvShD5Vf/epX5TznOU957nOfuyLv/trXvlZufetbl1vd6lblk5/85Iq8M1+SCAQCIX9k8BOf+EQCM6cIHHPMMeXmN795ucENblC++MUvzmkvs1vrE4ENhiw861nPKi9/+cvLoYceWu573/suCPN///vf5YpXvGI59dRTy7HHHluudKUrLej30375j3/8Y3n0ox9dPvzhD6/7iYigjEa0RzziEeUNb3hD53BkW3kEfvOb35Rvf/vb5SpXuUq5xjWuseQOkEmy+YQnPKG89rWvXfLz8gHzh8Cf//znjuSfdNJJXYRfsOHEE09ckY5+9rOfLbe73e3KdtttV77+9a+vyDvzJasXgX/84x/lc5/7XLnkJS9ZbnKTmyx5IIJet7/97cuNb3zjgjhkm08EjjrqqHKLW9yis2k/+MEP5qaTiMvf/va3csc73rGc97znXVK/BF6/+tWvlstf/vLl+te//pKetSH+eFWTBU70KaecUi5zmct0RnisLYUseC4leuaZZ5aLXvSiyyInv/zlLztmzxm94Q1vWHbfffdu8VLahPxjH/tY2WOPPcrvf//7LhL9xje+cVn6kQ8dR+A973lPud/97lee/exnl3322WfJcClv++1vfzuVDC/5ZfmA9YLAW9/61vLwhz+87LLLLuXd7353Od/5zrei/aAzLnKRi6z4e1d0kPmymSDw05/+tGy99dbltre9bfn0pz89k2em/M0ExmV/yB/+8Idy4QtfuJz//Odf9ndN+wKZju985ztFIPXiF7/4tD/r/Z7Kkh122KE88IEPLIcccsiSnrUh/njVkoX3ve995alPfWrnaP3rX/8qm2yyybKSheUUDv3ffvvtO0b/sIc9rLzpTW/qzRz86Ec/WleG9POf/7xc4QpXWM5u5bN7EJg1WUiQ1z4Ce+21V3ne857XEXxEP1siMK8ILAdZmNexZr/mH4EkC/MzR8tOFkROjzvuuCIVf73rXa9c8IIXXNDo/f6www7ryoek7jFfkY9Xv/rV5V73ulf3zGc+85ll44037p4rbfWSl7ykfOtb3+rKd252s5uVl770peWd73znOcqQXvnKV3bPHWrqyWN/w93vfvdy8sknF+m6eJff6R8HUgmJcdrfIOX/2Mc+ttz73veealPhK17xim4MMgqeP1ZidJvb3KZLE3/wgx/sIpV9zfg/+tGPlne9613lG9/4RnnZy15W/vnPf5af/exn677++c9/vvs71i7NJ/34yEc+souAtpGFnXbaqRuXkoYDDzywvO51r+uedYlLXKLrwwtf+MIuclm3u9zlLh3+Sqp8Dn+pRL/XfAZf/2Og/DfWrxznTne607pHqfW+wx3uMDhH5tc8Rvvd737XRfxlYmRpZILuec97lic/+cnlqle96tmeo5xL1Bf+5MqeAWlK5WZS8C94wQvKLW95y+43xx9/fBeRkOVB1GSztthii+4z5I4cfuQjHyl77713edSjHtX9r23GJUJiTqJ9/OMfL5xJ5WWtI6lsxfPst0GK4W3PzZOe9KSuLG5SM282rR1xxBEdzvppHCLbnvPiF7+4XOxiFzvbY8jz+9///q7UTR2rjNqlLnWpQu7g075Xtu1Vr3pVJ2s/+clPOnm/+tWv3o1fSV1k/MyH9w01mRp7cqLByLq1b4fu2GqrrToiDSNzNdbM9VjJjdKITTfdtHtErF/Y2I9kvJe+9KW7yKrxtoS8bw6jL/YkkL2Yf+/Zc889OzmkO2AnU0gHWn/aGWec0a2nwM868076xr6Gdl3JNpqP9773vZ3OOeiggzp59MwHPOABXZ9rfKzT+9///p0erNeJdxvrfvvt1z3LXgrr3rqFHyO9lGY+vdv6Eth5xzve0eGghNO6kkWFPf1ANkOfCACRzbFG9+27774dPvZzPec5zynf/e53u2eYO40upgfZAxFTpQcPetCDyuMf//huDuq22267deve/AnYWHNkXwCK3HvOla985bP9hr72bHX4+nPAAQeUC13oQmdb2z6Dr2fSv2wJ2Xjwgx98Nhty17vetdBbfc36tH6jnXbaad16o09/8YtfdKUZ9CqdcNOb3vRsj/jCF77QlTjS63e+8507PWzfCjy22WabzubAJBqdp5/6S4bsk9PgI5v64x//uOu7udt///3P0d2nPe1p5Stf+Uo31/Fbup1cjskf+0n+4L0Q+Yt5o1vYMfbMGqaT6D76xjjbxsb6rrIousUaUyaF0Pv/tvERXv/613cyYX2SYTJKxsOfCfswJLd3u9vdOjmNppKAXMneqI6wpq3TJz7xiZ2sTmr2IF3gAhco7Af9IRBBD3gOv+P5z39+J491o9PoPbrG2oE720ie2Bq2XHlOW7XAhrDbBx98cGc/HPISOv4hD3nIOXwctowMwZmc+C15IIvPeMYzOjvP5rbt73//e1cyebnLXa5c85rX7OTe/k1l4Ne97nU7v+ha17pW149o1oD1OobjX//6164UzvPJsDXFnmhs71ve8pZO/j7wgQ/0BmDpdLqBzOy4446Tpmbd53waGQzPDx3Ab+DP0NPLvfd16o5O+cVlJQtnnXVWtwA4HxpwLOyFGKKnPOUpnSLmSFPcDA4h92zpzVrxMzwIBOGmQCn4b37zm0VEnoASvnrPAgVACOpGGTMcGsWz7bbbdv+mICxwiqgmC0qDCBPho0A4R8bLcZqmDt04KAfGgnNhjGPN4vFdi8+i6msMEgG1aDkTni9zEfNAgC1yzidFbvFwSGMz2pFHHnm2MV72spftNnf7zdvf/vay8847F38zlzC50Y1u1BmJuqaQI21xUlCMqcXv9wwUJ+GhD31oZ1RsHKek4G5ufv3rX3dKlJOlWegUWtsCB/tPgvBxyDhT+qSPSJt54AxRNIxnXatoU7F3eYY+Miw+9xxzwXnye87bCSec0DmqFDt58rcgH5ww4+D0cJApag5R28g/p9/4o0WJCuVdb3Cm+Mmsub7HPe7RkRFjptAYAXhT2GPNHCGCHAVExlxQVpwcSpaTYg7rxglTAsfomCP/bz1YW56nDzXB8B0yAWvPI8+cQ86auaZgNWuvNRBw0BfrlQGjKzROFplgDP0Nbgiy/8HB2H021PRfsKBuSB5jjyghbGFIzT854GQaC30iXY1sWzeUPIc0Wt8cxmcIhyCBuScD5I3DYi7hbb78noPh+RqdAS+f+bf+mRNrkVMGn7rEkkPFkaNDEQ5zah0j8gw+58+6iqb/dBiSU28wlc206RQZ43jQO2TTPCAR1oM1tJhmPoPkkOEvfelLnf4mi+GEGx+MBILIDp0Kd43+YdyHGmfmcY97XDdWtgAegh1wExxANOFCFq1t+4uMk2O15ZZbdv8m19E4qLBBkl7zmtd0xlxAirNDjqwZdqR24pA5c8gRp2vZB3j6tyaYhfjQ0WTYnFuDxo8U08VxOpXP2bK60YMcbTqGg6Yhluyaeed8+zdZNmfkG4GINeT71qx1xHHWf7JDpjwHVmwZve85GszNvbmBY+hKWOszh5zcwQuWbbP+zac9XfHb73//+x1JauUPKSFztfzRu8r0ppU/eg35QWDIPEzgReb1ATmnv2u7RA/5nXXGHpln+xBjzRh7bSPIA7kwv7Cldz71qU9161L//dv6DPvQYqIfbBgihThqHFZBKDaVbWM7yAVfhG7Vh5acts/l9LNpcLVWkRG6y5zTA+wgOalPb1TGY9wcbzhwvNkrBEX/rRP9oreicXj10XPZRzLib9YLO2sN0v/1SWtIqzHE2oCx/rFvbAhbz65FwCbeZe75I/S3z+g08kEejMc80pPmRGNj9Jde0Uc+Bp8tcBQwMm8+J7/wJsN0vbFr/Az6CZFGOvhzdTNWtt4z2P6FBLs9W8CLDiBr1pQ5IbPmV19bQneORTVHf1hWshDGsx4vwwWkaRonhXIjaAQgjKZ/m/zaGWf8TAAhJMgRneaQcIBCCCZtcA6D0e4L6CMLFDBDJyJjgYVSooQZK0LoOwzlULOoLC6KjVMxi+MNgywQ7Le97W0dVvFcRolSIKQUOUdDgxOjYM44sBynaBa4hQIDDD5YuSgLQ2PsohuidtGQBUqLEeesx+L0OUNlTtt5ZUAQDwoe0x+KsIggUnjkgSzFhnOKi8FEhmQBolEaMGZMwiHxWZAF88bI+03gxOmDBaNPJqKNlSHNkixw1BhkDknttCExoi8MHsM81mLerDnKPgwQ40UGKM+IrHkO/DlGjBCDW5NR60GECDHiBGkUKAUIfwYwMmKUu/k2/+StzV5En2FOVq1xMsSw6QOD7xn6wLmLJvInEoSci+pN2yh8ckp26/mUQTJeDoB3wSsaoi2CJXpPz0RbCFmI3zBECITnyY5EEw3nmHCmGMXYy8DZJq+cXjqEoYzG4WNsRUARx1gj9J51aR2b03jWEFmIPsHUv6NxUhldDrhM7mKOikamY70z/oI9ZEDfzLcAhiZKRwZCn/ie4BDSZJ0NtSALPicLIsyhe2GHUHIA6V7/jkZ+yTHnKBwOnwVZoBPpJuRJ01/98V0Z1+i3z4IscMA465yo0B30uGCOdYFsRKaHHIr6cu6sXWu4r1kD5AJJ4NRFZlUE2Fitvzabas6QI3IQcx9kwTtEtZGzWKOhqzjanL1oY2VIsyQL08hfHAgwJAdBFhA/ayHWCRnwb7aVU4+wRmNfzEm7rkI22np2DjJMEOnIWpELBAyp5fwNRZutXzZH/9jaqLmP6gD6iJ8Qja4nVwKeAghjjTMtGKd/CEtkQEXhyS99wvZzUqN5P93AdlpfddZliCyEDxcBpwiUsv3+xqEnP+QoWpAFuontrzNe1h5fofUx6jVFf8ThIWNlSMg5/NsgK1IuwNbqkaE9C0iPtYqIeHftg4UPCkd4TtuQeLaCf1X7WX4vgAGXPgymff76+N6ykoVwWtuBMXbTbPKj3LBRThOFHo3Spdg5EtilRvmKbFi4keKP71vclDmhGiMLGJ8FYBGJCNQsso8scI6Va/RlBCgC78QuRS+HGubpOwsVxjFhCdwZN0aubvqr3wwPQ1g3hIDD1Eacw+lkLGrj67eMGcXZ4h5kQSaoTbeFoTV3ka6OflA8iErrpMXniBgFzBGoSQHnkkNi7izOlnSZV1E00SsOohZkAZmUIq0bBcxIiyZxBqKtBFngYDNMximK3jaGkCFSTtBGZ+rvmjfOQ6S56884LaKblD2lq1GUnFDkRJSnbmHIyFaUknk/Q8i5l3GoI3jkmqHmAIostQ0h5BBxXhC+IAURCEDuRXrqJiDA4CE/jOG0TSr86U9/ekcYrPGQjTguUPS1jsZ7LodOtMpaYdyizZIsILZIKYe9lb8gRu0+B2SBA29dtSVK9A29U0d2+8gCfSg4gTSSj7bskDOKVDGUbWnLNJgzqkgRB8K/67UY0UMEUaaoLrkkQ6KsfTq8fm+QhXZufMe6IMNthsVnnEjjNn6kKIJPQRYiG1u/i5NIl3H4yXs4S6HDkAv6sm6xR8X8Ikt1izHCpy6nqL8T+rslBeTeuuGItKV4IS/kmz7WgixY65yTunmGSDR9iehHWwmyEPIX0drFyl+Qhb5MVGRIZTZlODV+A+eNbg2/IcaNmJhnOsn6icYJJwPkpQ4mICfkRSCpLpuN33Hk2UpOeE0KBMHIoLWq33WDC+cYSSRrY/sw6X360PpuM8yhu9qAEt0pQMIGtqV4Q2QBHoIaZKQt6QrdImBa6+MgC/7ms7oF4WRz2J5o+qVP1n+dFR4iC+Hgs9F1mZ7nwVG/BRXhGPI1tsEZua/+kwAAIABJREFUadMf764rX6KypbaTZxvQwH/ISppj5LMt62JrosoiMu/TPHN9f2dZyUIY6XqQokh17fwYAKIhUbMdqdIQBovFoo9nBbGoS1jqZ086DYnRpIxFW0Wi26O1+sgChs7RsZjadBKHj7PHKNbR7Ha8YRiUK9Q1jUsRjHhmnWKO50X0XeSidfx9R+TFYuNIRKMkGReOetsQvyiNsOCjBVmoS27iMw6mCAjF0Tr1FBDnrc/A+X3IROvEc0w5GRw8jmrbLErRNA5ylDUFWWgjI37LYMgItcRpJchCZF44FFGOVY8n6k0RGlmGoTY2b0F0RWFkeIaakgXzKhInQ1Xjbm4RF05l1LAynMjBWIbMMxkUGLfkXU2rdL0Swb6x0QMMG/mZ5tQOhIDzyLFGIoMoDo1XxIyhF3Aggy2JnyVZ6OsDBwDxNX7RV1goYYhmrdE1jGDbzA08ZWlir00fWUA0RP3Id9+eLbrBOrOOlAQstEX0sM+RFgRQX9+XHSJj+t2u7fb9QRb6dGZE3znPdT1+PMOaQsDZjchoBFmoy07rd8qSINKcuCg9DLLQOhd+x1nnwHAS2z0+ov+yAOxJnx0MRy8Iccg4mWTzBFf6SoCQBI6N+Qr9F2SBQ4v81c3ajWN8yUO0lSALIX9sTRuU0A/Ehm6eJH9BFvrmTaBMGUxb3tnKkvmg30TczW1LnsJZ5Gso2WEPOJOTTl8kZ4gyfeZ47GjWG/mmf2WJ2ub7AjOTiDpZ0IfaTsezjAUxoOsQnWj+xl7LXLWtjyzAhd6UYUam2kaGIiBFPsMHCrIgM9lXHcDvMGcIWHyOWFuvbRBziCxE0EHWNzLddf8Eh+gfTnscATxGFmJeaoKOXPJj4IzkTZrzSXqSbYGpyhfy0RfsmPSM9fn5spIFgomxxR4AwkSB1am3scFj3pyDNgUcUfs6hUpoGNih1M4YWSD0EXmuIxF13/rIQkTcx8bA0IydWzxU7rAUoRgjCxF9nPR8CyUcvjGn03OUolBaFkNEl4fIAuU8zR0RfREDTpCIhGgPZVNHVhmYae7PqKOHY2QhSkTWB1mIlPikOaqJT993x+YtHLqWLDAknDFEM/aF1M9uHTkkm9KzroMYKneiDBnDvhpPJUTWWV/0N8jspLF7b1133vd9jjdjIyrWZifj+4ycVDtnS+lKu9F0ucmCKB+9JTvJGRWsqNtCyIIolizYJLIQ0b1JGC/2eGDkTITf2OporPeFbqrLa6IfUYY0pIPje2NkIfaQTRpb7eRPIgsRdVTWYu+XNkYWOENI6lgT4W4JH+dKSRoirH9IRTTEoj2goe/5SknJkzZGFnzO+TE/K00WIhAzaY5q4tP33TGyMLQXLPZHwUY/jL2+x6glC2yadUDm/FsTAVfiQtb6Nqki2z4XTBR4rKsogsxOGnudIer77hhZoIeRTP+vz2HHF0oWgjgidfWhHHV/BBzgWJPvSWQh9oHUAQPZbGOmM2q9PkQW+gLRfTjVAdMxsmDNmUtzhRjJIAoqCIZNksOhuZQ5U8lB17Et7XpPstAgxzlkCG3AEvkd2pTbBzhhF92T8qOcKW3pJxNgMShFiXr1iAD0pZI9e4wshJHiiCIifQyyjyxwiAm3KORQJBVB6ovgx3hjj0RsihxTIhSP6JsFNLYReowsiPxaQFJhQyfqGIuMSLQxp9McSYlzzESMI00/RBYoZoSC4jKvQ01JUW0s42IreMsi1P3zjIjIUdJ1jXn7fFHvqD2dV7KgPAGJRJLrvSPtWNR1jp09vVCyQEnKhon4cKBESDkv5kLavs0s1P3xG6WAoibWO1nwW5GdejOy0hPrmOxxqNoyqojIWZOM7VATLaoPGuj7HseJkR9SyqJF5Mi4GSuBCX1GfhF8srScZIHxsh5h5bQZ+kfk2PtFzuiE5SALsek0Toobwhgpr/eMTHJwfG4s5pQz3BeNjGxs37npQRTH6sC9Y4wsiCRHxmHsFDWZ4yCyk8iCbEe7/2yMLERdvMhmvTm+xo8OrE/e4cRaF4heXwlmlF3Az9oYahyeyJjMK1kQ6DGOpcrfQskC2bTGBC9hr65dmQzn33wgCi1ZCJzZH3aTfuPUcgTJuFKbejMyPSgr5F2c6LZEKDJrbNTYqV+CjGN3Oo2RBbLE6TUmdjnaQslCENQxshDOvH064YtNIgt8QXIam9FF2xEEmeR2H94QWQifbRKOyppiDU66ZyECzkHUwjer91BMowN9B9GqDyihi/TFnJIZdj3JwrRoTvE9UT81vQwn5YKZiSYjHdheHF3pUQwEQyF1LwXdtiGywCmwGBgORnSIzPSRhVgUfRE0TrRyAsRjbAe9KBAh7athrMdQl3wohRlTNGNkQSpVOc7QiSP67F1IzjSZBRkFC6CNlI2VIXFA1NFTEu3eFWRCdFtddjiZNWkcSitHrfJQ+ZIICwUeShS2SyEL5EldbN1i0+BQH6c9DSkyZ9Lontm2GAvCPJalWShZiIh/X0S5r0REIMD/OO214y71rbQJma/rthkJhlT0nuLuuyE2nD1ktq+MhPFjDK2psbRw7LFgrBntvvpfqWoRKnKgzrxuSA1CPkQW9KF9f3saUjxvaINzRKxFIm1qrJsNrHGCyrRlSNNmFsyD9SqIIcvQNuWGssJka5pSr/r3kbXgTNc30fuOuePkICGci7aZKzX5dMrYXpwxshBz0HeyifeJIJJZuiU2b08iC5xv/UUuYyPpGFlQRhmR676bYtk1rd53IMoqUs0BlgVrg0/mw/fpzr7yJWMytnrOlkIWyD7S3ze37clG8Z1pT0OalfwtlCxExJ+t5fjX65fNYfNqssAWsRnkpNazbKRABN0mexrHyNIJNhfTbQKafJe2xeZbwU1ZhraZZ+uPvhoLhoyRBf4IP4asIJnRFkoWjNN7OPJ0eiuT7LLPzKfvhr2eRBb0J06Bk8Hng6kS6fNrgizw/eIwFr8P2W739cRY+3AMsmAfkblrW2S8BG58rkSKDa33sJzjRwN/iANS+krprG/BqSQL06I5xfdsbhZdE4UaOlElHmMDCuPbbrbxuUWPtXIA6hppyhVRwBxtrBRpGGp9ZCEcm77LlhyVKOIwac+CRWhRU/aisJHmbvsR0WbslEEeUyRjZCEUZt+xrnBCxjxbJKUmC5x7qbQ2UhKbGWFXH0M7RhZEzKWJ+0pDIvVXn2QQY4eNBd83dviJEDEAojstQYvMk2xGnOe/GLIQyr4Pv8C2z8kXZWWIOEyTjk5luCh241FL2l5zH8eVtqdptDKzULIQtdYUeBvVjzmoy5CiLlhNrlrbukUELZSlMcM97t3oI/R+L7LK4NpXEkf91s+1phhAGA1tAGQskRJOGRIZd6W0+NAJHCLGqj6ty/eiFKwlC7I5six9G/dDxtos4RBZYGitM85Ba4gjyrUcmQXj48TK7NBTbfagnTvf5zRxljnOYyQtcOvbO0a/iSb3EXqBAxFAa6TdfNrO2xhZiGgoXeF9La6RJbCuIiIcZKE+vjfeGVkYJIHcxfPGyIIN8cr8+rLF4YDBUfRRQ6o5WGwcWRwqrxMkk1VVHlhnXT0jNk3WBwMshiwohTJW+Cm7qlvUtfeRTM4Zx46NmOboVM+ALRLWyl9fmUqfXV4oWQh931d9ENmOmixYH/pZH88d/YhTDGs9FccwcwTZib5qA2WG9HqcINeeNiZowEbVtfZ9Y+fE81+ULkZEP74X8tee7LRQsuB54fj3HW4iQk5O2uNWpyELcYCIQIgxCEbxMVqdTl/Awtqr5YTehKN1RF+0OJoX1QZ16WCcXtkXyDBWNsp86485IF/tHgrEiC5syyvbOQoM6oxLfCcCQUkW+iR7kX+LSK0FzFBZhBQqhsmZIaTBNk2g7xEqDiymarFSzth/nH9dkwUb7RjGoQhu3e0+shAOoIgEJR4n+4gwEASGU8SSkhprHALOlrEQJMopHGLj5ljLnHDmOVP1UXB9zx0jC6LSDA2jIKUa+0csFKk9TL015rE3w/ikCSPNzTCL0nA46uNq9WmMLDASFiVjbTyRzTGH3i0qHMdMMqi+ay4p73h337gZZ46ZEh4ORWBIJtRWcjARiTgJYjFkIU4zgWGcXR59iY17lHKUyMHVGMlYRFMnkQXPo0TjmFL3E4QypBil0DlscUnhkGwtlCxE1ql2UPVVZo9MMU41WeAYwIGjTSnHBrc6ExTkLNYy5Q+PIbJLxo2PwyHSRB6ixeby1jjV4/d7KV8kQMSvbxNhfD9IK7mnC8JgOGXLEZscoJYsBEZOWBENNg8Ml/UZx1lOSxai3rfeY4A4cDriONPlIgscY86E9c+xCXLNmTFH5Kx2EMJo922WrfEP3dO3+T7uHugjl0qPlIj07WNp5XuMLPhuOPLmA4ELpw3Oxkvv2MfSnoaErNA9oV85BnQxWRK4EhyKNkYWlKgodxQYEMSKE2GsCySZrESwgX1C3Oi5SXXqEZHkiIiMR/YFKUawrZlalhZDFgRdImoty1Nn2vXffwtwCbzFEbNkxXqJgzymIQshfwg7+YuoNPkzPvPTF7SoZWGhZCGyTnSYyHHIBWeUky7IUJMFtlLJKntO79fOamSCgpxxnK0RtoV9a08bqvsdx1D7LVkIOURYZFvp0bikbki3x9GpgiLkIjJecCPjbFFbzrcYshABMP0ic7FPUACX7TdHbdBvGrIAUz4VHSuTyF8LH60eM/2LCPcFZEMXO4zB+gwc+Qn6C6O4bNIzI6Nl4zfb1VfmFeVNsgrkvN5DAVuEmFyQ/zE/LDIn9YmUbJP/tvbp+SQLiyQGfT8DLoWEdfY1LFQ0O05KYqCkQqNeGrGIS4BMLGcjyEKc4uO5nKq+o1w5neHoD13Khr1KW2kWKQGkLClarJuhmXSRh3EywnFEo5QnYaW4OYSasSAf9S23Q1CPkQW/sXkOZhYPx4tjbyH4u3+r6axLvODju3EUm2yM8gTzYtG3d1J4xxhZ8Lk0rUVjDuHGWHA4LW6RPoaOQxmlIr4Xew3acTNW+mNORRQQF/MFf4aUwfYZY1HfrLwYssBgwoxh1CdRQIaPoagdFXOoDxxJilVa0kYnxGUassCJIMuMv9pOmFOq5AnmjN2kDd0LJQuMHMyQAvLB4JEJMshRUp7UbnAOUoPoykwwdPbWMCLWHOzNIyMsYsNg9d3ADL9IDVs7ZAIZ1x93QiCk5NLvyV2cw93KQkQD/Z0B7YuCy3bATh8ZlbjsyhiQPAaCIfe/lizE2enWprk3FgRUv+gBDuq0ZCE25cfNyXExmf9nbGz0XS6yQAYZK0bYOMg0uSJvZLbe1Ec/xb4kmUWGdqjF5l76os0G95VJxXOMlXzVxG3oHZPIAiPPCZUxllWSjY29ZdasdVjfXRGZBZibE7+haziRcSGUss066jlGFvSboya4FZffeZ6sgTUm6EJ/kLc41UUwoNa59dg5bHFKHYyQLfIm08DhtR6cvmc+Bb/CCV4MWfBeBFtEVZ+QAyeyxe3ycSys7wnc0KscU3aaDYXtNGShlj/Y0BVD8jckBwslC/SnubVeBSTMA51kTSspNc6I+Mc74wJTY/M+jiZ7w1mkX/xW/+MkMvqvLpeJ53Bc434p/VDKxd7pAwfUeqHbzZ2M6tgJdZ4ZhI5+1Jf6YkPrtb4ELvqwGLJgnsgDos+3oS/NE11sbfSV3E5DFvQpjvv17/Y+jOizSgOyRd/CWYAl9jXAkc1hb+glpJutZXPgKFDVXixJR/MDZevZRwElZYPRYj8Fm9AePRulrb47VO4ezzG3ZNpcmGuBCIRS//g0fI8kC4NmZOEfEFLGAxtjaBhRk8gYWFCie+2GJNEwAiASQLkTNAvH5FHMIoiE2XPqC0v6emeSo26aM69ujkPTprwoD0qaMiDAFCwh5Zi2JSRjKHBUkB8Lh1DpP0NnQejL2Ian+rlIBWPF4A+VYDCeyAlcGBoKTp0qfNpNeXGDs8i8Z8PebyhLEQFGtq+MgtPRdzRj9JUjijRwPigem145+zAPJ09UQURjrDn6NHCOG4QZfcSD0y76wti1Zz77jqiW+tM2SsCp5yxSQHFOd/QBAZH5YPg5AyIbUcYCI7hSVAwpR5ccmEPP4QDXmAyd2uFdZJTMehYDx6nkjFEyQ/Na42Rc+tpXn+m9yDXFVV8ayNkWNbN+GCROFZmAo6wTp16JRTTGhPL2DusA/uQC0ZFNCRJuLUszDzX41UcHU9pkw1qw3skkh9Y6HCKNno1U9B03W7/XfMTdEvQFR4FjabzkwHjJM2z8NxzrZs0wnpw/a5LTJoIt00ZfkeGa1AsomEMy2F7gJJpMXsgbckZOzK/+eAe9V1/eZb2Rg7jrou6X5zCuDHiQKXLDwZSJbS+yM3ecO7KgxIRho0+VudVHVXuHfvq7iHnf3R++4/e+w2GKE3nq/tFH1qS+t4TR9znQjGhbYtPKDKeKTZB1GiodJfe+Y3zWnPdxdMxtW7YRZIHMw0EWLOaDHjdvbXkEEkd/yQIN3bbrGUpqfI8+52jC1fxGAMmY+7Cqx+xY8Po+Gs6QsclGiFAKJtCZ1lyth9kTttA7+2wdB9e6at/PGaR3kCX2zPfiLglzTCfTuWwAW0f/m3fBGOOxXyQwHrrB2fjIH92uEgDu/pt8OeRgbHN6YGPdhr5qS5mQXv3hCNb7gdg90Xxjo9OsC/NBr9JXIudx03K8B45kVnCBfkeu+RVkKQ6YsO7bsq16Ds13HTlnGxAR9kcwhnwhDQJok+Tfc+MGZzqVnuQ30JlsqLkw7tYm03vkpe9yMfvI6HdOd1+JKLJMTyBX/DDyCK++6Lrfk00+0dgBHJGl12fzP1TeaP1w8NkBtqU+Gh2O5JEjHziyZ3DsCyjJChg/QktH9Nn+OASm3UPBtrFRAhvWdW0H++waEqMqQCDWOqP7yQyfgY0S0GjvwRp1dNbzh8t6dOpSxhYbuixKTk1fi/phk7iYm0aX0r8N6bdBFsxJttkiEKnxSWeKz/at+bREYGEIcBIQVHLad675wp42X9+uycI0jtp89X6+e8PRkxUZ2oM0372f394FWUAQVmuLY2SRYdnYeWiClggJ4oqctAc8cP4RBvpwoSfFzcP4ltKHuSULGDCWL5UtOtGmtEXxMcjY9LoUEPK34wgkWVgeCUFyReVEhSbdmbA8PcinJgKTERBRlfGQZRMJXUi2dPLT1/83kiwszxxwuETxRZoXe1b98vRs9T91tZMF+/dUeCA7ssF9l7et9CzJqKlCkSXqK+NCFMixTJz9Ehtam1uyYCKijlV6XlpNyjNOALCpRupOSra+nrtvApULqOuTnqsv8trQJnux412fZEH6XrpWarC9bn6x41nK79TnKl9SZrKUyIISE5uylGopY1CK1bdvZil9zd/OBgElOEoulHJEal95hnS2vRXtSUrTvpVxktonR2M3cU/7vOX6nvJLpXNS+wvJ4ArywG3aSziXq/+TnptkYRJCC/9cqRh7S1+KzipRHLrXZ+FPz1+sVrKghFFpJbmIsh6Ecn03ZXb2Ydhgz98RjG43qbMD/MfYn7i++7zS759rsgAMSkd9pNpEBjo2S6pfpowmHWHlGWpV1Y8Nnb290qCvj/epsWfspfvq2mV7GzjiFnDfmf76CmfpubFL1JZrTHEj66R7KGb9/thsqXa3rouOkyz6jtNbSB9sirYBUbRWje6QHNuzohYeqRg6KnQh783vLgwB9aVq8EVJ6+MM45hE0bG4oX7oyYyi6KoaWLXBaldtwo8TgOg0QZA4IQopsanV50NHKS9sFCv/7cgMG5dNoEpR5rXZtKtcRh1ynCozr31dLf1ib+0psJ+C/Rg6kGC1jGfe+hknJvbtR5u3vtb94ccpO0J22HR3HowdxbxSY1Faac+DTfv2FQwdNrBS/ZnH98w9WZgFaEo8bDIUybWBaiWajZkcc2UmfZezrEQf6nfE0ZVxu2l8FvdTtKe+rHT/ht4nOqnP+ldv9FQOITovHRinUc2yz3EKU30vg+czgjbAIV7tZtVZvj+eRV5tFuO0JllYDoTHn4kkOPlC/aqTjuKIRyc2IQA22U46oSxO77HpU4ZUJoIDZYMdI8VA1Zuy42QVJAQZWY0tTruxyRfhnvZwhtU41uxzIpAIJAJrHYENgiysj0nkZDqFwf0Jjrpb3221koUh3OLma9ErtynPug2RhVm/Z9LzkixMQmj+Pw/nf9I5+jGStUAW5n9WsoeJQCKQCCQC0yIw12RB+t7ZtFJWyjHiMgzH79nwrM5smmirMg7pf8eC9d0EbbON49GUejjq0rGKQ7W5+uB4OM+UPhMlVCoQqTQRYBsClRA4wlDUWxRa891JeybUMavrE03WB8d+KlXpuw3SM5Vm6Y/jAZUxSPfqT9v/liyI/HnmWGYBzp4rKlinkR2fJ+qpj94JV5vN6z6qUYWn37VRRRua4rITaeq6KXdSL+goV3sU1Es7ecB+FTWvLjxy5JpNwY4FdPSZVKbm+LuI/PpvJRD6aX712d4AR721Jxz0LZYhsiDCHLeO9m3KEi12bJ+aTHKrvrHd2xDjH1qkZD0uXKrJgj0NzlQX1SbH5HTsaDp9MH4YKqWxt2fa+nrpYvgp4fP/TiSzsdVG12hkyPp0NJyyE9+d9HzypJzHxjalV8oJx6LOZNA74lhAtf19F7rZl+QW4FiLykr8zbzrc325lP5PmoN6rTpmz0lg9boi22TccZhDFwWKqpsDJW3mwf4E8k4HeD7MlOg4VrG+MXuILMR6DD1mXcAmzvKv15L3khX6wZnydEjbZMnMoXlrm9/rvzXXYjeNcbEO1P86MjBkeZrf5XcSgUQgEUgE5g+BuSYLjD/DytgpIZK656xF41A6R3vSBmdlQI6obG8Z5vhzNm1UrC/KUq+mxKU9w5sTr6yIo1s3Rwoqi2FYnY8+5DDVt172iQIniuPLSNfN+NQ7IzJ1c44xR4SzwFGPMXA2bQCvndQgC+pznS8NU2U0Q2SBI3Tzm9+8c2g4v+FsOJdevSSiUDeOuj5GmZf5Uptok3p7T4EztDmf6pg5S3WzP8U8R8bAxkrOk2d4VtR59+GHRMTRh87+d6meDZZ123zzzbuStEm14ENkITIa7VGnsHfOvT0WCE/dYj9IkJS4yGxIHSB/sNeCLHDenaXOAY6GGJlX+NQNyVZ3SeaDFIZsuOxHWUhNqvr6wXmFJ0dZ+Rfn0UVU9llonG3lN4hx3ZAjc9g60JxtdyQ4H54DHw0mZFIGrh2DuwuU8NTfRzCcStGO2X0Q1qf+OP+63keAXCCWcUuz98T8Ds0BRzsu7ooL5ZyxHriRL8EKusU5533N2iSzbXMcNF0QN4rSH+Y32hBZEHxQkqdO+dOf/nSHc92c1BF7kugGgYdo1qx5rwk9Jx62rbz6Tdwq314KN4RX+3fr1TzFJZjT/i6/lwgkAolAIjB/CKwKssCocexdYMFZRyA4bRwl0VUO71gbIgsuFeG8cCoZdhE0ziinRhRP5C0urOI02/wmUucSEA6UPnEUnLsrOsfZF1HjaHBcXG6FcHi+xkHvu93RZ3GOOWPueYw758QYGX5RQ0SEo69xNlyipk82L3NskCvOAqeVQ45IRQuy4L89g5POIewjCy5y4vQ5icgzRH81mCBCnBBOhIgtx5Tz7TIlEWJ9dIpA3KTbzg9iIyoOO82lMvUlW3HDIrLi4peWLOiTaCriB3vEwhnemqyBy5dsVIIXJ9FFOC5WiqvW1Ygjg7IDfRHqwGuhZCEuV0MYOXScfThy8OxfsbeC8645+YizXTdOru+68AeGISdBFsgmgsMJQ3g47YgJJ9xvZaCikTuf6QNZQKAQUOvAgQF9t26264dsyPCQL6QTiUUYETxz6JmIuxI7zi0y4tQq6wgGfltn/cwT55acklFZHsQTcSJXNnzXBCAIlb+RLc9EohAImRUEtr4QKMgC2ZPNcgmcPQJkxaVLMn8yLBHl7psDMutdnhFyDJfFkgUyTM4QZ+vNBlp9kg0yl4slC2TD//TVejQWFy7JAJlzeNIhdJc5InvIHsxiLRvXcpIFgQhyLwM7lHlpZS7/OxFIBBKBRGA+EVgVZIGhdzpIvZGQ8y7KGOnusUhpH1ngnHMCGG1Ofh1x45RwRDj5cetifN8xgKJ6dfMMTokSi0jZL3TPgv0NftPeDMgJc1oRp91tl3GzahAdNxfWV5pz3pXHcIyU7Cg/0ZAbNdOamyYjst6SBb/jeDHyHNK4udPvbDJGlDi97TnDccytqK4x6DcHj7OiZCP6wcl3VCEyJBPBgXQrrYaEIA6cKQ6h1pKFwH1sz4KsEFLQbub2W+QFITRf7Y3O9ZwuhCyQRQ48IsPJrEu2EDg4kFP/7iub43zLHinnabNfQRZgj5DUchqYc+TrUzFklmQFZMDqU5YQFE66z20cH2tBFjjdiGH93rhMR0aAw1q3iKaTHZkILW5xRdKso7oMTAaAg4ucxs3AHFsEBY4IRU3qECOkxXqhE6IFWXBaFdmoT9gIAvqxj33sbPJc97ueA1mDejP9YslCPN/6lOlDoGpSt1iyIOggM1eX9wS5kqUQSKjLLZFqhCmyc9Gv5SIL1rHyI0EJYxwqoRwVwPwwEUgEEoFEYG4QWBVkQY2u6FnbwkHggLS17/V3+8hCODwcC6VIbVOLLBot8s3x4HiL5nH2OPVqp8MIcgJ8z8klItvaQsiCKLuovOfZWxGOdfSJc8s54HxxFDRRXOPmFLd164GLqKbIsChzbLIWmTX2aDVZ4OQrkVB6ghQoe4mGhBi/6CUs2rp/f+OgiMoiCMai7ENWpCY0yASy4Xp3jisC6N4CTfTV+OpN4YshC7BC+ESlyU7dOE2cp5ZktfO/ELIQpVFDWS5ZHXNhXH17DEI+4eVCmLoFWUDi2qyUEivkSjaC3ERTIoWs1Sfs+MzfyC8nsS3PascfZAEBavsso8UhlcEzaxN5AAAgAElEQVRp923Eja316VoyCU4U8j8nCNXNGpPpIPPkVJPtQ4aHNq9b69abvsXdFCHzCFF7njs8YEHuyX9fowOUPAXZrb8zb2QBaZSpqVtktmQU2nPLkTD4IE1KkaItF1mgq2We6EhrMVsikAgkAonA6kZgVZAFEUYR27YxRsoqGKfWKay/20cWwjkQOe87W5sDyxmJTXqex9mJa8k5uspwRP31I8qD4r0LIQscSal6BlZEeCGNk65cipPEYVS6xMGW5bCvAHnhXCmTYriHjk5V3sUh5QSKzCvFqhvHEE4io8hRX/MeGQnRRMTB3MAG1kgZZ9W+C1Fj75G9EXWGs+hx7HOo68UXQxaib0p0ZBD0SZQdNkceeWRXImWDdLsnpR7TQsgC8kPGWiI2zTza66IfykmQpTbzMOk0JCRTaRwS1xI4Y7ZxXwmSORE9R0bIhP8ea0EWYi7r78oQeLYxt1FjGNsDJFuAsGlRgz8J83iH062QW1m0vhIWWQvvV+YV52EHWTDWdkO5I09F3tXQm9e2IY6IOD2D7LRzMG9kAb7IWN1infTdPBoErt5z4rfLRRZi3xGC5j6KbIlAIpAIJAKrG4FVTRZc6qEkaDFkIRwYjkAbya+n1PPr01o4uSLwnE4Omia6euCBB57tpJiFkAWRfPXF6nxFqadpSjWUiHDApP05Vfoh/a+siuOPLMiQxMkoSoeGyIIyGDjKIHDW2w3AUUpSO4FtP43BWLwXKTjjjDO6TAPigBD5O7w5gqLsIsc2ZQY5UIqi/AjpidOcFkMWbNgUYTUnCIMSIeQONp6vH5Mc14WQhdgjwDFqo/ljc8nhRb70l1OvPKhtk8iCeYctzGQYNKU7shTkQFaME+wzcszRhsNSyAInEymwqX2oIb6xARepVkYnwj3N7Zdx8R0ZGjs9DNGKzMYYWYgsYh9ZiDlQJoasKeNp22ogC0r6ZA76yELol5UiC5FRrEvRptFp+Z1EIBFIBBKB+URggyULjjMV7a73ASxkijihNvAp15Had6wkRzRKIBZCFpTkcIw425zGSU2E3nc5hZxa/6tr05US2cwYTrvnTXPPgo3CTsvhVHI06wvsRHFFbNuTW+q+hlNVl65Evbh6fARL9D3q+p3sw1lW5+5/ymyUPomcRlsMWYjNtCL2CAlsIwIuY4LszZIsRGYB8VHyMk1TfoPsKgMbK4+ZRBY40/ZCkEclOTJhMkCIrLIatf21w+2YThmIpZAFcqDUTPncNPXoQcynXWtwNG/2JOj/NG0xZMEcOAhABsxpSch3X0uy8LRppmDdd/r2cC3oAfnlRCARSAQSgblCYIMlC3GransEZsyOqLS6aBFwm6eV+nDAlS3F8Zzx3YiE+o1TSTTOqHp8DghHZKxx9GJDopISxKNuNmYqH7HhmvMdNcE26OpX67DFSSR9ZEGpjxrxaO0G5yAVTm1BGGQmNJt4OfMcRKVPUSsezxGZFbH2HY5kbDANZ59DLLqs70pF4qhXji1yok9uw22d+CGyEPO39957r6t1j34qs+EUIzj+v24R9ZyWLLQOa9/RqXEylbIZDnHblK6JqvttEDBRbhtOOas2ng9deR9kAb5tBkypmTIcm+r9W0O0Hvawh/XW3vucLCuzWQpZiM3yyF57TDDiYq5F/J1epjlCl9wNrTWkjnzZBEwunIzkuNmhMhYZCyf+IH5kTlsMWbAuEW2kzbwNzcH6Igv1EbrGGEen9pUhLSazQOeQKxnAVoeEfC706FTPknny7PaI6VElmB8mAolAIpAIzC0CGyxZ4FwpTeFs2SdQ1ylzeDg7nAcn+fh/GQR1wiLgyk7qFnsZarIQm16d+sPhndQ4yu9///u7aDDyUbc4KSkc3Cgr6NtAyCn1dwSkJgv2YOiLjIpNx9H6jk6NDalOnUGQYtO2qL9Td+pxxnOUFqk1b5+P/ChFUn5i/4Cof30ufRAtDptMjaxE7RQPkYUYT7spGJkROZdpUX5VO0H2degHMjOJLMT+CSStPp+/jyzEaUii+mTJka/RlBhxNm0o9j/ESEZI9FXEn8MdhKxPRoIs9G0O5kxzwBFUc6LFyTdOKXJaUd2i7xy5pZAFR/UirvVxsPGeuH+gPqHJHhd7IJRMGW+91uIzskauNX2zLqNsLOTPZzImMhvWaE1aF0oW7Fuxmd6z9anOzLXzsNJkIfZT0QdxLLA+zZosKD0kiy3poxtlJ+31WShZ8DzPdQKUvSDZEoFEIBFIBFY/AhssWTB16tpFphlGTpdyFQ4lJ8xehTqyyYHxuZp+DqRoKKeUc84x4hQ7nSg2V3Ic1cpzVtWyi9Q7LSnqylvR4dhzqDzf922c5hiJoiqbqe9Z8Hdkxjs5bo4i9T4RWcdpiuzJitRkIUqdOGCcSGOWIekjC8qcOKBOpeHEcwBt4K7vWfAeUXH9VTvOkeGE1ufTxxhjI7r/bo+vjM2lPhOx9q66DZEF2QnOp7GaQ1g7Q974OIHqz/XJ6TainZ7LgeaocoYmkQVZELX25s3vnABkbocuZQsyKVMCG86vTeGwRrjCobe/BO5K1mwQjqNw6zHH8ab+FmSBU6ucB2FFppyGxZGThZKt0U8tSrsQNNFm/YAVGTJPZGepmQVzLqvlGFOReeMwD47khbeIsn0o9f4E5IKs2tQu00B+OezIt/4hoXETt3HEPhAb8+HpAAN4Ok1JBqIliQshC8qPzIHSOITHWmtbPQcrTRbiZCMlfzKTZMSpV7MmC/E8pYBOopKFQ9gEE8gVUr1QsoC0CgC0GczVbypzBIlAIpAIbLgIbNBkIY5tVI4gEh+Ng8/p8ff6jHdnwiuPaG9Y5iQzkvU9EJ7F2Xa0adyQygHlYA81kXfPF9GrG4eJM8WBicb55TwqI4jGUdUPzobIe00WfAchkjXgPHMOONlDNzhzCO1fUCLjHgSlD3AROeTUcbTqZg+FvRt9R9hyVJWMcEBkaurSINg4mlOf+u5vGCIL3q1UgsMTc6dvNt3ajI14RGmO74ri+77SJA78JLJANjg9HFz/jvsghsiCd8BeaZGod92U47gcDbnU1767Furvkxkn+GjIggwJB9mJVTIv0TiQ8EH86qbeH9Gtbz5GoMiFjIZ5RDTH2thpSH6nHzJN9cV//i5zYqzK5epmfm2+lTmrbxZWFkUO2yNNEVZ/9z+nONUN8TAPdbneQsiCvrRldC0W5NWpYNpKkwXZMWubjGpOMUO4Z00WBBgEA5yWFA2mCBzyLcOxULKAFLubZtr9KaNCmB8mAolAIpAIzAUCc00WOKwiXZyr+jKjQI7DqhTBZ2MOWJS6tBdexXOcHCQSLZLG2XHiT32rcD1T+sSpFxnm9NjQ7PtD7+foOK3G6TGcjqixHpp9Dp4ILcKAqBibuvC+jaQcb5szEQZRdv3wG1kEzpzIZHucJkcW2TFOpR7wg6O9Bu0xlfouUq05qScuvtNHeMmkyDgou+FcDm121T/Rb33pO21GKQonWrS3rcs3DuNRJtJ3xK1nywaJmMMpiIi+I0JOCVLTbx+HDdYi88qlOEL1xVVD8+H9cZ+AaL3nwQ92HKq2ea9yKg4+giK6Xn8PdpM2sStLigwVbMic0o56TCLzxtTOb/RHH0X3Y+6ciMQBlsmRBeEkjjXzHheVjd10TXZ8l1zBhNM+thatMftsZOrMady6PdQXMu77shV9eMbvyBdZIIctEfBOJJH8eOc0c2D9x2EFkd2xhmMNcLTJv0xhZHWGxkBXIGf1GvJd5WsIrmf2nYRF1hDeOBWKHMJB0IAs1g2edEYtO/G5fiuPs+brQwt8jpQJgrhtGmk3f55NJ8Y9LWMlWu2YPYcsTNLJc2H9shOJQCKQCCQCUyEw12RhqhFM8SURf1E6xENZRrYNDwEOugyNOvCx+xXWKjIyZYgC577d9L1WxzyLcSEWnGeOPWI9zelPs3hvPiMRSAQSgUQgEZgXBNY0WRD9dqKIkhs1332n48zLRGQ/lhcBpRVq30VmRYOVokwqB1reHq3s02WO7DNQVqb0a+xukZXt2fy+TamfbKTSKftXYJctEUgEEoFEIBHY0BBY02QhLm1T+qPGua2j3tAme0Mer5p/J7QoPRItdmGUMp4Npdl/YnO58ialS+2ekw0Fh4WMU4mdEjBlP7Brj0xeyLPyu4lAIpAIJAKJwGpFYE2TBaetqIW36XXShsbVOoHZ7+kRsNdE/bsabMRhqN5/+ieunm/aNKsUz/GtyrFkGbKNI+AUK+TSfoIsP0ppSQQSgUQgEdhQEVjTZGFDndQcdyKQCCQCiUAikAgkAolAIjALBJIszALFfEYikAgkAolAIpAIJAKJQCKwBhFIsrAGJzWHlAgkAolAIpAIJAKJQCKQCMwCgSQLs0Axn5EIJAKJQCKQCCQCiUAikAisQQSSLKzBSc0hJQKJQCKQCCQCiUAikAgkArNAIMnCLFDMZyQCiUAikAgkAolAIpAIJAJrEIEkC2twUnNIiUAikAgkAolAIpAIJAKJwCwQSLIwCxTzGYlAIpAIJAKJQCKQCCQCicAaRCDJwhqc1BxSIpAIJAKJQCKQCCQCiUAiMAsEkizMAsV8RiKQCCQCiUAikAgkAolAIrAGEUiysAYnNYeUCCQCiUAikAgkAolAIpAIzAKBJAuzQDGfkQgkAolAIpAIJAKJQCKQCKxBBJIsrMFJzSElAolAIpAIJAKJQCKQCCQCs0AgycIsUMxnJAKJQCKQCCQCiUAikAgkAmsQgSQLa3BSc0iJQCKQCCQCiUAikAgkAonALBBIsjALFPMZiUAikAgkAolAIpAIJAKJwBpEIMnCGpzUHFIikAgkAolAIpAIJAKJQCIwCwSSLMwCxXxGIpAIJAKJQCKQCCQCiUAisAYRSLKwBic1h5QIJAKJQCKQCCQCiUAikAjMAoEkC7NAMZ+RCCQCiUAikAgkAolAIpAIrEEEkiyswUnNISUCiUAikAgkAolAIpAIJAKzQCDJwixQzGckAolAIpAIJAKJQCKQCCQCaxCBJAtrcFJzSIlAIpAIJAKJQCKQCCQCicAsEEiyMAsU8xmJQCKQCCQCiUAikAgkAonAGkQgycIanNQcUiKQCCQCiUAikAgkAolAIjALBJIszALFfEYikAgkAolAIpAIJAKJQCKwBhFIsrAGJzWHlAgkAolAIpAIJAKJQCKQCMwCgVVLFv7xj3+Uk046qZznPOcpl73sZcsFLnCBWeCRz5gjBP73v/+Vt7/97eVSl7pUudOd7jRHPcuurEUEyNshhxxSLnaxi5W73OUua2aIv/jFL8qHP/zhcr/73a/TldkSgUQgEUgEEoGFILCqyMI///nP8upXv7p88IMfLN/73vfKf/7zn26sG220Ubn5zW9e9thjj3KHO9xhIePP784xAkcffXTZfvvty7nOda7y97//vVzwghecWW+vcY1rlN/+9rflL3/5S/nxj39crne965V73vOenbOYbcNE4Dvf+U65wQ1u0A3+r3/9a7nIRS4yd0DstddeZe+99y5vfOMby0Me8pCp+neve92rfOADHyiPf/zjy+te97qpfjOvX/r4xz9e7n3ve5fHPvax5ZWvfOW8dnNB/XrHO95RHvOYx5TnPve5Zc8995zqt1tttVX517/+1emw7373u+WmN71peeADH1je/OY3T/z91772tXLrW9+6XO5ylys//elPO/3ato985CMdudS+8IUvlBvf+Mbn+M5ZZ53VPUPg7te//nW5+MUvPvHd+YXVjcBxxx1Xrn/965fb3e525WMf+9i6wTzxiU8sBx10UBeUuOMd77i6B5m970Vg1ZAF5OA+97lP+clPflLOf/7zl9ve9rblSle6UqGwvv71r3cKU3vxi19cnvOc5+R0rycEbnWrW5VLX/rS5T3vec+Se/Dvf/+7PPWpT+2ioc9//vN7jdpiX3KVq1ylnHzyyZ3BRRaufvWrl/ve977l0EMPXffIl73sZeXwww8v+++/f0cmsq1tBE477bSy2267lUtc4hLlRS960UzlbVbIWQf6xjA//OEPn+qxn/3sZzty8axnPavc6EY3muo38/qlj370o+Xud797ecITnlBe+9rXzms3F9Svt771rd1cvvCFLyzPe97zpvrt5S9/+UI//ulPf+psHwfuoQ99aPGsSY3NlK0VKOH8Xe1qVzvHTx71qEeVt7zlLd3f9Unf2nbUUUeVm93sZl1ABwEZag9+8IPLiSeeWI488shy3vOed1L38vM5RuDYY48t17zmNbug7BFHHLGup8jugQceWD7xiU9kFcAcz99SurYqyMIJJ5xQtttuu/LnP/+5POxhDysvf/nLzxHFeP/7318e8IAHlDPPPLN885vfLDe84Q2Xgkv+dpEIiFJtueWW5Ze//OUin7AyP7v2ta9dfvOb33Qy9atf/apc8YpXPIexZcAZ38997nMFCcqWCKxvBBZDFtZ3n2f5/iQL/x9NwQ5kgQ6LYIdsyxve8Iap4JY1ENCRqX/yk598tt8ox9tiiy26QNwf/vCHjoiwqW17wQte0JEI5FVWZKhts8025fjjjy/I+PnOd76p+pdfmk8EkizM57ysRK/mniz897//7Rx/0ZMnPelJnXLrS5sCSxTa52PpduUFP/rRj4rIDKeWEhMhkVaTUo0m6vKlL32piz6LNO60007lQhe60DnmRD2w7yhruehFL9plPkRZ9FHqti9qw5Gm5K91rWuVTTfdtHzlK1/p+vGIRzzibM//2c9+Vr71rW91EaCrXvWqncOq5KpuP/zhD8vf/va3QVnRh4033njd5/A0Xu/z71vc4haFMm+biDvML3nJS5att966KAH7zGc+040VTvCwXySaEg7GSzmYzIJSMe0yl7lMkTJXMiYDJCsUpR71OwNH7/JOTf9gOfQbz/zyl79ckEl477jjjuXKV77yVOvmlre8ZTcHMD711FO7khNRZVkEfzdHyj0++clPdjKlz+c+97m7eTDHUu59c+vl5uz000/vIm4Mrv/ebLPNuogMjD796U935QNXuMIVym1uc5vRaJvvffWrXy1//OMfuwzLDjvs0MlZNCUAsm4XvvCFy7bbbnu2sXu3Ui7NGmoNNcVPtvxWmZexiTi2zdwfc8wxHUZktq+FHBqzefvUpz5VzjjjjHKPe9zjbF8nd9/+9re79xm/OTO/dTvllFO6OR1q5IlcaTEG4xO1hPX3v//9Th7ufOc7d7IYTRSV08Npsd5lJuvGSbI24NQXbDB35uLnP/95N0ayZj7a/hu399j7IGNlDhFO84Oktg0W+jzUYg35vCULykj0WX9kDfrmR1RXmUiNW/0u8q/UJHSdOaQf2wY3c0cf0hn2jPkdZ5L+i3WDeNe6NJ4TetHzp2n6Y33Tb8Z1k5vcpCt9GMss/P73v+/0KRkyL9e5znW6/rU2I2TMHFpX/vuLX/xiF6k3TyLm8RvYwZADTWbbFrqtlRvyROdx5n0HRvRxq8PbzELdF+Omo9v+ew4d/YMf/KD87ne/69aDEqaXvOQl00Bb3vnOd5YHPehB3d4cpV11I4twEy1mKwPPei35PozIHpmAcdusN8EYxAR+1oA1So8oKTW/1uDmm29+jt/Sn9ay7133utft9B+9C3/zACOyR3/RzYKJ0ciLbJrvkFMlV0M+Q/1iaztsjaCj/rIDsFXJ0FcGS6Y32WSTro98C3qP7MPG84YaX4Lswdq/4d3XzK/1KbNtX6Zneh+8p+1jPJetYw9gxoZYT2P20vdggDDSHXA0BwvNLJAPugPBJUPsFbtFX7WZJvJCbnzP97PNDwLLThYoyv32269TGhSTVOk0Czcg+tCHPlR23XXXTnA4JGORCWnOZzzjGZ3DOhRhIfwcNN/jRO+zzz7dqxADSll7zWte0+1/4CRFs6Cf/vSndylZTmM0DuarXvWqzjk+7LDDzpEGpnDVCdcGQjmA7IixedfnP//5TgFQ/pqF9ehHP/oc9fPIje/f9a53Xfd+SoxiHGoUJ0KiWYTq8jlYdaMEbCSuHQRGgqFS78w4I2A1KdEXyppjoDGEnt+2xz3uceX1r399pxw4pcgAhdO2pz3taV0NsjIg5UCBA1w4sZzMuiEyapcpwLrZCM349jm99ffuf//7dw4UQ8io65tIGbkwN+aobQwJ54zBghVDUsuC73MMGQsOBwebA+W7nGIypa6Y8o3mWeSmdSI5+s985jO7Ugv/jgYPZXYcA+uIzCAu+ua5NTFkWKwFTTlVXUtqzObOnCJFyjqGIpMHH3xwR2S9V5lfXws5/MY3vlFga14YTPhq3iMrqKa1bhxPMh1z7jPpbOtmqKnLfuQjH9l9vPPOO3fODqfS2rSWojFEvksmrKf63bATEf2///u/dd+HMwIMF+S1btLrMk2c0bpxNK19hjcaJ8XfvZfusgYQCKVAfeNCLGpnpx13HfwIskC/McJRKhK/IV9KlGojbM5Eftv3k4EDDjigw8D6jEZXGat5qfUteefc7bLLLh3ZEryBmfVGryPadKT1Yx21zRqDO+dnrOmXudHvWvYFS5S0kKO2DMlvjEPpoN94j79pAgN0LfIWDW5KbfSVUxS/i8+tV2vGugqbYcycwbYhGb5flzGyVf6bHq0b55WOq8sagyyYW6SCTarHbT+CAEN9iIc5QDL93W/0k/5UOz5N43zTkZ7JNtfysu+++5bdd9+9yOLoP13DPsA+GsfY2vUMOq7PprMbntE29teaYIvo8Pe+973n+I61aoxhP1QO+G7YX6SIsxyNTbTPIuS5tt2cUnph0p43upM+9i52r9YBdKy/txlm+tiaIPv6Z07YDhiO+Tn6xH7SE8aB8FkfdUOY4GsNwphuWkwfYUEvwEer1wadz8b0EVjru8aRP2BcgjDTliHRITJXbIG1Q96MHRE0ppYo0uV0On39pje9aRpRzu+sEALLShZEBzHu2hAN1T8OjZdQEjJCN60iHMMuFD+lwLlivBl6zg5j8u53v7srZ6KgGRAMnhPM0dMPSgFBiBZkgYNB4VJiIh1+wwHmGFP+z372s9f9JsiCPli4Fiy2HiTAxsXY9MboWlCi+hadaAznIiIRIleiYXVjGDl4+iGSQBFQ7iLhFj/yRhlSUr7HCeSsWsDhbAZZoCTNn3HqX4yR4qlrZBlM30MIZQaidhapoGRmSRYoVmOBHaLGKHk+5cLJoJg4j2PKGtmARTjTHHb9NI/kFsn1bLhzpjn/iIGMiv+p1+wrT6J4KVkYm/8gCyIl+sjxI1+MDMOGSIqUkRN/i+YZnsVBMSay4juMOIfcRtdwdMNh5pgbezSfR6TR87wvGvlE8ET9OJGMFqOE7LSEHMlAxGHSl4XyzCAL+mn+OXRkFL6i3ggpGUE6nvKUp3SRLXIMI04oebrb3e7WdQ+JE1GrGwecASGf5DTIVYyd42I81os+mDf/FhX0Lo6CdYesiuZ5ln4pQYssxRBZEEEXrLCOOJneyRHllMtmmj/Zhlg7QRasWzoGeTKPsLAe2mZttlFI5AIh4shxpjgiWpAFhJSDSLcwvkgsLOHWRpiHyIL1QvfAkrzSQfQLeees2SNW7z0KsuDdSJPINMdPkAUGsyIL4ch7j77AzZpEeOAM05YsvO1tb+tkzjpFNuk+80Bv2dyNGPh7tHgHWaUnYGbtWKP0LBzhE3Ji/smKCHnr4OiLgIgsJN1AP8ESCSGD+kXWzKO17J3IdARxgiyQYX2hj/WFfrJWRGJb+2cN0N9BUjnlCEhf5mPIHrJxIuPWpQxZNMTH39kVeFvH7X6ucOat55awxnP0ERYwJFd+w+FlU9hV88u59p32MIEok9IPmaggCzCih8mC/pNDhIJs0jEINFvt34Ju1oR+0H104Fizfulg+o9N4RvoK1tM33J0zVudYfF96xBhsxboMFkfGUUBhrZZv/oYQSnrj5wF4a6/H44zeZTd1hbTR/gLmsjyIsdsHPuO/JGt9t2IFfzIJ3ll060luoY/Yf1NQxbClyI/iJHsupZkYVQM5/bDZSULHGQOd91E6EUZ24hsH0IWOwde+p/B7kttLxTZIAsEl5KsSzci2krJi2SHE+Ed+iwVZwFF2Yu/B1lgTCg2yixaOGTGQKkFew+yQKkgIGE0/C5qAhlg/asdXhkETllEW/rGTmlanBwfpUHh3KktFTnvU5qhsGrnN8gCZaiP4VR7JweGwYMPZ7huQ3sWZkkWRC85Jm20Sz/CyAylxhciL0N7FjgfyBYnANmqG6PL8SOvHPAgC77TtylVlIaTUUfLyR4yJEUsQlmXuZBDDi8Z5VSbA8/lWCIHjFo0DhMnxfrhWDB0IU+ikAwpZ5BTiPjBE9GsS4c4DIxjEM8h/IIsMEAwqSNV4ViItCNltUxbI0iatd2XqfE+Y/BbhKUl60EWEDD9r98bfTIe46yjp9YQkuT0K1E3bYgsMNRIQU3QAgcOgnXDiEZ2IMgCHceJW8wxrEihKB6HnLMSLciCbBUnqHZc4EdmyIt5C/LZRxboVrIjekmf1Q4wHDirSGmdcQ2ywGHhCN3+9rc/mzjMgixEvbx1Yx1xCKNxnv03steSBWQMQRQEEKCKxhml6zl9dVYoyIKosDHWWVVyhiDLClnrmrkX6GqzJpxE2JFpax42HHx6ltOK7NSNc2191LogyAInTl8Qr2ih8zmhERleiA4b+65AAp1RZwxlfWCFMMhamA8EBPbwC0Ic60dWTQZgrA3tWYhssrmoS3BlS0XU4SpAAtsgC/SEoEhktL03iCKbJEhUBzQiu9o6t339NTbz2RfQFOSRzWt1rDVmLSGLMBlrsJJNYZ/pC6Qksor0CPmtm7WvXKzeg7nQPpo/Ppd3IWy1LRmSLZk4ctjaV9jQt+zVJLIgK+e7giPmq/alkizMagWv7HOWlSzIBLRH9YksUDx1vfvQkDl8aocpCIp4Fi3IAqfGYqgbls3QcATf926s3jYAACAASURBVL73neN1IoRSyL4XJCPIAoXVd5QhQsDo+l+cRBJk4V3velcXdawbcoVktQrUdyz8KDnpS/0y8pQ8BVk7n34LR3hyMoPhtwapjmAEWRhSspQAZ7XdtLYSZIGzzHFBQNqaxyhbE3kSFVlKGyILHCwyKfrLMYzyAMqY08GJipMigixwiKOWvu4TOeOs1+n4kIGhjYNBliLyKTKHmIjWcSC1cFhFTJEF5IDhhZ3GGYp6VFE9xoGR4FjDMFo4VbIcHLShFo553+kqnHGyXmcP6ueEoxdRxPYdMjzWGVwZoTrQEGShjxzGHqY6Mh/Pppfop5e+9KVdtkYbIgvIMicEEZW9qFs4EUiBvtTYI1gxHwuRQ5E9zgOHSClbHUwIsjAUKQ3ywvHwb62PLDD4iOqQrgsHts5IBVmoy8vqcc2CLES9/NB6oX/pzJYskE/rQECkLakIXWV+47OQa3j6Td1k1ziqIvUCLhpdZz5kYej/aBGFjf1O/s65loHoC3CRUwRE5Jbca4F1n86K/QjsTf3ehcjT0HfJljEiubG3KfRnZEb9Nk66qTOXAmfGiJS25TPt+4bIgkAIPOkdkedo4VTX+i/IQo1zfD/8BJnv+jhPn8d+NJke7xtrHHFrrSZF8X32my33P9n8aMgC/d9m99v3wApJoIv1N/QIm25u2VsyFqSVXUWY/LfPIsAy1sc4arzuI1tl/bNXgoJ1C9tUfx9egpsIBtlrs8z0GT9mjCzwL9gDGV0y0+4NS7Iwi9W78s9YVrIQtZz1sNrU9tiQOVzSuhzdvtMYFgNXkAWOPQe/bqGQOF11DXJ8hxNOwdbR1yALfitq0LaIDjAQIlVakAVpujjLOn4XkSdp0L5MCmMpso9wtRfRUa6MH4ePwq0juJSg6HK7idp7EQh9Eb2N1GmQBU4lB61tYQA47HUt6HKTBdENRJOBgm3bKDhYw9WYltLGTkMKRzQi894T9Zk1CexTyHWfwmDXxw/KWJDNIedaNBzZFcHkSGtRUmD8jAwiLFtAWTNQHBOEQb/9N4MgexU12IwWIsFgcZaivpuDziHytzpr1uIaZKGvVInTzOlS0tAaDs+xN+MVr3hFb+aFg8SZIb8cyfZSsSALnt8ebxvR+T4iH9mYOoo4tmdBPxlwBlmGBjG0BkWhW50QRG0xeovTwanwDASl1UOTTkMK8iJ6TY60PrIQjv3QUdNxHGcd8QyyIMuob22bBVng7ImiD9WyTzoNSYmEOdJX/xalFjiRkUPuI0gVZAFRgGnd6EPyz5GtN55HSWwdLIoIe8gfGeFAcpTo6WlakIW+iLZ+c744l+3+h2mePfadyOJY27AyZhlKa0OGWymNFphHBkImSia9Lxre976x05CsbbZdiVeUUCl5QvBrfRG2WTYCkalb2Co6SDakbuacwyvjNnZogt9wxGUn4NE2pYLmlP6x9qOZa/bPHpChxmbpG0IkSGGN1i2yvDKJsVcuMJeZkqGKNtbHkNu2j/Fb47eu6XjfpWtkS2o9FZUNfCCkpm2TTkNSquR/AjoCUEha25IsLHXlrp/fLytZMCTOLSeWYErHWxjTXnYUZKOOfCwVpjGyEAZEVGnsplMLOFLwk8iCaD0nsjbeY2QB4eDoK0MZ25DFgasjOqKynD9lCQxcfUGOMg4RNYayPTGnxlOEITJBk8iC/olUrzRZCKUtndqniGI8DBnlu5Q2RhYiCyU6q7RGgz/HkcMeRG4SWaC4RT5rZyA2BppjmaK2hUNVl6hQ0IxKlNUwuBxZTgBjxdFHSBjTIOFtHTS55hDERlgGUPrYup1UAjFGFhhqmwXpgHqTaYwrnNm2xAOpYcgYqDpyX+MxRhbgAZc+shCbtqchC2Rc+YFMDmeQfjAmTpw1YL9AHUBYLFngvFn/njV05v4kshD7VJBIZFLrIwui2P4+lKHgqIke19H1lSALQYSHNtsPkQXzIAsSziL9RIebI4QYsZuWLISOackCB9a6Qm5jQzRZCJ0rUBJZiaGDHPr00RhZiMj4cpAFfYl6ds64YJYSKHbC/EewifyzJ/QtUkQ/IEltSeCQrh0jC/GscIqROw67AANnM9oYWQgHto8sCJDJPi+VLFibbCi9Xu/BnIYshG6mR+nudi8dHU2OyGxkn5VV8p2suXofyhhZGOqjLKMgEZtubmXtokKB7arJAj9C4KkPS3MxiSwowzVvAh4CVX0nSCZZWIpXsv5+u+xkYSlDi5S0SCkDPLZh1XdFfhi4OIGl791jZCHSn3GawTR9n0QWonSpdibGyEJchqOeUKp6msagKJ/ikNXlB/VvGU3KblK6NH4zr2SB40v5c7AZtOVsk+5ZoGSRA5EmRknKuM1YTSILcWswBR2bXGP/wJCDLHOhtKcuG4v9MeRNjTuDi9DGBlXZJlkj0U4OpTr8OpoHR31lmESzrSERWc5EnRUbwnuMLIhSiWiRz7rWOJ4Ve5va0rvYODp2fvxKkIWYDxgioKKqoYuiPn0WZCGCFWRBoKQ+2SqwmkQWYv9RTZD6yILorE2W6tb7bg0OMkwHxWlrK0EWFpNZUGohY8VRRzhlVOpgCZtAVyyVLARR5CAi+eYoghIREUZwOZScv3Y/19DaWZ9kIciXdW69cfL69sTRJYgYXed79iHVZY1jeniMLCBmSJ35Y3PYYKVxNqOzhfNCFthNAZe2JHoSWZA1sZ7JIx9l6JQ+RI0OoSfh5Xucav5K3cbIQl8fOfcChGSSTlApEIGsKHGryULYkcVmFpAPc0imvct6bkvOkywsp9eyfM+ea7KgLEDUhoMjhae2cajFYpt02tIYWaD8sPuhI/JEqNQriv5FzWGQhbocJfqI6XPiKQlOZZxgNEYWRPo4IHXNaD1maUORCA5W1BMqSRGRixMW+jAS9eYAMnL1BjrfFUG2QYtRFdHQFksWEBKGUo1m3cKIckY5qW0LHKc5OjVqPPW7vnPAM9UJixqLgkXZ12KXT6TkGUnOcNvMhZQyx9tci960JC/IwlBJSkRSOf/+rUUkqm9Drc+jbMf7ow41yoiklzkASkXqDWrh+MsQkB1GLm49r8cVG66lrNUqq1FF1CddpjRGFoIwD5GfKO+oN7QyOmqQrUfp8LbkLvq83GQBCZTBk+WzdtpsX2QOl0oWbGoXxecM0BV95VrGHGShdaYCj1jn9cbkPrIQ+A6V+0QZW703YBJZCN01VNokyqg8YezoVKcQxX0UfXdPRECn7ldkyuhlEei2RWZrqWTBc2O+6QQk2jzUtea+I2hg3UdJYN0fMm4OZQ/jdL/1SRYia0Bn0yVK95zC027Kj03+xsvOCEbIqE1zDLpyJuWJfaWzsIlSXboGGedg0jn13rqVyizIfJq3dlyxp8v6qjMeY2QBtpxuOLVHV7cyGnuI7EejuwUm6mqE+D79MKmPovuIrMYfYkf6/Im+DKgDAdhUa9XejXZPYARwx/Ys8J+UEhqzQItx1HjKcCsVZGPaex4iWJBHpy7Wa1m+3801WTDsOIWC08DZrSNGPuckcXQpXk4wZjxWvjNGFjxL6tkzLIq6zMVnokhKQyi1uFgsnFwLXFS/dqpcWGMzIOPBoMSCGSMLDLLIpf+J7tXPE4Wh1I3PQva82PDH0ZBCHHLqoi4yUui1SEWkuo4oLZYsiL4wCmpta0UDPxEkRIeSiovX9APeym2MaRqyEDeH9jklZIEjwejZvLqUFk65SH3f/oiIiknrwh0J8r96A26QBXNFdmrCG5fikZN63EgrA4u8cZ7a05BEnuLm6bpcjhFnFER0OFC1s4JEWR8ihEhv38ZOWIUzZj3BUnRPqcCkNkYW4pmICEekNhycCOusPg2JfFiHZIhRafci1H1ZbrIgag3/ONmq7ru1Kmooor0UssCJ9RykyOknQdj7MA+ywAmxb6AmUWHIOVnWUkT0+sgC8m5M3m0PRn0akuwdvQX7+ljNSWQhjnqsTxEKHS3ij6QiXmNkwZqgL2FanwLjOZwv59zTvzVZiNO2kHukuG4ceoSI/pkFWYg9RgiwdSQY1NbJx36mvsBVZKLqAwNmSRY4phx7DmMctztp7QZZR1DjVvvWhnqu0irfkSGss5qTnh/7qcgZnda22CRO17BF9ER7wMhKkQWyX5+QFn2NU/baY9DHyELsP6z3lg1hJTAqW05OERJriR6sDzfw2zgNqU9P9PUxbFhLPLyHH2KvWBvIIjt0S22TvFsfyZT1Nuk0pHqttidIRT/bk7ToewEi706yMGlVrfznc08WCKhUOAHCqEU/4uZjDq1Iadzyi5XGCRNDUI6RBb9hADhbIuCUrpIMQiyKy+H236JD4TQEWWC0OTVS+hSq7zAWjF67UMfIgj7EAueAqeXEvqXRGVuKNTblxQ2VjC8l1nejcJy9LYUusyGCqV4Z42cQREk4hiLS9f0NiyUL4bwp4bFhWt/D2YuyHsSKQZWF4ChzSilFWE1DFoyXDDBsHCGGGzExt8ZirBwnl7ktpYUTwnFHPuy1ibsA4rkcu9hIbX7ikr/4PMgC+UAiOHtkFKGiqL2DY6wcqS47iXsWyIDfxD0LFK+TOfpOSrJG4rx0qV7fq5v5j2ht34Zg3+VQcdxjw157d8MQnmNkob5nQYmIscU9C2QdwYKDaKsGY2tZdDMuX6vfK0UfG3+Xmyx4b0TCYK/vMBKZ99+cBURsKWQhyK9sZXvUpvcjonGhXpAFkT/rXR84cdauf8votbXkk+5ZsJbU4Hu/MhPRXVmgNuswiSyISpobBMt+EetccMD6QDwQFOt00qVscVAA50lfrA/lFAJHxkdX1WRBn33Xs2V4vdfflHX5H9LkN7MgC+Yjyur8u+/4ZkQNptaQPUBwtAY4R+ZCoERAICLnsyQL1oxyQ7qmL/Pat34jI+Szoay6z8gZ0qDZD9UenTukGyKIwR7IgtMv9VHcsBEci0vQrP364lHPXSmywCbBTp/pIXae7bfp2/4t81Y78ENkIYgzcozAtre8GxP86rt1+A4R4Bo6oIONWEgfI1Jv7hAMOAvOWVdsAN3VkgUZAXNFR9NHAlzmBuEXwLSWJpEF47MOEEUZhDoLHtl0QQF7s1SP6BMCbY3yA5IsDK2m9ff3uScLoMFSOdhq7hicujEQ4VQPXZlef38SWfBd0ShOp8hs3ZAWC66O5gZZsDHYIqiPVdM3xp3hrCOSk8gC5ek3NilaPNEoMVEKi5bCiOPcxsSnJioWIce6PqbObxkvCq12hBdLFihTDlzcuFxf2sPQm6v6NmaEhUISKac4piEL+sxxoVBrvP1dhJScTCKN0yw5USb9l1kQiYG/v9Utzqr2N0fztZuugyxQmsokEIr65lGKmqNcn/PuWUgyOaFA6+/Di1FpZSp+w6CpXe3LHMSGXxkGDvpQCUHINKJX380whtkYWfA7hBuWHKa6kT3OoVPSoiHb5neo1YZqJciC7A7jWR/fjDhahwwiJ30pZME59e3N1vXYOeChi4IsWNfkvC6J4EggXxzSOrs1doMz+eLQcvSjeY65Eizpu8F56DQkv+ec050IQzRlRSLGnCO6fBJZoP84a/Rf3MLsWeZakANe7dGpnDklgbW+tBY54qLg9MSsyEJcvCgAYF76NnFyfuin9rhTJIINqW3VLMlCOJycQgRrmiPK43QjGMeJaX1rLzImcevzpNLEeAbCKBAgMKS1pTz+FhUEMtOIXtvvlSIL9Kd1LctR314MT4HJVr8PkYU4LGJMZ7YlwZG98ZuhsiVrcyF9tH4iS1z3hT5zYANb0Fcia+2xVfV6EjQR4LL+pyEL3sd+sH1sEh3Jx2DP2ML6mFu2SDBRVlLfkiyMSc76+WxVkIWARsRYxD4cGIIukjrpGvcaWk6L0gdKqS8l2r7LghYVoNzbM9Z9NxwrC4FCZJQYCs6EVH59GUk8O46n9P6x4yg5IgiBDIKsikVab5BieCcdp8fhq0t+9IFTy5BwEGw49dxW8TuVgpNkHH0ZC0bQfFA07bnmjH2cfmN8dV2izxA2nxuL8iPv4FTHTblRahb7HGQIaoIROFKE+mE+9dd7YD6NgVzIchOhM2eUnBOj6mYc3jt0pn5NFsiuOZUd0l8ZC88bq/vljJApBhdJNVdjp4mRPc4YzNqTh4yDYyCiOXQTs7FFZLfvWMkh3OK9HMM6WtZ+P47v00fR4D7ZU+pRO5vtM2qZRE6Vg3HCWj0Q66xvDZgHcyfKGUSNPFlv1kJ9sZf3my9yay0ipOSW04SAe0+NNwNrP4j+6NekRrZF64YaByHKHq0RMmVNinDKKNABHFbZlpZ0emasLWu9vsQt3kePyEpx0qxXWan2lmLfNSfmRrS0TxfG8zgGyuDgQM70i4zDBNmmM6ZpZEVGwm+M3ztD5xlHu1neXFhb3gufWFuh64wrSFTf/EefEHUlYeS47/S4qC9vL8xrx0SePMfa8G/r3TjaC0mtbZnjWhan7UvfO+lDtrGPxAzhTo7oZrgN6ZfAjNzHDerTzGNt9+gz66KVn75DG+pnkyl2nz1tb0EPW2U9xHGv8VtjMra+Nd32PRxxa4yfIBBkXbLTCE5r5/yevvD3WJ/xzFhzY/jQMbXdZY/JNf1Mp/QdcLCYPuoDHRG6TV9D//ub+ezTU9aTzDLShCRZt9YimW79ArqUfHhue4+TICHd0q4nWW7vp0+sVesZBtYr32Bo39ZCZC6/OzsEVhVZmN2wZ/ekmizUN9/O7g0b7pMoGeU3fZGoeUElapCHbvBsycK89HuoHxwlhpyjxoFpDfO89z/7lwgsJwKcflFV+xQmHbqxnP1YS8/m0HMW7UWp77BY6THWjvhKv9v74oSysf1267uP6wOXfOd8IJBkYYnzkGRhiQD2/Fz0kDFW0iCKN4vNyrPspaiTCKYIi6MnRUFEvfoieauFLIjQyyQpkVCvPotL7WaJeT4rEVifCIg2i4IqD6GX3P0j4zfNaUDrs9/z/G7RaHXzsvL2tbSlLSvd9/XhiMuCkSnZRXscyZN/92UI4bE++rjS85Dvm08EkiwscV42NLKgDIPhlPK1aWo5Wlz84tlKGGwm7bvMaznePc0z40QU39Uv9bRDd2KsFrIQNcPGZEO6MpKhM8GnwSi/kwisJQQ4s3FKlXIJDl5feeZaGvNyj8U+vzg+FpY2TdcXkC33+9vnrw9HPG5d1hdlOvbeCNQMtfXRx5Weh3zffCIw12RBjbioA8d0p512Wi8I2mipblZpRl+dpk1JnGc1f+3eAB22qVTto02yq924qDNX76h+1JjGjrRcymSpkVRnKrpiY1nb7GWwOYqjvtSNzP+vvXsAsmzJugB8xrZt27Zt27Zt27Zt27Zt2575/+9M7I58OeeibldV9+1aGdHx+vU9yFyJs9ZGpkRJsdR2UVn2QyWuksucJ0G/T8XoGxNyFBALMbXGMOzEL9sRRL2ndr7ZHdym7mUNZcGzo8VU/kzdY5z7QyAYp31c9WbXK88LAuuEgFh7Rgw7xJjzU/Hk69SevaGu1kgeWTlqvq9TOQHbWU9hZTYlkZC7XQXHkRfgGyIvQPz+vLIn6rhdWOQ9ezcCe7VY2Oqj7pfpGiTfqbx2DLGryEYL4iXEg2VqnsVgo891Pau1GHMkd6vd4WJ1r3rVq47hQVspFJbBQeKVBMyp7UGXub+9BjmWYMiSzg2+WYXItbMDz5OtLKvUuRgSwSQibnWpvb43stXhVtcpzw8CQSAIBIEgEATWB4GIhQV9tbtiwa4GYhCFqWy2tZbVXSIq68RWW7rkDhBM3KT2Gd+TZTPFAvwkUrO8b6bgmiUWajcoYqE/SXsrMI1Y2ApU88wgEASCQBAIAjsHgYiFLRYLWzmUtlMsbGU7NvrszRQLG333stfPEgvL3r9Z10UsbBaSeU4QCAJBIAgEgZ2JwNqIBWcD2KXFbi3Cb+xJLTyoP+mxutGev04NlG/gwC97JTs9dpaFX6KR69/3vveN+wrbA1kIibjzPgzJvzm5c1aRCMdSrUjish0cq3y/DaWYTVtu2lXHDjv2iEbunBUwz8rtUCB7FIuzFz/vHl4LcZ8OzqliX3TXOE0SZmJDPdupuFP5FVPtYXmvOoq9h7vzJK55zWvuJ8ZU7KlTYB3OJZxH6I29251IWWcTqI/9tCUs23dZzoHTTf2x13Nf7OksbMdBXhKr4eewFjhNhSE5TM8J3A5hEl4Ee6d7C2fTbtj01nwH8Mg7kT/Qn3mhXxyYZOwZE845cJIuvBcdSDRLLDgMzQ5Kzu2QL9EWoV7vfOc7xzEOd94i41B/tftgS7DWJ7OK/nGwjdKKBSFxDtqSb+HZzjiAVZ1r0T6Pt4pXTSKncSqeuMZnnZ68zJLp0DCHhxkfzr8Ql6s9U/vXe573vvzlLx8PQPJeMbwOA7rZzW62n8MQ69399XJDhH8J+evjf407uS5OgTeWYChe2Nyzu43x0Z4Jskz7ck0QCAJBIAgEgX0dgbUQC0iKw9ee/vSnj0m1iCXCjlzZbszJv22xBaQEUklpdVAR4opwXulKVxoJaJtMhUif73znG0kjAovQ+DuC6FRBBKvNWUB47a/fF6JEndTTCZCKEwsRFMSzDd9xmqWkbWRf25B3hz55BjKDyMwSDE5hRorrfersWm2wM4/iN0LKexB8GCLokvQc/II4LTocidAirmzv5tne498kwjpNFaGrOuoP5FPyLjJLzEjaQjYJJ+28xCUuMQoIwk2yr5h91znQikhrT8YmFIgIpBvJROYkVrvHibnyR/qchToZW185kdoWrLwvxoE/cHA4TXvoEOzVSRJwe8iT+wkT73byrINmEF8hSxe4wAVG/OeFlc0SC7YK1Hb4Eb9VjBuE2Kma3klgwYzQNFaJFodAKTCtv7dj0OFkcCPQbDfbigVzhIAzd4gGidbmA+y1q01+lkCuzYg0Uk1oIdTyHjxf/o38lXlFe/SHEz8lghv7xpF54BnmVO2EUs/RX3CxLS3Sb66bm4SG/4d5eyieejrbpHZRISqILO9Qb89pD/a5//3vP55srV4EGQOB8eGwOt4qc9D8mHdQ4r7+QUj7gkAQCAJBIAj0CKyFWEBIJfEi3WWRRKKQNqTYbjYstQoigpgghRJxy8LPAsmzgOgjgqybVVgikbsSBsiNxGGEtITIogRnib8IFvKhPrXn/pRYQHIQNiQFIatdhfy7uiCDiCTiNK/MC0NC2l/wghcMt7/97YeHPexhu3IaEHyCCXFmMZ93yqf380rIV6jdqODo3yUEExwEgFJiAYFGLh0Xr10lJtTjMY95zOBU4Hvd614j0UYo5UAQVoTBy172sl3NRZqJJpZ1dS6vjLqoPy/HLLHgIY6q12esy+p8yUteciSbrOUt0Z4SCzwR8FF3e6nXaaM8I07u9W9w8cxZZaNiAQ7GJFFE8NXOTHA1zgkG+S9TXgB1sHuUXTwQXWK5CG95FrTF9qhw4VUw1uALD/Pi2c9+9q6m8LDd/OY3H4k4z5QdQhReGoKQV0dd5nm/eAeucpWrjH2kz6o+Dnoj5IkzY7/deYR44A0ihv2XQGvHiH7QthJpxpL5eYc73GEc42UAgJ/x1O/bXmJBW3hU3Osd5roxZZxpO1xSgkAQCAJBIAgEgf8isBZigaWVRbY/kpxXAQFCFlgwFQJBKAwCysLfFqFJSCDCh9wrdsJhaUeaWTH70AWEB/GZJxaQfiLGs5A7hK/KlFhAwIRJTD1TMrTk12UOxZolFiqmH+GscJYWB0QQKXK4EDI5q2gHEooYtuE7wn0Quzve8Y7jH6XEgu1lbdd50IMedNdj//rXv45eCSSTZ6BNxkYGWYuRQDge4hCHGO9jfdfnCH6/Pap6699ZYoHlGHlsizojhLwFhEiVKbHA0+DfCa4+3IzHR/gQwYN8ziobFQvGNoFLiLTWc8/XVm1+zWteM4aA9YVFnkDmDet3PSqxgADr86n5YH4R3dVnwuh4D3il+pAj41xfmSv6c1bRN8KdCGeCry3EA5GpLdqk8KIQFMaG8CNbVLaFF4zHgFeLcGQUEGomHIwAaceb+wgs2wya8yWwSiwY/8RIW4hfgphQYVBICQJBIAgEgSAQBP6LwFqIBRZFRKoviCxCi9AgNooQFTHhCDmi3xdEHLkQYsRiyoKPtLDoI5R9WbQbErLrfl4P77373e++n0dMiYWb3OQmo5ARdiS8py2eh9ywniLP88ossSDEgvV8iiB6HkIp9v7yl7/8mA8wq9SBc8KyhLWwpLPETpUSCzCHfVuEufDwIK5Ib19udatbDfIwavtSfUO8CT0RKtKH+8xKcK4wpKltao0PHo8rXvGKu0K11GNKLHi/d2hrH5JSIkAYGu/JrLIRsVDtQYJZ3HuLvfArQlSo0BT+JQj6bVrVbVGCM0+BvmtFinA1nhv1ISTawntGaAtjmnVuSB005JwMYVt94enRt9pJ6OjfKQHR3kecEBTqJLytDsYjAIn5vhDi8lD85hqlxEIbJlj38VQSNeYFz15KEAgCQSAIBIEg8F8E1losIDU8BUgzq6oilEh8N0vj1CEvSBBCLoadZRJxQN4lNwqT6csisfDUpz51jDVHOpH//p1TYkEugRAepGcq7h1ZVVhP58XFzxILrOrIvf8i0H2BldOXCS05CLMKIse6XtZfdREXLsQDCW1DmOaJhfKksBpPJQaLZUcgiRxWbdZjseazROIqYoG3g8W+F4WzchZscUq8EFaIMdIrPEnsvv7ZTLHAYs5yri5yNzZSymPC4q+NPb6LxEJ5zvqwKhZ5QrLyOcwX7SZcjMt5YoGw5yk517nONeZDTBWinReNCCLIylu0CNd6VomLRWOKB4EnQZknFqrOfejSRvoi1waBIBAEgkAQ2BcRWGuxgGgg/BJTWWSVitUXkyx5c1ZBopD1CisRTmNnnI2IBYRJuAwPhUTdqROAp8SCcAdElPVz3qm6wl3mxYXPEgtFih71D7bACAAAIABJREFUqEeNOQt9KTIuz4OFdlHRNnHgb3rTm8awEgWZF+bRxtazUk95FsrTwSo9a/cqz/Q7ESOhVd8hwCy+fdlqsYAoy8sgpNRHWBvyKzRGngcP0iJSuxHPglwAsfsbtWoTMDAS5kVwVG5Fi9cisWBXK2E3bYiTvpY/QVjzfOlXYWi8GsL+jIF5YqGSuN1LQE+VCrsSckTw1zx04vkyJ1vz5JlbBFZ5DqbeI+SwwhcjFhbN9PweBIJAEAgCQeB/EVhrsVChA6yyQpIUCZy28JQsywK+qFQiJtIkIXhZsSDZlaVaHWaFPHnWlFiQUGo7Sbu1IDOrlllioZKD73SnO41Y9KXI6SpWVKKMEOMZQSgliyvzPAu2A5V30F4/r80VxkIIsmhvt1iAmxwYYVws0613ZyvCkITF2SFqlnhj0YeJ0B1/FNZ9cfk8Ea31vMdqkViw25VxKNlYmBbhIXyIF8W/tfk3nr1MGJKQIc+wA5fdhfrCs8eboE3mkVAnXgwhYte97nVHz2BfXAsHIXpEfnmK+sT4eeMqYmHVlSb3BYEgEASCwE5GYC3EAus7a3gfYsFyziPQxuYjsazXfSJrdTKCzHLNWi6ZtqzYYqGRtj7shxVZHkSfjCyp2laUzmBA/GeVKbFg5xkkznNZatuCSEkOtVsNK/Y8zwIyJmFYLHcbEuQ+icazwoxYbrVnKsei6iLcBHmUD9KTt/JMCEkiPBaJBcQTOeSFEHrSYwwDGLIu6x8Y2O/ee6Ys2EUUZyU4T+UsbCQMaVZit3bWrkWLPAuVC9Mn005tnYr4I9c8GrwmRFJbiuQKeRMyp9geVX6MRGEhRLPGSYkFidq8bm0RUsWqLwxMfgwhUvVzTgNPUj82CWTCfJ5nQf/xPEmMFyrYe8/MPcKIN4XIVHgYeC/cJ0yuD+ezM5Pdinh79A+RYUyZw95TOzZVfeWTPOEJTxjFstAzJWJhJ3/q0vYgEASCQBBYFYG1EAsah/SwmBeJQKx4FIRisK4KR1BYRpFopEtSa3u2gVANRMPvCLWC2EhsRGB6QiXREUlBTFqxYIcepBahFcbT76DUdsaUWLAfPq8AkojEtuFS9ex5IRz1/LLytu2vNiH5iJWY9iJLfkPAYcBKi/BNhU65Tsy+cw8QfffYMapKeQraBOl5ngX3EVXyP5C49owKQgdxdFiZ99SuS2Xdl6hNSJTAcA0vBZG3VWJB3+qHficmlnZCVP8tEgslToTwiNsvMj/rnAXhNw996EPHw+6Mw2ovi7oxrN2s9MZubZPKym7c9uKiHX8lFhB2HoRKSjbuiQ3vbHcl4jkyro1J76udq2wvqk8qqXueWPB+2w7bMYqngDiu9rfb2PbzTRiWHJE+fE49zHUeBfO9DvCrxHhboNoZrYo1wPXyEAozv0UsrPqZyH1BIAgEgSCwkxFYC7EgJwEBcJgWIscSynqMyPZ7xOtMpMjOPQgRayrigwQhnZ4jORLRruJ6z60zBMSpCy+y64t/R2BasVDbR4qFRvr7gvzaA16ZdSibGPE6uRihQtq/9rWvjYQasSIA+hCQ/j11cJhYcuJA/kR5KhAlgoOHgFhQVwLKgXQIOgKHwM8rFc5ki0yks7wv/h1hFo9eIm2RWBBO5FqeBZiwKus//ahvhI8hrlXU2zkNyCExp79Yn4UBCd2S87FVYkEIm0PHWK4lr7O4E568Vv5duNoisWCMGkdEkPHC0yUHZZZY4EmCj+1GtZsgkmAuPAd2Qr8cZKZU6JBxbaeqvrDO83opJRbgTSwTeASZMU90EBx2QmrHsXEjH8V/eS54IITr1U5dvEmLxAKBLdeDwOKN8HeYyDUwzuGo71uPCEGknsap6/Wvv+sP+PBwmStVCCljgWAiNPxdnoXrvUPftSddRyzs5E9d2h4EgkAQCAKrIrBXiwVkCWFAhFkphRyx9iP8CJGQDOFAU7seIfusm0hPbUGKGAmt6PexBx7yRBAgawrLJGsla6YwJ3/KIk5ACH2YVdS3DrlCEJFqpK9PQEW6hAIhohWTjiQRGsKIFhXkDXFHjsrT0p4LgHzBQJiK34ktZMxOSUXyF70DObdLFGKJALLqCk+CDat5FSTYTkaSt4uo9s+WkG6HJsRTXLt+I6yc2UDU9aE0iLbdnIg7nhBx/Qig0B6EGkbttpnyDIQJ+W8dFld1QCglXxMdRbr9xnOhz3lLhORUIcSIF6FpQl0QZ20WX+8MDPXlDZhXhNPAnxeLeGUBZ+km3hD+fq9/hNg7JRwTULwL8NFeJLm8DYj2VOJ31YX3Qb8pQt2MPeLU2PdOz+YNM46NP6KmLeaLxHj3Id+ErPMHeCKEsAkH8iweiHnFeLFpgDHpnfpb3cwl4mlqpy/igOBVXydM29XMmCUmW4Ff7yVahRoRHoSlZxJQU+8gHIQmEQ19UrS+ktRuTFcezqK5kd+DQBAIAkEgCOwEBPZqsTDVAQiy8J32YK95HYXssNIignbl6WOb+3s9G2mdt2XpVgwMXo1+T/vNfM/uPh/uLMPwm5dHsWydhbUgj8s8a6N9vmwdlrkObsbaMvVc5nnLXgMfY3ArxuGy2MPdtZsxLleZVxvFfisxW7bfcl0QCAJBIAgEgX0NgbUTCxvtAFZ61lNW7VkHim30mbk+CASBIBAEgkAQCAJBIAjsBAT2ebEgXESIgpAKYR68DMKRUoJAEAgCQSAIBIEgEASCQBCYj8A+LxbE0tvtRTzz4Q9/+OELX/jCIGE3JQgEgSAQBIJAEAgCQSAIBIEdLhY0X+y1HV3sarMVMeAZZEEgCASBIBAEgkAQCAJBYF9EYJ/3LOyLnZY2BYEgEASCQBAIAkEgCASB7UAgYmE7UM47gkAQCAJBIAgEgSAQBILAGiIQsbCGnZYqB4EgEASCQBAIAkEgCASB7UAgYmE7UM47gkAQCAJBIAgEgSAQBILAGiIQsbCGnZYqB4EgEASCQBAIAkEgCASB7UAgYmE7UM47gkAQCAJBIAgEgSAQBILAGiIQsbCGnZYqB4EgEASCQBAIAkEgCASB7UAgYmE7UM47gkAQCAJBIAgEgSAQBILAGiIQsbCGnZYqB4EgEASCQBAIAkEgCASB7UAgYmE7UM47gkAQCAJBIAgEgSAQBILAGiIQsbCGnZYqB4EgEASCQBAIAkEgCASB7UAgYmE7UM47gkAQCAJBIAgEgSAQBILAGiIQsbCGnZYqB4EgEASCQBAIAkEgCASB7UAgYmE7UM47gkAQCAJBIAgEgSAQBILAGiIQsbCGnZYqB4EgEASCQBAIAkEgCASB7UAgYmE7UM47gkAQCAJBIAgEgSAQBILAGiIQsbCGnZYqB4EgEASCQBAIAkEgCASB7UAgYmE7UM47gkAQCAJBIAgEgSAQBILAGiIQsbCGnZYqB4EgEASCQBAIAkEgCASB7UAgYmE7UM47gkAQCAJBIAgEgSAQBILAGiIQsbCGnZYqB4EgEASCQBAIAkEgCASB7UAgYmE7UM47gkAQCAJBIAgEgSAQBILAGiIQsbCGnZYqB4EgEASCQBAIAkEgCASB7UAgYmE7UM47gkAQCAJBIAgEgSAQBILAGiIQsbCGnZYqB4EgEASCQBAIAkEgCASB7UAgYmE7UM47gkAQCAJBIAgEgSAQBILAGiIQsbCGnZYqbw8Cn//854e///3vwwlPeMLhsIc97Pa8NG8JAkEgCCyJwH/+85/hi1/84uC/JzrRiYaDHexgS96Zy4JAEAgCyyMQsbA8VrlyDyPwjne8Y7jTne403PKWtxxueMMbbmltXv7ylw9XucpVhstf/vLDS1/60uFABzrQlr5v1sMRgS996UvDmc50puH4xz/+ynX47ne/O1z1qlcdznKWswyPe9zjVn5ObgwCyyDwve99b/joRz86nPSkJx1Oc5rTzL3lBz/4wTjXXPeUpzxlmcdPXvP1r399+MxnPjM+x3t3p/zrX/8aPv7xjw8/+tGPhoMf/ODDxS9+8eHPf/7zuB4c+MAHHl75yleO/1W+8IUvDF/+8pfHuXXc4x53d1674XvN5dve9rbDzW52s+GJT3zisP/973/Dz8gNQSAIBIFFCEQsLEIov6+MwJ/+9Kfhl7/85XDoQx96ONzhDrfyc+rGe97znsODHvSg8YP9qle9arefN+sB3/jGN4YznOEMw4UudKE9KhTU7373u99w3/ved3jmM5853OAGN1i5zW9605uGS17yksPRj370kQClBIHdReAPf/jD8Otf/3r0uh3mMIfZz+Ne9KIXDde85jWHu9zlLsNDH/rQua9iBLjwhS88HOEIRxh+8YtfDPvb3/5WqtoTnvCE4da3vvXwyEc+crjDHe6w0jPc9Nvf/nY4z3nOM/AsKoTHV77ylYHgPt7xjjcc4AAHGOfQUY5ylPH3Wpde8IIXjG3erkKMnetc5xoNJ0960pMiFLYL+LwnCOxABCIWdmCnb1eTWd+udKUrjR9uH/DdLX/961+Hd7/73cNZz3rW4fCHP/zuPm7y/n//+9/Dta997ZEQIOh7yqNQldsssSBM4b3vfe9wnOMcZ7c8FFsCeh66lgg8+clPHm5xi1sMD3/4w0ePX1s2IhaMzfe9733DsY51rOEEJzjBylhsllio51z0ohcdHvKQh4yGDvNG+eQnPzkc8IAHHE572tPuqueeEAvWwktd6lLDyU9+8uExj3lMhMLKoyY3BoEgsAwCEQvLoJRrVkJgs8XCSpVY85s2SyysOQyp/l6IwGaJhc1q2maJBd4Jz3rFK14xXPGKV1xYvT0hFhZWKhcEgSAQBDYRgW0RC//85z/HeE/hKBstrE4Pe9jDhoMc5CBjbKZwite+9rWjq1hs6q1udatdyacf+chHxrARLmLuYos+a9W8wgLGqmXB51J/7GMfO4bOvPGNb9x12w9/+MPBh/HTn/70+N6TnexkY0jIOc5xjv9xmXO7a6uPzcc+9rHxPmEtXOyXu9zlRqs1y1Rb7n73uw9/+9vfRuu78Bru7NOd7nRj+EkV8bPPeMYzBnG5rN/lfm7j2IX93O52t5vZXFYoGFb5xz/+MeL1ute9bsRMKIGPo9j2Qx7ykPt5zhve8IbBH7Gxxz72scd2ffCDHxx+97vfjbG6ngtz5cc//vFY929/+9vDu971ruFUpzrV6A1Qbn/7249u/Q996EPD8573vDEW+LKXvez/1Pmud73r2B9PfepTd1nNuN2f/exnDxe72MVGLNvC0vbCF75wePOb3zy+H97ioHk2lkn6g+mrX/3qMRb5O9/5zuhRYD286U1vOpzylKfcz7t4HPSHkCht1NewfNnLXrbrOs+A0ec+97lBuIZn3OhGNxrOfOYzT/aPOnuO55ov8IKV9k+FIcFbzDSrrn5QJ+NMW692tasN17nOdfYzzn7+85+PY/wkJznJ/4RoeJ95YMyLH+dVcd31rne9cZwtW6p/vva1r43P0M/miZCuqVKYI2Xf//73h0Mc4hBjbkaNsf4eceTmfl0vlvwyl7nMcK1rXet/EtB5UV784hcP17jGNYbTn/70w9Oe9rRxLP7mN78ZTn3qU4/zxDzuizqZD3JWxN3D89KXvvT4jnneLGuDvtJv17/+9ffzWOEs4smtYY9//OP3s2ZY325zm9sMBz3oQce+VP74xz8OT3/604d3vvOdY1iOMB/9wIpvXFcR3mP8zSri/+985zuP4+9Rj3rUcKhDHep/LrXWfOADHxhufvObj+Nd+80B65Cwm5oH+uQUpzjFeP9Xv/rV4dGPfvSYS/PhD394HNOVl2CsCnWb5VnQXvU2P8xNoX6/+tWvhrvd7W6jV8H62RdrxXOe85xx7VPUA8bGSltasWCuab9xYB1RP3PGGjir8FpaD80nYUcXuchFxrXuyEc+8vDABz5wvE2+lHmn/VVmiYVa46585SuPa6T6eIdvSLtmWvu1z/zT39qnrsZpX+D3lre8ZXjJS14yYmgOaNuNb3zjMcG5iv42D+Fa63L9Js9B3wn96sWQ/nzuc587rq/W2ZQgEASCAAS2VCxY2LhxLbR/+ctfxjhQhO6Yxzzm0ugj6gg/8mzRQ+iOeMQjDr///e/HnWosumJefew82wfd4os4H+MYxxjJWvuB7V/sI+gjj/jd//73H++16NaHiQCxaCLF6n+kIx1peM973jN+4G5yk5uMH4A2xlZdETMLsjr5APp4IoEIrQ8kUtneg/ATKMghSzKiZfFHNhVuZr/5MFzwghcciak2K9qMFCs+Qnbu6QvyoV3agUwrBA2ihZBIyvPBRzYlCMLZR9aHsgoSoG4+5s9//vPHd8HJx+0nP/nJ+EGV5AdrZOKc5zzn+E7vRoQQQQXZ85uPow/+Pe5xj10f4rbe3o24IrLwUBAbYssH8MEPfvCuy/UN0eFDp/3IobpIDkZYtaXii2cNPH2JoBmbZz/72UeCBRtjGHn0/CpXv/rVx4810qP+SOwZz3jG4ROf+MR4iftgq7/Pd77zjSIMUVVP5I34bYsEyQtc4AIjlsaK8aD+cBMKQSD1OQvGuTFkjJlfRzva0cY2us+8QIZbQvPNb35z7K/znve84/itoo+0DYnRdqRUn73tbW8bn4M4EB6Lirlzn/vcZyTXsEA6hWx4vjWA+GuLf0dUECRjwz0/+9nPxrFjnBOm5z//+XfdYswj/oSCthpDxgeBot3wLTLrJvMSNowJxrxrT3ziE4/rBmFCDMO9TUg11owvfXvUox51xIKINq7Me/06ReC8T93VS9/Bui3Ga8XtExXWsirq4JkEHnFj3Bl/xq7rjF+CgOFB/2ivdU0xNmDcFn3mGRJd/d24ftaznjUKc21ri7FtfTJ/1Z8xR/y76/t54L7Xv/714zuRaQLfmm4d0ef6TPGbOs8SC+aLuWt+ECUMJ/pDmI92I9htufe97z084AEPGNtjrdemz372s+OcM75b40iJBQL/7W9/+9h3xrx5p/+n+rx9F2OMvqr1krgiDGAEf0U7/bFeV5klFmqNUx/js8YgrP0xxsw7xhnixPj07hKp5kK7BmuzNdP6S0AaH643BtRTH9e3oNZr347WQGSMG8vW7ym8ax3UD35PCQJBIAhAYEvFwmte85oxGbUtyG4R3WW6ALksKzILH4sJQmixPfe5zz2SejGl/o3VzgeFUEDK3/rWt46knYdhVimx4KMl7tbHx2Kq+BiyPiJxrG9IaP07ooOEaGNrGScWCBwEEbmVVIrU+VAg6yw6rFe1qHsegsFKhGjzbFzhClfYZQ1HLhApVj9kpaybPihnO9vZxg+hvxNQU6U8MOrEg4JkKfWBQ/59vGsXjbLGqjfCVqU+Pv6fJZRw0EYfH1gg1Ky3RE6VeWFImykWEEKWW4LPxx7eiBARiDAi98jLrAJ7fcD6j/Aj6QpSYjwhTghgCbwSCz7Q97rXvcZ3VL/oDwQFuUUyy3rto36JS1xieP/73z8SBCJCQapZSPUzYoRMeS4SZtwibsqUWGAlR5QRelZQ9SMWkAgWYRbV2rFllliofjA2jWXWb0V9tN3cQiZLsE1hyNJJcPAgIWlIkGLMqZc6ER8smVVq/JnT2ljjlxhgiTWPvvWtb+3KGTG3jTtkSb9WLom1xDvMEYK8SokF/0/sPOIRjxjnNbxZnQkwAkf/VfFc6wFS3earEFfWLaSemJ5VkCvGBaK7Fe3mLiu9sYH4ansV3kTrDoGCNBKsCJsxJWm1Su164zf1nCrGvLFpfdEu7TMGeUCn1l0k09izFrkH3uqtnbBsxwKPCUJvva15sNEwJORe/pKxb+2seTZLLBCS4vKJD+sLMq0QWNZ+wg/W5V0tseAa44QoN670ORFkrBPW5ti8Anvjhxe7NRK4ZxWx4D5eOn1tnbA2aJc5YX6aA+pu3uhDHiTvJ7AJ7So1Bwg2nq/yFPFc8dAYX4xjvILmL4+eOec9VYg5ItjaTVQybJUxzbsZiqw9i+b8XADzYxAIAvscAlsqFspK0aKGlFqM6kO0CNGyRFnAEcLWIn/HO95xFA8+hBb2Ikaeycpy3etedyRc87aKLLGA/CJrbeEB8AHvLdmuKfLldx/6KiUWeED6UJnajrO18LuvxALrVR+m4qPnI4fo+0C2BR6Ist+1tS8WfxZL7Sjy4BoE30fUxwZBaHHzOw8KkuFDUrsYlVjghvdha4sPPyJsJxACqcp2iAXC0MeOhZgQa0mt9hN4CAXBNyscibWW8CL6EOa2+DATDQhvCYISC1NCtMgeosKL0JYiZy3h+9SnPjUSXdZLRKzd+hDJQUCNiymxgCwhTn04jTojCAhfhWrMEgtlSWb5bC356m0sEk/unZd4yitCABFCfdgSkW3cerZ3KKzDPFH6jtDlTWmL+exauAux0I9IrD4kuvudd4gLIsNYLuJYYgERNj/bdaP6oSdScERciZx+9y5eDUKatRcZmyr6HMFD6sxLRXgZT4BQQ2ODkDS3qmiruc1SrV3loUHErU1ViH6kGZEnyKYKizNhROTBnaCCnXYZW7Arr4T7jU8iqkhxCYup3cZghZQKbSn8NyIWaj021o2VNiRqllioccWjgVy3pcQm4WQ+KSUW9JV1qO1zc4jgMTeI23lls8WC74CwrrY+/p+RRf+bq+28h7Nx39ZVPxJrxhPh2XvnCW5zmRfD2Hc9r4Q5w2hQnp/6nhJuvNWMKNYzxdg2VnxzykgxF6j8GASCwI5BYEvFgrAEH7+2IKlI6LLb47Ea+jhy0/Z7ZyOurG+8D9zabWHltnD21sO+Z0sssKKzprfF/Z7Dou/D1ZeyyAhJqlJiwWLdFyJJyIWPrY9/lRILLE59PgNLz09/+tPRCtT/VqSnQhj699UH2kcSeaj7F93H2yB+uhU8JRamtvBE6lizWeEQjyrbIRaQSh/c+kj2GFQfTpHhuha2+o1ljtVZnD1SM8uaXmIBpuWpqWfpC1ZaGPex+sIIfLQRtoo150nizSJ8Ebe+zEpwbsPt+ntKYPKsmT/KLLHAgoi0Ixa9aDSnELU+dKZ9n3Ai4R3GNVLS7/NuHpjzsCVutL9IaR8SVc813s0PfeK5RSZbwdHWgcEAfi1xLLHAa0bst6UIvP6pMB7vFEZE7BA9fSki2gqB/hprlJj4dh7wYBhP2oxcI2fWP5jwNllDiKnytiLS1hohQYQHsbPM+RqEUu3QYz624s64IgzaXYv0i+dak4TrWBv0D8z9l4ew8k1mzYNlxQLPBsJMKJkzvRd0SiwYV/qeUUl9+joYH/rMs+p51UdTuzMRSsY4IcU4MK9stlhghDKP2zJPmCH4xDTBoC+VIvJtuGP7vLqHoCAmFB4KfcSYU/kHjCe+vb6p3mG9Esqq1Fo09T2dC1h+DAJBYJ9HYEvFggUMiWz3dWddQ8iWKUU0kGgfh56IIBuscq1FsZ5bO1r0YUL9e+eJBe5hIoJFeuqwGyRLaePq54kF17JYaouPYZGzWWJB+7nqWWIr5r+tP8uzUKmpEAPksGKje/KAACKCCMKUh8f7YN721TyxIL5aCErvMdkOsVB5DKyoPdmFFZz1Tx/61Y8DoSY8I4ikgowjfcZq79GZJxZ4ZZDNeWMGuSZQlIpnnxUut4pYQPTEX7Ogsk4qs8SC31i1CUNzSUgWEmZsI/+wmycWiui1xKbHFsHhQal5WuOCFVwI1aJSnh+EsUJX2nuMVWO2DfGZJxaQdeFbiJN6KeXhWfSOKeJXdTFfeR14JmCnrsIhCQDv5Fk0dpAz1u8Ks0FyGT6qCFdhOTd2FV4VXi9r1ZRw0H4ih/V8KsdEf7JEEzJ1dgCPEc+ReHZx7VWIasncRKRCzNQ86L1Gy4gFa7T+s87wgk1tODElFipXDZ6I8jJlnlgogajNlX8w65nbIRZ4/QiXKW+m8ELrjzW1+ovBSqiR8WQcTRUC0/fAuPG9IggYC3i5iNwSxMaWuULE8RQJ6TXurRXWLutBeSKWwT3XBIEgsO8jsKVioYgIazTrO8s9MrVsYX1lIZuyQLLSSvJCEC1uvadCWImPlI9O63rv3z1PLPhIIlxCCFgdZxUWnHr/IrEgblp9KzHQM2eJBWJA+5DL2o1jqg4sZoRNFeSBxdsHaSqxETGUFwFX/51VWHJr95C9VSy0Mfd9fHHbLh/CqeTv9hoJyYQUgajfy2PUE6p5YsEHmNXQx9j4nCr6tHI7xKsjhzxkSEpftlosiAUXwka8GA8IoTFM1AqrQazmiYUSIa2Vvm9DzUWhXMIcKi/G3Ksk/nlrQsVZe8dUuF3dy4NGmCgbFQsVpsI6P+/wO2Rz1o5W3lv9iaiJzWf1FqLHo0BAmP9CF/1/eUaFYrWJrJ5DXAgfZBUmZBFAhFtIVR/eKMTQ+jAVclXYlJeoQruqnkRS5WLVteaBcWEe8E7VPOjPS1lGLPByIaDGibBJa2VfpsRCrf0MHsbfMmVfFgsV6jnLiwwfws4YKw81AW38yYUQhkZIyp2wPpmTcrwIB/9v3BMows30fUoQCAJBoEVgy8XC7sBdOQM+bLWtYD0P8bD7SR937HeLZZ0aXJbiWfWYJxaQBmEE80JY+ufOEwsWbx98VpvySrh/XhgSoeMDMBWGNKtNFc87izyUC3xR4m/7/K0SC4SYj1Zflt0NqZJrlyWey45HYhRZ8nHlCSqS5f55YoH4IsamSNjUuyvOvc0paa/bSrFgnlRcM0LaW47LszZPLBiX5ppxSphPFfkkCLFxTIRU6BjSC6u+CFnyXOTFXClBIjyHhXWZslGxUISVF4mHZdVSORpCy7TP88qT4JlEvHAlYkBYJUPAvKRp98CC58kYQfx4asvT6X1EXu38Nuuk9PImIvzCkoQ38lbyCs4LCTUPkEekX7/wDtRWwsuIBSGNvHNyb3iaxer3YmdKLAjRktfASDO1hrOgEzHwK1G+L4uF8nwRoDxVfYEHLMwZOFfxDeCJMIesteaPsceTUOGjvhfGJYPK7p7qKcEAAAAMuElEQVQUv+q8yX1BIAjs3Qjs1WKhrF9EgyTGtlQ8/tTWmz6+rGXIziIryTyxUJaYWYSWhdFHzQe3Pt4lFrjxa1eYqjcrnVAd3hXbeVaZJxZYIbV/KnlUQq82CkOSW6G4DnlQDztjTFm3WQ59VPwR39rnQiAT4r8lwVUuyCpiAfbc7KyJrIptKSE4lWvA66L+FQYzb+tULnvWWl4DArIPFxM2woorpGoq70SdxOpqL/LTJ/lKAhSmwRrOqqfMEwsV9zsVN414CS1AgioUQqw6wTuLpFYC8lSCc20R3C8xy4YhleCeIiBCaoxTZHSeWPBuSbdI5FQ4YFmIEUzXKLWLk7EplrwPhSPQzL3aQUldkGGk2bzqzwCpXW7M0/IKbFQseAdRU1sB90nUCL8cLGuSMTur6GMhTuLBjX1bplaOgnvkUFizJCPbdckz2/NUhJnAydztcYGhOc8zyYpcO53B0HrSh8u1dSQMzSnzA2FH3tWtPddA7ofwNXPBGtIWO1EJZWnXYtcaa1N5Yf3WqXJDPFNYG8La5vrMSnA2V6ytU/lqlZPWbkyxp8RC5eb1c7S8nlOhaxsNQzLXa5c+c6APSzVXkP0+Ob28eMSmceb7UzvD1bwiyIwd13j2om2m925Kk9oFgSCwFQjs1WKhchIQjv5gmXnJzbUjzaLkZoDOEwt1loAPrcW9tu5zX8WQ9sS/xALSyZpXizqCjtTbv7pNxPSseWKhEh6FWPh7u6NPialK4kTCxI6zPLIUzyMP1e4+AZSFiutfLCvXdR30s4pYqO37EBOhJK0Fs7ZplJCHHNXuKOJnxXPXzjnLnLNQ5L0Pc5AYiXCwTE7tulMTSmiHZ0zF0Ff4BjyLQM0TC+KCjRP9JC68DS+pHVBaEQtvGCCp7Y5XPuS8WsSCshViATGwE5E62jGqcj4QXoS2zoNYJBZqS0e7uyCTJdg8B/mVN9TH5ZcI7j0qxKuQCHMOCa4dqGr8Ia3EW40l48M4t2Vpuzf8RsUCjCsso995TTsIKsIJKV8USilUijGDwLEeqFuVsub6zTztPVAllNpdatzLKEHMGC/WJQK/djqbZczoPxi1+xFDCoMKkt7uqkMQyVfod8MxFu1GZPOC1mhRxo+puPupcxZcLxSVJ0pf1S5es8RCCW8El+GhtsuFgTUFlu2c2VNiobbcrdyAwn0zxYJn1jev352Pl9qYNJb6LYrLmEIQ8Py1Xi7PLGOE342vdqeurSAceWYQCALricBeKxbE67Pusa4hUr2rXHIYAu+D22+9yO2NXLUJnrO6Z55YcI+dIXg1kD9kErFDpFkG1Ql5UJcqyIE6IdzIGLLpXiQKaWVRQzxba/48seC5ZdVD3BEEoRmIi4+3BEBWalgVoUKwZgkFlib14cL3gWGpFOvveh8dicCIY//hW0UsIHJyHjyPiPExYoWrxGsCSN1hJoaWJ0G7xJ0j9z5uy4gFuKo/AYK4IBJCJnwYPacS+maNAVY7dUE+EBMWOsSEIBQmw4OE3FSfzRML3uG9xgrLuf8ihiyk/h32nkXEVKkkbR4UYQM8UvJtjG/tIhK3Qix4v/YicUKQjFUCSwIyQqZfkMNFYkEficsXp4+Iwg/BFmdNCCKI5lG7ow1RCHPiQBv1GYu5ecKDgCga91V4m4htxJto440R1keIsML3IXeriAWC3nMrlEg7iBZ1R65ZbWGzaCe39nyZfkvmsuZaG+BrfLbPY0Wvw8d4HswFeBgj2llEsSzT8IF9Eel2jAs5ai34taOOa6Z2ltJ+75ZUa02QHOu5+hUG5ihsqh+tF3LK9KU5Yh3mnbCezTqUrby1BKq+dM8ssWBcGZ/moZAt40ifEw5wIzitZ4XfnhIL6m9tVjc5S9YbY2ezxQKRaJ5aS/SfviUijUl16A9irLFQW9DCqfVy+b3y1/y99zStJ6VJrYNAENgKBPZaseBjYMH1gWJhbQsiItmR1b4/8dN1rJkW1Klt+noQfcwRZOSid73XtYgbq6N3sdSwjFmA3duSPtcjAIgA4sPih/wgwSw3dttBuvudJuxygRgjVn1IkGciGMSJj6HQEUQOAWXJ5eIu66tE2UX7YwsHKG+HtrAes6x7P4uw9hBQwjnakB5We0m4Ene9ty3EAGs50lfhUPU7MsjDg4AgF0IXisB4J/LjY4ewExOsmiyg+pBnQz8uOsHZu3wEfezst19bQbJQEz1wX0TwfIj1sfuNPQWhKYzbsBTbdBJqyH+/PWq1m4h0oBIxRLgQDsgXLFoPVV3vvZJUiTdjAJbqAwP/3uOOaCMnU8mfxoTn8bBVHkLNJ6SO1buKMYBUuh7xYGlGwmzb6R1indWpEt1nLUJINYJvrtYBdoQsyyWL6NT2mwSrdul/fcYwoH7q02+F7L3GDzJqLmhP7T7kHfq5nTvGNKwRqPagQM/xXmNQm3h72kKUCL/zDjtDIayKsDKJ7lOkvMdEPWHnXmS2PbHZtbBFeI3xfmtpv5vj1gkkWf/ATgiS8wSEQBnLxMKik7Vh1Sf9l0CfdTaL9xlvRUDVh4HEPOAF6sOz1NU4JXKsS/CEq3wf81jf6M+2WHOIBgYEIogxyHoKJ3i1xbjiSVJf64zCI+G5whvbPjcf1cX87JPUrQ+MI0LmrMnzij4xfngMei+SOtrlqvUWeZZvjXoyWFj3iVdEnIeuThJv32k9dA0B3J9bY73QT9aJPoyWmLeuqF+F8GmT3f8YkqbWOXNSaCnc+hwhz/ONZZwjcvvtyecClR+DQBDYMQjstWJhb+0BH695hKHEQpEM7Vh0z0baiiARS1OiYiPP6a9VX+JgaovY3XnuMvcu26aySvZx3lNtQbAWCYRZdYOFOi1DDJdp30b6vzwpq9Z9mfpMXaO93q3NyC6hTjggzRvFwfhU/42MpdrBZdl2r/KOjWJD2BKzPIG9UWCjz1r1eiIa/hvBcta7SpDzVAiX63M/+vv0if7Y7LVmVSy2o89XrdueuG9PrRV7oq15ZxAIAnsWgYiFTcZ/Sixs8it27ONYiVmveU94IFK2BgEWZJZ01tjekrw1b9z7nsrTwdPFUt2fxL331Xa5GvE8ynNqTxBf7s5cFQSCQBAIAjsZgYiFTe79iIVNBvT/Hye0QRiU0B4hYBLe6/TszX9bnijB3HaLQhaEJgmfqlC3nYJOnbtAlMKDhV2S8zoWISrycYTK8CYI7RNalBIEgkAQCAJBYBkEIhaWQWkD14g1ZZFFaFM2BwHeBHG94oXFI8M4ZesQkNdiL3w5JUSCuPSdtp2ikBc7A4kNJxR4Woy9dSySYSsJV57VvEPl1rF9qXMQCAJBIAhsLQIRC1uLb54eBNYSATkMEi15cjYjXn4tQfj/Skt4JhbaLYvXtS2pdxAIAkEgCASBVRCIWFgFtdwTBIJAEAgCQSAIBIEgEAR2AAIRCzugk9PEIBAEgkAQCAJBIAgEgSCwCgIRC6uglnuCQBAIAkEgCASBIBAEgsAOQCBiYQd0cpoYBIJAEAgCQSAIBIEgEARWQSBiYRXUck8QCAJBIAgEgSAQBIJAENgBCEQs7IBOThODQBAIAkEgCASBIBAEgsAqCEQsrIJa7gkCQSAIBIEgEASCQBAIAjsAgYiFHdDJaWIQCAJBIAgEgSAQBIJAEFgFgYiFVVDLPUEgCASBIBAEgkAQCAJBYAcgELGwAzo5TQwCQSAIBIEgEASCQBAIAqsgELGwCmq5JwgEgSAQBIJAEAgCQSAI7AAEIhZ2QCeniUEgCASBIBAEgkAQCAJBYBUEIhZWQS33BIEgEASCQBAIAkEgCASBHYBAxMIO6OQ0MQgEgSAQBIJAEAgCQSAIrIJAxMIqqOWeIBAEgkAQCAJBIAgEgSCwAxCIWNgBnZwmBoEgEASCQBAIAkEgCASBVRCIWFgFtdwTBIJAEAgCQSAIBIEgEAR2AAIRCzugk9PEIBAEgkAQCAJBIAgEgSCwCgIRC6uglnuCQBAIAkEgCASBIBAEgsAOQCBiYQd0cpoYBIJAEAgCQSAIBIEgEARWQSBiYRXUck8QCAJBIAgEgSAQBIJAENgBCEQs7IBOThODQBAIAkEgCASBIBAEgsAqCEQsrIJa7gkCQSAIBIEgEASCQBAIAjsAgYiFHdDJaWIQCAJBIAgEgSAQBIJAEFgFgYiFVVDLPUEgCASBIBAEgkAQCAJBYAcgELGwAzo5TQwCQSAIBIEgEASCQBAIAqsgELGwCmq5JwgEgSAQBIJAEAgCQSAI7AAEIhZ2QCeniUEgCASBIBAEgkAQCAJBYBUEIhZWQS33BIEgEASCQBAIAkEgCASBHYBAxMIO6OQ0MQgEgSAQBIJAEAgCQSAIrILA/wHkklN9jPceowAAAABJRU5ErkJggg==)"
      ]
    },
    {
      "cell_type": "markdown",
      "id": "3f5dbd9e",
      "metadata": {
        "id": "3f5dbd9e"
      },
      "source": [
        "<!-- ![obraz.png](attachment:obraz.png) -->\n",
        "<!--<div>\n",
        "<img src=\"attachment:obraz.png\" width=\"550\"/>\n",
        "</div>\n-->",
        "\n",
        "Zwykła średnia nie będzie miarodajna ze względu na różną liczbę ocen, jakie dany film otrzymał."
      ]
    },
    {
      "cell_type": "markdown",
      "id": "9153bd91",
      "metadata": {
        "id": "9153bd91"
      },
      "source": [
        "#### Filmy najwyżej oceniane"
      ]
    },
    {
      "cell_type": "code",
      "execution_count": null,
      "id": "70bfdffa",
      "metadata": {
        "id": "70bfdffa",
        "outputId": "66aa0c47-26a1-4c3a-cc62-90d90081cb02"
      },
      "outputs": [
        {
          "data": {
            "text/html": [
              "<div>\n",
              "<style scoped>\n",
              "    .dataframe tbody tr th:only-of-type {\n",
              "        vertical-align: middle;\n",
              "    }\n",
              "\n",
              "    .dataframe tbody tr th {\n",
              "        vertical-align: top;\n",
              "    }\n",
              "\n",
              "    .dataframe thead th {\n",
              "        text-align: right;\n",
              "    }\n",
              "</style>\n",
              "<table border=\"1\" class=\"dataframe\">\n",
              "  <thead>\n",
              "    <tr style=\"text-align: right;\">\n",
              "      <th></th>\n",
              "      <th>count</th>\n",
              "      <th>mean</th>\n",
              "    </tr>\n",
              "    <tr>\n",
              "      <th>movieId</th>\n",
              "      <th></th>\n",
              "      <th></th>\n",
              "    </tr>\n",
              "  </thead>\n",
              "  <tbody>\n",
              "    <tr>\n",
              "      <th>1</th>\n",
              "      <td>215</td>\n",
              "      <td>3.920930</td>\n",
              "    </tr>\n",
              "    <tr>\n",
              "      <th>2</th>\n",
              "      <td>110</td>\n",
              "      <td>3.431818</td>\n",
              "    </tr>\n",
              "    <tr>\n",
              "      <th>3</th>\n",
              "      <td>52</td>\n",
              "      <td>3.259615</td>\n",
              "    </tr>\n",
              "    <tr>\n",
              "      <th>4</th>\n",
              "      <td>7</td>\n",
              "      <td>2.357143</td>\n",
              "    </tr>\n",
              "    <tr>\n",
              "      <th>5</th>\n",
              "      <td>49</td>\n",
              "      <td>3.071429</td>\n",
              "    </tr>\n",
              "    <tr>\n",
              "      <th>...</th>\n",
              "      <td>...</td>\n",
              "      <td>...</td>\n",
              "    </tr>\n",
              "    <tr>\n",
              "      <th>193581</th>\n",
              "      <td>1</td>\n",
              "      <td>4.000000</td>\n",
              "    </tr>\n",
              "    <tr>\n",
              "      <th>193583</th>\n",
              "      <td>1</td>\n",
              "      <td>3.500000</td>\n",
              "    </tr>\n",
              "    <tr>\n",
              "      <th>193585</th>\n",
              "      <td>1</td>\n",
              "      <td>3.500000</td>\n",
              "    </tr>\n",
              "    <tr>\n",
              "      <th>193587</th>\n",
              "      <td>1</td>\n",
              "      <td>3.500000</td>\n",
              "    </tr>\n",
              "    <tr>\n",
              "      <th>193609</th>\n",
              "      <td>1</td>\n",
              "      <td>4.000000</td>\n",
              "    </tr>\n",
              "  </tbody>\n",
              "</table>\n",
              "<p>9724 rows × 2 columns</p>\n",
              "</div>"
            ],
            "text/plain": [
              "         count      mean\n",
              "movieId                 \n",
              "1        215    3.920930\n",
              "2        110    3.431818\n",
              "3        52     3.259615\n",
              "4        7      2.357143\n",
              "5        49     3.071429\n",
              "...     ..           ...\n",
              "193581   1      4.000000\n",
              "193583   1      3.500000\n",
              "193585   1      3.500000\n",
              "193587   1      3.500000\n",
              "193609   1      4.000000\n",
              "\n",
              "[9724 rows x 2 columns]"
            ]
          },
          "execution_count": 47,
          "metadata": {},
          "output_type": "execute_result"
        }
      ],
      "source": [
        "# filmy najwyzej oceniane\n",
        "movie_stats = ratings.groupby('movieId')['rating'].agg(['count', 'mean'])\n",
        "movie_stats"
      ]
    },
    {
      "cell_type": "code",
      "execution_count": null,
      "id": "376c2f02",
      "metadata": {
        "id": "376c2f02",
        "outputId": "52e4deb5-7392-4997-ab3b-6bce91a19623"
      },
      "outputs": [
        {
          "name": "stdout",
          "output_type": "stream",
          "text": [
            "Najwyżej oceniane 3 filmy:\n",
            "                              title  bayesian_avg\n",
            "0  Shawshank Redemption, The (1994)  4.39        \n",
            "1  Godfather, The (1972)             4.24        \n",
            "2  Fight Club (1999)                 4.23        \n"
          ]
        }
      ],
      "source": [
        "C = movie_stats['count'].mean()\n",
        "m = movie_stats['mean'].mean()\n",
        "\n",
        "def bayesian_avg(ratings):\n",
        "    \"\"\"\n",
        "    Calculate the Bayesian average of a list of ratings.\n",
        "\n",
        "    Args:\n",
        "    - ratings: List of numerical ratings\n",
        "\n",
        "    Returns:\n",
        "    - Bayesian average of the ratings\n",
        "    \"\"\"\n",
        "\n",
        "    bayesian_avg = (C*m+ratings.sum())/(C+ratings.count())\n",
        "\n",
        "    return bayesian_avg\n",
        "\n",
        "\n",
        "# obliczanie średniej dla wszystkich filmów\n",
        "bayesian_avg_ratings = ratings.groupby('movieId')['rating'].agg(bayesian_avg).reset_index()\n",
        "bayesian_avg_ratings.columns = ['movieId', 'bayesian_avg']\n",
        "movie_stats = movie_stats.merge(bayesian_avg_ratings, on='movieId')\n",
        "\n",
        "top_rated_movies = movie_stats.sort_values(by='bayesian_avg', ascending=False).head(3)\n",
        "top_rated_titles = top_rated_movies.merge(movies[['movieId', 'title']], on='movieId')\n",
        "\n",
        "# wybranie kolumn 'title' i 'bayesian_avg'\n",
        "top_rated_titles = top_rated_titles[['title', 'bayesian_avg']]\n",
        "\n",
        "print(f'Najwyżej oceniane 3 filmy:\\n{top_rated_titles.round(2)}')"
      ]
    },
    {
      "cell_type": "markdown",
      "id": "f224bac4",
      "metadata": {
        "id": "f224bac4"
      },
      "source": [
        "   ***Najwyżej oceniane 3 filmy***\n",
        "   \n",
        "|             Title              | Bayesian Average |\n",
        "|--------------------------------|------------------|\n",
        "| Shawshank Redemption, The (1994) |       4.39       |\n",
        "|       Godfather, The (1972)      |       4.24       |\n",
        "|         Fight Club (1999)        |       4.23       |"
      ]
    },
    {
      "cell_type": "markdown",
      "id": "9d26816a",
      "metadata": {
        "id": "9d26816a"
      },
      "source": [
        "<img src=\"https://media.giphy.com/media/v1.Y2lkPTc5MGI3NjExY3RvOGtma3k0cDcyc3AzcXBpejJ4emFrc254ZWFkMGNxMmk4dGFtYiZlcD12MV9pbnRlcm5hbF9naWZfYnlfaWQmY3Q9Zw/z9EaObbaU7pS4zFl6d/giphy.gif\" width=\"350\" align=\"center\">\n"
      ]
    },
    {
      "cell_type": "code",
      "execution_count": null,
      "id": "72ad4d28",
      "metadata": {
        "id": "72ad4d28",
        "outputId": "1efc48cc-0ae4-4409-e118-29c6b17272c7"
      },
      "outputs": [
        {
          "name": "stdout",
          "output_type": "stream",
          "text": [
            "Najwyżej oceniane 3 filmy akcji:\n",
            "                                                   title  bayesian_avg\n",
            "0  Fight Club (1999)                                      4.19        \n",
            "1  Star Wars: Episode IV - A New Hope (1977)              4.16        \n",
            "2  Star Wars: Episode V - The Empire Strikes Back (1980)  4.13        \n"
          ]
        }
      ],
      "source": [
        "# srednia dla filmów akcji\n",
        "\n",
        "merged_data = pd.merge(ratings, movies, on='movieId')\n",
        "\n",
        "action_movies_ratings = merged_data[merged_data['Action'] == 1].groupby('movieId')['rating'].agg(['count', 'mean'])\n",
        "\n",
        "C = action_movies_ratings['count'].mean()\n",
        "m = action_movies_ratings['mean'].mean()\n",
        "\n",
        "bayesian_avg_ratings = ratings.groupby('movieId')['rating'].agg(bayesian_avg).reset_index()\n",
        "bayesian_avg_ratings.columns = ['movieId', 'bayesian_avg']\n",
        "movie_stats = action_movies_ratings.merge(bayesian_avg_ratings, on='movieId')\n",
        "movie_stats.describe()\n",
        "\n",
        "top_rated_movies = movie_stats.sort_values(by='bayesian_avg', ascending=False).head(3)\n",
        "top_rated_titles = top_rated_movies.merge(movies[['movieId', 'title']], on='movieId')\n",
        "\n",
        "top_rated_titles = top_rated_titles[['title', 'bayesian_avg']]\n",
        "\n",
        "print(f'Najwyżej oceniane 3 filmy akcji:\\n{top_rated_titles.round(2)}')"
      ]
    },
    {
      "cell_type": "markdown",
      "id": "37336f62",
      "metadata": {
        "id": "37336f62"
      },
      "source": [
        "***Najwyżej oceniane 3 filmy akcji***\n",
        "| Title | Bayesian Average |\n",
        "|-----------------------------|------------------|\n",
        "| Fight Club (1999) | 4.19 |\n",
        "| Star Wars: Episode IV - A New Hope (1977) | 4.16 |\n",
        "| Star Wars: Episode V - The Empire Strikes Back (1980) | 4.13 |"
      ]
    },
    {
      "cell_type": "markdown",
      "id": "7d5c0fb1",
      "metadata": {
        "id": "7d5c0fb1"
      },
      "source": [
        "## System rekomendacyjny\n",
        "\n",
        "[SVD](#SVD)\n",
        "<br>\n",
        "[kNNwithMeans](#kNNwithMeans)"
      ]
    },
    {
      "cell_type": "markdown",
      "id": "0f8e8e64",
      "metadata": {
        "id": "0f8e8e64"
      },
      "source": [
        "#### Zbuduj system na podstawie algorytmu SVD oraz kNNwithMeans"
      ]
    },
    {
      "cell_type": "markdown",
      "id": "82dd4c29",
      "metadata": {
        "id": "82dd4c29"
      },
      "source": [
        "##### Znajdź ID filmu po tytule"
      ]
    },
    {
      "cell_type": "code",
      "execution_count": null,
      "id": "20322dbf",
      "metadata": {
        "id": "20322dbf"
      },
      "outputs": [],
      "source": [
        "def get_movie_ids_by_title(title_partial, movies = movies):\n",
        "    \"\"\"\n",
        "    This function takes a partial movie title and a DataFrame containing movie titles and IDs,\n",
        "    and returns a DataFrame of all movies that contain the partial title in their full title.\n",
        "\n",
        "    Args:\n",
        "        title_partial (str): The partial movie title.\n",
        "        movies_df (DataFrame): A DataFrame containing 'movieId' and 'title' columns.\n",
        "\n",
        "    Returns:\n",
        "        DataFrame: A DataFrame containing the 'movieId' and 'title' of all movies that contain\n",
        "                   the partial title in their full title. If no such movie is found, returns an empty DataFrame.\n",
        "    \"\"\"\n",
        "    # Use the str.contains method to find rows where the title contains the partial title (case insensitive)\n",
        "    matching_movies = movies[movies['title'].str.contains(title_partial, case=False)]\n",
        "\n",
        "    # Return the matching_movies DataFrame\n",
        "    return matching_movies\n"
      ]
    },
    {
      "cell_type": "code",
      "execution_count": null,
      "id": "faaba8f0",
      "metadata": {
        "id": "faaba8f0",
        "outputId": "c942c33f-3702-49fd-a02e-2d76438f01d9"
      },
      "outputs": [
        {
          "data": {
            "text/html": [
              "<div>\n",
              "<style scoped>\n",
              "    .dataframe tbody tr th:only-of-type {\n",
              "        vertical-align: middle;\n",
              "    }\n",
              "\n",
              "    .dataframe tbody tr th {\n",
              "        vertical-align: top;\n",
              "    }\n",
              "\n",
              "    .dataframe thead th {\n",
              "        text-align: right;\n",
              "    }\n",
              "</style>\n",
              "<table border=\"1\" class=\"dataframe\">\n",
              "  <thead>\n",
              "    <tr style=\"text-align: right;\">\n",
              "      <th></th>\n",
              "      <th>movieId</th>\n",
              "      <th>title</th>\n",
              "      <th>genres</th>\n",
              "      <th>(no genres listed)</th>\n",
              "      <th>Action</th>\n",
              "      <th>Adventure</th>\n",
              "      <th>Animation</th>\n",
              "      <th>Children</th>\n",
              "      <th>Comedy</th>\n",
              "      <th>Crime</th>\n",
              "      <th>Documentary</th>\n",
              "      <th>Drama</th>\n",
              "      <th>Fantasy</th>\n",
              "      <th>Film-Noir</th>\n",
              "      <th>Horror</th>\n",
              "      <th>IMAX</th>\n",
              "      <th>Musical</th>\n",
              "      <th>Mystery</th>\n",
              "      <th>Romance</th>\n",
              "      <th>Sci-Fi</th>\n",
              "      <th>Thriller</th>\n",
              "      <th>War</th>\n",
              "      <th>Western</th>\n",
              "    </tr>\n",
              "  </thead>\n",
              "  <tbody>\n",
              "    <tr>\n",
              "      <th>0</th>\n",
              "      <td>1</td>\n",
              "      <td>Toy Story (1995)</td>\n",
              "      <td>Adventure|Animation|Children|Comedy|Fantasy</td>\n",
              "      <td>0</td>\n",
              "      <td>0</td>\n",
              "      <td>1</td>\n",
              "      <td>1</td>\n",
              "      <td>1</td>\n",
              "      <td>1</td>\n",
              "      <td>0</td>\n",
              "      <td>0</td>\n",
              "      <td>0</td>\n",
              "      <td>1</td>\n",
              "      <td>0</td>\n",
              "      <td>0</td>\n",
              "      <td>0</td>\n",
              "      <td>0</td>\n",
              "      <td>0</td>\n",
              "      <td>0</td>\n",
              "      <td>0</td>\n",
              "      <td>0</td>\n",
              "      <td>0</td>\n",
              "      <td>0</td>\n",
              "    </tr>\n",
              "    <tr>\n",
              "      <th>1492</th>\n",
              "      <td>2017</td>\n",
              "      <td>Babes in Toyland (1961)</td>\n",
              "      <td>Children|Fantasy|Musical</td>\n",
              "      <td>0</td>\n",
              "      <td>0</td>\n",
              "      <td>0</td>\n",
              "      <td>0</td>\n",
              "      <td>1</td>\n",
              "      <td>0</td>\n",
              "      <td>0</td>\n",
              "      <td>0</td>\n",
              "      <td>0</td>\n",
              "      <td>1</td>\n",
              "      <td>0</td>\n",
              "      <td>0</td>\n",
              "      <td>0</td>\n",
              "      <td>1</td>\n",
              "      <td>0</td>\n",
              "      <td>0</td>\n",
              "      <td>0</td>\n",
              "      <td>0</td>\n",
              "      <td>0</td>\n",
              "      <td>0</td>\n",
              "    </tr>\n",
              "    <tr>\n",
              "      <th>1674</th>\n",
              "      <td>2253</td>\n",
              "      <td>Toys (1992)</td>\n",
              "      <td>Comedy|Fantasy</td>\n",
              "      <td>0</td>\n",
              "      <td>0</td>\n",
              "      <td>0</td>\n",
              "      <td>0</td>\n",
              "      <td>0</td>\n",
              "      <td>1</td>\n",
              "      <td>0</td>\n",
              "      <td>0</td>\n",
              "      <td>0</td>\n",
              "      <td>1</td>\n",
              "      <td>0</td>\n",
              "      <td>0</td>\n",
              "      <td>0</td>\n",
              "      <td>0</td>\n",
              "      <td>0</td>\n",
              "      <td>0</td>\n",
              "      <td>0</td>\n",
              "      <td>0</td>\n",
              "      <td>0</td>\n",
              "      <td>0</td>\n",
              "    </tr>\n",
              "    <tr>\n",
              "      <th>2329</th>\n",
              "      <td>3086</td>\n",
              "      <td>Babes in Toyland (1934)</td>\n",
              "      <td>Children|Comedy|Fantasy|Musical</td>\n",
              "      <td>0</td>\n",
              "      <td>0</td>\n",
              "      <td>0</td>\n",
              "      <td>0</td>\n",
              "      <td>1</td>\n",
              "      <td>1</td>\n",
              "      <td>0</td>\n",
              "      <td>0</td>\n",
              "      <td>0</td>\n",
              "      <td>1</td>\n",
              "      <td>0</td>\n",
              "      <td>0</td>\n",
              "      <td>0</td>\n",
              "      <td>1</td>\n",
              "      <td>0</td>\n",
              "      <td>0</td>\n",
              "      <td>0</td>\n",
              "      <td>0</td>\n",
              "      <td>0</td>\n",
              "      <td>0</td>\n",
              "    </tr>\n",
              "    <tr>\n",
              "      <th>2355</th>\n",
              "      <td>3114</td>\n",
              "      <td>Toy Story 2 (1999)</td>\n",
              "      <td>Adventure|Animation|Children|Comedy|Fantasy</td>\n",
              "      <td>0</td>\n",
              "      <td>0</td>\n",
              "      <td>1</td>\n",
              "      <td>1</td>\n",
              "      <td>1</td>\n",
              "      <td>1</td>\n",
              "      <td>0</td>\n",
              "      <td>0</td>\n",
              "      <td>0</td>\n",
              "      <td>1</td>\n",
              "      <td>0</td>\n",
              "      <td>0</td>\n",
              "      <td>0</td>\n",
              "      <td>0</td>\n",
              "      <td>0</td>\n",
              "      <td>0</td>\n",
              "      <td>0</td>\n",
              "      <td>0</td>\n",
              "      <td>0</td>\n",
              "      <td>0</td>\n",
              "    </tr>\n",
              "    <tr>\n",
              "      <th>3595</th>\n",
              "      <td>4929</td>\n",
              "      <td>Toy, The (1982)</td>\n",
              "      <td>Comedy</td>\n",
              "      <td>0</td>\n",
              "      <td>0</td>\n",
              "      <td>0</td>\n",
              "      <td>0</td>\n",
              "      <td>0</td>\n",
              "      <td>1</td>\n",
              "      <td>0</td>\n",
              "      <td>0</td>\n",
              "      <td>0</td>\n",
              "      <td>0</td>\n",
              "      <td>0</td>\n",
              "      <td>0</td>\n",
              "      <td>0</td>\n",
              "      <td>0</td>\n",
              "      <td>0</td>\n",
              "      <td>0</td>\n",
              "      <td>0</td>\n",
              "      <td>0</td>\n",
              "      <td>0</td>\n",
              "      <td>0</td>\n",
              "    </tr>\n",
              "    <tr>\n",
              "      <th>4089</th>\n",
              "      <td>5843</td>\n",
              "      <td>Toy Soldiers (1991)</td>\n",
              "      <td>Action|Drama</td>\n",
              "      <td>0</td>\n",
              "      <td>1</td>\n",
              "      <td>0</td>\n",
              "      <td>0</td>\n",
              "      <td>0</td>\n",
              "      <td>0</td>\n",
              "      <td>0</td>\n",
              "      <td>0</td>\n",
              "      <td>1</td>\n",
              "      <td>0</td>\n",
              "      <td>0</td>\n",
              "      <td>0</td>\n",
              "      <td>0</td>\n",
              "      <td>0</td>\n",
              "      <td>0</td>\n",
              "      <td>0</td>\n",
              "      <td>0</td>\n",
              "      <td>0</td>\n",
              "      <td>0</td>\n",
              "      <td>0</td>\n",
              "    </tr>\n",
              "    <tr>\n",
              "      <th>7355</th>\n",
              "      <td>78499</td>\n",
              "      <td>Toy Story 3 (2010)</td>\n",
              "      <td>Adventure|Animation|Children|Comedy|Fantasy|IMAX</td>\n",
              "      <td>0</td>\n",
              "      <td>0</td>\n",
              "      <td>1</td>\n",
              "      <td>1</td>\n",
              "      <td>1</td>\n",
              "      <td>1</td>\n",
              "      <td>0</td>\n",
              "      <td>0</td>\n",
              "      <td>0</td>\n",
              "      <td>1</td>\n",
              "      <td>0</td>\n",
              "      <td>0</td>\n",
              "      <td>1</td>\n",
              "      <td>0</td>\n",
              "      <td>0</td>\n",
              "      <td>0</td>\n",
              "      <td>0</td>\n",
              "      <td>0</td>\n",
              "      <td>0</td>\n",
              "      <td>0</td>\n",
              "    </tr>\n",
              "  </tbody>\n",
              "</table>\n",
              "</div>"
            ],
            "text/plain": [
              "      movieId                    title                                            genres  (no genres listed)  Action  Adventure  Animation  Children  Comedy  Crime  Documentary  Drama  Fantasy  Film-Noir  Horror  IMAX  Musical  Mystery  Romance  Sci-Fi  Thriller  War  Western\n",
              "0     1        Toy Story (1995)         Adventure|Animation|Children|Comedy|Fantasy       0                   0       1          1          1         1       0      0            0      1        0          0       0     0        0        0        0       0         0    0      \n",
              "1492  2017     Babes in Toyland (1961)  Children|Fantasy|Musical                          0                   0       0          0          1         0       0      0            0      1        0          0       0     1        0        0        0       0         0    0      \n",
              "1674  2253     Toys (1992)              Comedy|Fantasy                                    0                   0       0          0          0         1       0      0            0      1        0          0       0     0        0        0        0       0         0    0      \n",
              "2329  3086     Babes in Toyland (1934)  Children|Comedy|Fantasy|Musical                   0                   0       0          0          1         1       0      0            0      1        0          0       0     1        0        0        0       0         0    0      \n",
              "2355  3114     Toy Story 2 (1999)       Adventure|Animation|Children|Comedy|Fantasy       0                   0       1          1          1         1       0      0            0      1        0          0       0     0        0        0        0       0         0    0      \n",
              "3595  4929     Toy, The (1982)          Comedy                                            0                   0       0          0          0         1       0      0            0      0        0          0       0     0        0        0        0       0         0    0      \n",
              "4089  5843     Toy Soldiers (1991)      Action|Drama                                      0                   1       0          0          0         0       0      0            1      0        0          0       0     0        0        0        0       0         0    0      \n",
              "7355  78499    Toy Story 3 (2010)       Adventure|Animation|Children|Comedy|Fantasy|IMAX  0                   0       1          1          1         1       0      0            0      1        0          0       1     0        0        0        0       0         0    0      "
            ]
          },
          "execution_count": 20,
          "metadata": {},
          "output_type": "execute_result"
        }
      ],
      "source": [
        "get_movie_ids_by_title(\"Toy\", movies)"
      ]
    },
    {
      "cell_type": "code",
      "execution_count": null,
      "id": "55887d19",
      "metadata": {
        "id": "55887d19",
        "outputId": "f6a5a951-5f51-483e-9aad-37acfcc0a8a8"
      },
      "outputs": [
        {
          "data": {
            "text/html": [
              "<div>\n",
              "<style scoped>\n",
              "    .dataframe tbody tr th:only-of-type {\n",
              "        vertical-align: middle;\n",
              "    }\n",
              "\n",
              "    .dataframe tbody tr th {\n",
              "        vertical-align: top;\n",
              "    }\n",
              "\n",
              "    .dataframe thead th {\n",
              "        text-align: right;\n",
              "    }\n",
              "</style>\n",
              "<table border=\"1\" class=\"dataframe\">\n",
              "  <thead>\n",
              "    <tr style=\"text-align: right;\">\n",
              "      <th></th>\n",
              "      <th>movieId</th>\n",
              "      <th>title</th>\n",
              "      <th>genres</th>\n",
              "      <th>(no genres listed)</th>\n",
              "      <th>Action</th>\n",
              "      <th>Adventure</th>\n",
              "      <th>Animation</th>\n",
              "      <th>Children</th>\n",
              "      <th>Comedy</th>\n",
              "      <th>Crime</th>\n",
              "      <th>Documentary</th>\n",
              "      <th>Drama</th>\n",
              "      <th>Fantasy</th>\n",
              "      <th>Film-Noir</th>\n",
              "      <th>Horror</th>\n",
              "      <th>IMAX</th>\n",
              "      <th>Musical</th>\n",
              "      <th>Mystery</th>\n",
              "      <th>Romance</th>\n",
              "      <th>Sci-Fi</th>\n",
              "      <th>Thriller</th>\n",
              "      <th>War</th>\n",
              "      <th>Western</th>\n",
              "    </tr>\n",
              "  </thead>\n",
              "  <tbody>\n",
              "    <tr>\n",
              "      <th>1</th>\n",
              "      <td>2</td>\n",
              "      <td>Jumanji (1995)</td>\n",
              "      <td>Adventure|Children|Fantasy</td>\n",
              "      <td>0</td>\n",
              "      <td>0</td>\n",
              "      <td>1</td>\n",
              "      <td>0</td>\n",
              "      <td>1</td>\n",
              "      <td>0</td>\n",
              "      <td>0</td>\n",
              "      <td>0</td>\n",
              "      <td>0</td>\n",
              "      <td>1</td>\n",
              "      <td>0</td>\n",
              "      <td>0</td>\n",
              "      <td>0</td>\n",
              "      <td>0</td>\n",
              "      <td>0</td>\n",
              "      <td>0</td>\n",
              "      <td>0</td>\n",
              "      <td>0</td>\n",
              "      <td>0</td>\n",
              "      <td>0</td>\n",
              "    </tr>\n",
              "    <tr>\n",
              "      <th>9636</th>\n",
              "      <td>179401</td>\n",
              "      <td>Jumanji: Welcome to the Jungle (2017)</td>\n",
              "      <td>Action|Adventure|Children</td>\n",
              "      <td>0</td>\n",
              "      <td>1</td>\n",
              "      <td>1</td>\n",
              "      <td>0</td>\n",
              "      <td>1</td>\n",
              "      <td>0</td>\n",
              "      <td>0</td>\n",
              "      <td>0</td>\n",
              "      <td>0</td>\n",
              "      <td>0</td>\n",
              "      <td>0</td>\n",
              "      <td>0</td>\n",
              "      <td>0</td>\n",
              "      <td>0</td>\n",
              "      <td>0</td>\n",
              "      <td>0</td>\n",
              "      <td>0</td>\n",
              "      <td>0</td>\n",
              "      <td>0</td>\n",
              "      <td>0</td>\n",
              "    </tr>\n",
              "  </tbody>\n",
              "</table>\n",
              "</div>"
            ],
            "text/plain": [
              "      movieId                                  title                      genres  (no genres listed)  Action  Adventure  Animation  Children  Comedy  Crime  Documentary  Drama  Fantasy  Film-Noir  Horror  IMAX  Musical  Mystery  Romance  Sci-Fi  Thriller  War  Western\n",
              "1     2        Jumanji (1995)                         Adventure|Children|Fantasy  0                   0       1          0          1         0       0      0            0      1        0          0       0     0        0        0        0       0         0    0      \n",
              "9636  179401   Jumanji: Welcome to the Jungle (2017)  Action|Adventure|Children   0                   1       1          0          1         0       0      0            0      0        0          0       0     0        0        0        0       0         0    0      "
            ]
          },
          "execution_count": 21,
          "metadata": {},
          "output_type": "execute_result"
        }
      ],
      "source": [
        "get_movie_ids_by_title(\"Jumanji\", movies)"
      ]
    },
    {
      "cell_type": "code",
      "execution_count": null,
      "id": "7b32e2a6",
      "metadata": {
        "id": "7b32e2a6",
        "outputId": "063794ac-54ce-4eb5-9c8c-a93d2e186af4"
      },
      "outputs": [
        {
          "data": {
            "text/html": [
              "<div>\n",
              "<style scoped>\n",
              "    .dataframe tbody tr th:only-of-type {\n",
              "        vertical-align: middle;\n",
              "    }\n",
              "\n",
              "    .dataframe tbody tr th {\n",
              "        vertical-align: top;\n",
              "    }\n",
              "\n",
              "    .dataframe thead th {\n",
              "        text-align: right;\n",
              "    }\n",
              "</style>\n",
              "<table border=\"1\" class=\"dataframe\">\n",
              "  <thead>\n",
              "    <tr style=\"text-align: right;\">\n",
              "      <th></th>\n",
              "      <th>movieId</th>\n",
              "      <th>title</th>\n",
              "      <th>genres</th>\n",
              "      <th>(no genres listed)</th>\n",
              "      <th>Action</th>\n",
              "      <th>Adventure</th>\n",
              "      <th>Animation</th>\n",
              "      <th>Children</th>\n",
              "      <th>Comedy</th>\n",
              "      <th>Crime</th>\n",
              "      <th>Documentary</th>\n",
              "      <th>Drama</th>\n",
              "      <th>Fantasy</th>\n",
              "      <th>Film-Noir</th>\n",
              "      <th>Horror</th>\n",
              "      <th>IMAX</th>\n",
              "      <th>Musical</th>\n",
              "      <th>Mystery</th>\n",
              "      <th>Romance</th>\n",
              "      <th>Sci-Fi</th>\n",
              "      <th>Thriller</th>\n",
              "      <th>War</th>\n",
              "      <th>Western</th>\n",
              "    </tr>\n",
              "  </thead>\n",
              "  <tbody>\n",
              "    <tr>\n",
              "      <th>313</th>\n",
              "      <td>355</td>\n",
              "      <td>Flintstones, The (1994)</td>\n",
              "      <td>Children|Comedy|Fantasy</td>\n",
              "      <td>0</td>\n",
              "      <td>0</td>\n",
              "      <td>0</td>\n",
              "      <td>0</td>\n",
              "      <td>1</td>\n",
              "      <td>1</td>\n",
              "      <td>0</td>\n",
              "      <td>0</td>\n",
              "      <td>0</td>\n",
              "      <td>1</td>\n",
              "      <td>0</td>\n",
              "      <td>0</td>\n",
              "      <td>0</td>\n",
              "      <td>0</td>\n",
              "      <td>0</td>\n",
              "      <td>0</td>\n",
              "      <td>0</td>\n",
              "      <td>0</td>\n",
              "      <td>0</td>\n",
              "      <td>0</td>\n",
              "    </tr>\n",
              "    <tr>\n",
              "      <th>2662</th>\n",
              "      <td>3564</td>\n",
              "      <td>Flintstones in Viva Rock Vegas, The (2000)</td>\n",
              "      <td>Children|Comedy</td>\n",
              "      <td>0</td>\n",
              "      <td>0</td>\n",
              "      <td>0</td>\n",
              "      <td>0</td>\n",
              "      <td>1</td>\n",
              "      <td>1</td>\n",
              "      <td>0</td>\n",
              "      <td>0</td>\n",
              "      <td>0</td>\n",
              "      <td>0</td>\n",
              "      <td>0</td>\n",
              "      <td>0</td>\n",
              "      <td>0</td>\n",
              "      <td>0</td>\n",
              "      <td>0</td>\n",
              "      <td>0</td>\n",
              "      <td>0</td>\n",
              "      <td>0</td>\n",
              "      <td>0</td>\n",
              "      <td>0</td>\n",
              "    </tr>\n",
              "    <tr>\n",
              "      <th>3909</th>\n",
              "      <td>5493</td>\n",
              "      <td>In Like Flint (1967)</td>\n",
              "      <td>Action|Adventure|Comedy</td>\n",
              "      <td>0</td>\n",
              "      <td>1</td>\n",
              "      <td>1</td>\n",
              "      <td>0</td>\n",
              "      <td>0</td>\n",
              "      <td>1</td>\n",
              "      <td>0</td>\n",
              "      <td>0</td>\n",
              "      <td>0</td>\n",
              "      <td>0</td>\n",
              "      <td>0</td>\n",
              "      <td>0</td>\n",
              "      <td>0</td>\n",
              "      <td>0</td>\n",
              "      <td>0</td>\n",
              "      <td>0</td>\n",
              "      <td>0</td>\n",
              "      <td>0</td>\n",
              "      <td>0</td>\n",
              "      <td>0</td>\n",
              "    </tr>\n",
              "    <tr>\n",
              "      <th>3910</th>\n",
              "      <td>5497</td>\n",
              "      <td>Our Man Flint (1965)</td>\n",
              "      <td>Adventure|Comedy|Sci-Fi</td>\n",
              "      <td>0</td>\n",
              "      <td>0</td>\n",
              "      <td>1</td>\n",
              "      <td>0</td>\n",
              "      <td>0</td>\n",
              "      <td>1</td>\n",
              "      <td>0</td>\n",
              "      <td>0</td>\n",
              "      <td>0</td>\n",
              "      <td>0</td>\n",
              "      <td>0</td>\n",
              "      <td>0</td>\n",
              "      <td>0</td>\n",
              "      <td>0</td>\n",
              "      <td>0</td>\n",
              "      <td>0</td>\n",
              "      <td>1</td>\n",
              "      <td>0</td>\n",
              "      <td>0</td>\n",
              "      <td>0</td>\n",
              "    </tr>\n",
              "    <tr>\n",
              "      <th>8717</th>\n",
              "      <td>126088</td>\n",
              "      <td>A Flintstones Christmas Carol (1994)</td>\n",
              "      <td>Animation|Children|Comedy</td>\n",
              "      <td>0</td>\n",
              "      <td>0</td>\n",
              "      <td>0</td>\n",
              "      <td>1</td>\n",
              "      <td>1</td>\n",
              "      <td>1</td>\n",
              "      <td>0</td>\n",
              "      <td>0</td>\n",
              "      <td>0</td>\n",
              "      <td>0</td>\n",
              "      <td>0</td>\n",
              "      <td>0</td>\n",
              "      <td>0</td>\n",
              "      <td>0</td>\n",
              "      <td>0</td>\n",
              "      <td>0</td>\n",
              "      <td>0</td>\n",
              "      <td>0</td>\n",
              "      <td>0</td>\n",
              "      <td>0</td>\n",
              "    </tr>\n",
              "    <tr>\n",
              "      <th>9739</th>\n",
              "      <td>193585</td>\n",
              "      <td>Flint (2017)</td>\n",
              "      <td>Drama</td>\n",
              "      <td>0</td>\n",
              "      <td>0</td>\n",
              "      <td>0</td>\n",
              "      <td>0</td>\n",
              "      <td>0</td>\n",
              "      <td>0</td>\n",
              "      <td>0</td>\n",
              "      <td>0</td>\n",
              "      <td>1</td>\n",
              "      <td>0</td>\n",
              "      <td>0</td>\n",
              "      <td>0</td>\n",
              "      <td>0</td>\n",
              "      <td>0</td>\n",
              "      <td>0</td>\n",
              "      <td>0</td>\n",
              "      <td>0</td>\n",
              "      <td>0</td>\n",
              "      <td>0</td>\n",
              "      <td>0</td>\n",
              "    </tr>\n",
              "  </tbody>\n",
              "</table>\n",
              "</div>"
            ],
            "text/plain": [
              "      movieId                                       title                     genres  (no genres listed)  Action  Adventure  Animation  Children  Comedy  Crime  Documentary  Drama  Fantasy  Film-Noir  Horror  IMAX  Musical  Mystery  Romance  Sci-Fi  Thriller  War  Western\n",
              "313   355      Flintstones, The (1994)                     Children|Comedy|Fantasy    0                   0       0          0          1         1       0      0            0      1        0          0       0     0        0        0        0       0         0    0      \n",
              "2662  3564     Flintstones in Viva Rock Vegas, The (2000)  Children|Comedy            0                   0       0          0          1         1       0      0            0      0        0          0       0     0        0        0        0       0         0    0      \n",
              "3909  5493     In Like Flint (1967)                        Action|Adventure|Comedy    0                   1       1          0          0         1       0      0            0      0        0          0       0     0        0        0        0       0         0    0      \n",
              "3910  5497     Our Man Flint (1965)                        Adventure|Comedy|Sci-Fi    0                   0       1          0          0         1       0      0            0      0        0          0       0     0        0        0        1       0         0    0      \n",
              "8717  126088   A Flintstones Christmas Carol (1994)        Animation|Children|Comedy  0                   0       0          1          1         1       0      0            0      0        0          0       0     0        0        0        0       0         0    0      \n",
              "9739  193585   Flint (2017)                                Drama                      0                   0       0          0          0         0       0      0            1      0        0          0       0     0        0        0        0       0         0    0      "
            ]
          },
          "execution_count": 22,
          "metadata": {},
          "output_type": "execute_result"
        }
      ],
      "source": [
        "get_movie_ids_by_title(\"Flint\", movies)"
      ]
    },
    {
      "cell_type": "markdown",
      "id": "ad16b282",
      "metadata": {
        "id": "ad16b282"
      },
      "source": [
        "##### Przegląd ocen i użytkowników"
      ]
    },
    {
      "cell_type": "code",
      "execution_count": null,
      "id": "bf67cc9f",
      "metadata": {
        "id": "bf67cc9f",
        "outputId": "019b5ed9-d9b4-47e9-a4a9-7a11eb6bcc5f"
      },
      "outputs": [
        {
          "data": {
            "text/plain": [
              "userId\n",
              "414    2698\n",
              "599    2478\n",
              "474    2108\n",
              "448    1864\n",
              "274    1346\n",
              "Name: rating, dtype: int64"
            ]
          },
          "execution_count": 23,
          "metadata": {},
          "output_type": "execute_result"
        }
      ],
      "source": [
        "# Liczba ocen wystawionych przez danego użytkownika\n",
        "\n",
        "n_rated_movies_per_user = ratings.groupby(by='userId')['rating'].count().sort_values(ascending=False)\n",
        "\n",
        "n_rated_movies_per_user.head()"
      ]
    },
    {
      "cell_type": "code",
      "execution_count": null,
      "id": "7aeec350",
      "metadata": {
        "id": "7aeec350",
        "outputId": "29729429-c3e5-44a6-c6e7-9cccb0fa6f5a"
      },
      "outputs": [
        {
          "data": {
            "text/html": [
              "<div>\n",
              "<style scoped>\n",
              "    .dataframe tbody tr th:only-of-type {\n",
              "        vertical-align: middle;\n",
              "    }\n",
              "\n",
              "    .dataframe tbody tr th {\n",
              "        vertical-align: top;\n",
              "    }\n",
              "\n",
              "    .dataframe thead th {\n",
              "        text-align: right;\n",
              "    }\n",
              "</style>\n",
              "<table border=\"1\" class=\"dataframe\">\n",
              "  <thead>\n",
              "    <tr style=\"text-align: right;\">\n",
              "      <th></th>\n",
              "      <th>userId</th>\n",
              "      <th>movieId</th>\n",
              "      <th>rating</th>\n",
              "    </tr>\n",
              "  </thead>\n",
              "  <tbody>\n",
              "    <tr>\n",
              "      <th>0</th>\n",
              "      <td>1</td>\n",
              "      <td>1</td>\n",
              "      <td>4.0</td>\n",
              "    </tr>\n",
              "    <tr>\n",
              "      <th>1</th>\n",
              "      <td>1</td>\n",
              "      <td>3</td>\n",
              "      <td>4.0</td>\n",
              "    </tr>\n",
              "    <tr>\n",
              "      <th>2</th>\n",
              "      <td>1</td>\n",
              "      <td>6</td>\n",
              "      <td>4.0</td>\n",
              "    </tr>\n",
              "    <tr>\n",
              "      <th>3</th>\n",
              "      <td>1</td>\n",
              "      <td>47</td>\n",
              "      <td>5.0</td>\n",
              "    </tr>\n",
              "    <tr>\n",
              "      <th>4</th>\n",
              "      <td>1</td>\n",
              "      <td>50</td>\n",
              "      <td>5.0</td>\n",
              "    </tr>\n",
              "  </tbody>\n",
              "</table>\n",
              "</div>"
            ],
            "text/plain": [
              "   userId  movieId  rating\n",
              "0  1       1        4.0   \n",
              "1  1       3        4.0   \n",
              "2  1       6        4.0   \n",
              "3  1       47       5.0   \n",
              "4  1       50       5.0   "
            ]
          },
          "execution_count": 24,
          "metadata": {},
          "output_type": "execute_result"
        }
      ],
      "source": [
        "# Usunięcie zbędnej kolumny\n",
        "ratings.drop(columns=['timestamp'], inplace=True)\n",
        "ratings.head()"
      ]
    },
    {
      "cell_type": "code",
      "execution_count": null,
      "id": "dd298432",
      "metadata": {
        "id": "dd298432",
        "outputId": "9d7b94f6-602d-4e03-c47c-6fa93445e335"
      },
      "outputs": [
        {
          "name": "stdout",
          "output_type": "stream",
          "text": [
            "\n",
            " Liczba ocenionych filmów przekracza 30 na użytkownika : 501\n",
            "\n"
          ]
        }
      ],
      "source": [
        "print('\\n Liczba ocenionych filmów przekracza 30 na użytkownika : {}\\n'.format(sum(n_rated_movies_per_user >= 30)) )\n"
      ]
    },
    {
      "cell_type": "code",
      "execution_count": null,
      "id": "7daac7ed",
      "metadata": {
        "id": "7daac7ed",
        "outputId": "96a38e85-fc46-4fd3-e99f-1331f4716527"
      },
      "outputs": [
        {
          "name": "stdout",
          "output_type": "stream",
          "text": [
            "\n",
            " Liczba ocenionych filmów nie przekracza 20 na użytkownika : 14\n",
            "\n"
          ]
        }
      ],
      "source": [
        "print('\\n Liczba ocenionych filmów nie przekracza 20 na użytkownika : {}\\n'.format(sum(n_rated_movies_per_user <= 20)) )\n"
      ]
    },
    {
      "cell_type": "code",
      "execution_count": null,
      "id": "16a6c800",
      "metadata": {
        "id": "16a6c800",
        "outputId": "249856b6-39e6-4edd-b2df-b141aa031473"
      },
      "outputs": [
        {
          "name": "stdout",
          "output_type": "stream",
          "text": [
            "Film ID: 356, Tytuł: Forrest Gump (1994), Liczba ocen: 329\n",
            "Film ID: 318, Tytuł: Shawshank Redemption, The (1994), Liczba ocen: 317\n",
            "Film ID: 296, Tytuł: Pulp Fiction (1994), Liczba ocen: 307\n",
            "Film ID: 593, Tytuł: Silence of the Lambs, The (1991), Liczba ocen: 279\n",
            "Film ID: 2571, Tytuł: Matrix, The (1999), Liczba ocen: 278\n"
          ]
        }
      ],
      "source": [
        "# sprawdzenie filmów z największą liczbą ocen\n",
        "top_movies = ratings.groupby('movieId')['rating'].count().sort_values(ascending=False).head()\n",
        "\n",
        "for movie_id, rating_count in top_movies.items():\n",
        "    movie_title = movies.loc[movies['movieId'] == movie_id, 'title'].iloc[0]\n",
        "    print(f\"Film ID: {movie_id}, Tytuł: {movie_title}, Liczba ocen: {rating_count}\")"
      ]
    },
    {
      "cell_type": "code",
      "execution_count": null,
      "id": "7ac6b6bb",
      "metadata": {
        "id": "7ac6b6bb",
        "outputId": "f08ab3b4-97fe-4c63-eedc-27909eef2621"
      },
      "outputs": [
        {
          "name": "stdout",
          "output_type": "stream",
          "text": [
            "Film ID: 193609, Tytuł: Andrew Dice Clay: Dice Rules (1991), Liczba ocen: 1\n",
            "Film ID: 4032, Tytuł: Everlasting Piece, An (2000), Liczba ocen: 1\n",
            "Film ID: 57526, Tytuł: Untraceable (2008), Liczba ocen: 1\n",
            "Film ID: 57522, Tytuł: First Sunday (2008), Liczba ocen: 1\n",
            "Film ID: 57502, Tytuł: Cat Soup (Nekojiru-so) (2001), Liczba ocen: 1\n"
          ]
        }
      ],
      "source": [
        "# filmy z najniższą liczbą ocen\n",
        "down_movies = ratings.groupby('movieId')['rating'].count().sort_values(ascending=True).head()\n",
        "down_movies\n",
        "for movie_id, rating_count in down_movies.items():\n",
        "    movie_title = movies.loc[movies['movieId'] == movie_id, 'title'].iloc[0]\n",
        "    print(f\"Film ID: {movie_id}, Tytuł: {movie_title}, Liczba ocen: {rating_count}\")\n"
      ]
    },
    {
      "cell_type": "code",
      "execution_count": null,
      "id": "a50322e8",
      "metadata": {
        "id": "a50322e8",
        "outputId": "d6f6ecd9-1391-4d14-c4b4-42131e15008b"
      },
      "outputs": [
        {
          "name": "stdout",
          "output_type": "stream",
          "text": [
            "Liczba filmów z 1 oceną: 3446\n",
            "Liczba filmów z 2 ocenami: 1298\n",
            "Liczba filmów z 3 ocenami: 800\n"
          ]
        }
      ],
      "source": [
        "# Zliczanie liczby ocen dla każdego filmu\n",
        "movie_ratings_counts = ratings['movieId'].value_counts()\n",
        "\n",
        "# Zliczanie filmów z 1,2 i 3 ocenami\n",
        "movies_with_one_rating = (movie_ratings_counts == 1).sum()\n",
        "movies_with_two_ratings = (movie_ratings_counts == 2).sum()\n",
        "movies_with_three_ratings = (movie_ratings_counts == 3).sum()\n",
        "\n",
        "print(f\"Liczba filmów z 1 oceną: {movies_with_one_rating}\")\n",
        "print(f\"Liczba filmów z 2 ocenami: {movies_with_two_ratings}\")\n",
        "print(f\"Liczba filmów z 3 ocenami: {movies_with_three_ratings}\")\n"
      ]
    },
    {
      "cell_type": "code",
      "execution_count": null,
      "id": "b2d7b6fd",
      "metadata": {
        "id": "b2d7b6fd",
        "outputId": "d1b083a1-ac6b-4d30-ebc4-891c52b6a799"
      },
      "outputs": [
        {
          "name": "stdout",
          "output_type": "stream",
          "text": [
            "3.417\n"
          ]
        }
      ],
      "source": [
        "print(((movies_with_one_rating/len(merged_data['movieId']))*100).round(3))"
      ]
    },
    {
      "cell_type": "markdown",
      "id": "a8812f82",
      "metadata": {
        "id": "a8812f82"
      },
      "source": [
        "Filmy z jedną oceną stanowią $3.42\\%$ całego zbioru.\n",
        "\n",
        "`SVD` jest w stanie poradzić sobie z tym, jednak mogą one wprowadzać 'szum'."
      ]
    },
    {
      "cell_type": "code",
      "execution_count": null,
      "id": "47b0e087",
      "metadata": {
        "id": "47b0e087",
        "outputId": "3ae0520e-dc97-4e6c-cbd9-2e3095590773"
      },
      "outputs": [
        {
          "name": "stdout",
          "output_type": "stream",
          "text": [
            "Powtarzające się tytuły filmów:\n",
            "                                       title\n",
            "650   Emma (1996)                           \n",
            "2141  Saturn 3 (1980)                       \n",
            "4169  Confessions of a Dangerous Mind (2002)\n",
            "5601  Emma (1996)                           \n",
            "5854  Eros (2004)                           \n",
            "5931  War of the Worlds (2005)              \n",
            "6932  War of the Worlds (2005)              \n",
            "9106  Confessions of a Dangerous Mind (2002)\n",
            "9135  Eros (2004)                           \n",
            "9468  Saturn 3 (1980)                       \n"
          ]
        }
      ],
      "source": [
        "# Sprawdzenie czy tytuły filmów się powtarzają\n",
        "duplicates = movies[movies.duplicated(subset=['title'], keep=False)]\n",
        "if duplicates.empty:\n",
        "    print(\"Nie ma powtarzających się tytułów filmów.\")\n",
        "else:\n",
        "    print(\"Powtarzające się tytuły filmów:\")\n",
        "    print(duplicates[['title']])\n"
      ]
    },
    {
      "cell_type": "code",
      "execution_count": null,
      "id": "b499069d",
      "metadata": {
        "id": "b499069d",
        "outputId": "4bbd6a63-6825-4f66-e317-f80afa99b2e5"
      },
      "outputs": [
        {
          "name": "stdout",
          "output_type": "stream",
          "text": [
            "Nie ma powtarzających się ID filmów.\n"
          ]
        }
      ],
      "source": [
        "# Sprawdzenie czy ID filmów się powtarzają\n",
        "duplicates_id = movies[movies.duplicated(subset=['movieId'], keep=False)]\n",
        "if duplicates_id.empty:\n",
        "    print(\"Nie ma powtarzających się ID filmów.\")\n",
        "else:\n",
        "    print(\"Powtarzające się ID filmów:\")\n",
        "    print(duplicates_id[['movieId']])\n"
      ]
    },
    {
      "cell_type": "markdown",
      "id": "d8b8058d",
      "metadata": {
        "id": "d8b8058d"
      },
      "source": [
        "Kilka filmów ma ten sam tytuł ale inne ID. Zostawiam powtarzające się tytuły."
      ]
    },
    {
      "cell_type": "markdown",
      "id": "a141c8cf",
      "metadata": {
        "id": "a141c8cf"
      },
      "source": [
        "## Cross-Validation"
      ]
    },
    {
      "cell_type": "markdown",
      "id": "97e04322",
      "metadata": {
        "id": "97e04322"
      },
      "source": [
        "##### Wstępne przygotowanie danych do biblioteki 'Surprise'"
      ]
    },
    {
      "cell_type": "code",
      "execution_count": null,
      "id": "8bc16d52",
      "metadata": {
        "id": "8bc16d52"
      },
      "outputs": [],
      "source": [
        "min_rating = ratings.rating.min()\n",
        "max_rating = ratings.rating.max()\n",
        "\n",
        "reader = Reader(rating_scale=(min_rating, max_rating))\n",
        "\n",
        "data = Dataset.load_from_df(ratings[['userId', 'movieId', 'rating']], reader)\n",
        "\n",
        "trainset = data.build_full_trainset()"
      ]
    },
    {
      "cell_type": "markdown",
      "id": "3af7a98a",
      "metadata": {
        "id": "3af7a98a"
      },
      "source": [
        "Domyślne parametry modeli:\n",
        "\n",
        "    SVD(n_factors=100, n_epochs=20, biased=True, init_mean=0, init_std_dev=0.1, lr_all=0.005, reg_all=0.02, lr_bu=None, lr_bi=None, lr_pu=None, lr_qi=None, reg_bu=None, reg_bi=None, reg_pu=None, reg_qi=None, random_state=None, verbose=False)\n",
        "    \n",
        "    \n",
        "    KNNWithMeans(k=40, min_k=1, sim_options={}, verbose=True, **kwargs)"
      ]
    },
    {
      "cell_type": "code",
      "execution_count": null,
      "id": "df4894d3",
      "metadata": {
        "id": "df4894d3",
        "outputId": "d23210ac-4a1d-4e73-bfcf-a269616721cb"
      },
      "outputs": [
        {
          "data": {
            "text/plain": [
              "<surprise.prediction_algorithms.matrix_factorization.SVD at 0x2050e96f0a0>"
            ]
          },
          "execution_count": 43,
          "metadata": {},
          "output_type": "execute_result"
        }
      ],
      "source": [
        "# train and fit SVD model\n",
        "svd = SVD()\n",
        "svd.fit(trainset)"
      ]
    },
    {
      "cell_type": "code",
      "execution_count": null,
      "id": "ed8cff04",
      "metadata": {
        "id": "ed8cff04",
        "outputId": "ccccfaf7-c6d0-4231-998c-349220f47a1a"
      },
      "outputs": [
        {
          "name": "stdout",
          "output_type": "stream",
          "text": [
            "Computing the msd similarity matrix...\n",
            "Done computing similarity matrix.\n"
          ]
        },
        {
          "data": {
            "text/plain": [
              "<surprise.prediction_algorithms.knns.KNNWithMeans at 0x20507988ee0>"
            ]
          },
          "execution_count": 37,
          "metadata": {},
          "output_type": "execute_result"
        }
      ],
      "source": [
        "# train and fit KNNWithMeans model\n",
        "kNNmean = KNNWithMeans()\n",
        "kNNmean.fit(trainset)"
      ]
    },
    {
      "cell_type": "code",
      "execution_count": null,
      "id": "85ce7333",
      "metadata": {
        "id": "85ce7333",
        "outputId": "2e180043-1abd-4cc2-fd65-faf717eb26f2"
      },
      "outputs": [
        {
          "name": "stdout",
          "output_type": "stream",
          "text": [
            "Computing the msd similarity matrix...\n",
            "Done computing similarity matrix.\n",
            "Computing the msd similarity matrix...\n",
            "Done computing similarity matrix.\n",
            "Computing the msd similarity matrix...\n",
            "Done computing similarity matrix.\n",
            "Computing the msd similarity matrix...\n",
            "Done computing similarity matrix.\n",
            "Computing the msd similarity matrix...\n",
            "Done computing similarity matrix.\n",
            "Computing the msd similarity matrix...\n",
            "Done computing similarity matrix.\n",
            "Computing the msd similarity matrix...\n",
            "Done computing similarity matrix.\n",
            "Computing the msd similarity matrix...\n",
            "Done computing similarity matrix.\n",
            "Computing the msd similarity matrix...\n",
            "Done computing similarity matrix.\n",
            "Computing the msd similarity matrix...\n",
            "Done computing similarity matrix.\n"
          ]
        },
        {
          "data": {
            "text/html": [
              "<div>\n",
              "<style scoped>\n",
              "    .dataframe tbody tr th:only-of-type {\n",
              "        vertical-align: middle;\n",
              "    }\n",
              "\n",
              "    .dataframe tbody tr th {\n",
              "        vertical-align: top;\n",
              "    }\n",
              "\n",
              "    .dataframe thead th {\n",
              "        text-align: right;\n",
              "    }\n",
              "</style>\n",
              "<table border=\"1\" class=\"dataframe\">\n",
              "  <thead>\n",
              "    <tr style=\"text-align: right;\">\n",
              "      <th></th>\n",
              "      <th>test_rmse</th>\n",
              "      <th>test_mae</th>\n",
              "      <th>fit_time</th>\n",
              "      <th>test_time</th>\n",
              "    </tr>\n",
              "    <tr>\n",
              "      <th>Algorithm</th>\n",
              "      <th></th>\n",
              "      <th></th>\n",
              "      <th></th>\n",
              "      <th></th>\n",
              "    </tr>\n",
              "  </thead>\n",
              "  <tbody>\n",
              "    <tr>\n",
              "      <th>SVD</th>\n",
              "      <td>0.868349</td>\n",
              "      <td>0.66638</td>\n",
              "      <td>1.446081</td>\n",
              "      <td>0.115279</td>\n",
              "    </tr>\n",
              "    <tr>\n",
              "      <th>KNNWithMeans</th>\n",
              "      <td>0.892419</td>\n",
              "      <td>0.68162</td>\n",
              "      <td>0.344927</td>\n",
              "      <td>0.961028</td>\n",
              "    </tr>\n",
              "  </tbody>\n",
              "</table>\n",
              "</div>"
            ],
            "text/plain": [
              "              test_rmse  test_mae  fit_time  test_time\n",
              "Algorithm                                             \n",
              "SVD           0.868349   0.66638   1.446081  0.115279 \n",
              "KNNWithMeans  0.892419   0.68162   0.344927  0.961028 "
            ]
          },
          "execution_count": 38,
          "metadata": {},
          "output_type": "execute_result"
        }
      ],
      "source": [
        "# Cross-Validation\n",
        "benchmark = []\n",
        "# iterate over all algorithms\n",
        "for algorithm in [svd, kNNmean]:\n",
        "\n",
        "    results = cross_validate(algorithm, data, measures=['RMSE', 'MAE'], cv=10, verbose=False)\n",
        "\n",
        "    # get results & create a new DF row\n",
        "    algorithm_name = str(algorithm).split(' ')[0].split('.')[-1]\n",
        "    tmp = pd.DataFrame.from_dict(results).mean(axis=0)\n",
        "    tmp['Algorithm'] = algorithm_name\n",
        "    benchmark.append(tmp)\n",
        "\n",
        "# create a DF from the benchmark list\n",
        "benchmark_df = pd.DataFrame(benchmark).set_index('Algorithm').sort_values('test_rmse')\n",
        "benchmark_df\n"
      ]
    },
    {
      "cell_type": "markdown",
      "id": "b18b1523",
      "metadata": {
        "id": "b18b1523"
      },
      "source": [
        "Na domyślnych parametrach lepszym wyborem jest model `SVD`."
      ]
    },
    {
      "cell_type": "markdown",
      "id": "f656495f",
      "metadata": {
        "id": "f656495f"
      },
      "source": [
        "#### Hiperparametryzacja"
      ]
    },
    {
      "cell_type": "code",
      "execution_count": null,
      "id": "f64387db",
      "metadata": {
        "id": "f64387db",
        "outputId": "f180f86b-0b30-48be-905b-a81768b5faee"
      },
      "outputs": [
        {
          "name": "stdout",
          "output_type": "stream",
          "text": [
            "MAE Best Score:       0.6813787949606299\n",
            "\n",
            "RMSE Best Score:      0.8985195878216619\n",
            "\n",
            "Best Parameters: {'k': 6, 'sim_options': {'name': 'pearson_baseline', 'user_based': False}}\n"
          ]
        }
      ],
      "source": [
        "# Hyperparameter tuning - KNNWithMeans\n",
        "param_grid = {\n",
        "    'k': [2, 3, 4, 5, 6],\n",
        "    'sim_options': {\n",
        "        'name': ['cosine', 'pearson', 'pearson_baseline'],\n",
        "        'user_based': [True, False],\n",
        "    }\n",
        "}\n",
        "\n",
        "\n",
        "grid_search_KNNWithMeans = GridSearchCV(KNNWithMeans, param_grid, measures=['mae', 'rmse'], \\\n",
        "                                      cv=10, n_jobs=-1)\n",
        "\n",
        "grid_search_KNNWithMeans.fit(data)\n",
        "\n",
        "print(f'MAE Best Score:       {grid_search_KNNWithMeans.best_score[\"mae\"]}\\n')\n",
        "print(f'RMSE Best Score:      {grid_search_KNNWithMeans.best_score[\"rmse\"]}\\n')\n",
        "print(f'Best Parameters: {grid_search_KNNWithMeans.best_params[\"rmse\"]}')\n"
      ]
    },
    {
      "cell_type": "code",
      "execution_count": null,
      "id": "e8da2b98",
      "metadata": {
        "id": "e8da2b98",
        "outputId": "28be110f-4d9a-4dc3-9a95-a563ef67c9ea"
      },
      "outputs": [
        {
          "name": "stdout",
          "output_type": "stream",
          "text": [
            "Best RMSE score: 0.848886435886724\n",
            "Best MAE score: 0.6503793898760627\n",
            "Best parameters: {'n_factors': 150, 'n_epochs': 30, 'lr_all': 0.008, 'reg_all': 0.06}\n"
          ]
        }
      ],
      "source": [
        "\n",
        "param_grid = {\n",
        "    'n_factors': [50, 100, 150],\n",
        "    'n_epochs': [10, 20, 30],\n",
        "    'lr_all': [0.002, 0.005, 0.008],\n",
        "    'reg_all': [0.02, 0.04, 0.06]\n",
        "}\n",
        "\n",
        "# Inicjalizacja modelu SVD\n",
        "svd = SVD()\n",
        "\n",
        "# Inicjalizacja grid search\n",
        "grid_search_SVD = GridSearchCV(SVD, param_grid, measures=['rmse', 'mae'], cv=10)\n",
        "\n",
        "# Przeszukiwanie siatki hiperparametrów\n",
        "grid_search_SVD.fit(data)\n",
        "\n",
        "# Wydrukowanie najlepszych wyników\n",
        "print(\"Best RMSE score:\", grid_search_SVD.best_score['rmse'])\n",
        "print(\"Best MAE score:\", grid_search_SVD.best_score['mae'])\n",
        "print(\"Best parameters:\", grid_search_SVD.best_params['rmse'])\n"
      ]
    },
    {
      "cell_type": "code",
      "execution_count": null,
      "id": "7a04a16a",
      "metadata": {
        "id": "7a04a16a"
      },
      "outputs": [],
      "source": [
        "params_knn = grid_search_KNNWithMeans.best_params['rmse']\n",
        "\n",
        "params_svd = grid_search_SVD.best_params['rmse']"
      ]
    },
    {
      "cell_type": "code",
      "execution_count": null,
      "id": "6fc533a9",
      "metadata": {
        "id": "6fc533a9",
        "outputId": "b9e8d79d-de52-4c87-b6f8-de2fa44f2498"
      },
      "outputs": [
        {
          "data": {
            "text/plain": [
              "{'k': 6, 'sim_options': {'name': 'pearson_baseline', 'user_based': False}}"
            ]
          },
          "execution_count": 59,
          "metadata": {},
          "output_type": "execute_result"
        }
      ],
      "source": [
        "params_knn"
      ]
    },
    {
      "cell_type": "code",
      "execution_count": null,
      "id": "7ab74e16",
      "metadata": {
        "id": "7ab74e16",
        "outputId": "65f0d48a-9247-4ca6-ba3f-a3f60b1d2665"
      },
      "outputs": [
        {
          "data": {
            "text/plain": [
              "{'n_factors': 150, 'n_epochs': 30, 'lr_all': 0.008, 'reg_all': 0.06}"
            ]
          },
          "execution_count": 48,
          "metadata": {},
          "output_type": "execute_result"
        }
      ],
      "source": [
        "params_svd"
      ]
    },
    {
      "cell_type": "markdown",
      "id": "6d50d85e",
      "metadata": {
        "id": "6d50d85e"
      },
      "source": [
        "#### Train and fit models with hyperparameters\n"
      ]
    },
    {
      "cell_type": "code",
      "execution_count": null,
      "id": "e11eec80",
      "metadata": {
        "id": "e11eec80",
        "outputId": "46f36c47-ef0b-47c6-fff9-b03c713250c2"
      },
      "outputs": [
        {
          "name": "stdout",
          "output_type": "stream",
          "text": [
            "Estimating biases using als...\n",
            "Computing the pearson_baseline similarity matrix...\n",
            "Done computing similarity matrix.\n"
          ]
        },
        {
          "data": {
            "text/plain": [
              "<surprise.prediction_algorithms.knns.KNNWithMeans at 0x230b0d33940>"
            ]
          },
          "execution_count": 57,
          "metadata": {},
          "output_type": "execute_result"
        }
      ],
      "source": [
        "# train and fit models with hyperparameters\n",
        "sim_options = {\n",
        "        \"k\": 6,\n",
        "        \"name\": \"pearson_baseline\",\n",
        "        \"user_based\": False,\n",
        "    }\n",
        "\n",
        "kNNmean = KNNWithMeans(sim_options=sim_options)\n",
        "kNNmean.fit(trainset)"
      ]
    },
    {
      "cell_type": "code",
      "execution_count": null,
      "id": "86bb03f5",
      "metadata": {
        "id": "86bb03f5",
        "outputId": "9c881ec5-fb69-4546-deca-713de0df2c65"
      },
      "outputs": [
        {
          "data": {
            "text/plain": [
              "<surprise.prediction_algorithms.matrix_factorization.SVD at 0x230b0d33550>"
            ]
          },
          "execution_count": 5,
          "metadata": {},
          "output_type": "execute_result"
        }
      ],
      "source": [
        "params_svd = {'n_factors': 150, 'n_epochs': 30, 'lr_all': 0.008, 'reg_all': 0.06}\n",
        "\n",
        "svd = SVD(n_factors=params_svd['n_factors'], n_epochs=params_svd['n_epochs'],\n",
        "          lr_all=params_svd['lr_all'], reg_all=params_svd['reg_all'])\n",
        "\n",
        "svd.fit(trainset)"
      ]
    },
    {
      "cell_type": "markdown",
      "id": "41ffc868",
      "metadata": {
        "id": "41ffc868"
      },
      "source": [
        "Po hiperparametryzacji również algorytm `SVD` uzyskał lepsze wyniki."
      ]
    },
    {
      "cell_type": "markdown",
      "id": "7a838ae0",
      "metadata": {
        "id": "7a838ae0"
      },
      "source": [
        "### SVD"
      ]
    },
    {
      "cell_type": "code",
      "execution_count": null,
      "id": "8182a3cf",
      "metadata": {
        "id": "8182a3cf"
      },
      "outputs": [],
      "source": [
        "# #USER-BASED\n",
        "# def get_recommendations_svd(ratings_df, movies_df, n, movie_id):\n",
        "#     \"\"\"\n",
        "#     Generates movie recommendations for users based on their ratings using the SVD algorithm.\n",
        "\n",
        "#     This function is user-focused. It takes a movie ID and recommends other movies that might be liked\n",
        "#     by users who rated the given movie highly.\n",
        "#     It does this by predicting ratings for all users for the given movie, selecting the users who\n",
        "#     have the highest predicted ratings, and then recommending other movies that these users have rated highly.\n",
        "\n",
        "#     Args:\n",
        "#         ratings_df: pandas DataFrame containing user ratings for movies, containing 'userId', 'movieId', 'rating' columns\n",
        "#         movies_df: pandas DataFrame containing information about movies, containing 'movieId', 'title' columns\n",
        "#         n: number of films to be recommended\n",
        "#         movie_id: identifier of the film for which recommendations are generated\n",
        "\n",
        "#     Returns:\n",
        "#         recommended_titles: List of titles of recommended films\n",
        "#     \"\"\"\n",
        "\n",
        "#     # Create a Surprise reader and load data\n",
        "#     reader = Reader(rating_scale=(0.5, 5))\n",
        "#     data = Dataset.load_from_df(ratings_df[['userId', 'movieId', 'rating']], reader)\n",
        "\n",
        "#     # Build the trainset\n",
        "#     trainset = data.build_full_trainset()\n",
        "\n",
        "#     # Initialize the SVD model\n",
        "#     model = SVD(random_state=0)\n",
        "\n",
        "#     # Fit the model to the data\n",
        "#     model.fit(trainset)\n",
        "\n",
        "#     # Get movie title and genres for the selected movie\n",
        "#     movie_info = movies_df[movies_df['movieId'] == movie_id]\n",
        "#     movie_title = movie_info['title'].values[0]\n",
        "#     movie_genres = movie_info['genres'].values[0]\n",
        "\n",
        "#     # Create a DataFrame with all user IDs and the given movie ID\n",
        "#     all_user_ids = ratings_df['userId'].unique()\n",
        "#     users_who_rated_movie = pd.DataFrame({\n",
        "#         'userId': all_user_ids,\n",
        "#         'movieId': [movie_id] * len(all_user_ids),\n",
        "#         'rating': [0] * len(all_user_ids)\n",
        "#     })\n",
        "\n",
        "#     # Predict ratings for users who have rated the given movie\n",
        "#     users_who_rated_movie['predicted_rating'] = users_who_rated_movie['userId'].apply(\n",
        "#         lambda x: model.predict(x, movie_id).est\n",
        "#     )\n",
        "\n",
        "#     # Sort users by predicted ratings\n",
        "#     recommended_users = users_who_rated_movie.sort_values(by='predicted_rating', ascending=False).head(n)\n",
        "\n",
        "#     # Get recommended movie titles (excluding the input movie)\n",
        "#     recommended_titles = ratings_df[\n",
        "#         (ratings_df['userId'].isin(recommended_users['userId'])) & (ratings_df['movieId'] != movie_id)\n",
        "#     ].merge(movies_df, on='movieId')['title'].unique()[:n]\n",
        "\n",
        "#     return recommended_titles\n"
      ]
    },
    {
      "cell_type": "code",
      "execution_count": null,
      "id": "27fdc838",
      "metadata": {
        "id": "27fdc838"
      },
      "outputs": [],
      "source": [
        "def get_similar_movies_svd(movie_id, n):\n",
        "\n",
        "    \"\"\"\n",
        "    Finds other movies that are similar to the given movie based on their latent factors in the SVD model.\n",
        "\n",
        "    This function is item-focused. It takes a movie ID and finds other movies that are similar to the given\n",
        "    movie based on their latent factors in the SVD model.\n",
        "    It computes the cosine similarity between the latent factors of the given movie and all other movies,\n",
        "    and returns the movies with the highest similarity scores.\n",
        "\n",
        "    Args:\n",
        "        movie_id: Identifier of the film for which similar movies are to be found\n",
        "        n: Number of similar films to be found\n",
        "\n",
        "    Returns:\n",
        "        recommended_titles: List of titles of recommended films\n",
        "    \"\"\"\n",
        "\n",
        "    trainset = data.build_full_trainset()\n",
        "\n",
        "    # get latent factors for the specified movie\n",
        "    movie_factors = svd.qi[svd.trainset.to_inner_iid(movie_id)]\n",
        "\n",
        "    # Compute cosine similarity between the specified movie and all other movies\n",
        "    similarities = cosine_similarity([movie_factors], svd.qi)\n",
        "\n",
        "    # Get indices of top similar movies\n",
        "    similar_movie_indices = np.argsort(similarities[0])[-n-1:-1][::-1]\n",
        "\n",
        "    # Construct a list of similar movies\n",
        "    similar_movies = []\n",
        "    for idx in similar_movie_indices:\n",
        "        similar_movie_id = svd.trainset.to_raw_iid(idx)\n",
        "        similar_movie_name = movies[movies['movieId'] == similar_movie_id]['title'].iloc[0]\n",
        "        similar_movies.append(similar_movie_name)\n",
        "\n",
        "    return similar_movies\n"
      ]
    },
    {
      "cell_type": "code",
      "execution_count": null,
      "id": "4946a104",
      "metadata": {
        "id": "4946a104",
        "outputId": "03d66027-2d7d-42a7-c05c-7fb804fb48d1"
      },
      "outputs": [
        {
          "name": "stdout",
          "output_type": "stream",
          "text": [
            "Because you watched Jumanji (1995) (Adventure, Children, Fantasy):\n",
            "\n",
            "* Casper (1995) (Adventure, Children)\n",
            "* Mrs. Doubtfire (1993) (Comedy, Drama)\n",
            "* Santa Clause, The (1994) (Comedy, Drama, Fantasy)\n",
            "* Hudsucker Proxy, The (1994) (Comedy)\n",
            "* Mask, The (1994) (Action, Comedy, Crime, Fantasy)\n",
            "* Mr. Holland's Opus (1995) (Drama)\n"
          ]
        }
      ],
      "source": [
        "# ITEM BASED\n",
        "# define which movie ID that we want to give recommendation\n",
        "movie_id = 2\n",
        "# how many similar movies return\n",
        "n = 6\n",
        "\n",
        "# get movie title and genres for the selected movie\n",
        "movie_info = movies[movies['movieId'] == movie_id]\n",
        "movie_title = movie_info['title'].values[0]\n",
        "movie_genres = movie_info['genres'].values[0]\n",
        "\n",
        "# get recommended titles\n",
        "recommended_titles = get_similar_movies_svd(movie_id, n)\n",
        "\n",
        "print(f'Because you watched {movie_title} ({\", \".join(movie_genres.split(\"|\"))}):\\n')\n",
        "for title in recommended_titles:\n",
        "    recommended_movie_info = movies[movies['title'] == title]\n",
        "    if not recommended_movie_info.empty:\n",
        "        recommended_genres = recommended_movie_info['genres'].values[0]\n",
        "        print(f'* {title} ({\", \".join(recommended_genres.split(\"|\"))})')\n",
        "    else:\n",
        "        print(f'* {title}')\n"
      ]
    },
    {
      "cell_type": "code",
      "execution_count": null,
      "id": "667cc282",
      "metadata": {
        "id": "667cc282",
        "outputId": "f60b225b-0838-4fe9-b392-0af20cb868a8"
      },
      "outputs": [
        {
          "name": "stdout",
          "output_type": "stream",
          "text": [
            "Because you watched Flint (2017) (Drama):\n",
            "\n",
            "* Fly, The (1986) (Drama, Horror, Sci-Fi, Thriller)\n",
            "* Glory Daze (1995) (Drama)\n",
            "* Extreme Days (2001) (Action, Adventure, Comedy, Drama)\n",
            "* Fur: An Imaginary Portrait of Diane Arbus (2006) (Drama, Fantasy, Romance)\n",
            "* Twilight Saga: Eclipse, The (2010) (Fantasy, Romance, Thriller, IMAX)\n",
            "* Phantasm III: Lord of the Dead (1994) (Horror)\n"
          ]
        }
      ],
      "source": [
        "# ITEM BASED\n",
        "# define which movie ID that we want to give recommendation\n",
        "movie_id = 193585\n",
        "# how many similar movies return\n",
        "n = 6\n",
        "\n",
        "# get movie title and genres for the selected movie\n",
        "movie_info = movies[movies['movieId'] == movie_id]\n",
        "movie_title = movie_info['title'].values[0]\n",
        "movie_genres = movie_info['genres'].values[0]\n",
        "\n",
        "# get recommended titles\n",
        "recommended_titles = get_similar_movies_svd(movie_id, n)\n",
        "\n",
        "print(f'Because you watched {movie_title} ({\", \".join(movie_genres.split(\"|\"))}):\\n')\n",
        "for title in recommended_titles:\n",
        "    recommended_movie_info = movies[movies['title'] == title]\n",
        "    if not recommended_movie_info.empty:\n",
        "        recommended_genres = recommended_movie_info['genres'].values[0]\n",
        "        print(f'* {title} ({\", \".join(recommended_genres.split(\"|\"))})')\n",
        "    else:\n",
        "        print(f'* {title}')\n"
      ]
    },
    {
      "cell_type": "markdown",
      "id": "e37f1c9b",
      "metadata": {
        "id": "e37f1c9b"
      },
      "source": [
        "### kNNwithMeans"
      ]
    },
    {
      "cell_type": "markdown",
      "id": "b6ca4227",
      "metadata": {
        "id": "b6ca4227"
      },
      "source": [
        "Przy tworzeniu modelu trzeba parametry podać w ten sposób:\n",
        "\n",
        "    sim_options = {\n",
        "            \"k\": 6,\n",
        "            \"name\": \"pearson_baseline\",\n",
        "            \"user_based\": False,  \n",
        "        }\n",
        "\n",
        "    kNNmean = KNNWithMeans(sim_options=sim_options)\n",
        "    kNNmean.fit(trainset)\n",
        "\n",
        "Inaczej wyrzuca błąd  `index xxxx is out of bounds for axis 0 with size 610`\n"
      ]
    },
    {
      "cell_type": "code",
      "execution_count": null,
      "id": "18fd3681",
      "metadata": {
        "id": "18fd3681"
      },
      "outputs": [],
      "source": [
        "def recommend_movies_knn(movie_id, n_neighbors):\n",
        "\n",
        "    '''\n",
        "    Function to recommend movies based on kNN algorithm with averages.\n",
        "\n",
        "    Args:\n",
        "        movie_id: ID of the movie for which we want to find similar movies\n",
        "        n_neighbors: The number of movies to recommend\n",
        "\n",
        "    Returns:\n",
        "        Message: List of movie recommendations based on similarity to the reference movie.\n",
        "    '''\n",
        "\n",
        "    # Konwersja raw_id na inner_id\n",
        "    inner_id = kNNmean.trainset.to_inner_iid(movie_id)\n",
        "\n",
        "    # Znalezienie najbliższych sąsiadów filmu\n",
        "    neighbors = kNNmean.get_neighbors(inner_id, k=n_neighbors)\n",
        "\n",
        "    # Wypisanie tytułów n najbliższych sąsiadów\n",
        "    movie_info = movies[movies['movieId'] == movie_id]\n",
        "    movie_title = movie_info['title'].values[0]\n",
        "    movie_genres = movie_info['genres'].values[0]\n",
        "\n",
        "    print(f'Because you watched {movie_title} ({\", \".join(movie_genres.split(\"|\"))}):\\n')\n",
        "    for neighbor in neighbors:\n",
        "        recommended_movie_info = movies[movies['movieId'] == kNNmean.trainset.to_raw_iid(neighbor)]\n",
        "        if not recommended_movie_info.empty:\n",
        "            recommended_title = recommended_movie_info['title'].values[0]\n",
        "            recommended_genres = recommended_movie_info['genres'].values[0]\n",
        "            print(f'* {recommended_title} ({\", \".join(recommended_genres.split(\"|\"))})')\n",
        "        else:\n",
        "            print(f'* {recommended_title}')\n"
      ]
    },
    {
      "cell_type": "code",
      "execution_count": null,
      "id": "7a00ae84",
      "metadata": {
        "id": "7a00ae84",
        "outputId": "160a24d7-8cf0-4e36-a126-04a9806e0d9d"
      },
      "outputs": [
        {
          "name": "stdout",
          "output_type": "stream",
          "text": [
            "Because you watched Jumanji (1995) (Adventure, Children, Fantasy):\n",
            "\n",
            "* Mrs. Doubtfire (1993) (Comedy, Drama)\n",
            "* Mask, The (1994) (Action, Comedy, Crime, Fantasy)\n",
            "* Back to the Future (1985) (Adventure, Comedy, Sci-Fi)\n",
            "* Liar Liar (1997) (Comedy)\n",
            "* True Lies (1994) (Action, Adventure, Comedy, Romance, Thriller)\n",
            "* Casper (1995) (Adventure, Children)\n"
          ]
        }
      ],
      "source": [
        "# Jumanji\n",
        "recommend_movies_knn(2, 6)"
      ]
    },
    {
      "cell_type": "code",
      "execution_count": null,
      "id": "928acfe1",
      "metadata": {
        "id": "928acfe1",
        "outputId": "b8d7fd0e-e1c7-4568-9358-d9b80acb4296"
      },
      "outputs": [
        {
          "name": "stdout",
          "output_type": "stream",
          "text": [
            "Because you watched Flint (2017) (Drama):\n",
            "\n",
            "* Toy Story (1995) (Adventure, Animation, Children, Comedy, Fantasy)\n",
            "* Grumpier Old Men (1995) (Comedy, Romance)\n",
            "* Heat (1995) (Action, Crime, Thriller)\n",
            "* Seven (a.k.a. Se7en) (1995) (Mystery, Thriller)\n",
            "* Usual Suspects, The (1995) (Crime, Mystery, Thriller)\n",
            "* From Dusk Till Dawn (1996) (Action, Comedy, Horror, Thriller)\n"
          ]
        }
      ],
      "source": [
        "# Flint\n",
        "recommend_movies_knn(193585, 6)"
      ]
    },
    {
      "cell_type": "markdown",
      "id": "476fb862",
      "metadata": {
        "id": "476fb862"
      },
      "source": [
        "# Rekomendacje"
      ]
    },
    {
      "cell_type": "markdown",
      "id": "210f30a2",
      "metadata": {
        "id": "210f30a2"
      },
      "source": [
        "### SVD\n",
        "\n",
        "| Rekomendacje dla Jumanji (1995) (Adventure, Children, Fantasy): | |\n",
        "|---|---|\n",
        "| Casper (1995) | Adventure, Children |\n",
        "| Mrs. Doubtfire (1993) | Comedy, Drama |\n",
        "| Santa Clause, The (1994) | Comedy, Drama, Fantasy |\n",
        "| Hudsucker Proxy, The (1994) | Comedy |\n",
        "| Mask, The (1994) | Action, Comedy, Crime, Fantasy |\n",
        "| Mr. Holland's Opus (1995) | Drama |\n",
        "\n",
        "\n",
        "| Rekomendacje dla Flint (2017) (Drama): | |\n",
        "|---|---|\n",
        "| Fly, The (1986)| Drama, Horror, Sci-Fi, Thriller |\n",
        "| Glory Daze (1995) | Drama |\n",
        "| Extreme Days (2001) | Action, Adventure, Comedy, Drama |\n",
        "| Fur: An Imaginary Portrait of Diane Arbus (2006) | Drama, Fantasy, Romance |\n",
        "| Twilight Saga: Eclipse, The (2010) | Fantasy, Romance, Thriller, IMAX |\n",
        "| Phantasm III: Lord of the Dead (1994) | Horror |\n",
        "\n",
        "\n"
      ]
    },
    {
      "cell_type": "markdown",
      "id": "0b0b784e",
      "metadata": {
        "id": "0b0b784e"
      },
      "source": [
        "### kNNWithMeans\n",
        "\n",
        "| Rekomendacje dla Jumanji (1995) (Adventure, Children, Fantasy): \t | |\n",
        "|---|---|\n",
        "| Mrs. Doubtfire (1993) | Comedy, Drama |\n",
        "| Mask, The (1994) | Action, Comedy, Crime, Fantasy |\n",
        "| Back to the Future (1985) | Adventure, Comedy, Sci-Fi |\n",
        "| Liar Liar (1997) | Comedy |\n",
        "| True Lies (1994) | Action, Adventure, Comedy, Romance, Thriller |\n",
        "| Casper (1995) | Adventure, Children |\n",
        "\n",
        "\n",
        "\n",
        "| Rekomendacje dla Flint (2017) (Drama): | |\n",
        "|---|---|\n",
        "| Toy Story (1995) | Adventure, Animation, Children, Comedy, Fantasy |\n",
        "| Grumpier Old Men (1995) | Comedy, Romance |\n",
        "| Heat (1995) | Action, Crime, Thriller |\n",
        "| Seven (a.k.a. Se7en) (1995) | Mystery, Thriller |\n",
        "| Usual Suspects, The (1995) | Crime, Mystery, Thriller |\n",
        "| From Dusk Till Dawn (1996) | Action, Comedy, Horror, Thriller |\n"
      ]
    },
    {
      "cell_type": "markdown",
      "id": "6a2b118d",
      "metadata": {
        "id": "6a2b118d"
      },
      "source": [
        "## Różnica między kNNWithMeans a standardowym kNN"
      ]
    },
    {
      "cell_type": "markdown",
      "id": "3ae241c0",
      "metadata": {
        "id": "3ae241c0"
      },
      "source": [
        "#### *Czym różni się algorytm kNN with means od standardowego kNN?*"
      ]
    },
    {
      "cell_type": "markdown",
      "id": "5475ec3a",
      "metadata": {
        "id": "5475ec3a"
      },
      "source": [
        "**Standardowy kNN:** Standardowy algorytm kNN klasyfikuje nowy punkt danych na podstawie etykiety klasy większościowej jego k najbliższych sąsiadów w szkoleniowym zbiorze danych. Wykorzystuje metrykę odległości do pomiaru podobieństwa między nowym punktem danych a istniejącymi punktami danych. Wartość k jest hiperparametrem, który możemy wybrać na podstawie charakterystyki danych i danego problemu\n",
        "\n",
        "**kNN ze średnimi:** Jest to odmiana algorytmu kNN często używanego w filtrowaniu kolaboracyjnym w systemach rekomendacji. Kluczową różnicą jest to, że uwzględnia on średnią ocenę każdego użytkownika (lub elementu) podczas dokonywania prognozy. Pomaga to skorygować użytkowników, którzy zawsze wystawiają wysokie lub niskie oceny. Na przykład, jeśli użytkownik ma tendencję do surowego oceniania filmów, 4-gwiazdkowa ocena od niego może być równoważna 5-gwiazdkowej ocenie od bardziej łagodnego użytkownika. Odejmując średnią ocenę użytkownika przed dokonaniem prognozy, a następnie dodając ją z powrotem, algorytm kNN ze średnimi może tworzyć dokładniejsze rekomendacje.\n",
        "\n",
        "**Podsumowując** , podczas gdy oba algorytmy opierają się na koncepcji znajdowania \"sąsiadów\" w danych, standardowy algorytm kNN jest zwykle używany do zadań klasyfikacji lub regresji, podczas gdy kNN ze średnimi jest często używany w systemach rekomendacji w celu uwzględnienia stronniczości użytkownika.\n",
        "\n"
      ]
    }
  ],
  "metadata": {
    "kernelspec": {
      "display_name": "Python 3 (ipykernel)",
      "language": "python",
      "name": "python3"
    },
    "language_info": {
      "codemirror_mode": {
        "name": "ipython",
        "version": 3
      },
      "file_extension": ".py",
      "mimetype": "text/x-python",
      "name": "python",
      "nbconvert_exporter": "python",
      "pygments_lexer": "ipython3",
      "version": "3.10.11"
    },
    "colab": {
      "provenance": [],
      "include_colab_link": true
    }
  },
  "nbformat": 4,
  "nbformat_minor": 5
}
