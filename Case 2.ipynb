{
 "cells": [
  {
   "cell_type": "markdown",
   "id": "553520f7",
   "metadata": {},
   "source": [
    "## Case 2 - movie recommender system"
   ]
  },
  {
   "cell_type": "markdown",
   "id": "5c661c65",
   "metadata": {},
   "source": [
    "1. Przegląd danych:\n",
    "\n",
    "   * Podaj liczbę filmów Sci-Fi\n",
    "   * Pokaż rozkład ocen komedii\n",
    "   * Podaj średnią ocen wszystkich filmów akcji oraz 3 filmy najwyżej ocenianych\n",
    "\n",
    "\n",
    "\n",
    "\n",
    "\n",
    "2. System rekomendacyjny\n",
    "\n",
    "   * Zbuduj system na podstawie algorytmu SVD oraz kNNwithMeans\n",
    "   * Czym różni się algorytm kNN with means od standardowego kNN?\n",
    "   * Wykorzystaj metodę hiperparametryzacji GridSearch do wyboru liczby sąsiadów od 2-6\n",
    "   * W ocenie metod wykorzystaj walidację krzyżową\n",
    "\n",
    "3. Podaj rekomendacje po obejrzeniu filmu: Jumanji  oraz Flint"
   ]
  },
  {
   "cell_type": "markdown",
   "id": "e79af605",
   "metadata": {},
   "source": [
    "\n",
    "**[Ogólny przegląd danych](#Ogólny-przegląd-danych)**\n",
    "<br>\n",
    "  *  [1. Liczba filmów Sci-Fi](#1.-Liczba-filmów-Sci-Fi)\n",
    "<br>\n",
    "  *  [2. Pokaż rozkład ocen komedii](#2.-Pokaż-rozkład-ocen-komedii)\n",
    "<br>\n",
    "  *  [3. Podaj średnią ocen wszystkich filmów akcji oraz 3 filmy najwyżej ocenianych](#3.-Podaj-średnią-ocen-wszystkich-filmów-akcji-oraz-3-filmy-najwyżej-ocenianych)\n",
    "<br>\n",
    "\n",
    "**[System rekomendacyjny](#System-rekomendacyjny)**\n",
    " <br>\n",
    "  * [Znajdź ID filmu po tytule](#Znajdź-ID-filmu-po-tytule)\n",
    " <br>\n",
    "  * [Cross-Validation](#Cross-Validation)\n",
    " <br>\n",
    "  * [Hiperparametryzacja](#Hiperparametryzacja)\n",
    " <br>\n",
    "  * [SVD](#SVD)\n",
    " <br>\n",
    "  * [kNNwithMeans](#kNNwithMeans)\n",
    " <br>\n",
    "  * [Różnica między kNNWithMeans a standardowym kNN](#Różnica-między-kNNWithMeans-a-standardowym-kNN)\n",
    "  <br>\n",
    "  * [Podsumowanie](#Podsumowanie)\n"
   ]
  },
  {
   "cell_type": "markdown",
   "id": "8b4ea7c6",
   "metadata": {},
   "source": [
    "## Biblioteki"
   ]
  },
  {
   "cell_type": "code",
   "execution_count": 1,
   "id": "f3c32bb5",
   "metadata": {},
   "outputs": [],
   "source": [
    "import pandas as pd\n",
    "import matplotlib.pyplot as plt\n",
    "import seaborn as sns\n",
    "import numpy as np\n",
    "\n",
    "from surprise.model_selection import cross_validate, GridSearchCV, train_test_split\n",
    "from surprise.prediction_algorithms import SVD, KNNWithMeans\n",
    "from surprise.dataset import DatasetAutoFolds\n",
    "from surprise import (\n",
    "    Dataset,\n",
    "    Reader,\n",
    "    accuracy,\n",
    ")\n",
    "\n",
    "from sklearn.metrics.pairwise import cosine_similarity\n",
    "\n",
    "\n",
    "from scipy.sparse import csr_matrix\n",
    "from sklearn.neighbors import NearestNeighbors\n",
    "\n",
    "pd.set_option('display.max_colwidth', None) #  show full title\n",
    "pd.set_option('display.max_columns', None)  # display any number of columns\n",
    "pd.set_option('display.expand_frame_repr', False)  # prevent line breaking\n",
    "pd.set_option('max_colwidth', 1)  # display full column content"
   ]
  },
  {
   "cell_type": "code",
   "execution_count": 2,
   "id": "47ab97d6",
   "metadata": {},
   "outputs": [],
   "source": [
    "ratings = pd.read_csv('https://s3-us-west-2.amazonaws.com/recommender-tutorial/ratings.csv')\n",
    "movies = pd.read_csv('https://s3-us-west-2.amazonaws.com/recommender-tutorial/movies.csv')"
   ]
  },
  {
   "cell_type": "markdown",
   "id": "c1f18723",
   "metadata": {},
   "source": [
    "### Ogólny przegląd danych"
   ]
  },
  {
   "cell_type": "code",
   "execution_count": 3,
   "id": "a1b180db",
   "metadata": {},
   "outputs": [
    {
     "name": "stdout",
     "output_type": "stream",
     "text": [
      "\n",
      "Całkowita liczba ocen : 100836\n",
      "Całkowita liczba użytkowników   : 610\n",
      "Całkowita liczba filmów  : 9742\n"
     ]
    }
   ],
   "source": [
    "print(\"\\nCałkowita liczba ocen :\",ratings.shape[0])\n",
    "print(\"Całkowita liczba użytkowników   :\", len(np.unique(ratings.userId)))\n",
    "print(\"Całkowita liczba filmów  :\", len(np.unique(movies.movieId)))"
   ]
  },
  {
   "cell_type": "code",
   "execution_count": 4,
   "id": "bd716cb3",
   "metadata": {},
   "outputs": [
    {
     "data": {
      "text/html": [
       "<div>\n",
       "<style scoped>\n",
       "    .dataframe tbody tr th:only-of-type {\n",
       "        vertical-align: middle;\n",
       "    }\n",
       "\n",
       "    .dataframe tbody tr th {\n",
       "        vertical-align: top;\n",
       "    }\n",
       "\n",
       "    .dataframe thead th {\n",
       "        text-align: right;\n",
       "    }\n",
       "</style>\n",
       "<table border=\"1\" class=\"dataframe\">\n",
       "  <thead>\n",
       "    <tr style=\"text-align: right;\">\n",
       "      <th></th>\n",
       "      <th>userId</th>\n",
       "      <th>movieId</th>\n",
       "      <th>rating</th>\n",
       "      <th>timestamp</th>\n",
       "    </tr>\n",
       "  </thead>\n",
       "  <tbody>\n",
       "    <tr>\n",
       "      <th>0</th>\n",
       "      <td>1</td>\n",
       "      <td>1</td>\n",
       "      <td>4.0</td>\n",
       "      <td>964982703</td>\n",
       "    </tr>\n",
       "    <tr>\n",
       "      <th>1</th>\n",
       "      <td>1</td>\n",
       "      <td>3</td>\n",
       "      <td>4.0</td>\n",
       "      <td>964981247</td>\n",
       "    </tr>\n",
       "    <tr>\n",
       "      <th>2</th>\n",
       "      <td>1</td>\n",
       "      <td>6</td>\n",
       "      <td>4.0</td>\n",
       "      <td>964982224</td>\n",
       "    </tr>\n",
       "    <tr>\n",
       "      <th>3</th>\n",
       "      <td>1</td>\n",
       "      <td>47</td>\n",
       "      <td>5.0</td>\n",
       "      <td>964983815</td>\n",
       "    </tr>\n",
       "    <tr>\n",
       "      <th>4</th>\n",
       "      <td>1</td>\n",
       "      <td>50</td>\n",
       "      <td>5.0</td>\n",
       "      <td>964982931</td>\n",
       "    </tr>\n",
       "  </tbody>\n",
       "</table>\n",
       "</div>"
      ],
      "text/plain": [
       "   userId  movieId  rating  timestamp\n",
       "0  1       1        4.0     964982703\n",
       "1  1       3        4.0     964981247\n",
       "2  1       6        4.0     964982224\n",
       "3  1       47       5.0     964983815\n",
       "4  1       50       5.0     964982931"
      ]
     },
     "execution_count": 4,
     "metadata": {},
     "output_type": "execute_result"
    }
   ],
   "source": [
    "ratings.head()"
   ]
  },
  {
   "cell_type": "code",
   "execution_count": 5,
   "id": "a1887974",
   "metadata": {},
   "outputs": [
    {
     "data": {
      "text/html": [
       "<div>\n",
       "<style scoped>\n",
       "    .dataframe tbody tr th:only-of-type {\n",
       "        vertical-align: middle;\n",
       "    }\n",
       "\n",
       "    .dataframe tbody tr th {\n",
       "        vertical-align: top;\n",
       "    }\n",
       "\n",
       "    .dataframe thead th {\n",
       "        text-align: right;\n",
       "    }\n",
       "</style>\n",
       "<table border=\"1\" class=\"dataframe\">\n",
       "  <thead>\n",
       "    <tr style=\"text-align: right;\">\n",
       "      <th></th>\n",
       "      <th>movieId</th>\n",
       "      <th>title</th>\n",
       "      <th>genres</th>\n",
       "    </tr>\n",
       "  </thead>\n",
       "  <tbody>\n",
       "    <tr>\n",
       "      <th>0</th>\n",
       "      <td>1</td>\n",
       "      <td>Toy Story (1995)</td>\n",
       "      <td>Adventure|Animation|Children|Comedy|Fantasy</td>\n",
       "    </tr>\n",
       "    <tr>\n",
       "      <th>1</th>\n",
       "      <td>2</td>\n",
       "      <td>Jumanji (1995)</td>\n",
       "      <td>Adventure|Children|Fantasy</td>\n",
       "    </tr>\n",
       "    <tr>\n",
       "      <th>2</th>\n",
       "      <td>3</td>\n",
       "      <td>Grumpier Old Men (1995)</td>\n",
       "      <td>Comedy|Romance</td>\n",
       "    </tr>\n",
       "    <tr>\n",
       "      <th>3</th>\n",
       "      <td>4</td>\n",
       "      <td>Waiting to Exhale (1995)</td>\n",
       "      <td>Comedy|Drama|Romance</td>\n",
       "    </tr>\n",
       "    <tr>\n",
       "      <th>4</th>\n",
       "      <td>5</td>\n",
       "      <td>Father of the Bride Part II (1995)</td>\n",
       "      <td>Comedy</td>\n",
       "    </tr>\n",
       "  </tbody>\n",
       "</table>\n",
       "</div>"
      ],
      "text/plain": [
       "   movieId                               title                                       genres\n",
       "0  1        Toy Story (1995)                    Adventure|Animation|Children|Comedy|Fantasy\n",
       "1  2        Jumanji (1995)                      Adventure|Children|Fantasy                 \n",
       "2  3        Grumpier Old Men (1995)             Comedy|Romance                             \n",
       "3  4        Waiting to Exhale (1995)            Comedy|Drama|Romance                       \n",
       "4  5        Father of the Bride Part II (1995)  Comedy                                     "
      ]
     },
     "execution_count": 5,
     "metadata": {},
     "output_type": "execute_result"
    }
   ],
   "source": [
    "movies.head()"
   ]
  },
  {
   "cell_type": "code",
   "execution_count": 6,
   "id": "8f408e59",
   "metadata": {},
   "outputs": [
    {
     "data": {
      "text/html": [
       "<div>\n",
       "<style scoped>\n",
       "    .dataframe tbody tr th:only-of-type {\n",
       "        vertical-align: middle;\n",
       "    }\n",
       "\n",
       "    .dataframe tbody tr th {\n",
       "        vertical-align: top;\n",
       "    }\n",
       "\n",
       "    .dataframe thead th {\n",
       "        text-align: right;\n",
       "    }\n",
       "</style>\n",
       "<table border=\"1\" class=\"dataframe\">\n",
       "  <thead>\n",
       "    <tr style=\"text-align: right;\">\n",
       "      <th></th>\n",
       "      <th>userId</th>\n",
       "      <th>movieId</th>\n",
       "      <th>rating</th>\n",
       "      <th>timestamp</th>\n",
       "    </tr>\n",
       "  </thead>\n",
       "  <tbody>\n",
       "    <tr>\n",
       "      <th>count</th>\n",
       "      <td>100836.00</td>\n",
       "      <td>100836.00</td>\n",
       "      <td>100836.00</td>\n",
       "      <td>1.008360e+05</td>\n",
       "    </tr>\n",
       "    <tr>\n",
       "      <th>mean</th>\n",
       "      <td>326.13</td>\n",
       "      <td>19435.30</td>\n",
       "      <td>3.50</td>\n",
       "      <td>1.205946e+09</td>\n",
       "    </tr>\n",
       "    <tr>\n",
       "      <th>std</th>\n",
       "      <td>182.62</td>\n",
       "      <td>35530.99</td>\n",
       "      <td>1.04</td>\n",
       "      <td>2.162610e+08</td>\n",
       "    </tr>\n",
       "    <tr>\n",
       "      <th>min</th>\n",
       "      <td>1.00</td>\n",
       "      <td>1.00</td>\n",
       "      <td>0.50</td>\n",
       "      <td>8.281246e+08</td>\n",
       "    </tr>\n",
       "    <tr>\n",
       "      <th>25%</th>\n",
       "      <td>177.00</td>\n",
       "      <td>1199.00</td>\n",
       "      <td>3.00</td>\n",
       "      <td>1.019124e+09</td>\n",
       "    </tr>\n",
       "    <tr>\n",
       "      <th>50%</th>\n",
       "      <td>325.00</td>\n",
       "      <td>2991.00</td>\n",
       "      <td>3.50</td>\n",
       "      <td>1.186087e+09</td>\n",
       "    </tr>\n",
       "    <tr>\n",
       "      <th>75%</th>\n",
       "      <td>477.00</td>\n",
       "      <td>8122.00</td>\n",
       "      <td>4.00</td>\n",
       "      <td>1.435994e+09</td>\n",
       "    </tr>\n",
       "    <tr>\n",
       "      <th>max</th>\n",
       "      <td>610.00</td>\n",
       "      <td>193609.00</td>\n",
       "      <td>5.00</td>\n",
       "      <td>1.537799e+09</td>\n",
       "    </tr>\n",
       "  </tbody>\n",
       "</table>\n",
       "</div>"
      ],
      "text/plain": [
       "          userId    movieId     rating     timestamp\n",
       "count  100836.00  100836.00  100836.00  1.008360e+05\n",
       "mean   326.13     19435.30   3.50       1.205946e+09\n",
       "std    182.62     35530.99   1.04       2.162610e+08\n",
       "min    1.00       1.00       0.50       8.281246e+08\n",
       "25%    177.00     1199.00    3.00       1.019124e+09\n",
       "50%    325.00     2991.00    3.50       1.186087e+09\n",
       "75%    477.00     8122.00    4.00       1.435994e+09\n",
       "max    610.00     193609.00  5.00       1.537799e+09"
      ]
     },
     "execution_count": 6,
     "metadata": {},
     "output_type": "execute_result"
    }
   ],
   "source": [
    "ratings.describe().round(2)"
   ]
  },
  {
   "cell_type": "code",
   "execution_count": 7,
   "id": "3fb49e83",
   "metadata": {},
   "outputs": [
    {
     "data": {
      "text/html": [
       "<div>\n",
       "<style scoped>\n",
       "    .dataframe tbody tr th:only-of-type {\n",
       "        vertical-align: middle;\n",
       "    }\n",
       "\n",
       "    .dataframe tbody tr th {\n",
       "        vertical-align: top;\n",
       "    }\n",
       "\n",
       "    .dataframe thead th {\n",
       "        text-align: right;\n",
       "    }\n",
       "</style>\n",
       "<table border=\"1\" class=\"dataframe\">\n",
       "  <thead>\n",
       "    <tr style=\"text-align: right;\">\n",
       "      <th></th>\n",
       "      <th>movieId</th>\n",
       "    </tr>\n",
       "  </thead>\n",
       "  <tbody>\n",
       "    <tr>\n",
       "      <th>count</th>\n",
       "      <td>9742.00</td>\n",
       "    </tr>\n",
       "    <tr>\n",
       "      <th>mean</th>\n",
       "      <td>42200.35</td>\n",
       "    </tr>\n",
       "    <tr>\n",
       "      <th>std</th>\n",
       "      <td>52160.49</td>\n",
       "    </tr>\n",
       "    <tr>\n",
       "      <th>min</th>\n",
       "      <td>1.00</td>\n",
       "    </tr>\n",
       "    <tr>\n",
       "      <th>25%</th>\n",
       "      <td>3248.25</td>\n",
       "    </tr>\n",
       "    <tr>\n",
       "      <th>50%</th>\n",
       "      <td>7300.00</td>\n",
       "    </tr>\n",
       "    <tr>\n",
       "      <th>75%</th>\n",
       "      <td>76232.00</td>\n",
       "    </tr>\n",
       "    <tr>\n",
       "      <th>max</th>\n",
       "      <td>193609.00</td>\n",
       "    </tr>\n",
       "  </tbody>\n",
       "</table>\n",
       "</div>"
      ],
      "text/plain": [
       "         movieId\n",
       "count  9742.00  \n",
       "mean   42200.35 \n",
       "std    52160.49 \n",
       "min    1.00     \n",
       "25%    3248.25  \n",
       "50%    7300.00  \n",
       "75%    76232.00 \n",
       "max    193609.00"
      ]
     },
     "execution_count": 7,
     "metadata": {},
     "output_type": "execute_result"
    }
   ],
   "source": [
    "movies.describe().round(2)"
   ]
  },
  {
   "cell_type": "code",
   "execution_count": 8,
   "id": "10949beb",
   "metadata": {},
   "outputs": [
    {
     "data": {
      "text/html": [
       "<div>\n",
       "<style scoped>\n",
       "    .dataframe tbody tr th:only-of-type {\n",
       "        vertical-align: middle;\n",
       "    }\n",
       "\n",
       "    .dataframe tbody tr th {\n",
       "        vertical-align: top;\n",
       "    }\n",
       "\n",
       "    .dataframe thead th {\n",
       "        text-align: right;\n",
       "    }\n",
       "</style>\n",
       "<table border=\"1\" class=\"dataframe\">\n",
       "  <thead>\n",
       "    <tr style=\"text-align: right;\">\n",
       "      <th></th>\n",
       "      <th>movieId</th>\n",
       "      <th>title</th>\n",
       "      <th>genres</th>\n",
       "      <th>(no genres listed)</th>\n",
       "      <th>Action</th>\n",
       "      <th>Adventure</th>\n",
       "      <th>Animation</th>\n",
       "      <th>Children</th>\n",
       "      <th>Comedy</th>\n",
       "      <th>Crime</th>\n",
       "      <th>Documentary</th>\n",
       "      <th>Drama</th>\n",
       "      <th>Fantasy</th>\n",
       "      <th>Film-Noir</th>\n",
       "      <th>Horror</th>\n",
       "      <th>IMAX</th>\n",
       "      <th>Musical</th>\n",
       "      <th>Mystery</th>\n",
       "      <th>Romance</th>\n",
       "      <th>Sci-Fi</th>\n",
       "      <th>Thriller</th>\n",
       "      <th>War</th>\n",
       "      <th>Western</th>\n",
       "    </tr>\n",
       "  </thead>\n",
       "  <tbody>\n",
       "    <tr>\n",
       "      <th>0</th>\n",
       "      <td>1</td>\n",
       "      <td>Toy Story (1995)</td>\n",
       "      <td>Adventure|Animation|Children|Comedy|Fantasy</td>\n",
       "      <td>0</td>\n",
       "      <td>0</td>\n",
       "      <td>1</td>\n",
       "      <td>1</td>\n",
       "      <td>1</td>\n",
       "      <td>1</td>\n",
       "      <td>0</td>\n",
       "      <td>0</td>\n",
       "      <td>0</td>\n",
       "      <td>1</td>\n",
       "      <td>0</td>\n",
       "      <td>0</td>\n",
       "      <td>0</td>\n",
       "      <td>0</td>\n",
       "      <td>0</td>\n",
       "      <td>0</td>\n",
       "      <td>0</td>\n",
       "      <td>0</td>\n",
       "      <td>0</td>\n",
       "      <td>0</td>\n",
       "    </tr>\n",
       "    <tr>\n",
       "      <th>1</th>\n",
       "      <td>2</td>\n",
       "      <td>Jumanji (1995)</td>\n",
       "      <td>Adventure|Children|Fantasy</td>\n",
       "      <td>0</td>\n",
       "      <td>0</td>\n",
       "      <td>1</td>\n",
       "      <td>0</td>\n",
       "      <td>1</td>\n",
       "      <td>0</td>\n",
       "      <td>0</td>\n",
       "      <td>0</td>\n",
       "      <td>0</td>\n",
       "      <td>1</td>\n",
       "      <td>0</td>\n",
       "      <td>0</td>\n",
       "      <td>0</td>\n",
       "      <td>0</td>\n",
       "      <td>0</td>\n",
       "      <td>0</td>\n",
       "      <td>0</td>\n",
       "      <td>0</td>\n",
       "      <td>0</td>\n",
       "      <td>0</td>\n",
       "    </tr>\n",
       "    <tr>\n",
       "      <th>2</th>\n",
       "      <td>3</td>\n",
       "      <td>Grumpier Old Men (1995)</td>\n",
       "      <td>Comedy|Romance</td>\n",
       "      <td>0</td>\n",
       "      <td>0</td>\n",
       "      <td>0</td>\n",
       "      <td>0</td>\n",
       "      <td>0</td>\n",
       "      <td>1</td>\n",
       "      <td>0</td>\n",
       "      <td>0</td>\n",
       "      <td>0</td>\n",
       "      <td>0</td>\n",
       "      <td>0</td>\n",
       "      <td>0</td>\n",
       "      <td>0</td>\n",
       "      <td>0</td>\n",
       "      <td>0</td>\n",
       "      <td>1</td>\n",
       "      <td>0</td>\n",
       "      <td>0</td>\n",
       "      <td>0</td>\n",
       "      <td>0</td>\n",
       "    </tr>\n",
       "    <tr>\n",
       "      <th>3</th>\n",
       "      <td>4</td>\n",
       "      <td>Waiting to Exhale (1995)</td>\n",
       "      <td>Comedy|Drama|Romance</td>\n",
       "      <td>0</td>\n",
       "      <td>0</td>\n",
       "      <td>0</td>\n",
       "      <td>0</td>\n",
       "      <td>0</td>\n",
       "      <td>1</td>\n",
       "      <td>0</td>\n",
       "      <td>0</td>\n",
       "      <td>1</td>\n",
       "      <td>0</td>\n",
       "      <td>0</td>\n",
       "      <td>0</td>\n",
       "      <td>0</td>\n",
       "      <td>0</td>\n",
       "      <td>0</td>\n",
       "      <td>1</td>\n",
       "      <td>0</td>\n",
       "      <td>0</td>\n",
       "      <td>0</td>\n",
       "      <td>0</td>\n",
       "    </tr>\n",
       "    <tr>\n",
       "      <th>4</th>\n",
       "      <td>5</td>\n",
       "      <td>Father of the Bride Part II (1995)</td>\n",
       "      <td>Comedy</td>\n",
       "      <td>0</td>\n",
       "      <td>0</td>\n",
       "      <td>0</td>\n",
       "      <td>0</td>\n",
       "      <td>0</td>\n",
       "      <td>1</td>\n",
       "      <td>0</td>\n",
       "      <td>0</td>\n",
       "      <td>0</td>\n",
       "      <td>0</td>\n",
       "      <td>0</td>\n",
       "      <td>0</td>\n",
       "      <td>0</td>\n",
       "      <td>0</td>\n",
       "      <td>0</td>\n",
       "      <td>0</td>\n",
       "      <td>0</td>\n",
       "      <td>0</td>\n",
       "      <td>0</td>\n",
       "      <td>0</td>\n",
       "    </tr>\n",
       "  </tbody>\n",
       "</table>\n",
       "</div>"
      ],
      "text/plain": [
       "   movieId                               title                                       genres  (no genres listed)  Action  Adventure  Animation  Children  Comedy  Crime  Documentary  Drama  Fantasy  Film-Noir  Horror  IMAX  Musical  Mystery  Romance  Sci-Fi  Thriller  War  Western\n",
       "0  1        Toy Story (1995)                    Adventure|Animation|Children|Comedy|Fantasy  0                   0       1          1          1         1       0      0            0      1        0          0       0     0        0        0        0       0         0    0      \n",
       "1  2        Jumanji (1995)                      Adventure|Children|Fantasy                   0                   0       1          0          1         0       0      0            0      1        0          0       0     0        0        0        0       0         0    0      \n",
       "2  3        Grumpier Old Men (1995)             Comedy|Romance                               0                   0       0          0          0         1       0      0            0      0        0          0       0     0        0        1        0       0         0    0      \n",
       "3  4        Waiting to Exhale (1995)            Comedy|Drama|Romance                         0                   0       0          0          0         1       0      0            1      0        0          0       0     0        0        1        0       0         0    0      \n",
       "4  5        Father of the Bride Part II (1995)  Comedy                                       0                   0       0          0          0         1       0      0            0      0        0          0       0     0        0        0        0       0         0    0      "
      ]
     },
     "execution_count": 8,
     "metadata": {},
     "output_type": "execute_result"
    }
   ],
   "source": [
    "# Oddzielanie gatunków jako nowe kolumny\n",
    "genres = movies['genres'].str.get_dummies(sep='|')\n",
    "\n",
    "movies = pd.concat([movies, genres], axis=1)\n",
    "\n",
    "movies.head()\n"
   ]
  },
  {
   "cell_type": "markdown",
   "id": "28bbcbb9",
   "metadata": {},
   "source": [
    "#### 1. Liczba filmów Sci-Fi"
   ]
  },
  {
   "cell_type": "markdown",
   "id": "82f59635",
   "metadata": {},
   "source": [
    " liczba filmów Sci-Fi = `980`"
   ]
  },
  {
   "cell_type": "code",
   "execution_count": 9,
   "id": "938d62bf",
   "metadata": {},
   "outputs": [
    {
     "data": {
      "text/plain": [
       "980"
      ]
     },
     "execution_count": 9,
     "metadata": {},
     "output_type": "execute_result"
    }
   ],
   "source": [
    "sci_fi_count = movies['Sci-Fi'].sum()\n",
    "sci_fi_count"
   ]
  },
  {
   "cell_type": "markdown",
   "id": "65769186",
   "metadata": {},
   "source": [
    "#### 2. Pokaż rozkład ocen komedii"
   ]
  },
  {
   "cell_type": "code",
   "execution_count": 10,
   "id": "7ab5c78e",
   "metadata": {},
   "outputs": [],
   "source": [
    "# filtrowanie komedii\n",
    "comedy_movies = movies[movies['Comedy'] == 1]\n",
    "# łączenie z ocenami\n",
    "comedy_ratings = ratings[ratings['movieId'].isin(movies[movies['Comedy'] == 1]['movieId'])]"
   ]
  },
  {
   "cell_type": "code",
   "execution_count": 11,
   "id": "5565a78c",
   "metadata": {},
   "outputs": [
    {
     "data": {
      "text/plain": [
       "Text(0, 0.5, 'Liczba filmów')"
      ]
     },
     "execution_count": 11,
     "metadata": {},
     "output_type": "execute_result"
    },
    {
     "data": {
      "image/png": "[encoded data removed]",
      "text/plain": [
       "<Figure size 640x480 with 1 Axes>"
      ]
     },
     "metadata": {},
     "output_type": "display_data"
    }
   ],
   "source": [
    "sns.countplot(comedy_ratings, x = 'rating', palette='viridis')\n",
    "plt.title('Rozkład ocen z gatunkiem komedii')\n",
    "plt.xlabel('Średnia ocena')\n",
    "plt.ylabel('Liczba filmów')"
   ]
  },
  {
   "cell_type": "markdown",
   "id": "c32d064b",
   "metadata": {},
   "source": [
    "#### 3. Podaj średnią ocen wszystkich filmów akcji oraz 3 filmy najwyżej ocenianych"
   ]
  },
  {
   "cell_type": "code",
   "execution_count": 12,
   "id": "492138d7",
   "metadata": {},
   "outputs": [
    {
     "data": {
      "text/html": [
       "<div>\n",
       "<style scoped>\n",
       "    .dataframe tbody tr th:only-of-type {\n",
       "        vertical-align: middle;\n",
       "    }\n",
       "\n",
       "    .dataframe tbody tr th {\n",
       "        vertical-align: top;\n",
       "    }\n",
       "\n",
       "    .dataframe thead th {\n",
       "        text-align: right;\n",
       "    }\n",
       "</style>\n",
       "<table border=\"1\" class=\"dataframe\">\n",
       "  <thead>\n",
       "    <tr style=\"text-align: right;\">\n",
       "      <th></th>\n",
       "      <th>userId</th>\n",
       "      <th>movieId</th>\n",
       "      <th>rating</th>\n",
       "      <th>timestamp</th>\n",
       "    </tr>\n",
       "  </thead>\n",
       "  <tbody>\n",
       "    <tr>\n",
       "      <th>2</th>\n",
       "      <td>1</td>\n",
       "      <td>6</td>\n",
       "      <td>4.0</td>\n",
       "      <td>964982224</td>\n",
       "    </tr>\n",
       "    <tr>\n",
       "      <th>5</th>\n",
       "      <td>1</td>\n",
       "      <td>70</td>\n",
       "      <td>3.0</td>\n",
       "      <td>964982400</td>\n",
       "    </tr>\n",
       "    <tr>\n",
       "      <th>7</th>\n",
       "      <td>1</td>\n",
       "      <td>110</td>\n",
       "      <td>4.0</td>\n",
       "      <td>964982176</td>\n",
       "    </tr>\n",
       "    <tr>\n",
       "      <th>8</th>\n",
       "      <td>1</td>\n",
       "      <td>151</td>\n",
       "      <td>5.0</td>\n",
       "      <td>964984041</td>\n",
       "    </tr>\n",
       "    <tr>\n",
       "      <th>10</th>\n",
       "      <td>1</td>\n",
       "      <td>163</td>\n",
       "      <td>5.0</td>\n",
       "      <td>964983650</td>\n",
       "    </tr>\n",
       "    <tr>\n",
       "      <th>...</th>\n",
       "      <td>...</td>\n",
       "      <td>...</td>\n",
       "      <td>...</td>\n",
       "      <td>...</td>\n",
       "    </tr>\n",
       "    <tr>\n",
       "      <th>100826</th>\n",
       "      <td>610</td>\n",
       "      <td>162350</td>\n",
       "      <td>3.5</td>\n",
       "      <td>1493849971</td>\n",
       "    </tr>\n",
       "    <tr>\n",
       "      <th>100830</th>\n",
       "      <td>610</td>\n",
       "      <td>166528</td>\n",
       "      <td>4.0</td>\n",
       "      <td>1493879365</td>\n",
       "    </tr>\n",
       "    <tr>\n",
       "      <th>100832</th>\n",
       "      <td>610</td>\n",
       "      <td>168248</td>\n",
       "      <td>5.0</td>\n",
       "      <td>1493850091</td>\n",
       "    </tr>\n",
       "    <tr>\n",
       "      <th>100834</th>\n",
       "      <td>610</td>\n",
       "      <td>168252</td>\n",
       "      <td>5.0</td>\n",
       "      <td>1493846352</td>\n",
       "    </tr>\n",
       "    <tr>\n",
       "      <th>100835</th>\n",
       "      <td>610</td>\n",
       "      <td>170875</td>\n",
       "      <td>3.0</td>\n",
       "      <td>1493846415</td>\n",
       "    </tr>\n",
       "  </tbody>\n",
       "</table>\n",
       "<p>30635 rows × 4 columns</p>\n",
       "</div>"
      ],
      "text/plain": [
       "        userId  movieId  rating   timestamp\n",
       "2       1       6        4.0     964982224 \n",
       "5       1       70       3.0     964982400 \n",
       "7       1       110      4.0     964982176 \n",
       "8       1       151      5.0     964984041 \n",
       "10      1       163      5.0     964983650 \n",
       "...    ..       ...      ...           ... \n",
       "100826  610     162350   3.5     1493849971\n",
       "100830  610     166528   4.0     1493879365\n",
       "100832  610     168248   5.0     1493850091\n",
       "100834  610     168252   5.0     1493846352\n",
       "100835  610     170875   3.0     1493846415\n",
       "\n",
       "[30635 rows x 4 columns]"
      ]
     },
     "execution_count": 12,
     "metadata": {},
     "output_type": "execute_result"
    }
   ],
   "source": [
    "# filtrowanie filmów akcji\n",
    "action_movies = movies[movies['Action'] == 1]\n",
    "# łączenie z ocenami\n",
    "action_ratings = ratings[ratings['movieId'].isin(movies[movies['Action'] == 1]['movieId'])]\n",
    "action_ratings"
   ]
  },
  {
   "cell_type": "code",
   "execution_count": 13,
   "id": "0f84e512",
   "metadata": {},
   "outputs": [
    {
     "name": "stdout",
     "output_type": "stream",
     "text": [
      "Średnia ocen wszystkich filmów akcji: 3.45\n"
     ]
    }
   ],
   "source": [
    "print(f\"Średnia ocen wszystkich filmów akcji: {action_ratings.rating.mean().round(2)}\")"
   ]
  },
  {
   "attachments": {
    "obraz.png": {
     "image/png": "[encoded data removed]"
    }
   },
   "cell_type": "markdown",
   "id": "3f5dbd9e",
   "metadata": {},
   "source": [
    "![obraz.png](attachment:obraz.png)\n",
    "\n",
    "Zwykła średnia nie będzie miarodajna ze względu na różną liczbę ocen, jakie dany film otrzymał."
   ]
  },
  {
   "cell_type": "markdown",
   "id": "9153bd91",
   "metadata": {},
   "source": [
    "#### Filmy najwyżej oceniane"
   ]
  },
  {
   "cell_type": "code",
   "execution_count": 14,
   "id": "70bfdffa",
   "metadata": {},
   "outputs": [
    {
     "data": {
      "text/html": [
       "<div>\n",
       "<style scoped>\n",
       "    .dataframe tbody tr th:only-of-type {\n",
       "        vertical-align: middle;\n",
       "    }\n",
       "\n",
       "    .dataframe tbody tr th {\n",
       "        vertical-align: top;\n",
       "    }\n",
       "\n",
       "    .dataframe thead th {\n",
       "        text-align: right;\n",
       "    }\n",
       "</style>\n",
       "<table border=\"1\" class=\"dataframe\">\n",
       "  <thead>\n",
       "    <tr style=\"text-align: right;\">\n",
       "      <th></th>\n",
       "      <th>count</th>\n",
       "      <th>mean</th>\n",
       "    </tr>\n",
       "    <tr>\n",
       "      <th>movieId</th>\n",
       "      <th></th>\n",
       "      <th></th>\n",
       "    </tr>\n",
       "  </thead>\n",
       "  <tbody>\n",
       "    <tr>\n",
       "      <th>1</th>\n",
       "      <td>215</td>\n",
       "      <td>3.920930</td>\n",
       "    </tr>\n",
       "    <tr>\n",
       "      <th>2</th>\n",
       "      <td>110</td>\n",
       "      <td>3.431818</td>\n",
       "    </tr>\n",
       "    <tr>\n",
       "      <th>3</th>\n",
       "      <td>52</td>\n",
       "      <td>3.259615</td>\n",
       "    </tr>\n",
       "    <tr>\n",
       "      <th>4</th>\n",
       "      <td>7</td>\n",
       "      <td>2.357143</td>\n",
       "    </tr>\n",
       "    <tr>\n",
       "      <th>5</th>\n",
       "      <td>49</td>\n",
       "      <td>3.071429</td>\n",
       "    </tr>\n",
       "    <tr>\n",
       "      <th>...</th>\n",
       "      <td>...</td>\n",
       "      <td>...</td>\n",
       "    </tr>\n",
       "    <tr>\n",
       "      <th>193581</th>\n",
       "      <td>1</td>\n",
       "      <td>4.000000</td>\n",
       "    </tr>\n",
       "    <tr>\n",
       "      <th>193583</th>\n",
       "      <td>1</td>\n",
       "      <td>3.500000</td>\n",
       "    </tr>\n",
       "    <tr>\n",
       "      <th>193585</th>\n",
       "      <td>1</td>\n",
       "      <td>3.500000</td>\n",
       "    </tr>\n",
       "    <tr>\n",
       "      <th>193587</th>\n",
       "      <td>1</td>\n",
       "      <td>3.500000</td>\n",
       "    </tr>\n",
       "    <tr>\n",
       "      <th>193609</th>\n",
       "      <td>1</td>\n",
       "      <td>4.000000</td>\n",
       "    </tr>\n",
       "  </tbody>\n",
       "</table>\n",
       "<p>9724 rows × 2 columns</p>\n",
       "</div>"
      ],
      "text/plain": [
       "         count      mean\n",
       "movieId                 \n",
       "1        215    3.920930\n",
       "2        110    3.431818\n",
       "3        52     3.259615\n",
       "4        7      2.357143\n",
       "5        49     3.071429\n",
       "...     ..           ...\n",
       "193581   1      4.000000\n",
       "193583   1      3.500000\n",
       "193585   1      3.500000\n",
       "193587   1      3.500000\n",
       "193609   1      4.000000\n",
       "\n",
       "[9724 rows x 2 columns]"
      ]
     },
     "execution_count": 14,
     "metadata": {},
     "output_type": "execute_result"
    }
   ],
   "source": [
    "# filmy najwyzej oceniane\n",
    "movie_stats = ratings.groupby('movieId')['rating'].agg(['count', 'mean'])\n",
    "movie_stats"
   ]
  },
  {
   "cell_type": "code",
   "execution_count": 15,
   "id": "376c2f02",
   "metadata": {},
   "outputs": [
    {
     "name": "stdout",
     "output_type": "stream",
     "text": [
      "Najwyżej oceniane 3 filmy:\n",
      "                              title  bayesian_avg\n",
      "0  Shawshank Redemption, The (1994)  4.39        \n",
      "1  Godfather, The (1972)             4.24        \n",
      "2  Fight Club (1999)                 4.23        \n"
     ]
    }
   ],
   "source": [
    "C = movie_stats['count'].mean()\n",
    "m = movie_stats['mean'].mean()\n",
    "\n",
    "def bayesian_avg(ratings):\n",
    "    bayesian_avg = (C*m+ratings.sum())/(C+ratings.count())\n",
    "    \n",
    "    return bayesian_avg\n",
    "\n",
    "bayesian_avg_ratings = ratings.groupby('movieId')['rating'].agg(bayesian_avg).reset_index()\n",
    "bayesian_avg_ratings.columns = ['movieId', 'bayesian_avg']\n",
    "movie_stats = movie_stats.merge(bayesian_avg_ratings, on='movieId')\n",
    "\n",
    "top_rated_movies = movie_stats.sort_values(by='bayesian_avg', ascending=False).head(3)\n",
    "top_rated_titles = top_rated_movies.merge(movies[['movieId', 'title']], on='movieId')\n",
    "\n",
    "# Wybieranie tylko kolumn 'title' i 'bayesian_avg'\n",
    "top_rated_titles = top_rated_titles[['title', 'bayesian_avg']]\n",
    "\n",
    "print(f'Najwyżej oceniane 3 filmy:\\n{top_rated_titles.round(2)}')"
   ]
  },
  {
   "cell_type": "markdown",
   "id": "f224bac4",
   "metadata": {},
   "source": [
    "   ***Najwyżej oceniane 3 filmy*** \n",
    "   \n",
    "|             Title              | Bayesian Average |\n",
    "|--------------------------------|------------------|\n",
    "| Shawshank Redemption, The (1994) |       4.39       |\n",
    "|       Godfather, The (1972)      |       4.24       |\n",
    "|         Fight Club (1999)        |       4.23       |"
   ]
  },
  {
   "cell_type": "markdown",
   "id": "9d26816a",
   "metadata": {},
   "source": [
    "<img src=\"https://media.giphy.com/media/v1.Y2lkPTc5MGI3NjExY3RvOGtma3k0cDcyc3AzcXBpejJ4emFrc254ZWFkMGNxMmk4dGFtYiZlcD12MV9pbnRlcm5hbF9naWZfYnlfaWQmY3Q9Zw/z9EaObbaU7pS4zFl6d/giphy.gif\" width=\"350\" align=\"center\">\n"
   ]
  },
  {
   "cell_type": "code",
   "execution_count": 16,
   "id": "72ad4d28",
   "metadata": {},
   "outputs": [
    {
     "name": "stdout",
     "output_type": "stream",
     "text": [
      "Najwyżej oceniane 3 filmy akcji:\n",
      "                                                   title  bayesian_avg\n",
      "0  Fight Club (1999)                                      4.19        \n",
      "1  Star Wars: Episode IV - A New Hope (1977)              4.16        \n",
      "2  Star Wars: Episode V - The Empire Strikes Back (1980)  4.13        \n"
     ]
    }
   ],
   "source": [
    "# filmy akcji\n",
    "\n",
    "merged_data = pd.merge(ratings, movies, on='movieId')\n",
    "\n",
    "action_movies_ratings = merged_data[merged_data['Action'] == 1].groupby('movieId')['rating'].agg(['count', 'mean'])\n",
    "\n",
    "C = action_movies_ratings['count'].mean()\n",
    "m = action_movies_ratings['mean'].mean()\n",
    "\n",
    "bayesian_avg_ratings = ratings.groupby('movieId')['rating'].agg(bayesian_avg).reset_index()\n",
    "bayesian_avg_ratings.columns = ['movieId', 'bayesian_avg']\n",
    "movie_stats = action_movies_ratings.merge(bayesian_avg_ratings, on='movieId')\n",
    "movie_stats.describe()\n",
    "\n",
    "top_rated_movies = movie_stats.sort_values(by='bayesian_avg', ascending=False).head(3)\n",
    "top_rated_titles = top_rated_movies.merge(movies[['movieId', 'title']], on='movieId')\n",
    "\n",
    "top_rated_titles = top_rated_titles[['title', 'bayesian_avg']]\n",
    "\n",
    "print(f'Najwyżej oceniane 3 filmy akcji:\\n{top_rated_titles.round(2)}')\n"
   ]
  },
  {
   "cell_type": "markdown",
   "id": "37336f62",
   "metadata": {},
   "source": [
    "***Najwyżej oceniane 3 filmy akcji*** \n",
    "| Title | Bayesian Average |\n",
    "|-----------------------------|------------------|\n",
    "| Fight Club (1999) | 4.19 |\n",
    "| Star Wars: Episode IV - A New Hope (1977) | 4.16 |\n",
    "| Star Wars: Episode V - The Empire Strikes Back (1980) | 4.13 |"
   ]
  },
  {
   "cell_type": "markdown",
   "id": "7d5c0fb1",
   "metadata": {},
   "source": [
    "## System rekomendacyjny\n",
    "\n",
    "[SVD](#SVD)\n",
    "<br>\n",
    "[kNNwithMeans](#kNNwithMeans)"
   ]
  },
  {
   "cell_type": "markdown",
   "id": "0f8e8e64",
   "metadata": {},
   "source": [
    "#### Zbuduj system na podstawie algorytmu SVD oraz kNNwithMeans"
   ]
  },
  {
   "cell_type": "markdown",
   "id": "82dd4c29",
   "metadata": {},
   "source": [
    "##### Znajdź ID filmu po tytule"
   ]
  },
  {
   "cell_type": "code",
   "execution_count": 108,
   "id": "20322dbf",
   "metadata": {},
   "outputs": [],
   "source": [
    "def get_movie_ids_by_title(title_partial, movies = movies):\n",
    "    \"\"\"\n",
    "    This function takes a partial movie title and a DataFrame containing movie titles and IDs,\n",
    "    and returns a DataFrame of all movies that contain the partial title in their full title.\n",
    "\n",
    "    Args:\n",
    "        title_partial (str): The partial movie title.\n",
    "        movies_df (DataFrame): A DataFrame containing 'movieId' and 'title' columns.\n",
    "\n",
    "    Returns:\n",
    "        DataFrame: A DataFrame containing the 'movieId' and 'title' of all movies that contain \n",
    "                   the partial title in their full title. If no such movie is found, returns an empty DataFrame.\n",
    "    \"\"\"\n",
    "    # Use the str.contains method to find rows where the title contains the partial title (case insensitive)\n",
    "    matching_movies = movies[movies['title'].str.contains(title_partial, case=False)]\n",
    "\n",
    "    # Return the matching_movies DataFrame\n",
    "    return matching_movies\n"
   ]
  },
  {
   "cell_type": "code",
   "execution_count": 18,
   "id": "faaba8f0",
   "metadata": {},
   "outputs": [
    {
     "data": {
      "text/html": [
       "<div>\n",
       "<style scoped>\n",
       "    .dataframe tbody tr th:only-of-type {\n",
       "        vertical-align: middle;\n",
       "    }\n",
       "\n",
       "    .dataframe tbody tr th {\n",
       "        vertical-align: top;\n",
       "    }\n",
       "\n",
       "    .dataframe thead th {\n",
       "        text-align: right;\n",
       "    }\n",
       "</style>\n",
       "<table border=\"1\" class=\"dataframe\">\n",
       "  <thead>\n",
       "    <tr style=\"text-align: right;\">\n",
       "      <th></th>\n",
       "      <th>movieId</th>\n",
       "      <th>title</th>\n",
       "      <th>genres</th>\n",
       "      <th>(no genres listed)</th>\n",
       "      <th>Action</th>\n",
       "      <th>Adventure</th>\n",
       "      <th>Animation</th>\n",
       "      <th>Children</th>\n",
       "      <th>Comedy</th>\n",
       "      <th>Crime</th>\n",
       "      <th>Documentary</th>\n",
       "      <th>Drama</th>\n",
       "      <th>Fantasy</th>\n",
       "      <th>Film-Noir</th>\n",
       "      <th>Horror</th>\n",
       "      <th>IMAX</th>\n",
       "      <th>Musical</th>\n",
       "      <th>Mystery</th>\n",
       "      <th>Romance</th>\n",
       "      <th>Sci-Fi</th>\n",
       "      <th>Thriller</th>\n",
       "      <th>War</th>\n",
       "      <th>Western</th>\n",
       "    </tr>\n",
       "  </thead>\n",
       "  <tbody>\n",
       "    <tr>\n",
       "      <th>224</th>\n",
       "      <td>260</td>\n",
       "      <td>Star Wars: Episode IV - A New Hope (1977)</td>\n",
       "      <td>Action|Adventure|Sci-Fi</td>\n",
       "      <td>0</td>\n",
       "      <td>1</td>\n",
       "      <td>1</td>\n",
       "      <td>0</td>\n",
       "      <td>0</td>\n",
       "      <td>0</td>\n",
       "      <td>0</td>\n",
       "      <td>0</td>\n",
       "      <td>0</td>\n",
       "      <td>0</td>\n",
       "      <td>0</td>\n",
       "      <td>0</td>\n",
       "      <td>0</td>\n",
       "      <td>0</td>\n",
       "      <td>0</td>\n",
       "      <td>0</td>\n",
       "      <td>1</td>\n",
       "      <td>0</td>\n",
       "      <td>0</td>\n",
       "      <td>0</td>\n",
       "    </tr>\n",
       "    <tr>\n",
       "      <th>898</th>\n",
       "      <td>1196</td>\n",
       "      <td>Star Wars: Episode V - The Empire Strikes Back (1980)</td>\n",
       "      <td>Action|Adventure|Sci-Fi</td>\n",
       "      <td>0</td>\n",
       "      <td>1</td>\n",
       "      <td>1</td>\n",
       "      <td>0</td>\n",
       "      <td>0</td>\n",
       "      <td>0</td>\n",
       "      <td>0</td>\n",
       "      <td>0</td>\n",
       "      <td>0</td>\n",
       "      <td>0</td>\n",
       "      <td>0</td>\n",
       "      <td>0</td>\n",
       "      <td>0</td>\n",
       "      <td>0</td>\n",
       "      <td>0</td>\n",
       "      <td>0</td>\n",
       "      <td>1</td>\n",
       "      <td>0</td>\n",
       "      <td>0</td>\n",
       "      <td>0</td>\n",
       "    </tr>\n",
       "    <tr>\n",
       "      <th>911</th>\n",
       "      <td>1210</td>\n",
       "      <td>Star Wars: Episode VI - Return of the Jedi (1983)</td>\n",
       "      <td>Action|Adventure|Sci-Fi</td>\n",
       "      <td>0</td>\n",
       "      <td>1</td>\n",
       "      <td>1</td>\n",
       "      <td>0</td>\n",
       "      <td>0</td>\n",
       "      <td>0</td>\n",
       "      <td>0</td>\n",
       "      <td>0</td>\n",
       "      <td>0</td>\n",
       "      <td>0</td>\n",
       "      <td>0</td>\n",
       "      <td>0</td>\n",
       "      <td>0</td>\n",
       "      <td>0</td>\n",
       "      <td>0</td>\n",
       "      <td>0</td>\n",
       "      <td>1</td>\n",
       "      <td>0</td>\n",
       "      <td>0</td>\n",
       "      <td>0</td>\n",
       "    </tr>\n",
       "    <tr>\n",
       "      <th>1979</th>\n",
       "      <td>2628</td>\n",
       "      <td>Star Wars: Episode I - The Phantom Menace (1999)</td>\n",
       "      <td>Action|Adventure|Sci-Fi</td>\n",
       "      <td>0</td>\n",
       "      <td>1</td>\n",
       "      <td>1</td>\n",
       "      <td>0</td>\n",
       "      <td>0</td>\n",
       "      <td>0</td>\n",
       "      <td>0</td>\n",
       "      <td>0</td>\n",
       "      <td>0</td>\n",
       "      <td>0</td>\n",
       "      <td>0</td>\n",
       "      <td>0</td>\n",
       "      <td>0</td>\n",
       "      <td>0</td>\n",
       "      <td>0</td>\n",
       "      <td>0</td>\n",
       "      <td>1</td>\n",
       "      <td>0</td>\n",
       "      <td>0</td>\n",
       "      <td>0</td>\n",
       "    </tr>\n",
       "    <tr>\n",
       "      <th>3832</th>\n",
       "      <td>5378</td>\n",
       "      <td>Star Wars: Episode II - Attack of the Clones (2002)</td>\n",
       "      <td>Action|Adventure|Sci-Fi|IMAX</td>\n",
       "      <td>0</td>\n",
       "      <td>1</td>\n",
       "      <td>1</td>\n",
       "      <td>0</td>\n",
       "      <td>0</td>\n",
       "      <td>0</td>\n",
       "      <td>0</td>\n",
       "      <td>0</td>\n",
       "      <td>0</td>\n",
       "      <td>0</td>\n",
       "      <td>0</td>\n",
       "      <td>0</td>\n",
       "      <td>1</td>\n",
       "      <td>0</td>\n",
       "      <td>0</td>\n",
       "      <td>0</td>\n",
       "      <td>1</td>\n",
       "      <td>0</td>\n",
       "      <td>0</td>\n",
       "      <td>0</td>\n",
       "    </tr>\n",
       "    <tr>\n",
       "      <th>5896</th>\n",
       "      <td>33493</td>\n",
       "      <td>Star Wars: Episode III - Revenge of the Sith (2005)</td>\n",
       "      <td>Action|Adventure|Sci-Fi</td>\n",
       "      <td>0</td>\n",
       "      <td>1</td>\n",
       "      <td>1</td>\n",
       "      <td>0</td>\n",
       "      <td>0</td>\n",
       "      <td>0</td>\n",
       "      <td>0</td>\n",
       "      <td>0</td>\n",
       "      <td>0</td>\n",
       "      <td>0</td>\n",
       "      <td>0</td>\n",
       "      <td>0</td>\n",
       "      <td>0</td>\n",
       "      <td>0</td>\n",
       "      <td>0</td>\n",
       "      <td>0</td>\n",
       "      <td>1</td>\n",
       "      <td>0</td>\n",
       "      <td>0</td>\n",
       "      <td>0</td>\n",
       "    </tr>\n",
       "    <tr>\n",
       "      <th>6823</th>\n",
       "      <td>61160</td>\n",
       "      <td>Star Wars: The Clone Wars (2008)</td>\n",
       "      <td>Action|Adventure|Animation|Sci-Fi</td>\n",
       "      <td>0</td>\n",
       "      <td>1</td>\n",
       "      <td>1</td>\n",
       "      <td>1</td>\n",
       "      <td>0</td>\n",
       "      <td>0</td>\n",
       "      <td>0</td>\n",
       "      <td>0</td>\n",
       "      <td>0</td>\n",
       "      <td>0</td>\n",
       "      <td>0</td>\n",
       "      <td>0</td>\n",
       "      <td>0</td>\n",
       "      <td>0</td>\n",
       "      <td>0</td>\n",
       "      <td>0</td>\n",
       "      <td>1</td>\n",
       "      <td>0</td>\n",
       "      <td>0</td>\n",
       "      <td>0</td>\n",
       "    </tr>\n",
       "    <tr>\n",
       "      <th>7367</th>\n",
       "      <td>79006</td>\n",
       "      <td>Empire of Dreams: The Story of the 'Star Wars' Trilogy (2004)</td>\n",
       "      <td>Documentary</td>\n",
       "      <td>0</td>\n",
       "      <td>0</td>\n",
       "      <td>0</td>\n",
       "      <td>0</td>\n",
       "      <td>0</td>\n",
       "      <td>0</td>\n",
       "      <td>0</td>\n",
       "      <td>1</td>\n",
       "      <td>0</td>\n",
       "      <td>0</td>\n",
       "      <td>0</td>\n",
       "      <td>0</td>\n",
       "      <td>0</td>\n",
       "      <td>0</td>\n",
       "      <td>0</td>\n",
       "      <td>0</td>\n",
       "      <td>0</td>\n",
       "      <td>0</td>\n",
       "      <td>0</td>\n",
       "      <td>0</td>\n",
       "    </tr>\n",
       "    <tr>\n",
       "      <th>8683</th>\n",
       "      <td>122886</td>\n",
       "      <td>Star Wars: Episode VII - The Force Awakens (2015)</td>\n",
       "      <td>Action|Adventure|Fantasy|Sci-Fi|IMAX</td>\n",
       "      <td>0</td>\n",
       "      <td>1</td>\n",
       "      <td>1</td>\n",
       "      <td>0</td>\n",
       "      <td>0</td>\n",
       "      <td>0</td>\n",
       "      <td>0</td>\n",
       "      <td>0</td>\n",
       "      <td>0</td>\n",
       "      <td>1</td>\n",
       "      <td>0</td>\n",
       "      <td>0</td>\n",
       "      <td>1</td>\n",
       "      <td>0</td>\n",
       "      <td>0</td>\n",
       "      <td>0</td>\n",
       "      <td>1</td>\n",
       "      <td>0</td>\n",
       "      <td>0</td>\n",
       "      <td>0</td>\n",
       "    </tr>\n",
       "    <tr>\n",
       "      <th>8908</th>\n",
       "      <td>135216</td>\n",
       "      <td>The Star Wars Holiday Special (1978)</td>\n",
       "      <td>Adventure|Children|Comedy|Sci-Fi</td>\n",
       "      <td>0</td>\n",
       "      <td>0</td>\n",
       "      <td>1</td>\n",
       "      <td>0</td>\n",
       "      <td>1</td>\n",
       "      <td>1</td>\n",
       "      <td>0</td>\n",
       "      <td>0</td>\n",
       "      <td>0</td>\n",
       "      <td>0</td>\n",
       "      <td>0</td>\n",
       "      <td>0</td>\n",
       "      <td>0</td>\n",
       "      <td>0</td>\n",
       "      <td>0</td>\n",
       "      <td>0</td>\n",
       "      <td>1</td>\n",
       "      <td>0</td>\n",
       "      <td>0</td>\n",
       "      <td>0</td>\n",
       "    </tr>\n",
       "    <tr>\n",
       "      <th>9433</th>\n",
       "      <td>166528</td>\n",
       "      <td>Rogue One: A Star Wars Story (2016)</td>\n",
       "      <td>Action|Adventure|Fantasy|Sci-Fi</td>\n",
       "      <td>0</td>\n",
       "      <td>1</td>\n",
       "      <td>1</td>\n",
       "      <td>0</td>\n",
       "      <td>0</td>\n",
       "      <td>0</td>\n",
       "      <td>0</td>\n",
       "      <td>0</td>\n",
       "      <td>0</td>\n",
       "      <td>1</td>\n",
       "      <td>0</td>\n",
       "      <td>0</td>\n",
       "      <td>0</td>\n",
       "      <td>0</td>\n",
       "      <td>0</td>\n",
       "      <td>0</td>\n",
       "      <td>1</td>\n",
       "      <td>0</td>\n",
       "      <td>0</td>\n",
       "      <td>0</td>\n",
       "    </tr>\n",
       "    <tr>\n",
       "      <th>9645</th>\n",
       "      <td>179819</td>\n",
       "      <td>Star Wars: The Last Jedi (2017)</td>\n",
       "      <td>Action|Adventure|Fantasy|Sci-Fi</td>\n",
       "      <td>0</td>\n",
       "      <td>1</td>\n",
       "      <td>1</td>\n",
       "      <td>0</td>\n",
       "      <td>0</td>\n",
       "      <td>0</td>\n",
       "      <td>0</td>\n",
       "      <td>0</td>\n",
       "      <td>0</td>\n",
       "      <td>1</td>\n",
       "      <td>0</td>\n",
       "      <td>0</td>\n",
       "      <td>0</td>\n",
       "      <td>0</td>\n",
       "      <td>0</td>\n",
       "      <td>0</td>\n",
       "      <td>1</td>\n",
       "      <td>0</td>\n",
       "      <td>0</td>\n",
       "      <td>0</td>\n",
       "    </tr>\n",
       "    <tr>\n",
       "      <th>9710</th>\n",
       "      <td>187595</td>\n",
       "      <td>Solo: A Star Wars Story (2018)</td>\n",
       "      <td>Action|Adventure|Children|Sci-Fi</td>\n",
       "      <td>0</td>\n",
       "      <td>1</td>\n",
       "      <td>1</td>\n",
       "      <td>0</td>\n",
       "      <td>1</td>\n",
       "      <td>0</td>\n",
       "      <td>0</td>\n",
       "      <td>0</td>\n",
       "      <td>0</td>\n",
       "      <td>0</td>\n",
       "      <td>0</td>\n",
       "      <td>0</td>\n",
       "      <td>0</td>\n",
       "      <td>0</td>\n",
       "      <td>0</td>\n",
       "      <td>0</td>\n",
       "      <td>1</td>\n",
       "      <td>0</td>\n",
       "      <td>0</td>\n",
       "      <td>0</td>\n",
       "    </tr>\n",
       "  </tbody>\n",
       "</table>\n",
       "</div>"
      ],
      "text/plain": [
       "      movieId                                                          title                                genres  (no genres listed)  Action  Adventure  Animation  Children  Comedy  Crime  Documentary  Drama  Fantasy  Film-Noir  Horror  IMAX  Musical  Mystery  Romance  Sci-Fi  Thriller  War  Western\n",
       "224   260      Star Wars: Episode IV - A New Hope (1977)                      Action|Adventure|Sci-Fi               0                   1       1          0          0         0       0      0            0      0        0          0       0     0        0        0        1       0         0    0      \n",
       "898   1196     Star Wars: Episode V - The Empire Strikes Back (1980)          Action|Adventure|Sci-Fi               0                   1       1          0          0         0       0      0            0      0        0          0       0     0        0        0        1       0         0    0      \n",
       "911   1210     Star Wars: Episode VI - Return of the Jedi (1983)              Action|Adventure|Sci-Fi               0                   1       1          0          0         0       0      0            0      0        0          0       0     0        0        0        1       0         0    0      \n",
       "1979  2628     Star Wars: Episode I - The Phantom Menace (1999)               Action|Adventure|Sci-Fi               0                   1       1          0          0         0       0      0            0      0        0          0       0     0        0        0        1       0         0    0      \n",
       "3832  5378     Star Wars: Episode II - Attack of the Clones (2002)            Action|Adventure|Sci-Fi|IMAX          0                   1       1          0          0         0       0      0            0      0        0          0       1     0        0        0        1       0         0    0      \n",
       "5896  33493    Star Wars: Episode III - Revenge of the Sith (2005)            Action|Adventure|Sci-Fi               0                   1       1          0          0         0       0      0            0      0        0          0       0     0        0        0        1       0         0    0      \n",
       "6823  61160    Star Wars: The Clone Wars (2008)                               Action|Adventure|Animation|Sci-Fi     0                   1       1          1          0         0       0      0            0      0        0          0       0     0        0        0        1       0         0    0      \n",
       "7367  79006    Empire of Dreams: The Story of the 'Star Wars' Trilogy (2004)  Documentary                           0                   0       0          0          0         0       0      1            0      0        0          0       0     0        0        0        0       0         0    0      \n",
       "8683  122886   Star Wars: Episode VII - The Force Awakens (2015)              Action|Adventure|Fantasy|Sci-Fi|IMAX  0                   1       1          0          0         0       0      0            0      1        0          0       1     0        0        0        1       0         0    0      \n",
       "8908  135216   The Star Wars Holiday Special (1978)                           Adventure|Children|Comedy|Sci-Fi      0                   0       1          0          1         1       0      0            0      0        0          0       0     0        0        0        1       0         0    0      \n",
       "9433  166528   Rogue One: A Star Wars Story (2016)                            Action|Adventure|Fantasy|Sci-Fi       0                   1       1          0          0         0       0      0            0      1        0          0       0     0        0        0        1       0         0    0      \n",
       "9645  179819   Star Wars: The Last Jedi (2017)                                Action|Adventure|Fantasy|Sci-Fi       0                   1       1          0          0         0       0      0            0      1        0          0       0     0        0        0        1       0         0    0      \n",
       "9710  187595   Solo: A Star Wars Story (2018)                                 Action|Adventure|Children|Sci-Fi      0                   1       1          0          1         0       0      0            0      0        0          0       0     0        0        0        1       0         0    0      "
      ]
     },
     "execution_count": 18,
     "metadata": {},
     "output_type": "execute_result"
    }
   ],
   "source": [
    "get_movie_ids_by_title(\"Star Wars\", movies)"
   ]
  },
  {
   "cell_type": "code",
   "execution_count": 109,
   "id": "55887d19",
   "metadata": {},
   "outputs": [
    {
     "data": {
      "text/html": [
       "<div>\n",
       "<style scoped>\n",
       "    .dataframe tbody tr th:only-of-type {\n",
       "        vertical-align: middle;\n",
       "    }\n",
       "\n",
       "    .dataframe tbody tr th {\n",
       "        vertical-align: top;\n",
       "    }\n",
       "\n",
       "    .dataframe thead th {\n",
       "        text-align: right;\n",
       "    }\n",
       "</style>\n",
       "<table border=\"1\" class=\"dataframe\">\n",
       "  <thead>\n",
       "    <tr style=\"text-align: right;\">\n",
       "      <th></th>\n",
       "      <th>movieId</th>\n",
       "      <th>title</th>\n",
       "      <th>genres</th>\n",
       "    </tr>\n",
       "  </thead>\n",
       "  <tbody>\n",
       "    <tr>\n",
       "      <th>1</th>\n",
       "      <td>2</td>\n",
       "      <td>Jumanji (1995)</td>\n",
       "      <td>Adventure|Children|Fantasy</td>\n",
       "    </tr>\n",
       "    <tr>\n",
       "      <th>9636</th>\n",
       "      <td>179401</td>\n",
       "      <td>Jumanji: Welcome to the Jungle (2017)</td>\n",
       "      <td>Action|Adventure|Children</td>\n",
       "    </tr>\n",
       "  </tbody>\n",
       "</table>\n",
       "</div>"
      ],
      "text/plain": [
       "      movieId                                  title                      genres\n",
       "1     2        Jumanji (1995)                         Adventure|Children|Fantasy\n",
       "9636  179401   Jumanji: Welcome to the Jungle (2017)  Action|Adventure|Children "
      ]
     },
     "execution_count": 109,
     "metadata": {},
     "output_type": "execute_result"
    }
   ],
   "source": [
    "get_movie_ids_by_title(\"Jumanji\", movies)"
   ]
  },
  {
   "cell_type": "code",
   "execution_count": 110,
   "id": "7b32e2a6",
   "metadata": {},
   "outputs": [
    {
     "data": {
      "text/html": [
       "<div>\n",
       "<style scoped>\n",
       "    .dataframe tbody tr th:only-of-type {\n",
       "        vertical-align: middle;\n",
       "    }\n",
       "\n",
       "    .dataframe tbody tr th {\n",
       "        vertical-align: top;\n",
       "    }\n",
       "\n",
       "    .dataframe thead th {\n",
       "        text-align: right;\n",
       "    }\n",
       "</style>\n",
       "<table border=\"1\" class=\"dataframe\">\n",
       "  <thead>\n",
       "    <tr style=\"text-align: right;\">\n",
       "      <th></th>\n",
       "      <th>movieId</th>\n",
       "      <th>title</th>\n",
       "      <th>genres</th>\n",
       "    </tr>\n",
       "  </thead>\n",
       "  <tbody>\n",
       "    <tr>\n",
       "      <th>313</th>\n",
       "      <td>355</td>\n",
       "      <td>Flintstones, The (1994)</td>\n",
       "      <td>Children|Comedy|Fantasy</td>\n",
       "    </tr>\n",
       "    <tr>\n",
       "      <th>2662</th>\n",
       "      <td>3564</td>\n",
       "      <td>Flintstones in Viva Rock Vegas, The (2000)</td>\n",
       "      <td>Children|Comedy</td>\n",
       "    </tr>\n",
       "    <tr>\n",
       "      <th>3909</th>\n",
       "      <td>5493</td>\n",
       "      <td>In Like Flint (1967)</td>\n",
       "      <td>Action|Adventure|Comedy</td>\n",
       "    </tr>\n",
       "    <tr>\n",
       "      <th>3910</th>\n",
       "      <td>5497</td>\n",
       "      <td>Our Man Flint (1965)</td>\n",
       "      <td>Adventure|Comedy|Sci-Fi</td>\n",
       "    </tr>\n",
       "    <tr>\n",
       "      <th>8717</th>\n",
       "      <td>126088</td>\n",
       "      <td>A Flintstones Christmas Carol (1994)</td>\n",
       "      <td>Animation|Children|Comedy</td>\n",
       "    </tr>\n",
       "    <tr>\n",
       "      <th>9739</th>\n",
       "      <td>193585</td>\n",
       "      <td>Flint (2017)</td>\n",
       "      <td>Drama</td>\n",
       "    </tr>\n",
       "  </tbody>\n",
       "</table>\n",
       "</div>"
      ],
      "text/plain": [
       "      movieId                                       title                     genres\n",
       "313   355      Flintstones, The (1994)                     Children|Comedy|Fantasy  \n",
       "2662  3564     Flintstones in Viva Rock Vegas, The (2000)  Children|Comedy          \n",
       "3909  5493     In Like Flint (1967)                        Action|Adventure|Comedy  \n",
       "3910  5497     Our Man Flint (1965)                        Adventure|Comedy|Sci-Fi  \n",
       "8717  126088   A Flintstones Christmas Carol (1994)        Animation|Children|Comedy\n",
       "9739  193585   Flint (2017)                                Drama                    "
      ]
     },
     "execution_count": 110,
     "metadata": {},
     "output_type": "execute_result"
    }
   ],
   "source": [
    "get_movie_ids_by_title(\"Flint\", movies)"
   ]
  },
  {
   "cell_type": "code",
   "execution_count": 111,
   "id": "c454621a",
   "metadata": {},
   "outputs": [
    {
     "data": {
      "text/html": [
       "<div>\n",
       "<style scoped>\n",
       "    .dataframe tbody tr th:only-of-type {\n",
       "        vertical-align: middle;\n",
       "    }\n",
       "\n",
       "    .dataframe tbody tr th {\n",
       "        vertical-align: top;\n",
       "    }\n",
       "\n",
       "    .dataframe thead th {\n",
       "        text-align: right;\n",
       "    }\n",
       "</style>\n",
       "<table border=\"1\" class=\"dataframe\">\n",
       "  <thead>\n",
       "    <tr style=\"text-align: right;\">\n",
       "      <th></th>\n",
       "      <th>userId</th>\n",
       "      <th>movieId</th>\n",
       "      <th>rating</th>\n",
       "      <th>timestamp</th>\n",
       "    </tr>\n",
       "  </thead>\n",
       "  <tbody>\n",
       "    <tr>\n",
       "      <th>27258</th>\n",
       "      <td>184</td>\n",
       "      <td>193585</td>\n",
       "      <td>3.5</td>\n",
       "      <td>1537109805</td>\n",
       "    </tr>\n",
       "  </tbody>\n",
       "</table>\n",
       "</div>"
      ],
      "text/plain": [
       "       userId  movieId  rating   timestamp\n",
       "27258  184     193585   3.5     1537109805"
      ]
     },
     "execution_count": 111,
     "metadata": {},
     "output_type": "execute_result"
    }
   ],
   "source": [
    "ratings.loc[ratings['movieId'] ==193585]\n"
   ]
  },
  {
   "cell_type": "markdown",
   "id": "ad16b282",
   "metadata": {},
   "source": [
    "##### Przegląd ocen i użytkowników"
   ]
  },
  {
   "cell_type": "code",
   "execution_count": 112,
   "id": "9864d474",
   "metadata": {},
   "outputs": [],
   "source": [
    "ratings = pd.read_csv('https://s3-us-west-2.amazonaws.com/recommender-tutorial/ratings.csv')\n",
    "movies = pd.read_csv('https://s3-us-west-2.amazonaws.com/recommender-tutorial/movies.csv')"
   ]
  },
  {
   "cell_type": "code",
   "execution_count": 113,
   "id": "bf67cc9f",
   "metadata": {},
   "outputs": [
    {
     "data": {
      "text/plain": [
       "userId\n",
       "414    2698\n",
       "599    2478\n",
       "474    2108\n",
       "448    1864\n",
       "274    1346\n",
       "Name: rating, dtype: int64"
      ]
     },
     "execution_count": 113,
     "metadata": {},
     "output_type": "execute_result"
    }
   ],
   "source": [
    "# Liczba ocen wystawionych przez danego użytkownika\n",
    "\n",
    "n_rated_movies_per_user = ratings.groupby(by='userId')['rating'].count().sort_values(ascending=False)\n",
    "\n",
    "n_rated_movies_per_user.head()"
   ]
  },
  {
   "cell_type": "code",
   "execution_count": 114,
   "id": "7aeec350",
   "metadata": {},
   "outputs": [
    {
     "data": {
      "text/html": [
       "<div>\n",
       "<style scoped>\n",
       "    .dataframe tbody tr th:only-of-type {\n",
       "        vertical-align: middle;\n",
       "    }\n",
       "\n",
       "    .dataframe tbody tr th {\n",
       "        vertical-align: top;\n",
       "    }\n",
       "\n",
       "    .dataframe thead th {\n",
       "        text-align: right;\n",
       "    }\n",
       "</style>\n",
       "<table border=\"1\" class=\"dataframe\">\n",
       "  <thead>\n",
       "    <tr style=\"text-align: right;\">\n",
       "      <th></th>\n",
       "      <th>userId</th>\n",
       "      <th>movieId</th>\n",
       "      <th>rating</th>\n",
       "    </tr>\n",
       "  </thead>\n",
       "  <tbody>\n",
       "    <tr>\n",
       "      <th>0</th>\n",
       "      <td>1</td>\n",
       "      <td>1</td>\n",
       "      <td>4.0</td>\n",
       "    </tr>\n",
       "    <tr>\n",
       "      <th>1</th>\n",
       "      <td>1</td>\n",
       "      <td>3</td>\n",
       "      <td>4.0</td>\n",
       "    </tr>\n",
       "    <tr>\n",
       "      <th>2</th>\n",
       "      <td>1</td>\n",
       "      <td>6</td>\n",
       "      <td>4.0</td>\n",
       "    </tr>\n",
       "    <tr>\n",
       "      <th>3</th>\n",
       "      <td>1</td>\n",
       "      <td>47</td>\n",
       "      <td>5.0</td>\n",
       "    </tr>\n",
       "    <tr>\n",
       "      <th>4</th>\n",
       "      <td>1</td>\n",
       "      <td>50</td>\n",
       "      <td>5.0</td>\n",
       "    </tr>\n",
       "  </tbody>\n",
       "</table>\n",
       "</div>"
      ],
      "text/plain": [
       "   userId  movieId  rating\n",
       "0  1       1        4.0   \n",
       "1  1       3        4.0   \n",
       "2  1       6        4.0   \n",
       "3  1       47       5.0   \n",
       "4  1       50       5.0   "
      ]
     },
     "execution_count": 114,
     "metadata": {},
     "output_type": "execute_result"
    }
   ],
   "source": [
    "# Usunięcie zbędnej kolumny \n",
    "ratings.drop(columns=['timestamp'], inplace=True)\n",
    "ratings.head()"
   ]
  },
  {
   "cell_type": "code",
   "execution_count": 24,
   "id": "dd298432",
   "metadata": {},
   "outputs": [
    {
     "name": "stdout",
     "output_type": "stream",
     "text": [
      "\n",
      " Liczba ocenionych filmów przekracza 40 na użytkownika : 428\n",
      "\n"
     ]
    }
   ],
   "source": [
    "print('\\n Liczba ocenionych filmów przekracza 40 na użytkownika : {}\\n'.format(sum(n_rated_movies_per_user >= 40)) )\n"
   ]
  },
  {
   "cell_type": "code",
   "execution_count": 25,
   "id": "7daac7ed",
   "metadata": {},
   "outputs": [
    {
     "name": "stdout",
     "output_type": "stream",
     "text": [
      "\n",
      " Liczba ocenionych filmów nie przekracza 20 na użytkownika : 14\n",
      "\n"
     ]
    }
   ],
   "source": [
    "print('\\n Liczba ocenionych filmów nie przekracza 20 na użytkownika : {}\\n'.format(sum(n_rated_movies_per_user <= 20)) )\n"
   ]
  },
  {
   "cell_type": "code",
   "execution_count": 26,
   "id": "16a6c800",
   "metadata": {},
   "outputs": [
    {
     "name": "stdout",
     "output_type": "stream",
     "text": [
      "Film ID: 356, Tytuł: Forrest Gump (1994), Liczba ocen: 329\n",
      "Film ID: 318, Tytuł: Shawshank Redemption, The (1994), Liczba ocen: 317\n",
      "Film ID: 296, Tytuł: Pulp Fiction (1994), Liczba ocen: 307\n",
      "Film ID: 593, Tytuł: Silence of the Lambs, The (1991), Liczba ocen: 279\n",
      "Film ID: 2571, Tytuł: Matrix, The (1999), Liczba ocen: 278\n"
     ]
    }
   ],
   "source": [
    "# sprawdzenie filmów z największą liczbą ocen\n",
    "top_movies = ratings.groupby('movieId')['rating'].count().sort_values(ascending=False).head()\n",
    "\n",
    "for movie_id, rating_count in top_movies.items():\n",
    "    movie_title = movies.loc[movies['movieId'] == movie_id, 'title'].iloc[0]\n",
    "    print(f\"Film ID: {movie_id}, Tytuł: {movie_title}, Liczba ocen: {rating_count}\")"
   ]
  },
  {
   "cell_type": "code",
   "execution_count": 27,
   "id": "7ac6b6bb",
   "metadata": {},
   "outputs": [
    {
     "name": "stdout",
     "output_type": "stream",
     "text": [
      "Film ID: 193609, Tytuł: Andrew Dice Clay: Dice Rules (1991), Liczba ocen: 1\n",
      "Film ID: 4032, Tytuł: Everlasting Piece, An (2000), Liczba ocen: 1\n",
      "Film ID: 57526, Tytuł: Untraceable (2008), Liczba ocen: 1\n",
      "Film ID: 57522, Tytuł: First Sunday (2008), Liczba ocen: 1\n",
      "Film ID: 57502, Tytuł: Cat Soup (Nekojiru-so) (2001), Liczba ocen: 1\n"
     ]
    }
   ],
   "source": [
    "# filmy z najniższą liczbą ocen\n",
    "down_movies = ratings.groupby('movieId')['rating'].count().sort_values(ascending=True).head()\n",
    "down_movies\n",
    "for movie_id, rating_count in down_movies.items():\n",
    "    movie_title = movies.loc[movies['movieId'] == movie_id, 'title'].iloc[0]\n",
    "    print(f\"Film ID: {movie_id}, Tytuł: {movie_title}, Liczba ocen: {rating_count}\")\n"
   ]
  },
  {
   "cell_type": "code",
   "execution_count": 28,
   "id": "a50322e8",
   "metadata": {},
   "outputs": [
    {
     "name": "stdout",
     "output_type": "stream",
     "text": [
      "Liczba filmów z 1 oceną: 3446\n",
      "Liczba filmów z 2 ocenami: 1298\n",
      "Liczba filmów z 3 ocenami: 800\n"
     ]
    }
   ],
   "source": [
    "# Zliczanie liczby ocen dla każdego filmu\n",
    "movie_ratings_counts = ratings['movieId'].value_counts()\n",
    "\n",
    "# Zliczanie filmów z 1,2 i 3 ocenami\n",
    "movies_with_one_rating = (movie_ratings_counts == 1).sum()\n",
    "movies_with_two_ratings = (movie_ratings_counts == 2).sum()\n",
    "movies_with_three_ratings = (movie_ratings_counts == 3).sum()\n",
    "\n",
    "print(f\"Liczba filmów z 1 oceną: {movies_with_one_rating}\")\n",
    "print(f\"Liczba filmów z 2 ocenami: {movies_with_two_ratings}\")\n",
    "print(f\"Liczba filmów z 3 ocenami: {movies_with_three_ratings}\")\n"
   ]
  },
  {
   "cell_type": "code",
   "execution_count": 29,
   "id": "b2d7b6fd",
   "metadata": {},
   "outputs": [
    {
     "name": "stdout",
     "output_type": "stream",
     "text": [
      "1.287\n"
     ]
    }
   ],
   "source": [
    "print(((movies_with_two_ratings/len(merged_data['movieId']))*100).round(3))"
   ]
  },
  {
   "cell_type": "markdown",
   "id": "a8812f82",
   "metadata": {},
   "source": [
    "Filmy z jedną oceną stanowią $1.29\\%$ całego zbioru. \n",
    "\n",
    "`SVD` jest w stanie poradzić sobie z tym, jednak mogą one wprowadzać 'szum'."
   ]
  },
  {
   "cell_type": "code",
   "execution_count": 30,
   "id": "47b0e087",
   "metadata": {},
   "outputs": [
    {
     "name": "stdout",
     "output_type": "stream",
     "text": [
      "Powtarzające się tytuły filmów:\n",
      "                                       title\n",
      "650   Emma (1996)                           \n",
      "2141  Saturn 3 (1980)                       \n",
      "4169  Confessions of a Dangerous Mind (2002)\n",
      "5601  Emma (1996)                           \n",
      "5854  Eros (2004)                           \n",
      "5931  War of the Worlds (2005)              \n",
      "6932  War of the Worlds (2005)              \n",
      "9106  Confessions of a Dangerous Mind (2002)\n",
      "9135  Eros (2004)                           \n",
      "9468  Saturn 3 (1980)                       \n"
     ]
    }
   ],
   "source": [
    "# Sprawdzenie czy tytuły filmów się powtarzają\n",
    "duplicates = movies[movies.duplicated(subset=['title'], keep=False)]\n",
    "if duplicates.empty:\n",
    "    print(\"Nie ma powtarzających się tytułów filmów.\")\n",
    "else:\n",
    "    print(\"Powtarzające się tytuły filmów:\")\n",
    "    print(duplicates[['title']])\n"
   ]
  },
  {
   "cell_type": "code",
   "execution_count": 31,
   "id": "b499069d",
   "metadata": {},
   "outputs": [
    {
     "name": "stdout",
     "output_type": "stream",
     "text": [
      "Nie ma powtarzających się ID filmów.\n"
     ]
    }
   ],
   "source": [
    "# Sprawdzenie czy ID filmów się powtarzają\n",
    "duplicates_id = movies[movies.duplicated(subset=['movieId'], keep=False)]\n",
    "if duplicates_id.empty:\n",
    "    print(\"Nie ma powtarzających się ID filmów.\")\n",
    "else:\n",
    "    print(\"Powtarzające się ID filmów:\")\n",
    "    print(duplicates_id[['movieId']])\n"
   ]
  },
  {
   "cell_type": "markdown",
   "id": "d8b8058d",
   "metadata": {},
   "source": [
    "Kilka filmów ma ten sam tytuł ale inne ID. Zostawiam powtarzające się tytuły."
   ]
  },
  {
   "cell_type": "markdown",
   "id": "97e04322",
   "metadata": {},
   "source": [
    "##### Wstępne przygotowanie danych do biblioteki 'Surprise'"
   ]
  },
  {
   "cell_type": "code",
   "execution_count": 115,
   "id": "8bc16d52",
   "metadata": {},
   "outputs": [],
   "source": [
    "min_rating = ratings.rating.min()\n",
    "max_rating = ratings.rating.max()\n",
    "\n",
    "reader = Reader(rating_scale=(min_rating, max_rating))\n",
    "\n",
    "data = Dataset.load_from_df(ratings[['userId', 'movieId', 'rating']], reader)\n",
    "\n",
    "# train_set, test_set = train_test_split(data, test_size=0.25, random_state=0)\n",
    "trainset = data.build_full_trainset()"
   ]
  },
  {
   "cell_type": "markdown",
   "id": "a141c8cf",
   "metadata": {},
   "source": [
    "## Cross-Validation"
   ]
  },
  {
   "cell_type": "code",
   "execution_count": 116,
   "id": "df4894d3",
   "metadata": {},
   "outputs": [
    {
     "data": {
      "text/plain": [
       "<surprise.prediction_algorithms.matrix_factorization.SVD at 0x2115dc008b0>"
      ]
     },
     "execution_count": 116,
     "metadata": {},
     "output_type": "execute_result"
    }
   ],
   "source": [
    "# train and fit SVD model\n",
    "svd = SVD()\n",
    "svd.fit(trainset)"
   ]
  },
  {
   "cell_type": "code",
   "execution_count": 118,
   "id": "ed8cff04",
   "metadata": {},
   "outputs": [
    {
     "name": "stdout",
     "output_type": "stream",
     "text": [
      "Computing the msd similarity matrix...\n",
      "Done computing similarity matrix.\n"
     ]
    },
    {
     "data": {
      "text/plain": [
       "<surprise.prediction_algorithms.knns.KNNWithMeans at 0x2115dc01240>"
      ]
     },
     "execution_count": 118,
     "metadata": {},
     "output_type": "execute_result"
    }
   ],
   "source": [
    "# train and fit KNNWithMeans model\n",
    "kNNmean = KNNWithMeans()\n",
    "kNNmean.fit(trainset)"
   ]
  },
  {
   "cell_type": "code",
   "execution_count": 179,
   "id": "85ce7333",
   "metadata": {},
   "outputs": [
    {
     "name": "stdout",
     "output_type": "stream",
     "text": [
      "Computing the msd similarity matrix...\n",
      "Done computing similarity matrix.\n",
      "Computing the msd similarity matrix...\n",
      "Done computing similarity matrix.\n",
      "Computing the msd similarity matrix...\n",
      "Done computing similarity matrix.\n",
      "Computing the msd similarity matrix...\n",
      "Done computing similarity matrix.\n",
      "Computing the msd similarity matrix...\n",
      "Done computing similarity matrix.\n",
      "Computing the msd similarity matrix...\n",
      "Done computing similarity matrix.\n",
      "Computing the msd similarity matrix...\n",
      "Done computing similarity matrix.\n",
      "Computing the msd similarity matrix...\n",
      "Done computing similarity matrix.\n",
      "Computing the msd similarity matrix...\n",
      "Done computing similarity matrix.\n",
      "Computing the msd similarity matrix...\n",
      "Done computing similarity matrix.\n"
     ]
    },
    {
     "data": {
      "text/html": [
       "<div>\n",
       "<style scoped>\n",
       "    .dataframe tbody tr th:only-of-type {\n",
       "        vertical-align: middle;\n",
       "    }\n",
       "\n",
       "    .dataframe tbody tr th {\n",
       "        vertical-align: top;\n",
       "    }\n",
       "\n",
       "    .dataframe thead th {\n",
       "        text-align: right;\n",
       "    }\n",
       "</style>\n",
       "<table border=\"1\" class=\"dataframe\">\n",
       "  <thead>\n",
       "    <tr style=\"text-align: right;\">\n",
       "      <th></th>\n",
       "      <th>test_rmse</th>\n",
       "      <th>test_mae</th>\n",
       "      <th>fit_time</th>\n",
       "      <th>test_time</th>\n",
       "    </tr>\n",
       "    <tr>\n",
       "      <th>Algorithm</th>\n",
       "      <th></th>\n",
       "      <th></th>\n",
       "      <th></th>\n",
       "      <th></th>\n",
       "    </tr>\n",
       "  </thead>\n",
       "  <tbody>\n",
       "    <tr>\n",
       "      <th>SVD</th>\n",
       "      <td>0.868750</td>\n",
       "      <td>0.666652</td>\n",
       "      <td>0.815721</td>\n",
       "      <td>0.040610</td>\n",
       "    </tr>\n",
       "    <tr>\n",
       "      <th>KNNWithMeans</th>\n",
       "      <td>0.893093</td>\n",
       "      <td>0.681986</td>\n",
       "      <td>0.179892</td>\n",
       "      <td>0.507646</td>\n",
       "    </tr>\n",
       "  </tbody>\n",
       "</table>\n",
       "</div>"
      ],
      "text/plain": [
       "              test_rmse  test_mae  fit_time  test_time\n",
       "Algorithm                                             \n",
       "SVD           0.868750   0.666652  0.815721  0.040610 \n",
       "KNNWithMeans  0.893093   0.681986  0.179892  0.507646 "
      ]
     },
     "execution_count": 179,
     "metadata": {},
     "output_type": "execute_result"
    }
   ],
   "source": [
    "benchmark = []\n",
    "# iterate over all algorithms\n",
    "for algorithm in [svd, kNNmean]:\n",
    "\n",
    "    results = cross_validate(algorithm, data, measures=['RMSE', 'MAE'], cv=10, verbose=False)\n",
    "    \n",
    "    # get results & create a new DF row\n",
    "    algorithm_name = str(algorithm).split(' ')[0].split('.')[-1]\n",
    "    tmp = pd.DataFrame.from_dict(results).mean(axis=0)\n",
    "    tmp['Algorithm'] = algorithm_name\n",
    "    benchmark.append(tmp)\n",
    "    \n",
    "# create a DF from the benchmark list\n",
    "benchmark_df = pd.DataFrame(benchmark).set_index('Algorithm').sort_values('test_rmse')\n",
    "benchmark_df\n"
   ]
  },
  {
   "cell_type": "markdown",
   "id": "f656495f",
   "metadata": {},
   "source": [
    "#### Hiperparametryzacja"
   ]
  },
  {
   "cell_type": "code",
   "execution_count": 195,
   "id": "f64387db",
   "metadata": {},
   "outputs": [
    {
     "name": "stdout",
     "output_type": "stream",
     "text": [
      "MAE Best Parameters:  {'k': 6, 'sim_options': {'name': 'pearson_baseline', 'user_based': False}}\n",
      "MAE Best Score:       0.6892054000257396\n",
      "\n",
      "RMSE Best Parameters: {'k': 6, 'sim_options': {'name': 'pearson_baseline', 'user_based': False}}\n",
      "RMSE Best Score:      0.9080711754677658\n",
      "\n"
     ]
    }
   ],
   "source": [
    "# Hyperparameter tuning - KNNWithMeans\n",
    "param_grid = {\n",
    "    'k': [2, 3, 4, 5, 6],\n",
    "    'sim_options': {\n",
    "        'name': ['cosine', 'pearson', 'pearson_baseline'],\n",
    "        'user_based': [True, False],\n",
    "    }\n",
    "}\n",
    "\n",
    "\n",
    "grid_search_KNNWithMeans = GridSearchCV(KNNWithMeans, param_grid, measures=['mae', 'rmse'], \\\n",
    "                                      cv=5, n_jobs=-1)\n",
    "                                    \n",
    "grid_search_KNNWithMeans.fit(data)\n",
    "\n",
    "print(f'MAE Best Parameters:  {grid_search_KNNWithMeans.best_params[\"mae\"]}')\n",
    "print(f'MAE Best Score:       {grid_search_KNNWithMeans.best_score[\"mae\"]}\\n')\n",
    "\n",
    "print(f'RMSE Best Parameters: {grid_search_KNNWithMeans.best_params[\"rmse\"]}')\n",
    "print(f'RMSE Best Score:      {grid_search_KNNWithMeans.best_score[\"rmse\"]}\\n')"
   ]
  },
  {
   "cell_type": "code",
   "execution_count": 198,
   "id": "7a04a16a",
   "metadata": {},
   "outputs": [],
   "source": [
    "params = grid_search_KNNWithMeans.best_params['mae']"
   ]
  },
  {
   "cell_type": "code",
   "execution_count": 40,
   "id": "e11eec80",
   "metadata": {},
   "outputs": [
    {
     "ename": "NameError",
     "evalue": "name 'params' is not defined",
     "output_type": "error",
     "traceback": [
      "\u001b[1;31m---------------------------------------------------------------------------\u001b[0m",
      "\u001b[1;31mNameError\u001b[0m                                 Traceback (most recent call last)",
      "Cell \u001b[1;32mIn[40], line 2\u001b[0m\n\u001b[0;32m      1\u001b[0m \u001b[38;5;66;03m# train and fit KNNWithMeans model with hyperparameters\u001b[39;00m\n\u001b[1;32m----> 2\u001b[0m kNNmean \u001b[38;5;241m=\u001b[39m KNNWithMeans(\u001b[43mparams\u001b[49m)\n\u001b[0;32m      3\u001b[0m kNNmean\u001b[38;5;241m.\u001b[39mfit(train_set)\n",
      "\u001b[1;31mNameError\u001b[0m: name 'params' is not defined"
     ]
    }
   ],
   "source": [
    "# train and fit KNNWithMeans model with hyperparameters\n",
    "kNNmean = KNNWithMeans(params)\n",
    "kNNmean.fit(trainset)"
   ]
  },
  {
   "cell_type": "markdown",
   "id": "7a838ae0",
   "metadata": {},
   "source": [
    "### SVD"
   ]
  },
  {
   "cell_type": "code",
   "execution_count": 68,
   "id": "8182a3cf",
   "metadata": {},
   "outputs": [],
   "source": [
    "# #USER-BASED\n",
    "# def get_recommendations_svd(ratings_df, movies_df, n, movie_id):\n",
    "#     \"\"\"\n",
    "#     Generates movie recommendations for users based on their ratings using the SVD algorithm.\n",
    "    \n",
    "#     This function is user-focused. It takes a movie ID and recommends other movies that might be liked \n",
    "#     by users who rated the given movie highly. \n",
    "#     It does this by predicting ratings for all users for the given movie, selecting the users who \n",
    "#     have the highest predicted ratings, and then recommending other movies that these users have rated highly.\n",
    "    \n",
    "#     Args:\n",
    "#         ratings_df: pandas DataFrame containing user ratings for movies, containing 'userId', 'movieId', 'rating' columns\n",
    "#         movies_df: pandas DataFrame containing information about movies, containing 'movieId', 'title' columns\n",
    "#         n: number of films to be recommended\n",
    "#         movie_id: identifier of the film for which recommendations are generated\n",
    "\n",
    "#     Returns:\n",
    "#         recommended_titles: List of titles of recommended films\n",
    "#     \"\"\"\n",
    "   \n",
    "#     # Create a Surprise reader and load data\n",
    "#     reader = Reader(rating_scale=(0.5, 5))\n",
    "#     data = Dataset.load_from_df(ratings_df[['userId', 'movieId', 'rating']], reader)\n",
    "\n",
    "#     # Build the trainset\n",
    "#     trainset = data.build_full_trainset()\n",
    "\n",
    "#     # Initialize the SVD model\n",
    "#     model = SVD(random_state=0)\n",
    "\n",
    "#     # Fit the model to the data\n",
    "#     model.fit(trainset)\n",
    "\n",
    "#     # Get movie title and genres for the selected movie\n",
    "#     movie_info = movies_df[movies_df['movieId'] == movie_id]\n",
    "#     movie_title = movie_info['title'].values[0]\n",
    "#     movie_genres = movie_info['genres'].values[0]\n",
    "\n",
    "#     # Create a DataFrame with all user IDs and the given movie ID\n",
    "#     all_user_ids = ratings_df['userId'].unique()\n",
    "#     users_who_rated_movie = pd.DataFrame({\n",
    "#         'userId': all_user_ids,\n",
    "#         'movieId': [movie_id] * len(all_user_ids),\n",
    "#         'rating': [0] * len(all_user_ids)\n",
    "#     })\n",
    "\n",
    "#     # Predict ratings for users who have rated the given movie\n",
    "#     users_who_rated_movie['predicted_rating'] = users_who_rated_movie['userId'].apply(\n",
    "#         lambda x: model.predict(x, movie_id).est\n",
    "#     )\n",
    "\n",
    "#     # Sort users by predicted ratings\n",
    "#     recommended_users = users_who_rated_movie.sort_values(by='predicted_rating', ascending=False).head(n)\n",
    "\n",
    "#     # Get recommended movie titles (excluding the input movie)\n",
    "#     recommended_titles = ratings_df[\n",
    "#         (ratings_df['userId'].isin(recommended_users['userId'])) & (ratings_df['movieId'] != movie_id)\n",
    "#     ].merge(movies_df, on='movieId')['title'].unique()[:n]\n",
    "\n",
    "#     return recommended_titles\n"
   ]
  },
  {
   "cell_type": "code",
   "execution_count": 119,
   "id": "27fdc838",
   "metadata": {},
   "outputs": [],
   "source": [
    "def get_similar_movies_svd(movie_id, n):\n",
    "    \n",
    "    \"\"\"\n",
    "    Finds other movies that are similar to the given movie based on their latent factors in the SVD model.\n",
    "    \n",
    "    This function is item-focused. It takes a movie ID and finds other movies that are similar to the given \n",
    "    movie based on their latent factors in the SVD model. \n",
    "    It computes the cosine similarity between the latent factors of the given movie and all other movies, \n",
    "    and returns the movies with the highest similarity scores.\n",
    "    \n",
    "    Args:\n",
    "        movie_id: Identifier of the film for which similar movies are to be found\n",
    "        n: Number of similar films to be found\n",
    "\n",
    "    Returns:\n",
    "    \"\"\"\n",
    "\n",
    "    trainset = data.build_full_trainset()\n",
    "\n",
    "    # get latent factors for the specified movie\n",
    "    movie_factors = svd.qi[svd.trainset.to_inner_iid(movie_id)]\n",
    "\n",
    "    # Compute cosine similarity between the specified movie and all other movies\n",
    "    similarities = cosine_similarity([movie_factors], svd.qi)\n",
    "\n",
    "    # Get indices of top similar movies\n",
    "    similar_movie_indices = np.argsort(similarities[0])[-n-1:-1][::-1]\n",
    "\n",
    "    # Construct a list of similar movies\n",
    "    similar_movies = []\n",
    "    for idx in similar_movie_indices:\n",
    "        similar_movie_id = svd.trainset.to_raw_iid(idx)\n",
    "        similar_movie_name = movies[movies['movieId'] == similar_movie_id]['title'].iloc[0]\n",
    "        similar_movies.append(similar_movie_name)\n",
    "\n",
    "    return similar_movies\n"
   ]
  },
  {
   "cell_type": "code",
   "execution_count": 120,
   "id": "4946a104",
   "metadata": {},
   "outputs": [
    {
     "name": "stdout",
     "output_type": "stream",
     "text": [
      "Because you watched Jumanji (1995) (Adventure, Children, Fantasy):\n",
      "\n",
      "* Pleasantville (1998) (Comedy, Drama, Fantasy)\n",
      "* Secret of Roan Inish, The (1994) (Children, Drama, Fantasy, Mystery)\n",
      "* Pawnbroker, The (1964) (Drama)\n",
      "* Mortal Kombat (1995) (Action, Adventure, Fantasy)\n",
      "* Down Periscope (1996) (Comedy)\n"
     ]
    }
   ],
   "source": [
    "# ITEM BASED\n",
    "# define which movie ID that we want to give recommendation\n",
    "movie_id = 2\n",
    "# how many similar movies return\n",
    "n = 5\n",
    "\n",
    "# get movie title and genres for the selected movie\n",
    "movie_info = movies[movies['movieId'] == movie_id]\n",
    "movie_title = movie_info['title'].values[0]\n",
    "movie_genres = movie_info['genres'].values[0]\n",
    "\n",
    "# get recommended titles\n",
    "recommended_titles = get_similar_movies_svd(movie_id, n)\n",
    "\n",
    "print(f'Because you watched {movie_title} ({\", \".join(movie_genres.split(\"|\"))}):\\n')\n",
    "for title in recommended_titles:\n",
    "    recommended_movie_info = movies[movies['title'] == title]\n",
    "    if not recommended_movie_info.empty:\n",
    "        recommended_genres = recommended_movie_info['genres'].values[0]\n",
    "        print(f'* {title} ({\", \".join(recommended_genres.split(\"|\"))})')\n",
    "    else:\n",
    "        print(f'* {title}')\n"
   ]
  },
  {
   "cell_type": "code",
   "execution_count": 121,
   "id": "667cc282",
   "metadata": {},
   "outputs": [
    {
     "name": "stdout",
     "output_type": "stream",
     "text": [
      "Because you watched Flint (2017) (Drama):\n",
      "\n",
      "* Serving in Silence: The Margarethe Cammermeyer Story (1995) ((no genres listed))\n",
      "* Night Shift (1982) (Comedy)\n",
      "* I Am a Sex Addict (2005) (Comedy, Documentary, Romance)\n",
      "* Dead Presidents (1995) (Action, Crime, Drama)\n",
      "* Eve of Destruction (1991) (Action, Sci-Fi, Thriller)\n"
     ]
    }
   ],
   "source": [
    "# ITEM BASED\n",
    "# define which movie ID that we want to give recommendation\n",
    "movie_id = 193585\n",
    "# how many similar movies return\n",
    "n = 5\n",
    "\n",
    "# get movie title and genres for the selected movie\n",
    "movie_info = movies[movies['movieId'] == movie_id]\n",
    "movie_title = movie_info['title'].values[0]\n",
    "movie_genres = movie_info['genres'].values[0]\n",
    "\n",
    "# get recommended titles\n",
    "recommended_titles = get_similar_movies_svd(movie_id, n)\n",
    "\n",
    "print(f'Because you watched {movie_title} ({\", \".join(movie_genres.split(\"|\"))}):\\n')\n",
    "for title in recommended_titles:\n",
    "    recommended_movie_info = movies[movies['title'] == title]\n",
    "    if not recommended_movie_info.empty:\n",
    "        recommended_genres = recommended_movie_info['genres'].values[0]\n",
    "        print(f'* {title} ({\", \".join(recommended_genres.split(\"|\"))})')\n",
    "    else:\n",
    "        print(f'* {title}')\n"
   ]
  },
  {
   "cell_type": "markdown",
   "id": "e37f1c9b",
   "metadata": {},
   "source": [
    "### kNNwithMeans"
   ]
  },
  {
   "cell_type": "code",
   "execution_count": 122,
   "id": "00f45583",
   "metadata": {},
   "outputs": [],
   "source": [
    "def get_recommendations_knn(movie_id, k):\n",
    "    \"\"\"\n",
    "    Generates movie recommendations for users based on their ratings using the KNNWithMeans algorithm.\n",
    "    \n",
    "    Args:\n",
    "        ratings_df: pandas DataFrame containing user ratings for movies, containing 'userId', 'movieId', 'rating' columns\n",
    "        movies_df: pandas DataFrame containing information about movies, containing 'movieId', 'title' columns\n",
    "        k: Number of neighbors to consider\n",
    "        movie_id: Identifier of the film for which recommendations are generated\n",
    "\n",
    "    Returns:\n",
    "        recommended_titles: List of titles of recommended films\n",
    "    \"\"\"\n",
    "    \n",
    "    trainset = data.build_full_trainset()\n",
    "\n",
    "    # Get similar movies based on the provided movie_id\n",
    "    movie_id_inner = trainset.to_inner_iid(movie_id)\n",
    "    neighbors = kNNmean.get_neighbors(movie_id_inner, k=k)\n",
    "\n",
    "    # Sort the neighbors based on similarity scores\n",
    "    neighbors = sorted(neighbors, key=lambda x: kNNmean.sim[movie_id_inner, x], reverse=True)\n",
    "\n",
    "    # Get the titles of the top n neighbors\n",
    "    recommended_titles = [movies[movies['movieId'] == trainset \\\n",
    "                                    .to_raw_iid(inner_id)]['title'] \\\n",
    "                          .values[0] for inner_id in neighbors[:k]]\n",
    "\n",
    "    return recommended_titles"
   ]
  },
  {
   "cell_type": "code",
   "execution_count": 123,
   "id": "92cd5b41",
   "metadata": {},
   "outputs": [
    {
     "name": "stdout",
     "output_type": "stream",
     "text": [
      "\n",
      "Because you watched Jumanji (1995) (Adventure, Children, Fantasy)\n",
      "\n",
      "* Mr. Smith Goes to Washington (1939) (Drama)\n",
      "* Groundhog Day (1993) (Comedy, Fantasy, Romance)\n",
      "* ¡Three Amigos! (1986) (Comedy, Western)\n",
      "* Inglourious Basterds (2009) (Action, Drama, War)\n",
      "* 2012 (2009) (Action, Drama, Sci-Fi, Thriller)\n",
      "* Beauty and the Beast (1991) (Animation, Children, Fantasy, Musical, Romance, IMAX)\n"
     ]
    }
   ],
   "source": [
    "# define which movie ID that we want to give recommendation\n",
    "movie_id = 2\n",
    "# how many neighbors take\n",
    "k = 6\n",
    "\n",
    "# Get movie title and genres for the selected movie\n",
    "movie_info = movies[movies['movieId'] == movie_id]\n",
    "movie_title = movie_info['title'].values[0]\n",
    "movie_genres = movie_info['genres'].values[0]\n",
    "\n",
    "recommended_titles= get_recommendations_knn(movie_id, k)\n",
    "\n",
    "print('')\n",
    "print(f'Because you watched {movie_title} ({\", \".join(movie_genres.split(\"|\"))})\\n')\n",
    "for title in recommended_titles:\n",
    "    recommended_movie_info = movies[movies['title'] == title]\n",
    "    if not recommended_movie_info.empty:\n",
    "        recommended_genres = recommended_movie_info['genres'].values[0]\n",
    "        print(f'* {title} ({\", \".join(recommended_genres.split(\"|\"))})')\n",
    "    else:\n",
    "        print(f'* {title}')"
   ]
  },
  {
   "cell_type": "code",
   "execution_count": 124,
   "id": "ec8be004",
   "metadata": {},
   "outputs": [
    {
     "ename": "IndexError",
     "evalue": "index 5489 is out of bounds for axis 0 with size 610",
     "output_type": "error",
     "traceback": [
      "\u001b[1;31m---------------------------------------------------------------------------\u001b[0m",
      "\u001b[1;31mIndexError\u001b[0m                                Traceback (most recent call last)",
      "Cell \u001b[1;32mIn[124], line 11\u001b[0m\n\u001b[0;32m      8\u001b[0m movie_title \u001b[38;5;241m=\u001b[39m movie_info[\u001b[38;5;124m'\u001b[39m\u001b[38;5;124mtitle\u001b[39m\u001b[38;5;124m'\u001b[39m]\u001b[38;5;241m.\u001b[39mvalues[\u001b[38;5;241m0\u001b[39m]\n\u001b[0;32m      9\u001b[0m movie_genres \u001b[38;5;241m=\u001b[39m movie_info[\u001b[38;5;124m'\u001b[39m\u001b[38;5;124mgenres\u001b[39m\u001b[38;5;124m'\u001b[39m]\u001b[38;5;241m.\u001b[39mvalues[\u001b[38;5;241m0\u001b[39m]\n\u001b[1;32m---> 11\u001b[0m recommended_titles\u001b[38;5;241m=\u001b[39m \u001b[43mget_recommendations_knn\u001b[49m\u001b[43m(\u001b[49m\u001b[43mmovie_id\u001b[49m\u001b[43m,\u001b[49m\u001b[43m \u001b[49m\u001b[43mk\u001b[49m\u001b[43m)\u001b[49m\n\u001b[0;32m     13\u001b[0m \u001b[38;5;28mprint\u001b[39m(\u001b[38;5;124m'\u001b[39m\u001b[38;5;124m'\u001b[39m)\n\u001b[0;32m     14\u001b[0m \u001b[38;5;28mprint\u001b[39m(\u001b[38;5;124mf\u001b[39m\u001b[38;5;124m'\u001b[39m\u001b[38;5;124mBecause you watched \u001b[39m\u001b[38;5;132;01m{\u001b[39;00mmovie_title\u001b[38;5;132;01m}\u001b[39;00m\u001b[38;5;124m (\u001b[39m\u001b[38;5;132;01m{\u001b[39;00m\u001b[38;5;124m\"\u001b[39m\u001b[38;5;124m, \u001b[39m\u001b[38;5;124m\"\u001b[39m\u001b[38;5;241m.\u001b[39mjoin(movie_genres\u001b[38;5;241m.\u001b[39msplit(\u001b[38;5;124m\"\u001b[39m\u001b[38;5;124m|\u001b[39m\u001b[38;5;124m\"\u001b[39m))\u001b[38;5;132;01m}\u001b[39;00m\u001b[38;5;124m)\u001b[39m\u001b[38;5;130;01m\\n\u001b[39;00m\u001b[38;5;124m'\u001b[39m)\n",
      "Cell \u001b[1;32mIn[122], line 19\u001b[0m, in \u001b[0;36mget_recommendations_knn\u001b[1;34m(movie_id, k)\u001b[0m\n\u001b[0;32m     17\u001b[0m \u001b[38;5;66;03m# Get similar movies based on the provided movie_id\u001b[39;00m\n\u001b[0;32m     18\u001b[0m movie_id_inner \u001b[38;5;241m=\u001b[39m trainset\u001b[38;5;241m.\u001b[39mto_inner_iid(movie_id)\n\u001b[1;32m---> 19\u001b[0m neighbors \u001b[38;5;241m=\u001b[39m \u001b[43mkNNmean\u001b[49m\u001b[38;5;241;43m.\u001b[39;49m\u001b[43mget_neighbors\u001b[49m\u001b[43m(\u001b[49m\u001b[43mmovie_id_inner\u001b[49m\u001b[43m,\u001b[49m\u001b[43m \u001b[49m\u001b[43mk\u001b[49m\u001b[38;5;241;43m=\u001b[39;49m\u001b[43mk\u001b[49m\u001b[43m)\u001b[49m\n\u001b[0;32m     21\u001b[0m \u001b[38;5;66;03m# Sort the neighbors based on similarity scores\u001b[39;00m\n\u001b[0;32m     22\u001b[0m neighbors \u001b[38;5;241m=\u001b[39m \u001b[38;5;28msorted\u001b[39m(neighbors, key\u001b[38;5;241m=\u001b[39m\u001b[38;5;28;01mlambda\u001b[39;00m x: kNNmean\u001b[38;5;241m.\u001b[39msim[movie_id_inner, x], reverse\u001b[38;5;241m=\u001b[39m\u001b[38;5;28;01mTrue\u001b[39;00m)\n",
      "File \u001b[1;32m~\\anaconda3\\envs\\Magisterka\\lib\\site-packages\\surprise\\prediction_algorithms\\algo_base.py:288\u001b[0m, in \u001b[0;36mAlgoBase.get_neighbors\u001b[1;34m(self, iid, k)\u001b[0m\n\u001b[0;32m    286\u001b[0m \u001b[38;5;28;01melse\u001b[39;00m:\n\u001b[0;32m    287\u001b[0m     all_instances \u001b[38;5;241m=\u001b[39m \u001b[38;5;28mself\u001b[39m\u001b[38;5;241m.\u001b[39mtrainset\u001b[38;5;241m.\u001b[39mall_items\n\u001b[1;32m--> 288\u001b[0m others \u001b[38;5;241m=\u001b[39m [(x, \u001b[38;5;28mself\u001b[39m\u001b[38;5;241m.\u001b[39msim[iid, x]) \u001b[38;5;28;01mfor\u001b[39;00m x \u001b[38;5;129;01min\u001b[39;00m all_instances() \u001b[38;5;28;01mif\u001b[39;00m x \u001b[38;5;241m!=\u001b[39m iid]\n\u001b[0;32m    289\u001b[0m others \u001b[38;5;241m=\u001b[39m heapq\u001b[38;5;241m.\u001b[39mnlargest(k, others, key\u001b[38;5;241m=\u001b[39m\u001b[38;5;28;01mlambda\u001b[39;00m tple: tple[\u001b[38;5;241m1\u001b[39m])\n\u001b[0;32m    290\u001b[0m k_nearest_neighbors \u001b[38;5;241m=\u001b[39m [j \u001b[38;5;28;01mfor\u001b[39;00m (j, _) \u001b[38;5;129;01min\u001b[39;00m others]\n",
      "File \u001b[1;32m~\\anaconda3\\envs\\Magisterka\\lib\\site-packages\\surprise\\prediction_algorithms\\algo_base.py:288\u001b[0m, in \u001b[0;36m<listcomp>\u001b[1;34m(.0)\u001b[0m\n\u001b[0;32m    286\u001b[0m \u001b[38;5;28;01melse\u001b[39;00m:\n\u001b[0;32m    287\u001b[0m     all_instances \u001b[38;5;241m=\u001b[39m \u001b[38;5;28mself\u001b[39m\u001b[38;5;241m.\u001b[39mtrainset\u001b[38;5;241m.\u001b[39mall_items\n\u001b[1;32m--> 288\u001b[0m others \u001b[38;5;241m=\u001b[39m [(x, \u001b[38;5;28;43mself\u001b[39;49m\u001b[38;5;241;43m.\u001b[39;49m\u001b[43msim\u001b[49m\u001b[43m[\u001b[49m\u001b[43miid\u001b[49m\u001b[43m,\u001b[49m\u001b[43m \u001b[49m\u001b[43mx\u001b[49m\u001b[43m]\u001b[49m) \u001b[38;5;28;01mfor\u001b[39;00m x \u001b[38;5;129;01min\u001b[39;00m all_instances() \u001b[38;5;28;01mif\u001b[39;00m x \u001b[38;5;241m!=\u001b[39m iid]\n\u001b[0;32m    289\u001b[0m others \u001b[38;5;241m=\u001b[39m heapq\u001b[38;5;241m.\u001b[39mnlargest(k, others, key\u001b[38;5;241m=\u001b[39m\u001b[38;5;28;01mlambda\u001b[39;00m tple: tple[\u001b[38;5;241m1\u001b[39m])\n\u001b[0;32m    290\u001b[0m k_nearest_neighbors \u001b[38;5;241m=\u001b[39m [j \u001b[38;5;28;01mfor\u001b[39;00m (j, _) \u001b[38;5;129;01min\u001b[39;00m others]\n",
      "\u001b[1;31mIndexError\u001b[0m: index 5489 is out of bounds for axis 0 with size 610"
     ]
    }
   ],
   "source": [
    "# define which movie ID that we want to give recommendation\n",
    "movie_id = 193585\n",
    "# how many neighbors take\n",
    "k = 6\n",
    "\n",
    "# Get movie title and genres for the selected movie\n",
    "movie_info = movies[movies['movieId'] == movie_id]\n",
    "movie_title = movie_info['title'].values[0]\n",
    "movie_genres = movie_info['genres'].values[0]\n",
    "\n",
    "recommended_titles= get_recommendations_knn(movie_id, k)\n",
    "\n",
    "print('')\n",
    "print(f'Because you watched {movie_title} ({\", \".join(movie_genres.split(\"|\"))})\\n')\n",
    "for title in recommended_titles:\n",
    "    recommended_movie_info = movies[movies['title'] == title]\n",
    "    if not recommended_movie_info.empty:\n",
    "        recommended_genres = recommended_movie_info['genres'].values[0]\n",
    "        print(f'* {title} ({\", \".join(recommended_genres.split(\"|\"))})')\n",
    "    else:\n",
    "        print(f'* {title}')"
   ]
  },
  {
   "cell_type": "markdown",
   "id": "6b0ecfc5",
   "metadata": {},
   "source": [
    "Te dwie funkcje są odpowiedzialne za konwertowanie identyfikatorów przedmiotów między ich formą \"surową\" a \"wewnętrzną\" w kontekście zestawu treningowego.\n",
    "\n",
    "    Funkcja to_inner_iid przekształca identyfikator surowy (RIID) na identyfikator wewnętrzny (IIID). Oznacza to, że bierze identyfikator surowy przedmiotu (np. ciąg znaków) i zwraca odpowiadający mu identyfikator wewnętrzny (np. liczba całkowita). Jeśli dany identyfikator surowy nie istnieje w zestawie treningowym, funkcja zgłasza wyjątek ValueError.\n",
    "\n",
    "    Funkcja to_raw_iid przekształca identyfikator wewnętrzny (IIID) na identyfikator surowy (RIID). Oznacza to, że bierze identyfikator wewnętrzny przedmiotu (np. liczba całkowita) i zwraca odpowiadający mu identyfikator surowy (np. ciąg znaków). Funkcja ta tworzy mapowanie odwrotne z wewnętrznych identyfikatorów do identyfikatorów surowych, jeśli to jeszcze nie zostało wykonane. Jeśli dany identyfikator wewnętrzny nie istnieje w zestawie treningowym, funkcja zgłasza wyjątek ValueError."
   ]
  },
  {
   "cell_type": "code",
   "execution_count": 60,
   "id": "45f4e045",
   "metadata": {},
   "outputs": [],
   "source": [
    "def get_recommendations_knn(movie_id, k):\n",
    "    \"\"\"\n",
    "    Generates movie recommendations for users based on their ratings using the KNNWithMeans algorithm.\n",
    "    \n",
    "    Args:\n",
    "        ratings_df: pandas DataFrame containing user ratings for movies, containing 'userId', 'movieId', 'rating' columns\n",
    "        movies_df: pandas DataFrame containing information about movies, containing 'movieId', 'title' columns\n",
    "        k: Number of neighbors to consider\n",
    "        movie_id: Identifier of the film for which recommendations are generated\n",
    "\n",
    "    Returns:\n",
    "        recommended_titles: List of titles of recommended films\n",
    "    \"\"\"\n",
    "    \n",
    "    trainset = data.build_full_trainset()  \n",
    "\n",
    "    # Get similar movies based on the provided movie_id\n",
    "    movie_id_inner = kNNmean.trainset.to_inner_iid(movie_id)\n",
    "    neighbors = kNNmean.get_neighbors(movie_id_inner, k=k)\n",
    "\n",
    "    # Sort the neighbors based on similarity scores\n",
    "    neighbors = sorted(neighbors, key=lambda x: kNNmean.sim[movie_id_inner, x], reverse=True)\n",
    "\n",
    "    # Get the titles of the top n neighbors\n",
    "    recommended_titles = [movies[movies['movieId'] == trainset \\\n",
    "                                    .to_raw_iid(inner_id)]['title'] \\\n",
    "                          .values[0] for inner_id in neighbors[:k]]\n",
    "\n",
    "    return recommended_titles"
   ]
  },
  {
   "cell_type": "code",
   "execution_count": 125,
   "id": "c76d5a8b",
   "metadata": {},
   "outputs": [
    {
     "name": "stdout",
     "output_type": "stream",
     "text": [
      "Film o ID 193585 nie istnieje w zbiorze danych treningowych.\n"
     ]
    }
   ],
   "source": [
    "iid_to_check = '193585'\n",
    "\n",
    "if trainset.knows_item(iid_to_check):\n",
    "    print(f\"Film o ID {iid_to_check} istnieje w zbiorze danych treningowych.\")\n",
    "else:\n",
    "    print(f\"Film o ID {iid_to_check} nie istnieje w zbiorze danych treningowych.\")\n"
   ]
  },
  {
   "cell_type": "code",
   "execution_count": 80,
   "id": "e6cfbc77",
   "metadata": {},
   "outputs": [
    {
     "data": {
      "text/html": [
       "<div>\n",
       "<style scoped>\n",
       "    .dataframe tbody tr th:only-of-type {\n",
       "        vertical-align: middle;\n",
       "    }\n",
       "\n",
       "    .dataframe tbody tr th {\n",
       "        vertical-align: top;\n",
       "    }\n",
       "\n",
       "    .dataframe thead th {\n",
       "        text-align: right;\n",
       "    }\n",
       "</style>\n",
       "<table border=\"1\" class=\"dataframe\">\n",
       "  <thead>\n",
       "    <tr style=\"text-align: right;\">\n",
       "      <th></th>\n",
       "      <th>userId</th>\n",
       "      <th>movieId</th>\n",
       "      <th>rating</th>\n",
       "    </tr>\n",
       "  </thead>\n",
       "  <tbody>\n",
       "    <tr>\n",
       "      <th>0</th>\n",
       "      <td>1</td>\n",
       "      <td>1</td>\n",
       "      <td>4.0</td>\n",
       "    </tr>\n",
       "    <tr>\n",
       "      <th>1</th>\n",
       "      <td>1</td>\n",
       "      <td>3</td>\n",
       "      <td>4.0</td>\n",
       "    </tr>\n",
       "    <tr>\n",
       "      <th>2</th>\n",
       "      <td>1</td>\n",
       "      <td>6</td>\n",
       "      <td>4.0</td>\n",
       "    </tr>\n",
       "    <tr>\n",
       "      <th>3</th>\n",
       "      <td>1</td>\n",
       "      <td>47</td>\n",
       "      <td>5.0</td>\n",
       "    </tr>\n",
       "    <tr>\n",
       "      <th>4</th>\n",
       "      <td>1</td>\n",
       "      <td>50</td>\n",
       "      <td>5.0</td>\n",
       "    </tr>\n",
       "  </tbody>\n",
       "</table>\n",
       "</div>"
      ],
      "text/plain": [
       "   userId  movieId  rating\n",
       "0  1       1        4.0   \n",
       "1  1       3        4.0   \n",
       "2  1       6        4.0   \n",
       "3  1       47       5.0   \n",
       "4  1       50       5.0   "
      ]
     },
     "execution_count": 80,
     "metadata": {},
     "output_type": "execute_result"
    }
   ],
   "source": [
    "ratings.head()"
   ]
  },
  {
   "cell_type": "code",
   "execution_count": 79,
   "id": "dd4cf301",
   "metadata": {},
   "outputs": [
    {
     "name": "stdout",
     "output_type": "stream",
     "text": [
      "Computing the msd similarity matrix...\n",
      "Done computing similarity matrix.\n",
      "5489\n"
     ]
    },
    {
     "ename": "IndexError",
     "evalue": "index 5489 is out of bounds for axis 0 with size 610",
     "output_type": "error",
     "traceback": [
      "\u001b[1;31m---------------------------------------------------------------------------\u001b[0m",
      "\u001b[1;31mIndexError\u001b[0m                                Traceback (most recent call last)",
      "Cell \u001b[1;32mIn[79], line 18\u001b[0m\n\u001b[0;32m     16\u001b[0m movie_id_inner \u001b[38;5;241m=\u001b[39m kNNmean\u001b[38;5;241m.\u001b[39mtrainset\u001b[38;5;241m.\u001b[39mto_inner_iid(movie_id)\n\u001b[0;32m     17\u001b[0m \u001b[38;5;28mprint\u001b[39m(movie_id_inner)\n\u001b[1;32m---> 18\u001b[0m neighbors \u001b[38;5;241m=\u001b[39m \u001b[43mkNNmean\u001b[49m\u001b[38;5;241;43m.\u001b[39;49m\u001b[43mget_neighbors\u001b[49m\u001b[43m(\u001b[49m\u001b[43mmovie_id_inner\u001b[49m\u001b[43m,\u001b[49m\u001b[43m \u001b[49m\u001b[43mk\u001b[49m\u001b[38;5;241;43m=\u001b[39;49m\u001b[43mk\u001b[49m\u001b[43m)\u001b[49m\n",
      "File \u001b[1;32m~\\anaconda3\\envs\\Magisterka\\lib\\site-packages\\surprise\\prediction_algorithms\\algo_base.py:288\u001b[0m, in \u001b[0;36mAlgoBase.get_neighbors\u001b[1;34m(self, iid, k)\u001b[0m\n\u001b[0;32m    286\u001b[0m \u001b[38;5;28;01melse\u001b[39;00m:\n\u001b[0;32m    287\u001b[0m     all_instances \u001b[38;5;241m=\u001b[39m \u001b[38;5;28mself\u001b[39m\u001b[38;5;241m.\u001b[39mtrainset\u001b[38;5;241m.\u001b[39mall_items\n\u001b[1;32m--> 288\u001b[0m others \u001b[38;5;241m=\u001b[39m [(x, \u001b[38;5;28mself\u001b[39m\u001b[38;5;241m.\u001b[39msim[iid, x]) \u001b[38;5;28;01mfor\u001b[39;00m x \u001b[38;5;129;01min\u001b[39;00m all_instances() \u001b[38;5;28;01mif\u001b[39;00m x \u001b[38;5;241m!=\u001b[39m iid]\n\u001b[0;32m    289\u001b[0m others \u001b[38;5;241m=\u001b[39m heapq\u001b[38;5;241m.\u001b[39mnlargest(k, others, key\u001b[38;5;241m=\u001b[39m\u001b[38;5;28;01mlambda\u001b[39;00m tple: tple[\u001b[38;5;241m1\u001b[39m])\n\u001b[0;32m    290\u001b[0m k_nearest_neighbors \u001b[38;5;241m=\u001b[39m [j \u001b[38;5;28;01mfor\u001b[39;00m (j, _) \u001b[38;5;129;01min\u001b[39;00m others]\n",
      "File \u001b[1;32m~\\anaconda3\\envs\\Magisterka\\lib\\site-packages\\surprise\\prediction_algorithms\\algo_base.py:288\u001b[0m, in \u001b[0;36m<listcomp>\u001b[1;34m(.0)\u001b[0m\n\u001b[0;32m    286\u001b[0m \u001b[38;5;28;01melse\u001b[39;00m:\n\u001b[0;32m    287\u001b[0m     all_instances \u001b[38;5;241m=\u001b[39m \u001b[38;5;28mself\u001b[39m\u001b[38;5;241m.\u001b[39mtrainset\u001b[38;5;241m.\u001b[39mall_items\n\u001b[1;32m--> 288\u001b[0m others \u001b[38;5;241m=\u001b[39m [(x, \u001b[38;5;28;43mself\u001b[39;49m\u001b[38;5;241;43m.\u001b[39;49m\u001b[43msim\u001b[49m\u001b[43m[\u001b[49m\u001b[43miid\u001b[49m\u001b[43m,\u001b[49m\u001b[43m \u001b[49m\u001b[43mx\u001b[49m\u001b[43m]\u001b[49m) \u001b[38;5;28;01mfor\u001b[39;00m x \u001b[38;5;129;01min\u001b[39;00m all_instances() \u001b[38;5;28;01mif\u001b[39;00m x \u001b[38;5;241m!=\u001b[39m iid]\n\u001b[0;32m    289\u001b[0m others \u001b[38;5;241m=\u001b[39m heapq\u001b[38;5;241m.\u001b[39mnlargest(k, others, key\u001b[38;5;241m=\u001b[39m\u001b[38;5;28;01mlambda\u001b[39;00m tple: tple[\u001b[38;5;241m1\u001b[39m])\n\u001b[0;32m    290\u001b[0m k_nearest_neighbors \u001b[38;5;241m=\u001b[39m [j \u001b[38;5;28;01mfor\u001b[39;00m (j, _) \u001b[38;5;129;01min\u001b[39;00m others]\n",
      "\u001b[1;31mIndexError\u001b[0m: index 5489 is out of bounds for axis 0 with size 610"
     ]
    }
   ],
   "source": [
    "\n",
    "ratings = pd.read_csv('https://s3-us-west-2.amazonaws.com/recommender-tutorial/ratings.csv')\n",
    "movies = pd.read_csv('https://s3-us-west-2.amazonaws.com/recommender-tutorial/movies.csv')\n",
    "\n",
    "min_rating = ratings.rating.min()\n",
    "max_rating = ratings.rating.max()\n",
    "\n",
    "reader = Reader(rating_scale=(min_rating, max_rating))\n",
    "\n",
    "data = Dataset.load_from_df(ratings[['userId', 'movieId', 'rating']], reader)\n",
    "\n",
    "# train_set, test_set = train_test_split(data, test_size=0.25, random_state=0)\n",
    "trainset = data.build_full_trainset()\n",
    "\n",
    "# train and fit KNNWithMeans model\n",
    "kNNmean = KNNWithMeans()\n",
    "kNNmean.fit(trainset)\n",
    "\n",
    "# Get similar movies based on the provided movie_id\n",
    "movie_id_inner = kNNmean.trainset.to_inner_iid(movie_id)\n",
    "print(movie_id_inner)\n",
    "neighbors = kNNmean.get_neighbors(movie_id_inner, k=k)"
   ]
  },
  {
   "cell_type": "markdown",
   "id": "f29d510d",
   "metadata": {},
   "source": [
    "# ++++++"
   ]
  },
  {
   "cell_type": "code",
   "execution_count": 94,
   "id": "7258d3f9",
   "metadata": {},
   "outputs": [
    {
     "name": "stdout",
     "output_type": "stream",
     "text": [
      "Computing the msd similarity matrix...\n",
      "Done computing similarity matrix.\n",
      "Film o ID 193585 nie istnieje w zestawie treningowym.\n"
     ]
    },
    {
     "ename": "IndexError",
     "evalue": "index 5489 is out of bounds for axis 0 with size 610",
     "output_type": "error",
     "traceback": [
      "\u001b[1;31m---------------------------------------------------------------------------\u001b[0m",
      "\u001b[1;31mIndexError\u001b[0m                                Traceback (most recent call last)",
      "Cell \u001b[1;32mIn[94], line 52\u001b[0m\n\u001b[0;32m     49\u001b[0m movie_inner_id \u001b[38;5;241m=\u001b[39m kNNmean\u001b[38;5;241m.\u001b[39mtrainset\u001b[38;5;241m.\u001b[39mto_inner_iid(chosen_movie_id)\n\u001b[0;32m     51\u001b[0m \u001b[38;5;66;03m# Uzyskanie rekomendacji dla filmu \"Flint\" (identyfikator wewnętrzny)\u001b[39;00m\n\u001b[1;32m---> 52\u001b[0m movie_neighbors \u001b[38;5;241m=\u001b[39m \u001b[43mkNNmean\u001b[49m\u001b[38;5;241;43m.\u001b[39;49m\u001b[43mget_neighbors\u001b[49m\u001b[43m(\u001b[49m\u001b[43mmovie_inner_id\u001b[49m\u001b[43m,\u001b[49m\u001b[43m \u001b[49m\u001b[43mk\u001b[49m\u001b[38;5;241;43m=\u001b[39;49m\u001b[38;5;241;43m6\u001b[39;49m\u001b[43m)\u001b[49m\n\u001b[0;32m     54\u001b[0m \u001b[38;5;66;03m# Konwersja identyfikatorów wewnętrznych na identyfikatory zewnętrzne (nazwy filmów)\u001b[39;00m\n\u001b[0;32m     55\u001b[0m movie_neighbors_raw_ids \u001b[38;5;241m=\u001b[39m [kNNmean\u001b[38;5;241m.\u001b[39mtrainset\u001b[38;5;241m.\u001b[39mto_raw_iid(movie_inner_id) \u001b[38;5;28;01mfor\u001b[39;00m movie_inner_id \u001b[38;5;129;01min\u001b[39;00m movie_neighbors]\n",
      "File \u001b[1;32m~\\anaconda3\\envs\\Magisterka\\lib\\site-packages\\surprise\\prediction_algorithms\\algo_base.py:288\u001b[0m, in \u001b[0;36mAlgoBase.get_neighbors\u001b[1;34m(self, iid, k)\u001b[0m\n\u001b[0;32m    286\u001b[0m \u001b[38;5;28;01melse\u001b[39;00m:\n\u001b[0;32m    287\u001b[0m     all_instances \u001b[38;5;241m=\u001b[39m \u001b[38;5;28mself\u001b[39m\u001b[38;5;241m.\u001b[39mtrainset\u001b[38;5;241m.\u001b[39mall_items\n\u001b[1;32m--> 288\u001b[0m others \u001b[38;5;241m=\u001b[39m [(x, \u001b[38;5;28mself\u001b[39m\u001b[38;5;241m.\u001b[39msim[iid, x]) \u001b[38;5;28;01mfor\u001b[39;00m x \u001b[38;5;129;01min\u001b[39;00m all_instances() \u001b[38;5;28;01mif\u001b[39;00m x \u001b[38;5;241m!=\u001b[39m iid]\n\u001b[0;32m    289\u001b[0m others \u001b[38;5;241m=\u001b[39m heapq\u001b[38;5;241m.\u001b[39mnlargest(k, others, key\u001b[38;5;241m=\u001b[39m\u001b[38;5;28;01mlambda\u001b[39;00m tple: tple[\u001b[38;5;241m1\u001b[39m])\n\u001b[0;32m    290\u001b[0m k_nearest_neighbors \u001b[38;5;241m=\u001b[39m [j \u001b[38;5;28;01mfor\u001b[39;00m (j, _) \u001b[38;5;129;01min\u001b[39;00m others]\n",
      "File \u001b[1;32m~\\anaconda3\\envs\\Magisterka\\lib\\site-packages\\surprise\\prediction_algorithms\\algo_base.py:288\u001b[0m, in \u001b[0;36m<listcomp>\u001b[1;34m(.0)\u001b[0m\n\u001b[0;32m    286\u001b[0m \u001b[38;5;28;01melse\u001b[39;00m:\n\u001b[0;32m    287\u001b[0m     all_instances \u001b[38;5;241m=\u001b[39m \u001b[38;5;28mself\u001b[39m\u001b[38;5;241m.\u001b[39mtrainset\u001b[38;5;241m.\u001b[39mall_items\n\u001b[1;32m--> 288\u001b[0m others \u001b[38;5;241m=\u001b[39m [(x, \u001b[38;5;28;43mself\u001b[39;49m\u001b[38;5;241;43m.\u001b[39;49m\u001b[43msim\u001b[49m\u001b[43m[\u001b[49m\u001b[43miid\u001b[49m\u001b[43m,\u001b[49m\u001b[43m \u001b[49m\u001b[43mx\u001b[49m\u001b[43m]\u001b[49m) \u001b[38;5;28;01mfor\u001b[39;00m x \u001b[38;5;129;01min\u001b[39;00m all_instances() \u001b[38;5;28;01mif\u001b[39;00m x \u001b[38;5;241m!=\u001b[39m iid]\n\u001b[0;32m    289\u001b[0m others \u001b[38;5;241m=\u001b[39m heapq\u001b[38;5;241m.\u001b[39mnlargest(k, others, key\u001b[38;5;241m=\u001b[39m\u001b[38;5;28;01mlambda\u001b[39;00m tple: tple[\u001b[38;5;241m1\u001b[39m])\n\u001b[0;32m    290\u001b[0m k_nearest_neighbors \u001b[38;5;241m=\u001b[39m [j \u001b[38;5;28;01mfor\u001b[39;00m (j, _) \u001b[38;5;129;01min\u001b[39;00m others]\n",
      "\u001b[1;31mIndexError\u001b[0m: index 5489 is out of bounds for axis 0 with size 610"
     ]
    }
   ],
   "source": [
    "ratings = pd.read_csv('https://s3-us-west-2.amazonaws.com/recommender-tutorial/ratings.csv')\n",
    "movies = pd.read_csv('https://s3-us-west-2.amazonaws.com/recommender-tutorial/movies.csv')\n",
    "\n",
    "min_rating = ratings.rating.min()\n",
    "max_rating = ratings.rating.max()\n",
    "\n",
    "reader = Reader(rating_scale=(min_rating, max_rating))\n",
    "\n",
    "data = Dataset.load_from_df(ratings[['userId', 'movieId', 'rating']], reader)\n",
    "\n",
    "train_set = data.build_full_trainset()\n",
    "\n",
    "# train and fit KNNWithMeans model\n",
    "kNNmean = KNNWithMeans()\n",
    "kNNmean.fit(train_set)\n",
    "\n",
    "movies_rates=pd.merge(movies[[\"movieId\", \"title\", 'genres']], ratings[['movieId', 'rating']], left_on=\"movieId\", right_on=\"movieId\")\n",
    "\n",
    "movies_names = movies_rates[[\"movieId\", \"title\"]].drop_duplicates()\n",
    "movies_names[['title', 'year']] = movies_names['title'].str.split(' \\(', n=1, expand=True)\n",
    "movies_names['year'] = movies_names['year'].str.rstrip(')')\n",
    "\n",
    "\n",
    "min_rating = ratings.rating.min()\n",
    "max_rating = ratings.rating.max()\n",
    "\n",
    "reader = Reader(rating_scale=(min_rating, max_rating))\n",
    "data = Dataset.load_from_df(ratings[['userId', 'movieId', 'rating']], reader)\n",
    "\n",
    "trainset = data.build_full_trainset()\n",
    "\n",
    "# Sprawdź, czy film o ID 193585 istnieje w zestawie treningowym\n",
    "if trainset.knows_item(193585):\n",
    "    print(\"Film o ID 193585 istnieje w zestawie treningowym.\")\n",
    "else:\n",
    "    print(\"Film o ID 193585 nie istnieje w zestawie treningowym.\")\n",
    "\n",
    "\n",
    "#pierwszy słownik pozwala wyszukać id na podstawie tytułu (bez roku)\n",
    "movies_dict= {row['title']: row['movieId'] for _, row in movies_names.iterrows()}\n",
    "#drugi słownik pozwala wyszukać film na podstawie id\n",
    "id_dict= {row['movieId']: row['title'] for _, row in movies_names.iterrows()}\n",
    "\n",
    "chosen_title=\"Flint\"\n",
    "\n",
    "chosen_movie_id= movies_dict[chosen_title]\n",
    "\n",
    "# Uzyskanie identyfikatora wewnętrznego dla filmu \"Flint\"\n",
    "movie_inner_id = kNNmean.trainset.to_inner_iid(chosen_movie_id)\n",
    "\n",
    "# Uzyskanie rekomendacji dla filmu \"Flint\" (identyfikator wewnętrzny)\n",
    "movie_neighbors = kNNmean.get_neighbors(movie_inner_id, k=6)\n",
    "\n",
    "# Konwersja identyfikatorów wewnętrznych na identyfikatory zewnętrzne (nazwy filmów)\n",
    "movie_neighbors_raw_ids = [kNNmean.trainset.to_raw_iid(movie_inner_id) for movie_inner_id in movie_neighbors]\n",
    "\n",
    "# Wydrukowanie rekomendacji\n",
    "print(f\"Rekomendowane filmy dla filmu {chosen_title}:\")\n",
    "for movie_id in movie_neighbors_raw_ids:\n",
    "    print(id_dict[movie_id])"
   ]
  },
  {
   "cell_type": "code",
   "execution_count": 137,
   "id": "fe488ac4",
   "metadata": {},
   "outputs": [
    {
     "data": {
      "text/html": [
       "<div>\n",
       "<style scoped>\n",
       "    .dataframe tbody tr th:only-of-type {\n",
       "        vertical-align: middle;\n",
       "    }\n",
       "\n",
       "    .dataframe tbody tr th {\n",
       "        vertical-align: top;\n",
       "    }\n",
       "\n",
       "    .dataframe thead th {\n",
       "        text-align: right;\n",
       "    }\n",
       "</style>\n",
       "<table border=\"1\" class=\"dataframe\">\n",
       "  <thead>\n",
       "    <tr style=\"text-align: right;\">\n",
       "      <th></th>\n",
       "      <th>movieId</th>\n",
       "      <th>title</th>\n",
       "      <th>genres</th>\n",
       "    </tr>\n",
       "  </thead>\n",
       "  <tbody>\n",
       "    <tr>\n",
       "      <th>9739</th>\n",
       "      <td>193585</td>\n",
       "      <td>Flint (2017)</td>\n",
       "      <td>Drama</td>\n",
       "    </tr>\n",
       "  </tbody>\n",
       "</table>\n",
       "</div>"
      ],
      "text/plain": [
       "      movieId         title genres\n",
       "9739  193585   Flint (2017)  Drama"
      ]
     },
     "execution_count": 137,
     "metadata": {},
     "output_type": "execute_result"
    }
   ],
   "source": [
    "movies.loc[movies['movieId'] == 193585 ]"
   ]
  },
  {
   "cell_type": "code",
   "execution_count": 136,
   "id": "e15e55d8",
   "metadata": {},
   "outputs": [
    {
     "data": {
      "text/html": [
       "<div>\n",
       "<style scoped>\n",
       "    .dataframe tbody tr th:only-of-type {\n",
       "        vertical-align: middle;\n",
       "    }\n",
       "\n",
       "    .dataframe tbody tr th {\n",
       "        vertical-align: top;\n",
       "    }\n",
       "\n",
       "    .dataframe thead th {\n",
       "        text-align: right;\n",
       "    }\n",
       "</style>\n",
       "<table border=\"1\" class=\"dataframe\">\n",
       "  <thead>\n",
       "    <tr style=\"text-align: right;\">\n",
       "      <th></th>\n",
       "      <th>userId</th>\n",
       "      <th>movieId</th>\n",
       "      <th>rating</th>\n",
       "      <th>timestamp</th>\n",
       "    </tr>\n",
       "  </thead>\n",
       "  <tbody>\n",
       "    <tr>\n",
       "      <th>27258</th>\n",
       "      <td>184</td>\n",
       "      <td>193585</td>\n",
       "      <td>3.5</td>\n",
       "      <td>1537109805</td>\n",
       "    </tr>\n",
       "  </tbody>\n",
       "</table>\n",
       "</div>"
      ],
      "text/plain": [
       "       userId  movieId  rating   timestamp\n",
       "27258  184     193585   3.5     1537109805"
      ]
     },
     "execution_count": 136,
     "metadata": {},
     "output_type": "execute_result"
    }
   ],
   "source": [
    "ratings.loc[ratings['movieId'] == 193585 ]"
   ]
  },
  {
   "cell_type": "code",
   "execution_count": 138,
   "id": "503370f5",
   "metadata": {},
   "outputs": [
    {
     "name": "stdout",
     "output_type": "stream",
     "text": [
      "Film o movie_id 193585 istnieje w zestawie danych.\n"
     ]
    }
   ],
   "source": [
    "if 193585 in ratings['movieId'].values:\n",
    "    print(\"Film o movie_id 193585 istnieje w zestawie danych.\")\n",
    "else:\n",
    "    print(\"Film o movie_id 193585 nie istnieje w zestawie danych.\")\n"
   ]
  },
  {
   "cell_type": "code",
   "execution_count": null,
   "id": "6bc22457",
   "metadata": {},
   "outputs": [],
   "source": []
  },
  {
   "cell_type": "code",
   "execution_count": 107,
   "id": "4c79ea57",
   "metadata": {},
   "outputs": [
    {
     "name": "stdout",
     "output_type": "stream",
     "text": [
      "Computing the msd similarity matrix...\n",
      "Done computing similarity matrix.\n"
     ]
    },
    {
     "ename": "IndexError",
     "evalue": "index 5489 is out of bounds for axis 0 with size 610",
     "output_type": "error",
     "traceback": [
      "\u001b[1;31m---------------------------------------------------------------------------\u001b[0m",
      "\u001b[1;31mIndexError\u001b[0m                                Traceback (most recent call last)",
      "Cell \u001b[1;32mIn[107], line 57\u001b[0m\n\u001b[0;32m     54\u001b[0m movie_title \u001b[38;5;241m=\u001b[39m movie_info[\u001b[38;5;124m'\u001b[39m\u001b[38;5;124mtitle\u001b[39m\u001b[38;5;124m'\u001b[39m]\u001b[38;5;241m.\u001b[39mvalues[\u001b[38;5;241m0\u001b[39m]\n\u001b[0;32m     55\u001b[0m movie_genres \u001b[38;5;241m=\u001b[39m movie_info[\u001b[38;5;124m'\u001b[39m\u001b[38;5;124mgenres\u001b[39m\u001b[38;5;124m'\u001b[39m]\u001b[38;5;241m.\u001b[39mvalues[\u001b[38;5;241m0\u001b[39m]\n\u001b[1;32m---> 57\u001b[0m recommended_titles\u001b[38;5;241m=\u001b[39m \u001b[43mget_recommendations_knn\u001b[49m\u001b[43m(\u001b[49m\u001b[43mmovie_id\u001b[49m\u001b[43m,\u001b[49m\u001b[43m \u001b[49m\u001b[43mk\u001b[49m\u001b[43m,\u001b[49m\u001b[43m \u001b[49m\u001b[43mtrain_set\u001b[49m\u001b[43m)\u001b[49m\n\u001b[0;32m     59\u001b[0m \u001b[38;5;28mprint\u001b[39m(\u001b[38;5;124m'\u001b[39m\u001b[38;5;124m'\u001b[39m)\n\u001b[0;32m     60\u001b[0m \u001b[38;5;28mprint\u001b[39m(\u001b[38;5;124mf\u001b[39m\u001b[38;5;124m'\u001b[39m\u001b[38;5;124mBecause you watched \u001b[39m\u001b[38;5;132;01m{\u001b[39;00mmovie_title\u001b[38;5;132;01m}\u001b[39;00m\u001b[38;5;124m (\u001b[39m\u001b[38;5;132;01m{\u001b[39;00m\u001b[38;5;124m\"\u001b[39m\u001b[38;5;124m, \u001b[39m\u001b[38;5;124m\"\u001b[39m\u001b[38;5;241m.\u001b[39mjoin(movie_genres\u001b[38;5;241m.\u001b[39msplit(\u001b[38;5;124m\"\u001b[39m\u001b[38;5;124m|\u001b[39m\u001b[38;5;124m\"\u001b[39m))\u001b[38;5;132;01m}\u001b[39;00m\u001b[38;5;124m)\u001b[39m\u001b[38;5;130;01m\\n\u001b[39;00m\u001b[38;5;124m'\u001b[39m)\n",
      "Cell \u001b[1;32mIn[107], line 35\u001b[0m, in \u001b[0;36mget_recommendations_knn\u001b[1;34m(movie_id, k, trainset)\u001b[0m\n\u001b[0;32m     31\u001b[0m \u001b[38;5;66;03m#     trainset = data.build_full_trainset()  \u001b[39;00m\n\u001b[0;32m     32\u001b[0m \n\u001b[0;32m     33\u001b[0m     \u001b[38;5;66;03m# Get similar movies based on the provided movie_id\u001b[39;00m\n\u001b[0;32m     34\u001b[0m     movie_id_inner \u001b[38;5;241m=\u001b[39m kNNmean\u001b[38;5;241m.\u001b[39mtrainset\u001b[38;5;241m.\u001b[39mto_inner_iid(movie_id)\n\u001b[1;32m---> 35\u001b[0m     neighbors \u001b[38;5;241m=\u001b[39m \u001b[43mkNNmean\u001b[49m\u001b[38;5;241;43m.\u001b[39;49m\u001b[43mget_neighbors\u001b[49m\u001b[43m(\u001b[49m\u001b[43mmovie_id_inner\u001b[49m\u001b[43m,\u001b[49m\u001b[43m \u001b[49m\u001b[43mk\u001b[49m\u001b[38;5;241;43m=\u001b[39;49m\u001b[43mk\u001b[49m\u001b[43m)\u001b[49m\n\u001b[0;32m     37\u001b[0m     \u001b[38;5;66;03m# Sort the neighbors based on similarity scores\u001b[39;00m\n\u001b[0;32m     38\u001b[0m     neighbors \u001b[38;5;241m=\u001b[39m \u001b[38;5;28msorted\u001b[39m(neighbors, key\u001b[38;5;241m=\u001b[39m\u001b[38;5;28;01mlambda\u001b[39;00m x: kNNmean\u001b[38;5;241m.\u001b[39msim[movie_id_inner, x], reverse\u001b[38;5;241m=\u001b[39m\u001b[38;5;28;01mTrue\u001b[39;00m)\n",
      "File \u001b[1;32m~\\anaconda3\\envs\\Magisterka\\lib\\site-packages\\surprise\\prediction_algorithms\\algo_base.py:288\u001b[0m, in \u001b[0;36mAlgoBase.get_neighbors\u001b[1;34m(self, iid, k)\u001b[0m\n\u001b[0;32m    286\u001b[0m \u001b[38;5;28;01melse\u001b[39;00m:\n\u001b[0;32m    287\u001b[0m     all_instances \u001b[38;5;241m=\u001b[39m \u001b[38;5;28mself\u001b[39m\u001b[38;5;241m.\u001b[39mtrainset\u001b[38;5;241m.\u001b[39mall_items\n\u001b[1;32m--> 288\u001b[0m others \u001b[38;5;241m=\u001b[39m [(x, \u001b[38;5;28mself\u001b[39m\u001b[38;5;241m.\u001b[39msim[iid, x]) \u001b[38;5;28;01mfor\u001b[39;00m x \u001b[38;5;129;01min\u001b[39;00m all_instances() \u001b[38;5;28;01mif\u001b[39;00m x \u001b[38;5;241m!=\u001b[39m iid]\n\u001b[0;32m    289\u001b[0m others \u001b[38;5;241m=\u001b[39m heapq\u001b[38;5;241m.\u001b[39mnlargest(k, others, key\u001b[38;5;241m=\u001b[39m\u001b[38;5;28;01mlambda\u001b[39;00m tple: tple[\u001b[38;5;241m1\u001b[39m])\n\u001b[0;32m    290\u001b[0m k_nearest_neighbors \u001b[38;5;241m=\u001b[39m [j \u001b[38;5;28;01mfor\u001b[39;00m (j, _) \u001b[38;5;129;01min\u001b[39;00m others]\n",
      "File \u001b[1;32m~\\anaconda3\\envs\\Magisterka\\lib\\site-packages\\surprise\\prediction_algorithms\\algo_base.py:288\u001b[0m, in \u001b[0;36m<listcomp>\u001b[1;34m(.0)\u001b[0m\n\u001b[0;32m    286\u001b[0m \u001b[38;5;28;01melse\u001b[39;00m:\n\u001b[0;32m    287\u001b[0m     all_instances \u001b[38;5;241m=\u001b[39m \u001b[38;5;28mself\u001b[39m\u001b[38;5;241m.\u001b[39mtrainset\u001b[38;5;241m.\u001b[39mall_items\n\u001b[1;32m--> 288\u001b[0m others \u001b[38;5;241m=\u001b[39m [(x, \u001b[38;5;28;43mself\u001b[39;49m\u001b[38;5;241;43m.\u001b[39;49m\u001b[43msim\u001b[49m\u001b[43m[\u001b[49m\u001b[43miid\u001b[49m\u001b[43m,\u001b[49m\u001b[43m \u001b[49m\u001b[43mx\u001b[49m\u001b[43m]\u001b[49m) \u001b[38;5;28;01mfor\u001b[39;00m x \u001b[38;5;129;01min\u001b[39;00m all_instances() \u001b[38;5;28;01mif\u001b[39;00m x \u001b[38;5;241m!=\u001b[39m iid]\n\u001b[0;32m    289\u001b[0m others \u001b[38;5;241m=\u001b[39m heapq\u001b[38;5;241m.\u001b[39mnlargest(k, others, key\u001b[38;5;241m=\u001b[39m\u001b[38;5;28;01mlambda\u001b[39;00m tple: tple[\u001b[38;5;241m1\u001b[39m])\n\u001b[0;32m    290\u001b[0m k_nearest_neighbors \u001b[38;5;241m=\u001b[39m [j \u001b[38;5;28;01mfor\u001b[39;00m (j, _) \u001b[38;5;129;01min\u001b[39;00m others]\n",
      "\u001b[1;31mIndexError\u001b[0m: index 5489 is out of bounds for axis 0 with size 610"
     ]
    }
   ],
   "source": [
    "ratings = pd.read_csv('https://s3-us-west-2.amazonaws.com/recommender-tutorial/ratings.csv')\n",
    "movies = pd.read_csv('https://s3-us-west-2.amazonaws.com/recommender-tutorial/movies.csv')\n",
    "\n",
    "min_rating = ratings.rating.min()\n",
    "max_rating = ratings.rating.max()\n",
    "\n",
    "reader = Reader(rating_scale=(min_rating, max_rating))\n",
    "\n",
    "data = Dataset.load_from_df(ratings[['userId', 'movieId', 'rating']], reader)\n",
    "\n",
    "trainset = data.build_full_trainset()\n",
    "\n",
    "# train and fit KNNWithMeans model\n",
    "kNNmean = KNNWithMeans()\n",
    "kNNmean.fit(trainset)\n",
    "\n",
    "def get_recommendations_knn(movie_id, k, trainset):\n",
    "    \"\"\"\n",
    "    Generates movie recommendations for users based on their ratings using the KNNWithMeans algorithm.\n",
    "    \n",
    "    Args:\n",
    "        ratings_df: pandas DataFrame containing user ratings for movies, containing 'userId', 'movieId', 'rating' columns\n",
    "        movies_df: pandas DataFrame containing information about movies, containing 'movieId', 'title' columns\n",
    "        k: Number of neighbors to consider\n",
    "        movie_id: Identifier of the film for which recommendations are generated\n",
    "\n",
    "    Returns:\n",
    "        recommended_titles: List of titles of recommended films\n",
    "    \"\"\"\n",
    "    \n",
    "#     trainset = data.build_full_trainset()  \n",
    "\n",
    "    # Get similar movies based on the provided movie_id\n",
    "    movie_id_inner = kNNmean.trainset.to_inner_iid(movie_id)\n",
    "    neighbors = kNNmean.get_neighbors(movie_id_inner, k=k)\n",
    "\n",
    "    # Sort the neighbors based on similarity scores\n",
    "    neighbors = sorted(neighbors, key=lambda x: kNNmean.sim[movie_id_inner, x], reverse=True)\n",
    "\n",
    "    # Get the titles of the top n neighbors\n",
    "    recommended_titles = [movies[movies['movieId'] == trainset \\\n",
    "                                    .to_raw_iid(inner_id)]['title'] \\\n",
    "                          .values[0] for inner_id in neighbors[:k]]\n",
    "\n",
    "    return recommended_titles\n",
    "\n",
    "# define which movie ID that we want to give recommendation\n",
    "movie_id = 193585\n",
    "# how many neighbors take\n",
    "k = 6\n",
    "\n",
    "# Get movie title and genres for the selected movie\n",
    "movie_info = movies[movies['movieId'] == movie_id]\n",
    "movie_title = movie_info['title'].values[0]\n",
    "movie_genres = movie_info['genres'].values[0]\n",
    "\n",
    "recommended_titles= get_recommendations_knn(movie_id, k, trainset)\n",
    "\n",
    "print('')\n",
    "print(f'Because you watched {movie_title} ({\", \".join(movie_genres.split(\"|\"))})\\n')\n",
    "for title in recommended_titles:\n",
    "    recommended_movie_info = movies[movies['title'] == title]\n",
    "    if not recommended_movie_info.empty:\n",
    "        recommended_genres = recommended_movie_info['genres'].values[0]\n",
    "        print(f'* {title} ({\", \".join(recommended_genres.split(\"|\"))})')\n",
    "    else:\n",
    "        print(f'* {title}')"
   ]
  },
  {
   "cell_type": "code",
   "execution_count": 106,
   "id": "2fc7f28c",
   "metadata": {},
   "outputs": [
    {
     "name": "stdout",
     "output_type": "stream",
     "text": [
      "Film o ID 193585 nie istnieje w zestawie treningowym.\n"
     ]
    }
   ],
   "source": [
    "if 193585 in trainset.all_items():\n",
    "    print(\"Film o ID 193585 istnieje w zestawie treningowym.\")\n",
    "else:\n",
    "    print(\"Film o ID 193585 nie istnieje w zestawie treningowym.\")\n"
   ]
  },
  {
   "cell_type": "code",
   "execution_count": 132,
   "id": "308d5fad",
   "metadata": {},
   "outputs": [
    {
     "name": "stdout",
     "output_type": "stream",
     "text": [
      "Film o ID 193585 nie istnieje w zbiorze danych treningowych.\n"
     ]
    }
   ],
   "source": [
    "iid_to_check = '193585'\n",
    "\n",
    "if trainset.knows_item(iid_to_check):\n",
    "    print(f\"Film o ID {iid_to_check} istnieje w zbiorze danych treningowych.\")\n",
    "else:\n",
    "    print(f\"Film o ID {iid_to_check} nie istnieje w zbiorze danych treningowych.\")\n"
   ]
  },
  {
   "cell_type": "code",
   "execution_count": 127,
   "id": "0695f438",
   "metadata": {},
   "outputs": [
    {
     "ename": "IndexError",
     "evalue": "index 5489 is out of bounds for axis 0 with size 610",
     "output_type": "error",
     "traceback": [
      "\u001b[1;31m---------------------------------------------------------------------------\u001b[0m",
      "\u001b[1;31mIndexError\u001b[0m                                Traceback (most recent call last)",
      "Cell \u001b[1;32mIn[127], line 34\u001b[0m\n\u001b[0;32m     31\u001b[0m         \u001b[38;5;28mprint\u001b[39m(\u001b[38;5;124mf\u001b[39m\u001b[38;5;124m\"\u001b[39m\u001b[38;5;124m* \u001b[39m\u001b[38;5;132;01m{\u001b[39;00mtitle\u001b[38;5;132;01m}\u001b[39;00m\u001b[38;5;124m (\u001b[39m\u001b[38;5;132;01m{\u001b[39;00mgenres\u001b[38;5;132;01m}\u001b[39;00m\u001b[38;5;124m)\u001b[39m\u001b[38;5;124m\"\u001b[39m)\n\u001b[0;32m     33\u001b[0m \u001b[38;5;66;03m# Example usage:\u001b[39;00m\n\u001b[1;32m---> 34\u001b[0m \u001b[43mget_recommendations_knn\u001b[49m\u001b[43m(\u001b[49m\u001b[38;5;241;43m193585\u001b[39;49m\u001b[43m,\u001b[49m\u001b[43m  \u001b[49m\u001b[38;5;241;43m6\u001b[39;49m\u001b[43m)\u001b[49m  \u001b[38;5;66;03m# Assuming 2 is the movieId for \"Jumanji (1995)\"\u001b[39;00m\n",
      "Cell \u001b[1;32mIn[127], line 18\u001b[0m, in \u001b[0;36mget_recommendations_knn\u001b[1;34m(movie_id, k)\u001b[0m\n\u001b[0;32m     15\u001b[0m movie_inner_id \u001b[38;5;241m=\u001b[39m kNNmean\u001b[38;5;241m.\u001b[39mtrainset\u001b[38;5;241m.\u001b[39mto_inner_iid(movie_id)\n\u001b[0;32m     17\u001b[0m \u001b[38;5;66;03m# Retrieve k nearest neighbors for this movie\u001b[39;00m\n\u001b[1;32m---> 18\u001b[0m neighbors \u001b[38;5;241m=\u001b[39m \u001b[43mkNNmean\u001b[49m\u001b[38;5;241;43m.\u001b[39;49m\u001b[43mget_neighbors\u001b[49m\u001b[43m(\u001b[49m\u001b[43mmovie_inner_id\u001b[49m\u001b[43m,\u001b[49m\u001b[43m \u001b[49m\u001b[43mk\u001b[49m\u001b[38;5;241;43m=\u001b[39;49m\u001b[43mk\u001b[49m\u001b[43m)\u001b[49m\n\u001b[0;32m     20\u001b[0m \u001b[38;5;66;03m# Map inner ids to movie titles\u001b[39;00m\n\u001b[0;32m     21\u001b[0m movie_titles \u001b[38;5;241m=\u001b[39m []\n",
      "File \u001b[1;32m~\\anaconda3\\envs\\Magisterka\\lib\\site-packages\\surprise\\prediction_algorithms\\algo_base.py:288\u001b[0m, in \u001b[0;36mAlgoBase.get_neighbors\u001b[1;34m(self, iid, k)\u001b[0m\n\u001b[0;32m    286\u001b[0m \u001b[38;5;28;01melse\u001b[39;00m:\n\u001b[0;32m    287\u001b[0m     all_instances \u001b[38;5;241m=\u001b[39m \u001b[38;5;28mself\u001b[39m\u001b[38;5;241m.\u001b[39mtrainset\u001b[38;5;241m.\u001b[39mall_items\n\u001b[1;32m--> 288\u001b[0m others \u001b[38;5;241m=\u001b[39m [(x, \u001b[38;5;28mself\u001b[39m\u001b[38;5;241m.\u001b[39msim[iid, x]) \u001b[38;5;28;01mfor\u001b[39;00m x \u001b[38;5;129;01min\u001b[39;00m all_instances() \u001b[38;5;28;01mif\u001b[39;00m x \u001b[38;5;241m!=\u001b[39m iid]\n\u001b[0;32m    289\u001b[0m others \u001b[38;5;241m=\u001b[39m heapq\u001b[38;5;241m.\u001b[39mnlargest(k, others, key\u001b[38;5;241m=\u001b[39m\u001b[38;5;28;01mlambda\u001b[39;00m tple: tple[\u001b[38;5;241m1\u001b[39m])\n\u001b[0;32m    290\u001b[0m k_nearest_neighbors \u001b[38;5;241m=\u001b[39m [j \u001b[38;5;28;01mfor\u001b[39;00m (j, _) \u001b[38;5;129;01min\u001b[39;00m others]\n",
      "File \u001b[1;32m~\\anaconda3\\envs\\Magisterka\\lib\\site-packages\\surprise\\prediction_algorithms\\algo_base.py:288\u001b[0m, in \u001b[0;36m<listcomp>\u001b[1;34m(.0)\u001b[0m\n\u001b[0;32m    286\u001b[0m \u001b[38;5;28;01melse\u001b[39;00m:\n\u001b[0;32m    287\u001b[0m     all_instances \u001b[38;5;241m=\u001b[39m \u001b[38;5;28mself\u001b[39m\u001b[38;5;241m.\u001b[39mtrainset\u001b[38;5;241m.\u001b[39mall_items\n\u001b[1;32m--> 288\u001b[0m others \u001b[38;5;241m=\u001b[39m [(x, \u001b[38;5;28;43mself\u001b[39;49m\u001b[38;5;241;43m.\u001b[39;49m\u001b[43msim\u001b[49m\u001b[43m[\u001b[49m\u001b[43miid\u001b[49m\u001b[43m,\u001b[49m\u001b[43m \u001b[49m\u001b[43mx\u001b[49m\u001b[43m]\u001b[49m) \u001b[38;5;28;01mfor\u001b[39;00m x \u001b[38;5;129;01min\u001b[39;00m all_instances() \u001b[38;5;28;01mif\u001b[39;00m x \u001b[38;5;241m!=\u001b[39m iid]\n\u001b[0;32m    289\u001b[0m others \u001b[38;5;241m=\u001b[39m heapq\u001b[38;5;241m.\u001b[39mnlargest(k, others, key\u001b[38;5;241m=\u001b[39m\u001b[38;5;28;01mlambda\u001b[39;00m tple: tple[\u001b[38;5;241m1\u001b[39m])\n\u001b[0;32m    290\u001b[0m k_nearest_neighbors \u001b[38;5;241m=\u001b[39m [j \u001b[38;5;28;01mfor\u001b[39;00m (j, _) \u001b[38;5;129;01min\u001b[39;00m others]\n",
      "\u001b[1;31mIndexError\u001b[0m: index 5489 is out of bounds for axis 0 with size 610"
     ]
    }
   ],
   "source": [
    "ratings = pd.read_csv('https://s3-us-west-2.amazonaws.com/recommender-tutorial/ratings.csv')\n",
    "movies = pd.read_csv('https://s3-us-west-2.amazonaws.com/recommender-tutorial/movies.csv')\n",
    "\n",
    "min_rating = ratings.rating.min()\n",
    "max_rating = ratings.rating.max()\n",
    "\n",
    "reader = Reader(rating_scale=(min_rating, max_rating))\n",
    "\n",
    "data = Dataset.load_from_df(ratings[['userId', 'movieId', 'rating']], reader)\n",
    "\n",
    "trainset = data.build_full_trainset()\n",
    "\n",
    "def get_recommendations_knn(movie_id, k):\n",
    "    # Get the inner ID for this movie\n",
    "    movie_inner_id = kNNmean.trainset.to_inner_iid(movie_id)\n",
    "    \n",
    "    # Retrieve k nearest neighbors for this movie\n",
    "    neighbors = kNNmean.get_neighbors(movie_inner_id, k=k)\n",
    "    \n",
    "    # Map inner ids to movie titles\n",
    "    movie_titles = []\n",
    "    for inner_id in neighbors:\n",
    "        movie_id = kNNmean.trainset.to_raw_iid(inner_id)\n",
    "        title = movies[movies['movieId'] == movie_id]['title'].values[0]\n",
    "        genres = movies[movies['movieId'] == movie_id]['genres'].values[0]\n",
    "        movie_titles.append((title, genres))\n",
    "    \n",
    "    # Print recommendations\n",
    "    print(f\"Because you watched {movies[movies['movieId'] == movie_id]['title'].values[0]}\")\n",
    "    for title, genres in movie_titles:\n",
    "        print(f\"* {title} ({genres})\")\n",
    "\n",
    "# Example usage:\n",
    "get_recommendations_knn(193585,  6)"
   ]
  },
  {
   "cell_type": "code",
   "execution_count": 141,
   "id": "9737137c",
   "metadata": {},
   "outputs": [
    {
     "name": "stdout",
     "output_type": "stream",
     "text": [
      "Computing the cosine similarity matrix...\n",
      "Done computing similarity matrix.\n",
      "Because you watched Flint (2017) (Drama):\n",
      "\n",
      "* X-Men (2000) (Action, Adventure, Sci-Fi)\n",
      "* Dark Knight, The (2008) (Action, Crime, Drama, IMAX)\n",
      "* Inception (2010) (Action, Crime, Drama, Mystery, Sci-Fi, Thriller, IMAX)\n",
      "* Dark Knight Rises, The (2012) (Action, Adventure, Crime, IMAX)\n",
      "* Wolf of Wall Street, The (2013) (Comedy, Crime, Drama)\n",
      "* Interstellar (2014) (Sci-Fi, IMAX)\n",
      "* Whiplash (2014) (Drama)\n",
      "* Memento (2000) (Mystery, Thriller)\n",
      "* Harry Potter and the Sorcerer's Stone (a.k.a. Harry Potter and the Philosopher's Stone) (2001) (Adventure, Children, Fantasy)\n",
      "* Harry Potter and the Chamber of Secrets (2002) (Adventure, Fantasy)\n"
     ]
    }
   ],
   "source": [
    "min_rating = ratings.rating.min()\n",
    "max_rating = ratings.rating.max()\n",
    "\n",
    "reader = Reader(rating_scale=(min_rating, max_rating))\n",
    "\n",
    "data = Dataset.load_from_df(ratings[['userId', 'movieId', 'rating']], reader)\n",
    "\n",
    "trainset = data.build_full_trainset()\n",
    "\n",
    "from surprise import KNNWithMeans\n",
    "\n",
    "# Tworzenie modelu KNNWithMeans\n",
    "sim_options = {\n",
    "    \"name\": \"cosine\",\n",
    "    \"user_based\": False,  # obliczanie podobieństwa między elementami\n",
    "}\n",
    "algo = KNNWithMeans(sim_options=sim_options)\n",
    "\n",
    "# Trenowanie modelu\n",
    "algo.fit(trainset)\n",
    "\n",
    "# Wybór filmu do rekomendacji\n",
    "movie_id = 193585\n",
    "\n",
    "# Konwersja raw_id na inner_id\n",
    "inner_id = algo.trainset.to_inner_iid(movie_id)\n",
    "\n",
    "# Znalezienie najbliższych sąsiadów filmu\n",
    "neighbors = algo.get_neighbors(inner_id, k=10)\n",
    "\n",
    "# Wypisanie tytułów 10 najbliższych sąsiadów\n",
    "movie_info = movies[movies['movieId'] == movie_id]\n",
    "movie_title = movie_info['title'].values[0]\n",
    "movie_genres = movie_info['genres'].values[0]\n",
    "\n",
    "print(f'Because you watched {movie_title} ({\", \".join(movie_genres.split(\"|\"))}):\\n')\n",
    "for neighbor in neighbors:\n",
    "    recommended_movie_info = movies[movies['movieId'] == algo.trainset.to_raw_iid(neighbor)]\n",
    "    if not recommended_movie_info.empty:\n",
    "        recommended_title = recommended_movie_info['title'].values[0]\n",
    "        recommended_genres = recommended_movie_info['genres'].values[0]\n",
    "        print(f'* {recommended_title} ({\", \".join(recommended_genres.split(\"|\"))})')\n",
    "    else:\n",
    "        print(f'* {recommended_title}')\n",
    "\n",
    "        "
   ]
  },
  {
   "cell_type": "code",
   "execution_count": 142,
   "id": "567fe4f3",
   "metadata": {},
   "outputs": [
    {
     "name": "stdout",
     "output_type": "stream",
     "text": [
      "Computing the cosine similarity matrix...\n",
      "Done computing similarity matrix.\n",
      "Because you watched Flint (2017) (Drama):\n",
      "\n",
      "* X-Men (2000) (Action, Adventure, Sci-Fi)\n",
      "* Dark Knight, The (2008) (Action, Crime, Drama, IMAX)\n",
      "* Inception (2010) (Action, Crime, Drama, Mystery, Sci-Fi, Thriller, IMAX)\n",
      "* Dark Knight Rises, The (2012) (Action, Adventure, Crime, IMAX)\n",
      "* Wolf of Wall Street, The (2013) (Comedy, Crime, Drama)\n",
      "* Interstellar (2014) (Sci-Fi, IMAX)\n"
     ]
    }
   ],
   "source": [
    "# DZIAŁA! SPRAWDZIĆ DLACZEGO!!\n",
    "def recommend_movies(movie_id, n_neighbors, trainset):\n",
    "    # Tworzenie modelu KNNWithMeans\n",
    "    sim_options = {\n",
    "        \"name\": \"cosine\",\n",
    "        \"user_based\": False,  # obliczanie podobieństwa między elementami\n",
    "    }\n",
    "    algo = KNNWithMeans(sim_options=sim_options)\n",
    "\n",
    "    # Trenowanie modelu\n",
    "    algo.fit(trainset)\n",
    "\n",
    "    # Konwersja raw_id na inner_id\n",
    "    inner_id = algo.trainset.to_inner_iid(movie_id)\n",
    "\n",
    "    # Znalezienie najbliższych sąsiadów filmu\n",
    "    neighbors = algo.get_neighbors(inner_id, k=n_neighbors)\n",
    "\n",
    "    # Wypisanie tytułów n najbliższych sąsiadów\n",
    "    movie_info = movies[movies['movieId'] == movie_id]\n",
    "    movie_title = movie_info['title'].values[0]\n",
    "    movie_genres = movie_info['genres'].values[0]\n",
    "\n",
    "    print(f'Because you watched {movie_title} ({\", \".join(movie_genres.split(\"|\"))}):\\n')\n",
    "    for neighbor in neighbors:\n",
    "        recommended_movie_info = movies[movies['movieId'] == algo.trainset.to_raw_iid(neighbor)]\n",
    "        if not recommended_movie_info.empty:\n",
    "            recommended_title = recommended_movie_info['title'].values[0]\n",
    "            recommended_genres = recommended_movie_info['genres'].values[0]\n",
    "            print(f'* {recommended_title} ({\", \".join(recommended_genres.split(\"|\"))})')\n",
    "        else:\n",
    "            print(f'* {recommended_title}')\n",
    "\n",
    "# Wywołanie funkcji\n",
    "recommend_movies(193585, 6, trainset)\n"
   ]
  },
  {
   "cell_type": "markdown",
   "id": "6a2b118d",
   "metadata": {},
   "source": [
    "## Różnica między kNNWithMeans a standardowym kNN"
   ]
  },
  {
   "cell_type": "markdown",
   "id": "3ae241c0",
   "metadata": {},
   "source": [
    "#### Czym różni się algorytm kNN with means od standardowego kNN?"
   ]
  },
  {
   "cell_type": "markdown",
   "id": "5475ec3a",
   "metadata": {},
   "source": [
    "**Standardowy kNN:** Standardowy algorytm kNN klasyfikuje nowy punkt danych na podstawie etykiety klasy większościowej jego k najbliższych sąsiadów w szkoleniowym zbiorze danych. Wykorzystuje metrykę odległości do pomiaru podobieństwa między nowym punktem danych a istniejącymi punktami danych. Wartość k jest hiperparametrem, który możemy wybrać na podstawie charakterystyki danych i danego problemu\n",
    "\n",
    "**kNN ze średnimi:** Jest to odmiana algorytmu kNN często używanego w filtrowaniu kolaboracyjnym w systemach rekomendacji. Kluczową różnicą jest to, że uwzględnia on średnią ocenę każdego użytkownika (lub elementu) podczas dokonywania prognozy. Pomaga to skorygować użytkowników, którzy zawsze wystawiają wysokie lub niskie oceny. Na przykład, jeśli użytkownik ma tendencję do surowego oceniania filmów, 4-gwiazdkowa ocena od niego może być równoważna 5-gwiazdkowej ocenie od bardziej łagodnego użytkownika. Odejmując średnią ocenę użytkownika przed dokonaniem prognozy, a następnie dodając ją z powrotem, algorytm kNN ze średnimi może tworzyć dokładniejsze rekomendacje.\n",
    "\n",
    "**Podsumowując** , podczas gdy oba algorytmy opierają się na koncepcji znajdowania \"sąsiadów\" w danych, standardowy algorytm kNN jest zwykle używany do zadań klasyfikacji lub regresji, podczas gdy kNN ze średnimi jest często używany w systemach rekomendacji w celu uwzględnienia stronniczości użytkownika. \n",
    "\n"
   ]
  },
  {
   "cell_type": "markdown",
   "id": "0a1a3812",
   "metadata": {},
   "source": [
    "## Podsumowanie"
   ]
  },
  {
   "cell_type": "code",
   "execution_count": null,
   "id": "3e892f0b",
   "metadata": {},
   "outputs": [],
   "source": []
  }
 ],
 "metadata": {
  "kernelspec": {
   "display_name": "Python 3 (ipykernel)",
   "language": "python",
   "name": "python3"
  },
  "language_info": {
   "codemirror_mode": {
    "name": "ipython",
    "version": 3
   },
   "file_extension": ".py",
   "mimetype": "text/x-python",
   "name": "python",
   "nbconvert_exporter": "python",
   "pygments_lexer": "ipython3",
   "version": "3.10.11"
  }
 },
 "nbformat": 4,
 "nbformat_minor": 5
}
